{
  "cells": [
    {
      "cell_type": "markdown",
      "metadata": {
        "id": "view-in-github",
        "colab_type": "text"
      },
      "source": [
        "<a href=\"https://colab.research.google.com/github/fadillarizalul/thesis-alzheimer/blob/main/thesis_model_confusion.ipynb\" target=\"_parent\"><img src=\"https://colab.research.google.com/assets/colab-badge.svg\" alt=\"Open In Colab\"/></a>"
      ]
    },
    {
      "cell_type": "code",
      "execution_count": 1,
      "metadata": {
        "id": "S3_6ETRi7bbv"
      },
      "outputs": [],
      "source": [
        "from tensorflow.keras.layers import Input, Lambda, Dense, Flatten,Dropout\n",
        "from tensorflow.keras.models import Model\n",
        "from tensorflow.keras.applications.vgg19 import VGG19\n",
        "from tensorflow.keras.applications.vgg19 import preprocess_input\n",
        "from tensorflow.keras.preprocessing import image\n",
        "from tensorflow.keras.preprocessing.image import ImageDataGenerator\n",
        "from tensorflow.keras.models import Sequential\n",
        "import numpy as np\n",
        "import pandas as pd\n",
        "import os\n",
        "import cv2\n",
        "import matplotlib.pyplot as plt"
      ]
    },
    {
      "cell_type": "code",
      "source": [
        "#import data dari drive\n",
        "from google.colab import drive\n",
        "drive.mount('/content/drive')"
      ],
      "metadata": {
        "colab": {
          "base_uri": "https://localhost:8080/"
        },
        "id": "Ssd-m2C07jKF",
        "outputId": "f154024f-6a36-4bde-979a-16ffe082ae56"
      },
      "execution_count": 2,
      "outputs": [
        {
          "output_type": "stream",
          "name": "stdout",
          "text": [
            "Mounted at /content/drive\n"
          ]
        }
      ]
    },
    {
      "cell_type": "code",
      "source": [
        "!wget --no-check-certificate \\\n",
        "https://github.com/fadillarizalul/thesis-alzheimer/raw/main/dataset/3-class-train-valid-test.zip \\\n",
        "  -O 3-class-train-valid-test.zip"
      ],
      "metadata": {
        "colab": {
          "base_uri": "https://localhost:8080/"
        },
        "id": "oNTL7aAl7mHI",
        "outputId": "1cf1e0df-d70b-4e0f-d5ee-f054b2d7520d"
      },
      "execution_count": 3,
      "outputs": [
        {
          "output_type": "stream",
          "name": "stdout",
          "text": [
            "--2022-12-23 07:32:04--  https://github.com/fadillarizalul/thesis-alzheimer/raw/main/dataset/3-class-train-valid-test.zip\n",
            "Resolving github.com (github.com)... 140.82.112.3\n",
            "Connecting to github.com (github.com)|140.82.112.3|:443... connected.\n",
            "HTTP request sent, awaiting response... 302 Found\n",
            "Location: https://raw.githubusercontent.com/fadillarizalul/thesis-alzheimer/main/dataset/3-class-train-valid-test.zip [following]\n",
            "--2022-12-23 07:32:04--  https://raw.githubusercontent.com/fadillarizalul/thesis-alzheimer/main/dataset/3-class-train-valid-test.zip\n",
            "Resolving raw.githubusercontent.com (raw.githubusercontent.com)... 185.199.108.133, 185.199.109.133, 185.199.110.133, ...\n",
            "Connecting to raw.githubusercontent.com (raw.githubusercontent.com)|185.199.108.133|:443... connected.\n",
            "HTTP request sent, awaiting response... 200 OK\n",
            "Length: 13665913 (13M) [application/zip]\n",
            "Saving to: ‘3-class-train-valid-test.zip’\n",
            "\n",
            "3-class-train-valid 100%[===================>]  13.03M  --.-KB/s    in 0.04s   \n",
            "\n",
            "2022-12-23 07:32:05 (356 MB/s) - ‘3-class-train-valid-test.zip’ saved [13665913/13665913]\n",
            "\n"
          ]
        }
      ]
    },
    {
      "cell_type": "code",
      "source": [
        "!unzip /content/3-class-train-valid-test.zip"
      ],
      "metadata": {
        "colab": {
          "base_uri": "https://localhost:8080/"
        },
        "id": "ExKfrkKG7x4i",
        "outputId": "7c784e86-5c70-4016-dab0-b35601ee63e3"
      },
      "execution_count": 4,
      "outputs": [
        {
          "output_type": "stream",
          "name": "stdout",
          "text": [
            "Archive:  /content/3-class-train-valid-test.zip\n",
            "   creating: 3-class-train-valid-test/\n",
            "   creating: 3-class-train-valid-test/test/\n",
            "   creating: 3-class-train-valid-test/test/AD/\n",
            "  inflating: 3-class-train-valid-test/test/AD/img-00001-00001.jpg  \n",
            "  inflating: 3-class-train-valid-test/test/AD/img-00008-00002.jpg  \n",
            "  inflating: 3-class-train-valid-test/test/AD/img-00008-00003.jpg  \n",
            "  inflating: 3-class-train-valid-test/test/AD/img-00008-00004.jpg  \n",
            "  inflating: 3-class-train-valid-test/test/AD/img-00012-00005.jpg  \n",
            "  inflating: 3-class-train-valid-test/test/AD/img-00013-00001.jpg  \n",
            "  inflating: 3-class-train-valid-test/test/AD/img-00013-00002.jpg  \n",
            "  inflating: 3-class-train-valid-test/test/AD/img-00013-00003.jpg  \n",
            "  inflating: 3-class-train-valid-test/test/AD/img-00013-00004.jpg  \n",
            "  inflating: 3-class-train-valid-test/test/AD/img-00013-00005.jpg  \n",
            "  inflating: 3-class-train-valid-test/test/AD/img-00014-00001.jpg  \n",
            "  inflating: 3-class-train-valid-test/test/AD/img-00014-00002.jpg  \n",
            "  inflating: 3-class-train-valid-test/test/AD/img-00014-00003.jpg  \n",
            "  inflating: 3-class-train-valid-test/test/AD/img-00014-00004.jpg  \n",
            "  inflating: 3-class-train-valid-test/test/AD/img-00014-00005.jpg  \n",
            "  inflating: 3-class-train-valid-test/test/AD/img-00015-00001.jpg  \n",
            "  inflating: 3-class-train-valid-test/test/AD/img-00015-00002.jpg  \n",
            "  inflating: 3-class-train-valid-test/test/AD/img-00015-00003.jpg  \n",
            "  inflating: 3-class-train-valid-test/test/AD/img-00015-00004.jpg  \n",
            "  inflating: 3-class-train-valid-test/test/AD/img-00015-00005.jpg  \n",
            "   creating: 3-class-train-valid-test/test/CN/\n",
            "  inflating: 3-class-train-valid-test/test/CN/img-00009-00004.jpg  \n",
            "  inflating: 3-class-train-valid-test/test/CN/img-00013-00002.jpg  \n",
            "  inflating: 3-class-train-valid-test/test/CN/img-00013-00003.jpg  \n",
            "  inflating: 3-class-train-valid-test/test/CN/img-00013-00004.jpg  \n",
            "  inflating: 3-class-train-valid-test/test/CN/img-00013-00005.jpg  \n",
            "  inflating: 3-class-train-valid-test/test/CN/img-00014-00001.jpg  \n",
            "  inflating: 3-class-train-valid-test/test/CN/img-00014-00002.jpg  \n",
            "  inflating: 3-class-train-valid-test/test/CN/img-00017-00002.jpg  \n",
            "  inflating: 3-class-train-valid-test/test/CN/img-00017-00003.jpg  \n",
            "  inflating: 3-class-train-valid-test/test/CN/img-00017-00004.jpg  \n",
            "  inflating: 3-class-train-valid-test/test/CN/img-00017-00005.jpg  \n",
            "  inflating: 3-class-train-valid-test/test/CN/img-00018-00001.jpg  \n",
            "  inflating: 3-class-train-valid-test/test/CN/img-00019-00003.jpg  \n",
            "  inflating: 3-class-train-valid-test/test/CN/img-00019-00004.jpg  \n",
            "  inflating: 3-class-train-valid-test/test/CN/img-00019-00005.jpg  \n",
            "  inflating: 3-class-train-valid-test/test/CN/img-00020-00001.jpg  \n",
            "  inflating: 3-class-train-valid-test/test/CN/img-00020-00002.jpg  \n",
            "  inflating: 3-class-train-valid-test/test/CN/img-00020-00003.jpg  \n",
            "  inflating: 3-class-train-valid-test/test/CN/img-00020-00004.jpg  \n",
            "  inflating: 3-class-train-valid-test/test/CN/img-00020-00005.jpg  \n",
            "   creating: 3-class-train-valid-test/test/MCI/\n",
            "  inflating: 3-class-train-valid-test/test/MCI/img-00001-00001.jpg  \n",
            "  inflating: 3-class-train-valid-test/test/MCI/img-00014-00001.jpg  \n",
            "  inflating: 3-class-train-valid-test/test/MCI/img-00014-00002.jpg  \n",
            "  inflating: 3-class-train-valid-test/test/MCI/img-00014-00003.jpg  \n",
            "  inflating: 3-class-train-valid-test/test/MCI/img-00014-00004.jpg  \n",
            "  inflating: 3-class-train-valid-test/test/MCI/img-00014-00005.jpg  \n",
            "  inflating: 3-class-train-valid-test/test/MCI/img-00015-00001.jpg  \n",
            "  inflating: 3-class-train-valid-test/test/MCI/img-00017-00004.jpg  \n",
            "  inflating: 3-class-train-valid-test/test/MCI/img-00017-00005.jpg  \n",
            "  inflating: 3-class-train-valid-test/test/MCI/img-00018-00001.jpg  \n",
            "  inflating: 3-class-train-valid-test/test/MCI/img-00018-00002.jpg  \n",
            "  inflating: 3-class-train-valid-test/test/MCI/img-00019-00002.jpg  \n",
            "  inflating: 3-class-train-valid-test/test/MCI/img-00019-00003.jpg  \n",
            "  inflating: 3-class-train-valid-test/test/MCI/img-00019-00004.jpg  \n",
            "  inflating: 3-class-train-valid-test/test/MCI/img-00019-00005.jpg  \n",
            "  inflating: 3-class-train-valid-test/test/MCI/img-00020-00001.jpg  \n",
            "  inflating: 3-class-train-valid-test/test/MCI/img-00020-00002.jpg  \n",
            "  inflating: 3-class-train-valid-test/test/MCI/img-00020-00003.jpg  \n",
            "  inflating: 3-class-train-valid-test/test/MCI/img-00020-00004.jpg  \n",
            "  inflating: 3-class-train-valid-test/test/MCI/img-00020-00005.jpg  \n",
            "   creating: 3-class-train-valid-test/train/\n",
            "   creating: 3-class-train-valid-test/train/AD/\n",
            "  inflating: 3-class-train-valid-test/train/AD/img-00001-00001.jpg  \n",
            "  inflating: 3-class-train-valid-test/train/AD/img-00001-00002.jpg  \n",
            "  inflating: 3-class-train-valid-test/train/AD/img-00001-00003.jpg  \n",
            "  inflating: 3-class-train-valid-test/train/AD/img-00001-00004.jpg  \n",
            "  inflating: 3-class-train-valid-test/train/AD/img-00001-00005.jpg  \n",
            "  inflating: 3-class-train-valid-test/train/AD/img-00002-00001.jpg  \n",
            "  inflating: 3-class-train-valid-test/train/AD/img-00002-00002.jpg  \n",
            "  inflating: 3-class-train-valid-test/train/AD/img-00002-00003.jpg  \n",
            "  inflating: 3-class-train-valid-test/train/AD/img-00002-00004.jpg  \n",
            "  inflating: 3-class-train-valid-test/train/AD/img-00002-00005.jpg  \n",
            "  inflating: 3-class-train-valid-test/train/AD/img-00003-00001.jpg  \n",
            "  inflating: 3-class-train-valid-test/train/AD/img-00003-00002.jpg  \n",
            "  inflating: 3-class-train-valid-test/train/AD/img-00003-00003.jpg  \n",
            "  inflating: 3-class-train-valid-test/train/AD/img-00003-00004.jpg  \n",
            "  inflating: 3-class-train-valid-test/train/AD/img-00003-00005.jpg  \n",
            "  inflating: 3-class-train-valid-test/train/AD/img-00004-00001.jpg  \n",
            "  inflating: 3-class-train-valid-test/train/AD/img-00004-00002.jpg  \n",
            "  inflating: 3-class-train-valid-test/train/AD/img-00004-00003.jpg  \n",
            "  inflating: 3-class-train-valid-test/train/AD/img-00004-00004.jpg  \n",
            "  inflating: 3-class-train-valid-test/train/AD/img-00004-00005.jpg  \n",
            "  inflating: 3-class-train-valid-test/train/AD/img-00004-00006.jpg  \n",
            "  inflating: 3-class-train-valid-test/train/AD/img-00004-00007.jpg  \n",
            "  inflating: 3-class-train-valid-test/train/AD/img-00004-00008.jpg  \n",
            "  inflating: 3-class-train-valid-test/train/AD/img-00004-00009.jpg  \n",
            "  inflating: 3-class-train-valid-test/train/AD/img-00005-00001.jpg  \n",
            "  inflating: 3-class-train-valid-test/train/AD/img-00005-00002.jpg  \n",
            "  inflating: 3-class-train-valid-test/train/AD/img-00005-00003.jpg  \n",
            "  inflating: 3-class-train-valid-test/train/AD/img-00005-00004.jpg  \n",
            "  inflating: 3-class-train-valid-test/train/AD/img-00005-00005.jpg  \n",
            "  inflating: 3-class-train-valid-test/train/AD/img-00005-00006.jpg  \n",
            "  inflating: 3-class-train-valid-test/train/AD/img-00005-00007.jpg  \n",
            "  inflating: 3-class-train-valid-test/train/AD/img-00005-00008.jpg  \n",
            "  inflating: 3-class-train-valid-test/train/AD/img-00005-00009.jpg  \n",
            "  inflating: 3-class-train-valid-test/train/AD/img-00006-00001.jpg  \n",
            "  inflating: 3-class-train-valid-test/train/AD/img-00006-00002.jpg  \n",
            "  inflating: 3-class-train-valid-test/train/AD/img-00006-00003.jpg  \n",
            "  inflating: 3-class-train-valid-test/train/AD/img-00006-00004.jpg  \n",
            "  inflating: 3-class-train-valid-test/train/AD/img-00006-00005.jpg  \n",
            "  inflating: 3-class-train-valid-test/train/AD/img-00007-00001.jpg  \n",
            "  inflating: 3-class-train-valid-test/train/AD/img-00007-00002.jpg  \n",
            "  inflating: 3-class-train-valid-test/train/AD/img-00007-00003.jpg  \n",
            "  inflating: 3-class-train-valid-test/train/AD/img-00007-00004.jpg  \n",
            "  inflating: 3-class-train-valid-test/train/AD/img-00007-00005.jpg  \n",
            "  inflating: 3-class-train-valid-test/train/AD/img-00008-00001.jpg  \n",
            "  inflating: 3-class-train-valid-test/train/AD/img-00008-00002.jpg  \n",
            "  inflating: 3-class-train-valid-test/train/AD/img-00008-00003.jpg  \n",
            "  inflating: 3-class-train-valid-test/train/AD/img-00008-00004.jpg  \n",
            "  inflating: 3-class-train-valid-test/train/AD/img-00008-00005.jpg  \n",
            "  inflating: 3-class-train-valid-test/train/AD/img-00009-00001.jpg  \n",
            "  inflating: 3-class-train-valid-test/train/AD/img-00009-00002.jpg  \n",
            "  inflating: 3-class-train-valid-test/train/AD/img-00009-00003.jpg  \n",
            "  inflating: 3-class-train-valid-test/train/AD/img-00009-00004.jpg  \n",
            "  inflating: 3-class-train-valid-test/train/AD/img-00009-00005.jpg  \n",
            "  inflating: 3-class-train-valid-test/train/AD/img-00010-00001.jpg  \n",
            "  inflating: 3-class-train-valid-test/train/AD/img-00010-00002.jpg  \n",
            "  inflating: 3-class-train-valid-test/train/AD/img-00010-00003.jpg  \n",
            "  inflating: 3-class-train-valid-test/train/AD/img-00010-00004.jpg  \n",
            "  inflating: 3-class-train-valid-test/train/AD/img-00010-00005.jpg  \n",
            "  inflating: 3-class-train-valid-test/train/AD/img-00011-00001.jpg  \n",
            "  inflating: 3-class-train-valid-test/train/AD/img-00011-00002.jpg  \n",
            "  inflating: 3-class-train-valid-test/train/AD/img-00011-00003.jpg  \n",
            "  inflating: 3-class-train-valid-test/train/AD/img-00011-00004.jpg  \n",
            "  inflating: 3-class-train-valid-test/train/AD/img-00011-00005.jpg  \n",
            "  inflating: 3-class-train-valid-test/train/AD/img-00012-00001.jpg  \n",
            "  inflating: 3-class-train-valid-test/train/AD/img-00012-00002.jpg  \n",
            "  inflating: 3-class-train-valid-test/train/AD/img-00012-00003.jpg  \n",
            "  inflating: 3-class-train-valid-test/train/AD/img-00012-00004.jpg  \n",
            "  inflating: 3-class-train-valid-test/train/AD/img-00012-00005.jpg  \n",
            "  inflating: 3-class-train-valid-test/train/AD/img-00013-00001.jpg  \n",
            "  inflating: 3-class-train-valid-test/train/AD/img-00013-00002.jpg  \n",
            "  inflating: 3-class-train-valid-test/train/AD/img-00013-00003.jpg  \n",
            "  inflating: 3-class-train-valid-test/train/AD/img-00013-00004.jpg  \n",
            "  inflating: 3-class-train-valid-test/train/AD/img-00013-00005.jpg  \n",
            "  inflating: 3-class-train-valid-test/train/AD/img-00014-00001.jpg  \n",
            "  inflating: 3-class-train-valid-test/train/AD/img-00014-00002.jpg  \n",
            "  inflating: 3-class-train-valid-test/train/AD/img-00014-00003.jpg  \n",
            "  inflating: 3-class-train-valid-test/train/AD/img-00014-00004.jpg  \n",
            "  inflating: 3-class-train-valid-test/train/AD/img-00014-00005.jpg  \n",
            "  inflating: 3-class-train-valid-test/train/AD/img-00015-00001.jpg  \n",
            "  inflating: 3-class-train-valid-test/train/AD/img-00015-00002.jpg  \n",
            "  inflating: 3-class-train-valid-test/train/AD/img-00015-00003.jpg  \n",
            "  inflating: 3-class-train-valid-test/train/AD/img-00015-00004.jpg  \n",
            "  inflating: 3-class-train-valid-test/train/AD/img-00015-00005.jpg  \n",
            "  inflating: 3-class-train-valid-test/train/AD/img-00016-00001.jpg  \n",
            "  inflating: 3-class-train-valid-test/train/AD/img-00016-00002.jpg  \n",
            "  inflating: 3-class-train-valid-test/train/AD/img-00016-00003.jpg  \n",
            "  inflating: 3-class-train-valid-test/train/AD/img-00016-00004.jpg  \n",
            "  inflating: 3-class-train-valid-test/train/AD/img-00016-00005.jpg  \n",
            "  inflating: 3-class-train-valid-test/train/AD/img-00017-00001.jpg  \n",
            "  inflating: 3-class-train-valid-test/train/AD/img-00017-00002.jpg  \n",
            "  inflating: 3-class-train-valid-test/train/AD/img-00017-00003.jpg  \n",
            "  inflating: 3-class-train-valid-test/train/AD/img-00017-00004.jpg  \n",
            "  inflating: 3-class-train-valid-test/train/AD/img-00017-00005.jpg  \n",
            "  inflating: 3-class-train-valid-test/train/AD/img-00018-00001.jpg  \n",
            "  inflating: 3-class-train-valid-test/train/AD/img-00018-00002.jpg  \n",
            "  inflating: 3-class-train-valid-test/train/AD/img-00018-00003.jpg  \n",
            "  inflating: 3-class-train-valid-test/train/AD/img-00018-00004.jpg  \n",
            "  inflating: 3-class-train-valid-test/train/AD/img-00018-00005.jpg  \n",
            "  inflating: 3-class-train-valid-test/train/AD/img-00019-00001.jpg  \n",
            "  inflating: 3-class-train-valid-test/train/AD/img-00019-00002.jpg  \n",
            "  inflating: 3-class-train-valid-test/train/AD/img-00019-00003.jpg  \n",
            "  inflating: 3-class-train-valid-test/train/AD/img-00019-00004.jpg  \n",
            "  inflating: 3-class-train-valid-test/train/AD/img-00019-00005.jpg  \n",
            "  inflating: 3-class-train-valid-test/train/AD/img-00020-00001.jpg  \n",
            "  inflating: 3-class-train-valid-test/train/AD/img-00020-00002.jpg  \n",
            "  inflating: 3-class-train-valid-test/train/AD/img-00020-00003.jpg  \n",
            "  inflating: 3-class-train-valid-test/train/AD/img-00020-00004.jpg  \n",
            "  inflating: 3-class-train-valid-test/train/AD/img-00020-00005.jpg  \n",
            "   creating: 3-class-train-valid-test/train/CN/\n",
            "  inflating: 3-class-train-valid-test/train/CN/img-00001-00001.jpg  \n",
            "  inflating: 3-class-train-valid-test/train/CN/img-00001-00002.jpg  \n",
            "  inflating: 3-class-train-valid-test/train/CN/img-00001-00003.jpg  \n",
            "  inflating: 3-class-train-valid-test/train/CN/img-00001-00004.jpg  \n",
            "  inflating: 3-class-train-valid-test/train/CN/img-00001-00005.jpg  \n",
            "  inflating: 3-class-train-valid-test/train/CN/img-00002-00001.jpg  \n",
            "  inflating: 3-class-train-valid-test/train/CN/img-00002-00002.jpg  \n",
            "  inflating: 3-class-train-valid-test/train/CN/img-00002-00003.jpg  \n",
            "  inflating: 3-class-train-valid-test/train/CN/img-00002-00004.jpg  \n",
            "  inflating: 3-class-train-valid-test/train/CN/img-00002-00005.jpg  \n",
            "  inflating: 3-class-train-valid-test/train/CN/img-00003-00001.jpg  \n",
            "  inflating: 3-class-train-valid-test/train/CN/img-00003-00002.jpg  \n",
            "  inflating: 3-class-train-valid-test/train/CN/img-00003-00003.jpg  \n",
            "  inflating: 3-class-train-valid-test/train/CN/img-00003-00004.jpg  \n",
            "  inflating: 3-class-train-valid-test/train/CN/img-00003-00005.jpg  \n",
            "  inflating: 3-class-train-valid-test/train/CN/img-00004-00001.jpg  \n",
            "  inflating: 3-class-train-valid-test/train/CN/img-00004-00002.jpg  \n",
            "  inflating: 3-class-train-valid-test/train/CN/img-00004-00003.jpg  \n",
            "  inflating: 3-class-train-valid-test/train/CN/img-00004-00004.jpg  \n",
            "  inflating: 3-class-train-valid-test/train/CN/img-00004-00005.jpg  \n",
            "  inflating: 3-class-train-valid-test/train/CN/img-00004-00006.jpg  \n",
            "  inflating: 3-class-train-valid-test/train/CN/img-00005-00001.jpg  \n",
            "  inflating: 3-class-train-valid-test/train/CN/img-00005-00002.jpg  \n",
            "  inflating: 3-class-train-valid-test/train/CN/img-00005-00003.jpg  \n",
            "  inflating: 3-class-train-valid-test/train/CN/img-00005-00004.jpg  \n",
            "  inflating: 3-class-train-valid-test/train/CN/img-00005-00005.jpg  \n",
            "  inflating: 3-class-train-valid-test/train/CN/img-00006-00001.jpg  \n",
            "  inflating: 3-class-train-valid-test/train/CN/img-00006-00002.jpg  \n",
            "  inflating: 3-class-train-valid-test/train/CN/img-00006-00003.jpg  \n",
            "  inflating: 3-class-train-valid-test/train/CN/img-00006-00004.jpg  \n",
            "  inflating: 3-class-train-valid-test/train/CN/img-00006-00005.jpg  \n",
            "  inflating: 3-class-train-valid-test/train/CN/img-00007-00001.jpg  \n",
            "  inflating: 3-class-train-valid-test/train/CN/img-00007-00002.jpg  \n",
            "  inflating: 3-class-train-valid-test/train/CN/img-00007-00003.jpg  \n",
            "  inflating: 3-class-train-valid-test/train/CN/img-00007-00004.jpg  \n",
            "  inflating: 3-class-train-valid-test/train/CN/img-00007-00005.jpg  \n",
            "  inflating: 3-class-train-valid-test/train/CN/img-00008-00001.jpg  \n",
            "  inflating: 3-class-train-valid-test/train/CN/img-00008-00002.jpg  \n",
            "  inflating: 3-class-train-valid-test/train/CN/img-00008-00003.jpg  \n",
            "  inflating: 3-class-train-valid-test/train/CN/img-00008-00004.jpg  \n",
            "  inflating: 3-class-train-valid-test/train/CN/img-00008-00005.jpg  \n",
            "  inflating: 3-class-train-valid-test/train/CN/img-00009-00001.jpg  \n",
            "  inflating: 3-class-train-valid-test/train/CN/img-00009-00002.jpg  \n",
            "  inflating: 3-class-train-valid-test/train/CN/img-00009-00003.jpg  \n",
            "  inflating: 3-class-train-valid-test/train/CN/img-00009-00004.jpg  \n",
            "  inflating: 3-class-train-valid-test/train/CN/img-00009-00005.jpg  \n",
            "  inflating: 3-class-train-valid-test/train/CN/img-00010-00001.jpg  \n",
            "  inflating: 3-class-train-valid-test/train/CN/img-00010-00002.jpg  \n",
            "  inflating: 3-class-train-valid-test/train/CN/img-00010-00003.jpg  \n",
            "  inflating: 3-class-train-valid-test/train/CN/img-00010-00004.jpg  \n",
            "  inflating: 3-class-train-valid-test/train/CN/img-00010-00005.jpg  \n",
            "  inflating: 3-class-train-valid-test/train/CN/img-00011-00001.jpg  \n",
            "  inflating: 3-class-train-valid-test/train/CN/img-00011-00002.jpg  \n",
            "  inflating: 3-class-train-valid-test/train/CN/img-00011-00003.jpg  \n",
            "  inflating: 3-class-train-valid-test/train/CN/img-00011-00004.jpg  \n",
            "  inflating: 3-class-train-valid-test/train/CN/img-00011-00005.jpg  \n",
            "  inflating: 3-class-train-valid-test/train/CN/img-00012-00001.jpg  \n",
            "  inflating: 3-class-train-valid-test/train/CN/img-00012-00002.jpg  \n",
            "  inflating: 3-class-train-valid-test/train/CN/img-00012-00003.jpg  \n",
            "  inflating: 3-class-train-valid-test/train/CN/img-00012-00004.jpg  \n",
            "  inflating: 3-class-train-valid-test/train/CN/img-00012-00005.jpg  \n",
            "  inflating: 3-class-train-valid-test/train/CN/img-00013-00001.jpg  \n",
            "  inflating: 3-class-train-valid-test/train/CN/img-00013-00002.jpg  \n",
            "  inflating: 3-class-train-valid-test/train/CN/img-00013-00003.jpg  \n",
            "  inflating: 3-class-train-valid-test/train/CN/img-00013-00004.jpg  \n",
            "  inflating: 3-class-train-valid-test/train/CN/img-00013-00005.jpg  \n",
            "  inflating: 3-class-train-valid-test/train/CN/img-00014-00001.jpg  \n",
            "  inflating: 3-class-train-valid-test/train/CN/img-00014-00002.jpg  \n",
            "  inflating: 3-class-train-valid-test/train/CN/img-00014-00003.jpg  \n",
            "  inflating: 3-class-train-valid-test/train/CN/img-00014-00004.jpg  \n",
            "  inflating: 3-class-train-valid-test/train/CN/img-00014-00005.jpg  \n",
            "  inflating: 3-class-train-valid-test/train/CN/img-00015-00001.jpg  \n",
            "  inflating: 3-class-train-valid-test/train/CN/img-00015-00002.jpg  \n",
            "  inflating: 3-class-train-valid-test/train/CN/img-00015-00003.jpg  \n",
            "  inflating: 3-class-train-valid-test/train/CN/img-00015-00004.jpg  \n",
            "  inflating: 3-class-train-valid-test/train/CN/img-00015-00005.jpg  \n",
            "  inflating: 3-class-train-valid-test/train/CN/img-00016-00001.jpg  \n",
            "  inflating: 3-class-train-valid-test/train/CN/img-00016-00002.jpg  \n",
            "  inflating: 3-class-train-valid-test/train/CN/img-00016-00003.jpg  \n",
            "  inflating: 3-class-train-valid-test/train/CN/img-00016-00004.jpg  \n",
            "  inflating: 3-class-train-valid-test/train/CN/img-00016-00005.jpg  \n",
            "  inflating: 3-class-train-valid-test/train/CN/img-00017-00001.jpg  \n",
            "  inflating: 3-class-train-valid-test/train/CN/img-00017-00002.jpg  \n",
            "  inflating: 3-class-train-valid-test/train/CN/img-00017-00003.jpg  \n",
            "  inflating: 3-class-train-valid-test/train/CN/img-00017-00004.jpg  \n",
            "  inflating: 3-class-train-valid-test/train/CN/img-00017-00005.jpg  \n",
            "  inflating: 3-class-train-valid-test/train/CN/img-00018-00001.jpg  \n",
            "  inflating: 3-class-train-valid-test/train/CN/img-00018-00002.jpg  \n",
            "  inflating: 3-class-train-valid-test/train/CN/img-00018-00003.jpg  \n",
            "  inflating: 3-class-train-valid-test/train/CN/img-00018-00004.jpg  \n",
            "  inflating: 3-class-train-valid-test/train/CN/img-00018-00005.jpg  \n",
            "  inflating: 3-class-train-valid-test/train/CN/img-00019-00001.jpg  \n",
            "  inflating: 3-class-train-valid-test/train/CN/img-00019-00002.jpg  \n",
            "  inflating: 3-class-train-valid-test/train/CN/img-00019-00003.jpg  \n",
            "  inflating: 3-class-train-valid-test/train/CN/img-00019-00004.jpg  \n",
            "  inflating: 3-class-train-valid-test/train/CN/img-00019-00005.jpg  \n",
            "  inflating: 3-class-train-valid-test/train/CN/img-00020-00001.jpg  \n",
            "  inflating: 3-class-train-valid-test/train/CN/img-00020-00002.jpg  \n",
            "  inflating: 3-class-train-valid-test/train/CN/img-00020-00003.jpg  \n",
            "  inflating: 3-class-train-valid-test/train/CN/img-00020-00004.jpg  \n",
            "  inflating: 3-class-train-valid-test/train/CN/img-00020-00005.jpg  \n",
            "   creating: 3-class-train-valid-test/train/MCI/\n",
            "  inflating: 3-class-train-valid-test/train/MCI/img-00001-00001.jpg  \n",
            "  inflating: 3-class-train-valid-test/train/MCI/img-00001-00002.jpg  \n",
            "  inflating: 3-class-train-valid-test/train/MCI/img-00001-00003.jpg  \n",
            "  inflating: 3-class-train-valid-test/train/MCI/img-00001-00004.jpg  \n",
            "  inflating: 3-class-train-valid-test/train/MCI/img-00001-00005.jpg  \n",
            "  inflating: 3-class-train-valid-test/train/MCI/img-00002-00001.jpg  \n",
            "  inflating: 3-class-train-valid-test/train/MCI/img-00002-00002.jpg  \n",
            "  inflating: 3-class-train-valid-test/train/MCI/img-00002-00003.jpg  \n",
            "  inflating: 3-class-train-valid-test/train/MCI/img-00002-00004.jpg  \n",
            "  inflating: 3-class-train-valid-test/train/MCI/img-00002-00005.jpg  \n",
            "  inflating: 3-class-train-valid-test/train/MCI/img-00003-00001.jpg  \n",
            "  inflating: 3-class-train-valid-test/train/MCI/img-00003-00002.jpg  \n",
            "  inflating: 3-class-train-valid-test/train/MCI/img-00003-00003.jpg  \n",
            "  inflating: 3-class-train-valid-test/train/MCI/img-00003-00004.jpg  \n",
            "  inflating: 3-class-train-valid-test/train/MCI/img-00003-00005.jpg  \n",
            "  inflating: 3-class-train-valid-test/train/MCI/img-00004-00001.jpg  \n",
            "  inflating: 3-class-train-valid-test/train/MCI/img-00004-00002.jpg  \n",
            "  inflating: 3-class-train-valid-test/train/MCI/img-00004-00003.jpg  \n",
            "  inflating: 3-class-train-valid-test/train/MCI/img-00004-00004.jpg  \n",
            "  inflating: 3-class-train-valid-test/train/MCI/img-00004-00005.jpg  \n",
            "  inflating: 3-class-train-valid-test/train/MCI/img-00005-00001.jpg  \n",
            "  inflating: 3-class-train-valid-test/train/MCI/img-00005-00002.jpg  \n",
            "  inflating: 3-class-train-valid-test/train/MCI/img-00005-00003.jpg  \n",
            "  inflating: 3-class-train-valid-test/train/MCI/img-00005-00004.jpg  \n",
            "  inflating: 3-class-train-valid-test/train/MCI/img-00005-00005.jpg  \n",
            "  inflating: 3-class-train-valid-test/train/MCI/img-00006-00001.jpg  \n",
            "  inflating: 3-class-train-valid-test/train/MCI/img-00006-00002.jpg  \n",
            "  inflating: 3-class-train-valid-test/train/MCI/img-00006-00003.jpg  \n",
            "  inflating: 3-class-train-valid-test/train/MCI/img-00006-00004.jpg  \n",
            "  inflating: 3-class-train-valid-test/train/MCI/img-00006-00005.jpg  \n",
            "  inflating: 3-class-train-valid-test/train/MCI/img-00007-00001.jpg  \n",
            "  inflating: 3-class-train-valid-test/train/MCI/img-00007-00002.jpg  \n",
            "  inflating: 3-class-train-valid-test/train/MCI/img-00007-00003.jpg  \n",
            "  inflating: 3-class-train-valid-test/train/MCI/img-00007-00004.jpg  \n",
            "  inflating: 3-class-train-valid-test/train/MCI/img-00007-00005.jpg  \n",
            "  inflating: 3-class-train-valid-test/train/MCI/img-00008-00001.jpg  \n",
            "  inflating: 3-class-train-valid-test/train/MCI/img-00008-00002.jpg  \n",
            "  inflating: 3-class-train-valid-test/train/MCI/img-00008-00003.jpg  \n",
            "  inflating: 3-class-train-valid-test/train/MCI/img-00008-00004.jpg  \n",
            "  inflating: 3-class-train-valid-test/train/MCI/img-00008-00005.jpg  \n",
            "  inflating: 3-class-train-valid-test/train/MCI/img-00009-00001.jpg  \n",
            "  inflating: 3-class-train-valid-test/train/MCI/img-00009-00002.jpg  \n",
            "  inflating: 3-class-train-valid-test/train/MCI/img-00009-00003.jpg  \n",
            "  inflating: 3-class-train-valid-test/train/MCI/img-00009-00004.jpg  \n",
            "  inflating: 3-class-train-valid-test/train/MCI/img-00009-00005.jpg  \n",
            "  inflating: 3-class-train-valid-test/train/MCI/img-00010-00001.jpg  \n",
            "  inflating: 3-class-train-valid-test/train/MCI/img-00010-00002.jpg  \n",
            "  inflating: 3-class-train-valid-test/train/MCI/img-00010-00003.jpg  \n",
            "  inflating: 3-class-train-valid-test/train/MCI/img-00010-00004.jpg  \n",
            "  inflating: 3-class-train-valid-test/train/MCI/img-00010-00005.jpg  \n",
            "  inflating: 3-class-train-valid-test/train/MCI/img-00011-00001.jpg  \n",
            "  inflating: 3-class-train-valid-test/train/MCI/img-00011-00002.jpg  \n",
            "  inflating: 3-class-train-valid-test/train/MCI/img-00011-00003.jpg  \n",
            "  inflating: 3-class-train-valid-test/train/MCI/img-00011-00004.jpg  \n",
            "  inflating: 3-class-train-valid-test/train/MCI/img-00011-00005.jpg  \n",
            "  inflating: 3-class-train-valid-test/train/MCI/img-00012-00001.jpg  \n",
            "  inflating: 3-class-train-valid-test/train/MCI/img-00012-00002.jpg  \n",
            "  inflating: 3-class-train-valid-test/train/MCI/img-00012-00003.jpg  \n",
            "  inflating: 3-class-train-valid-test/train/MCI/img-00012-00004.jpg  \n",
            "  inflating: 3-class-train-valid-test/train/MCI/img-00012-00005.jpg  \n",
            "  inflating: 3-class-train-valid-test/train/MCI/img-00013-00001.jpg  \n",
            "  inflating: 3-class-train-valid-test/train/MCI/img-00013-00002.jpg  \n",
            "  inflating: 3-class-train-valid-test/train/MCI/img-00013-00003.jpg  \n",
            "  inflating: 3-class-train-valid-test/train/MCI/img-00013-00004.jpg  \n",
            "  inflating: 3-class-train-valid-test/train/MCI/img-00013-00005.jpg  \n",
            "  inflating: 3-class-train-valid-test/train/MCI/img-00014-00001.jpg  \n",
            "  inflating: 3-class-train-valid-test/train/MCI/img-00014-00002.jpg  \n",
            "  inflating: 3-class-train-valid-test/train/MCI/img-00014-00003.jpg  \n",
            "  inflating: 3-class-train-valid-test/train/MCI/img-00014-00004.jpg  \n",
            "  inflating: 3-class-train-valid-test/train/MCI/img-00014-00005.jpg  \n",
            "  inflating: 3-class-train-valid-test/train/MCI/img-00015-00001.jpg  \n",
            "  inflating: 3-class-train-valid-test/train/MCI/img-00015-00002.jpg  \n",
            "  inflating: 3-class-train-valid-test/train/MCI/img-00015-00003.jpg  \n",
            "  inflating: 3-class-train-valid-test/train/MCI/img-00015-00004.jpg  \n",
            "  inflating: 3-class-train-valid-test/train/MCI/img-00015-00005.jpg  \n",
            "  inflating: 3-class-train-valid-test/train/MCI/img-00016-00001.jpg  \n",
            "  inflating: 3-class-train-valid-test/train/MCI/img-00016-00002.jpg  \n",
            "  inflating: 3-class-train-valid-test/train/MCI/img-00016-00003.jpg  \n",
            "  inflating: 3-class-train-valid-test/train/MCI/img-00016-00004.jpg  \n",
            "  inflating: 3-class-train-valid-test/train/MCI/img-00016-00005.jpg  \n",
            "  inflating: 3-class-train-valid-test/train/MCI/img-00017-00001.jpg  \n",
            "  inflating: 3-class-train-valid-test/train/MCI/img-00017-00002.jpg  \n",
            "  inflating: 3-class-train-valid-test/train/MCI/img-00017-00003.jpg  \n",
            "  inflating: 3-class-train-valid-test/train/MCI/img-00017-00004.jpg  \n",
            "  inflating: 3-class-train-valid-test/train/MCI/img-00017-00005.jpg  \n",
            "  inflating: 3-class-train-valid-test/train/MCI/img-00018-00001.jpg  \n",
            "  inflating: 3-class-train-valid-test/train/MCI/img-00018-00002.jpg  \n",
            "  inflating: 3-class-train-valid-test/train/MCI/img-00018-00003.jpg  \n",
            "  inflating: 3-class-train-valid-test/train/MCI/img-00018-00004.jpg  \n",
            "  inflating: 3-class-train-valid-test/train/MCI/img-00018-00005.jpg  \n",
            "  inflating: 3-class-train-valid-test/train/MCI/img-00019-00001.jpg  \n",
            "  inflating: 3-class-train-valid-test/train/MCI/img-00019-00002.jpg  \n",
            "  inflating: 3-class-train-valid-test/train/MCI/img-00019-00003.jpg  \n",
            "  inflating: 3-class-train-valid-test/train/MCI/img-00019-00004.jpg  \n",
            "  inflating: 3-class-train-valid-test/train/MCI/img-00019-00005.jpg  \n",
            "  inflating: 3-class-train-valid-test/train/MCI/img-00020-00001.jpg  \n",
            "  inflating: 3-class-train-valid-test/train/MCI/img-00020-00002.jpg  \n",
            "  inflating: 3-class-train-valid-test/train/MCI/img-00020-00003.jpg  \n",
            "  inflating: 3-class-train-valid-test/train/MCI/img-00020-00004.jpg  \n",
            "  inflating: 3-class-train-valid-test/train/MCI/img-00020-00005.jpg  \n",
            "   creating: 3-class-train-valid-test/valid/\n",
            "   creating: 3-class-train-valid-test/valid/AD/\n",
            "  inflating: 3-class-train-valid-test/valid/AD/img-00001-00001.jpg  \n",
            "  inflating: 3-class-train-valid-test/valid/AD/img-00008-00002.jpg  \n",
            "  inflating: 3-class-train-valid-test/valid/AD/img-00008-00003.jpg  \n",
            "  inflating: 3-class-train-valid-test/valid/AD/img-00008-00004.jpg  \n",
            "  inflating: 3-class-train-valid-test/valid/AD/img-00012-00005.jpg  \n",
            "  inflating: 3-class-train-valid-test/valid/AD/img-00013-00001.jpg  \n",
            "  inflating: 3-class-train-valid-test/valid/AD/img-00013-00002.jpg  \n",
            "  inflating: 3-class-train-valid-test/valid/AD/img-00013-00003.jpg  \n",
            "  inflating: 3-class-train-valid-test/valid/AD/img-00013-00004.jpg  \n",
            "  inflating: 3-class-train-valid-test/valid/AD/img-00013-00005.jpg  \n",
            "  inflating: 3-class-train-valid-test/valid/AD/img-00014-00001.jpg  \n",
            "  inflating: 3-class-train-valid-test/valid/AD/img-00014-00002.jpg  \n",
            "  inflating: 3-class-train-valid-test/valid/AD/img-00014-00003.jpg  \n",
            "  inflating: 3-class-train-valid-test/valid/AD/img-00014-00004.jpg  \n",
            "  inflating: 3-class-train-valid-test/valid/AD/img-00014-00005.jpg  \n",
            "  inflating: 3-class-train-valid-test/valid/AD/img-00015-00001.jpg  \n",
            "  inflating: 3-class-train-valid-test/valid/AD/img-00015-00002.jpg  \n",
            "  inflating: 3-class-train-valid-test/valid/AD/img-00015-00003.jpg  \n",
            "  inflating: 3-class-train-valid-test/valid/AD/img-00015-00004.jpg  \n",
            "  inflating: 3-class-train-valid-test/valid/AD/img-00015-00005.jpg  \n",
            "   creating: 3-class-train-valid-test/valid/CN/\n",
            "  inflating: 3-class-train-valid-test/valid/CN/img-00009-00004.jpg  \n",
            "  inflating: 3-class-train-valid-test/valid/CN/img-00013-00002.jpg  \n",
            "  inflating: 3-class-train-valid-test/valid/CN/img-00013-00003.jpg  \n",
            "  inflating: 3-class-train-valid-test/valid/CN/img-00013-00004.jpg  \n",
            "  inflating: 3-class-train-valid-test/valid/CN/img-00013-00005.jpg  \n",
            "  inflating: 3-class-train-valid-test/valid/CN/img-00014-00001.jpg  \n",
            "  inflating: 3-class-train-valid-test/valid/CN/img-00014-00002.jpg  \n",
            "  inflating: 3-class-train-valid-test/valid/CN/img-00017-00002.jpg  \n",
            "  inflating: 3-class-train-valid-test/valid/CN/img-00017-00003.jpg  \n",
            "  inflating: 3-class-train-valid-test/valid/CN/img-00017-00004.jpg  \n",
            "  inflating: 3-class-train-valid-test/valid/CN/img-00017-00005.jpg  \n",
            "  inflating: 3-class-train-valid-test/valid/CN/img-00018-00001.jpg  \n",
            "  inflating: 3-class-train-valid-test/valid/CN/img-00019-00003.jpg  \n",
            "  inflating: 3-class-train-valid-test/valid/CN/img-00019-00004.jpg  \n",
            "  inflating: 3-class-train-valid-test/valid/CN/img-00019-00005.jpg  \n",
            "  inflating: 3-class-train-valid-test/valid/CN/img-00020-00001.jpg  \n",
            "  inflating: 3-class-train-valid-test/valid/CN/img-00020-00002.jpg  \n",
            "  inflating: 3-class-train-valid-test/valid/CN/img-00020-00003.jpg  \n",
            "  inflating: 3-class-train-valid-test/valid/CN/img-00020-00004.jpg  \n",
            "  inflating: 3-class-train-valid-test/valid/CN/img-00020-00005.jpg  \n",
            "   creating: 3-class-train-valid-test/valid/MCI/\n",
            "  inflating: 3-class-train-valid-test/valid/MCI/img-00001-00001.jpg  \n",
            "  inflating: 3-class-train-valid-test/valid/MCI/img-00014-00001.jpg  \n",
            "  inflating: 3-class-train-valid-test/valid/MCI/img-00014-00002.jpg  \n",
            "  inflating: 3-class-train-valid-test/valid/MCI/img-00014-00003.jpg  \n",
            "  inflating: 3-class-train-valid-test/valid/MCI/img-00014-00004.jpg  \n",
            "  inflating: 3-class-train-valid-test/valid/MCI/img-00014-00005.jpg  \n",
            "  inflating: 3-class-train-valid-test/valid/MCI/img-00015-00001.jpg  \n",
            "  inflating: 3-class-train-valid-test/valid/MCI/img-00017-00004.jpg  \n",
            "  inflating: 3-class-train-valid-test/valid/MCI/img-00017-00005.jpg  \n",
            "  inflating: 3-class-train-valid-test/valid/MCI/img-00018-00001.jpg  \n",
            "  inflating: 3-class-train-valid-test/valid/MCI/img-00018-00002.jpg  \n",
            "  inflating: 3-class-train-valid-test/valid/MCI/img-00019-00002.jpg  \n",
            "  inflating: 3-class-train-valid-test/valid/MCI/img-00019-00003.jpg  \n",
            "  inflating: 3-class-train-valid-test/valid/MCI/img-00019-00004.jpg  \n",
            "  inflating: 3-class-train-valid-test/valid/MCI/img-00019-00005.jpg  \n",
            "  inflating: 3-class-train-valid-test/valid/MCI/img-00020-00001.jpg  \n",
            "  inflating: 3-class-train-valid-test/valid/MCI/img-00020-00002.jpg  \n",
            "  inflating: 3-class-train-valid-test/valid/MCI/img-00020-00003.jpg  \n",
            "  inflating: 3-class-train-valid-test/valid/MCI/img-00020-00004.jpg  \n",
            "  inflating: 3-class-train-valid-test/valid/MCI/img-00020-00005.jpg  \n"
          ]
        }
      ]
    },
    {
      "cell_type": "code",
      "execution_count": 5,
      "metadata": {
        "id": "fUvXqXWs7bb0"
      },
      "outputs": [],
      "source": [
        "# re-size all the images to this\n",
        "IMAGE_SIZE = [256, 256]\n"
      ]
    },
    {
      "cell_type": "code",
      "execution_count": 6,
      "metadata": {
        "id": "nAl1Taie7bb1"
      },
      "outputs": [],
      "source": [
        "train_path=\"/content/3-class-train-valid-test/train\"\n",
        "test_path=\"/content/3-class-train-valid-test/test\"\n",
        "val_path=\"/content/3-class-train-valid-test/valid\""
      ]
    },
    {
      "cell_type": "code",
      "execution_count": 7,
      "metadata": {
        "id": "JydUJADc7bb2"
      },
      "outputs": [],
      "source": [
        "x_train=[]\n",
        "\n",
        "for folder in os.listdir(train_path):\n",
        "    sub_path=train_path+\"/\"+folder\n",
        "    for img in os.listdir(sub_path):\n",
        "        image_path=sub_path+\"/\"+img\n",
        "        img_arr=cv2.imread(image_path)\n",
        "        img_arr=cv2.resize(img_arr,(256,256))\n",
        "        x_train.append(img_arr)"
      ]
    },
    {
      "cell_type": "code",
      "execution_count": 8,
      "metadata": {
        "id": "XrzkhdCx7bb3"
      },
      "outputs": [],
      "source": [
        "x_test=[]\n",
        "\n",
        "for folder in os.listdir(test_path):\n",
        "    sub_path=test_path+\"/\"+folder\n",
        "    for img in os.listdir(sub_path):\n",
        "        image_path=sub_path+\"/\"+img\n",
        "        img_arr=cv2.imread(image_path)\n",
        "        img_arr=cv2.resize(img_arr,(256,256))\n",
        "        x_test.append(img_arr)\n",
        "    "
      ]
    },
    {
      "cell_type": "code",
      "execution_count": 9,
      "metadata": {
        "id": "kUxL1D1M7bb4"
      },
      "outputs": [],
      "source": [
        "x_val=[]\n",
        "\n",
        "for folder in os.listdir(val_path):\n",
        "    sub_path=val_path+\"/\"+folder\n",
        "    for img in os.listdir(sub_path):\n",
        "        image_path=sub_path+\"/\"+img\n",
        "        img_arr=cv2.imread(image_path)\n",
        "        img_arr=cv2.resize(img_arr,(256,256))\n",
        "        x_val.append(img_arr)\n",
        "    "
      ]
    },
    {
      "cell_type": "code",
      "execution_count": 10,
      "metadata": {
        "id": "8y-WWeuG7bb5"
      },
      "outputs": [],
      "source": [
        "train_x=np.array(x_train)\n",
        "test_x=np.array(x_test)\n",
        "val_x=np.array(x_val)"
      ]
    },
    {
      "cell_type": "code",
      "execution_count": 11,
      "metadata": {
        "colab": {
          "base_uri": "https://localhost:8080/"
        },
        "id": "qS5nJhhM7bb6",
        "outputId": "a4438685-7209-486c-906b-a01e03087b87"
      },
      "outputs": [
        {
          "output_type": "execute_result",
          "data": {
            "text/plain": [
              "((309, 256, 256, 3), (60, 256, 256, 3), (60, 256, 256, 3))"
            ]
          },
          "metadata": {},
          "execution_count": 11
        }
      ],
      "source": [
        "train_x.shape,test_x.shape,val_x.shape"
      ]
    },
    {
      "cell_type": "code",
      "execution_count": 12,
      "metadata": {
        "id": "8Kcj_lGI7bb8"
      },
      "outputs": [],
      "source": [
        "train_x=train_x/255.0\n",
        "test_x=test_x/255.0\n",
        "val_x=val_x/255.0"
      ]
    },
    {
      "cell_type": "code",
      "execution_count": 13,
      "metadata": {
        "id": "CS7L1bJw7bb9"
      },
      "outputs": [],
      "source": [
        "from tensorflow.keras.preprocessing.image import ImageDataGenerator"
      ]
    },
    {
      "cell_type": "code",
      "execution_count": 14,
      "metadata": {
        "colab": {
          "base_uri": "https://localhost:8080/"
        },
        "id": "0P_DxT887bb9",
        "outputId": "bb00bc61-44f1-4036-adc7-4877bd9af5d4"
      },
      "outputs": [
        {
          "output_type": "stream",
          "name": "stdout",
          "text": [
            "Found 309 images belonging to 3 classes.\n",
            "Found 60 images belonging to 3 classes.\n",
            "Found 60 images belonging to 3 classes.\n"
          ]
        }
      ],
      "source": [
        "# train_datagen = ImageDataGenerator(rescale = 1./255,\n",
        "#                                    shear_range = 0.2,\n",
        "#                                    zoom_range = 0.2,\n",
        "#                                    horizontal_flip = True)\n",
        "\n",
        "train_datagen = ImageDataGenerator(rescale = 1./255)\n",
        "test_datagen = ImageDataGenerator(rescale = 1./255)\n",
        "val_datagen = ImageDataGenerator(rescale = 1./255)\n",
        "\n",
        "\n",
        "training_set = train_datagen.flow_from_directory(train_path,\n",
        "                                                 target_size = (224, 224),\n",
        "                                                 batch_size = 16,\n",
        "                                                 class_mode = 'sparse')\n",
        "\n",
        "test_set = test_datagen.flow_from_directory(test_path,\n",
        "                                            target_size = (224, 224),\n",
        "                                            batch_size = 16,\n",
        "                                            class_mode = 'sparse')\n",
        "\n",
        "val_set = val_datagen.flow_from_directory(val_path,\n",
        "                                            target_size = (224, 224),\n",
        "                                            batch_size = 16,\n",
        "                                            class_mode = 'sparse')\n"
      ]
    },
    {
      "cell_type": "code",
      "execution_count": 15,
      "metadata": {
        "colab": {
          "base_uri": "https://localhost:8080/"
        },
        "id": "e7MvgRnE7bb_",
        "outputId": "06632f6d-6085-413c-cab9-509f920ccc4f"
      },
      "outputs": [
        {
          "output_type": "execute_result",
          "data": {
            "text/plain": [
              "{'AD': 0, 'CN': 1, 'MCI': 2}"
            ]
          },
          "metadata": {},
          "execution_count": 15
        }
      ],
      "source": [
        "training_set.class_indices"
      ]
    },
    {
      "cell_type": "code",
      "execution_count": 16,
      "metadata": {
        "id": "K8I85JV27bcB"
      },
      "outputs": [],
      "source": [
        "train_y=training_set.classes"
      ]
    },
    {
      "cell_type": "code",
      "execution_count": 17,
      "metadata": {
        "id": "gwPpyZvG7bcB"
      },
      "outputs": [],
      "source": [
        "test_y=test_set.classes"
      ]
    },
    {
      "cell_type": "code",
      "execution_count": 18,
      "metadata": {
        "id": "F8i_WOVX7bcC"
      },
      "outputs": [],
      "source": [
        "val_y=val_set.classes"
      ]
    },
    {
      "cell_type": "code",
      "execution_count": 19,
      "metadata": {
        "colab": {
          "base_uri": "https://localhost:8080/"
        },
        "id": "8MgBUCGU7bcD",
        "outputId": "1799e19e-8219-4ffb-e65f-6ac3271dd419"
      },
      "outputs": [
        {
          "output_type": "execute_result",
          "data": {
            "text/plain": [
              "((309,), (60,), (60,))"
            ]
          },
          "metadata": {},
          "execution_count": 19
        }
      ],
      "source": [
        "train_y.shape,test_y.shape,val_y.shape"
      ]
    },
    {
      "cell_type": "markdown",
      "source": [
        "##vgg19"
      ],
      "metadata": {
        "id": "I0C7q8TLA03P"
      }
    },
    {
      "cell_type": "code",
      "execution_count": 20,
      "metadata": {
        "colab": {
          "base_uri": "https://localhost:8080/"
        },
        "id": "SgfbXAM37bcD",
        "outputId": "d662f123-48a2-4be6-d9a5-313bc6bc1574"
      },
      "outputs": [
        {
          "output_type": "stream",
          "name": "stdout",
          "text": [
            "Downloading data from https://storage.googleapis.com/tensorflow/keras-applications/vgg19/vgg19_weights_tf_dim_ordering_tf_kernels_notop.h5\n",
            "80134624/80134624 [==============================] - 0s 0us/step\n"
          ]
        }
      ],
      "source": [
        "# add preprocessing layer to the front of VGG\n",
        "vgg = VGG19(input_shape=IMAGE_SIZE + [3], weights='imagenet', include_top=False)"
      ]
    },
    {
      "cell_type": "code",
      "execution_count": 21,
      "metadata": {
        "id": "QJKcS-jW7bcE"
      },
      "outputs": [],
      "source": [
        "# don't train existing weights\n",
        "for layer in vgg.layers:\n",
        "    layer.trainable = False"
      ]
    },
    {
      "cell_type": "code",
      "execution_count": 22,
      "metadata": {
        "id": "wjWh87Rz7bcF"
      },
      "outputs": [],
      "source": [
        "# our layers - you can add more if you want\n",
        "x = Flatten()(vgg.output)\n",
        "\n",
        "prediction = Dense(3, activation='softmax')(x)"
      ]
    },
    {
      "cell_type": "code",
      "execution_count": 23,
      "metadata": {
        "colab": {
          "base_uri": "https://localhost:8080/"
        },
        "id": "uBXGl2nr7bcF",
        "outputId": "c7161e66-391f-448e-fbc8-cbdf545baf7d"
      },
      "outputs": [
        {
          "output_type": "stream",
          "name": "stdout",
          "text": [
            "Model: \"model\"\n",
            "_________________________________________________________________\n",
            " Layer (type)                Output Shape              Param #   \n",
            "=================================================================\n",
            " input_1 (InputLayer)        [(None, 256, 256, 3)]     0         \n",
            "                                                                 \n",
            " block1_conv1 (Conv2D)       (None, 256, 256, 64)      1792      \n",
            "                                                                 \n",
            " block1_conv2 (Conv2D)       (None, 256, 256, 64)      36928     \n",
            "                                                                 \n",
            " block1_pool (MaxPooling2D)  (None, 128, 128, 64)      0         \n",
            "                                                                 \n",
            " block2_conv1 (Conv2D)       (None, 128, 128, 128)     73856     \n",
            "                                                                 \n",
            " block2_conv2 (Conv2D)       (None, 128, 128, 128)     147584    \n",
            "                                                                 \n",
            " block2_pool (MaxPooling2D)  (None, 64, 64, 128)       0         \n",
            "                                                                 \n",
            " block3_conv1 (Conv2D)       (None, 64, 64, 256)       295168    \n",
            "                                                                 \n",
            " block3_conv2 (Conv2D)       (None, 64, 64, 256)       590080    \n",
            "                                                                 \n",
            " block3_conv3 (Conv2D)       (None, 64, 64, 256)       590080    \n",
            "                                                                 \n",
            " block3_conv4 (Conv2D)       (None, 64, 64, 256)       590080    \n",
            "                                                                 \n",
            " block3_pool (MaxPooling2D)  (None, 32, 32, 256)       0         \n",
            "                                                                 \n",
            " block4_conv1 (Conv2D)       (None, 32, 32, 512)       1180160   \n",
            "                                                                 \n",
            " block4_conv2 (Conv2D)       (None, 32, 32, 512)       2359808   \n",
            "                                                                 \n",
            " block4_conv3 (Conv2D)       (None, 32, 32, 512)       2359808   \n",
            "                                                                 \n",
            " block4_conv4 (Conv2D)       (None, 32, 32, 512)       2359808   \n",
            "                                                                 \n",
            " block4_pool (MaxPooling2D)  (None, 16, 16, 512)       0         \n",
            "                                                                 \n",
            " block5_conv1 (Conv2D)       (None, 16, 16, 512)       2359808   \n",
            "                                                                 \n",
            " block5_conv2 (Conv2D)       (None, 16, 16, 512)       2359808   \n",
            "                                                                 \n",
            " block5_conv3 (Conv2D)       (None, 16, 16, 512)       2359808   \n",
            "                                                                 \n",
            " block5_conv4 (Conv2D)       (None, 16, 16, 512)       2359808   \n",
            "                                                                 \n",
            " block5_pool (MaxPooling2D)  (None, 8, 8, 512)         0         \n",
            "                                                                 \n",
            " flatten (Flatten)           (None, 32768)             0         \n",
            "                                                                 \n",
            " dense (Dense)               (None, 3)                 98307     \n",
            "                                                                 \n",
            "=================================================================\n",
            "Total params: 20,122,691\n",
            "Trainable params: 98,307\n",
            "Non-trainable params: 20,024,384\n",
            "_________________________________________________________________\n"
          ]
        }
      ],
      "source": [
        "# create a model object\n",
        "modelvgg = Model(inputs=vgg.input, outputs=prediction)\n",
        "\n",
        "# view the structure of the model\n",
        "modelvgg.summary()\n"
      ]
    },
    {
      "cell_type": "code",
      "execution_count": 24,
      "metadata": {
        "id": "947DR1wf7bcF"
      },
      "outputs": [],
      "source": [
        "# tell the model what cost and optimization method to use\n",
        "modelvgg.compile(\n",
        "  loss='sparse_categorical_crossentropy',\n",
        "  optimizer=\"adam\",\n",
        "  metrics=['accuracy']\n",
        ")"
      ]
    },
    {
      "cell_type": "code",
      "execution_count": 25,
      "metadata": {
        "id": "o4M7NeHY7bcG"
      },
      "outputs": [],
      "source": [
        "from tensorflow.keras.callbacks import EarlyStopping\n",
        "early_stop=EarlyStopping(monitor='val_loss',mode='min',verbose=1,patience=5)\n",
        "\n",
        "#Early stopping to avoid overfitting of model"
      ]
    },
    {
      "cell_type": "code",
      "execution_count": 26,
      "metadata": {
        "scrolled": true,
        "colab": {
          "base_uri": "https://localhost:8080/"
        },
        "id": "DhXIpERq7bcG",
        "outputId": "55465adf-79f4-4e5c-d9cf-b8a63630f624"
      },
      "outputs": [
        {
          "output_type": "stream",
          "name": "stdout",
          "text": [
            "Epoch 1/25\n",
            "20/20 [==============================] - 14s 264ms/step - loss: 1.5807 - accuracy: 0.3981 - val_loss: 1.4957 - val_accuracy: 0.5167\n",
            "Epoch 2/25\n",
            "20/20 [==============================] - 3s 136ms/step - loss: 0.9629 - accuracy: 0.6117 - val_loss: 0.5751 - val_accuracy: 0.7333\n",
            "Epoch 3/25\n",
            "20/20 [==============================] - 3s 137ms/step - loss: 0.5222 - accuracy: 0.7896 - val_loss: 0.4905 - val_accuracy: 0.7667\n",
            "Epoch 4/25\n",
            "20/20 [==============================] - 3s 137ms/step - loss: 0.3658 - accuracy: 0.8900 - val_loss: 0.2880 - val_accuracy: 0.9667\n",
            "Epoch 5/25\n",
            "20/20 [==============================] - 3s 138ms/step - loss: 0.2819 - accuracy: 0.9159 - val_loss: 0.1938 - val_accuracy: 0.9833\n",
            "Epoch 6/25\n",
            "20/20 [==============================] - 3s 138ms/step - loss: 0.1717 - accuracy: 0.9903 - val_loss: 0.1928 - val_accuracy: 0.9667\n",
            "Epoch 7/25\n",
            "20/20 [==============================] - 3s 138ms/step - loss: 0.1839 - accuracy: 0.9773 - val_loss: 0.2134 - val_accuracy: 0.9333\n",
            "Epoch 8/25\n",
            "20/20 [==============================] - 3s 139ms/step - loss: 0.1413 - accuracy: 0.9838 - val_loss: 0.1110 - val_accuracy: 0.9833\n",
            "Epoch 9/25\n",
            "20/20 [==============================] - 3s 139ms/step - loss: 0.1441 - accuracy: 0.9806 - val_loss: 0.0984 - val_accuracy: 1.0000\n",
            "Epoch 10/25\n",
            "20/20 [==============================] - 3s 140ms/step - loss: 0.0916 - accuracy: 0.9968 - val_loss: 0.1126 - val_accuracy: 1.0000\n",
            "Epoch 11/25\n",
            "20/20 [==============================] - 3s 141ms/step - loss: 0.0723 - accuracy: 1.0000 - val_loss: 0.0638 - val_accuracy: 1.0000\n",
            "Epoch 12/25\n",
            "20/20 [==============================] - 3s 141ms/step - loss: 0.0619 - accuracy: 1.0000 - val_loss: 0.0540 - val_accuracy: 1.0000\n",
            "Epoch 13/25\n",
            "20/20 [==============================] - 3s 141ms/step - loss: 0.0555 - accuracy: 1.0000 - val_loss: 0.0550 - val_accuracy: 1.0000\n",
            "Epoch 14/25\n",
            "20/20 [==============================] - 3s 142ms/step - loss: 0.0503 - accuracy: 1.0000 - val_loss: 0.0553 - val_accuracy: 1.0000\n",
            "Epoch 15/25\n",
            "20/20 [==============================] - 3s 143ms/step - loss: 0.0471 - accuracy: 1.0000 - val_loss: 0.0437 - val_accuracy: 1.0000\n",
            "Epoch 16/25\n",
            "20/20 [==============================] - 3s 143ms/step - loss: 0.0456 - accuracy: 1.0000 - val_loss: 0.0441 - val_accuracy: 1.0000\n",
            "Epoch 17/25\n",
            "20/20 [==============================] - 3s 144ms/step - loss: 0.0429 - accuracy: 1.0000 - val_loss: 0.0539 - val_accuracy: 1.0000\n",
            "Epoch 18/25\n",
            "20/20 [==============================] - 3s 145ms/step - loss: 0.0387 - accuracy: 1.0000 - val_loss: 0.0385 - val_accuracy: 1.0000\n",
            "Epoch 19/25\n",
            "20/20 [==============================] - 3s 145ms/step - loss: 0.0360 - accuracy: 1.0000 - val_loss: 0.0357 - val_accuracy: 1.0000\n",
            "Epoch 20/25\n",
            "20/20 [==============================] - 3s 147ms/step - loss: 0.0296 - accuracy: 1.0000 - val_loss: 0.0333 - val_accuracy: 1.0000\n",
            "Epoch 21/25\n",
            "20/20 [==============================] - 3s 146ms/step - loss: 0.0288 - accuracy: 1.0000 - val_loss: 0.0263 - val_accuracy: 1.0000\n",
            "Epoch 22/25\n",
            "20/20 [==============================] - 3s 147ms/step - loss: 0.0273 - accuracy: 1.0000 - val_loss: 0.0263 - val_accuracy: 1.0000\n",
            "Epoch 23/25\n",
            "20/20 [==============================] - 3s 147ms/step - loss: 0.0245 - accuracy: 1.0000 - val_loss: 0.0242 - val_accuracy: 1.0000\n",
            "Epoch 24/25\n",
            "20/20 [==============================] - 3s 148ms/step - loss: 0.0233 - accuracy: 1.0000 - val_loss: 0.0252 - val_accuracy: 1.0000\n",
            "Epoch 25/25\n",
            "20/20 [==============================] - 3s 148ms/step - loss: 0.0227 - accuracy: 1.0000 - val_loss: 0.0206 - val_accuracy: 1.0000\n"
          ]
        }
      ],
      "source": [
        "# fit the model\n",
        "historyvgg = modelvgg.fit(\n",
        "  train_x,\n",
        "  train_y,\n",
        "  validation_data=(val_x,val_y),\n",
        "  epochs=25,\n",
        "  #callbacks=[early_stop],\n",
        "  batch_size=16,shuffle=True)"
      ]
    },
    {
      "cell_type": "code",
      "execution_count": 29,
      "metadata": {
        "colab": {
          "base_uri": "https://localhost:8080/",
          "height": 265
        },
        "id": "djxzuL5M7bcH",
        "outputId": "3e4da806-0523-4d35-cae4-2fab6462c064"
      },
      "outputs": [
        {
          "output_type": "display_data",
          "data": {
            "text/plain": [
              "<Figure size 432x288 with 1 Axes>"
            ],
            "image/png": "[encoded data removed]"
          },
          "metadata": {
            "needs_background": "light"
          }
        }
      ],
      "source": [
        "# loss\n",
        "plt.plot(historyvgg.history['loss'], label='train loss')\n",
        "plt.plot(historyvgg.history['val_loss'], label='val loss')\n",
        "plt.legend()\n",
        "\n",
        "plt.show()"
      ]
    },
    {
      "cell_type": "code",
      "execution_count": 30,
      "metadata": {
        "colab": {
          "base_uri": "https://localhost:8080/",
          "height": 265
        },
        "id": "ZgSl-uVv7bcI",
        "outputId": "339b4bd7-a884-440f-97a2-6de6742da2a2"
      },
      "outputs": [
        {
          "output_type": "display_data",
          "data": {
            "text/plain": [
              "<Figure size 432x288 with 1 Axes>"
            ],
            "image/png": "[encoded data removed]"
          },
          "metadata": {
            "needs_background": "light"
          }
        }
      ],
      "source": [
        "# accuracies\n",
        "plt.plot(historyvgg.history['accuracy'], label='train acc')\n",
        "plt.plot(historyvgg.history['val_accuracy'], label='val acc')\n",
        "plt.legend()\n",
        "\n",
        "plt.show()"
      ]
    },
    {
      "cell_type": "code",
      "execution_count": 31,
      "metadata": {
        "colab": {
          "base_uri": "https://localhost:8080/"
        },
        "id": "ZDkkWcoi7bcI",
        "outputId": "2c8d7983-b6dd-4ab7-c22f-08ac253ddd1f"
      },
      "outputs": [
        {
          "output_type": "stream",
          "name": "stdout",
          "text": [
            "2/2 [==============================] - 7s 3s/step - loss: 0.0206 - accuracy: 1.0000\n"
          ]
        },
        {
          "output_type": "execute_result",
          "data": {
            "text/plain": [
              "[0.02063061110675335, 1.0]"
            ]
          },
          "metadata": {},
          "execution_count": 31
        }
      ],
      "source": [
        "modelvgg.evaluate(test_x,test_y,batch_size=32)"
      ]
    },
    {
      "cell_type": "code",
      "execution_count": 32,
      "metadata": {
        "id": "nrE4SCaM7bcJ"
      },
      "outputs": [],
      "source": [
        "from sklearn.metrics import accuracy_score,classification_report,confusion_matrix\n",
        "import numpy as np"
      ]
    },
    {
      "cell_type": "code",
      "execution_count": 33,
      "metadata": {
        "colab": {
          "base_uri": "https://localhost:8080/"
        },
        "id": "1CZu4XBy7bcK",
        "outputId": "05f2847e-23a9-4b28-db00-774eb928b64f"
      },
      "outputs": [
        {
          "output_type": "stream",
          "name": "stdout",
          "text": [
            "2/2 [==============================] - 0s 234ms/step\n"
          ]
        }
      ],
      "source": [
        "y_predvgg=modelvgg.predict(test_x)\n",
        "y_predvgg=np.argmax(y_predvgg,axis=1)"
      ]
    },
    {
      "cell_type": "code",
      "execution_count": 34,
      "metadata": {
        "colab": {
          "base_uri": "https://localhost:8080/"
        },
        "id": "C3b-CVoJ7bcK",
        "outputId": "9ca17ecc-403a-436a-cc7f-9c6e44222d46"
      },
      "outputs": [
        {
          "output_type": "execute_result",
          "data": {
            "text/plain": [
              "1.0"
            ]
          },
          "metadata": {},
          "execution_count": 34
        }
      ],
      "source": [
        "accuracy_score(y_predvgg,test_y)"
      ]
    },
    {
      "cell_type": "code",
      "execution_count": 35,
      "metadata": {
        "colab": {
          "base_uri": "https://localhost:8080/"
        },
        "id": "ajpltkEq7bcK",
        "outputId": "cb560640-a8ba-4990-d25e-f0f73b246f7d"
      },
      "outputs": [
        {
          "output_type": "stream",
          "name": "stdout",
          "text": [
            "              precision    recall  f1-score   support\n",
            "\n",
            "           0       1.00      1.00      1.00        20\n",
            "           1       1.00      1.00      1.00        20\n",
            "           2       1.00      1.00      1.00        20\n",
            "\n",
            "    accuracy                           1.00        60\n",
            "   macro avg       1.00      1.00      1.00        60\n",
            "weighted avg       1.00      1.00      1.00        60\n",
            "\n"
          ]
        }
      ],
      "source": [
        "print(classification_report(y_predvgg,test_y))"
      ]
    },
    {
      "cell_type": "code",
      "execution_count": 36,
      "metadata": {
        "colab": {
          "base_uri": "https://localhost:8080/"
        },
        "id": "3NRYBHen7bcL",
        "outputId": "b36a3cc8-fcf3-4046-d99a-ea8cc1effd9f"
      },
      "outputs": [
        {
          "output_type": "execute_result",
          "data": {
            "text/plain": [
              "array([[20,  0,  0],\n",
              "       [ 0, 20,  0],\n",
              "       [ 0,  0, 20]])"
            ]
          },
          "metadata": {},
          "execution_count": 36
        }
      ],
      "source": [
        "confusion_matrix(y_predvgg,test_y)"
      ]
    },
    {
      "cell_type": "markdown",
      "source": [
        "##resnet50"
      ],
      "metadata": {
        "id": "tIfAeyWZA-hP"
      }
    },
    {
      "cell_type": "code",
      "execution_count": 37,
      "metadata": {
        "colab": {
          "base_uri": "https://localhost:8080/"
        },
        "id": "BLNGlCDC7bcM",
        "outputId": "02bd98e4-7230-42b3-92a1-f3d9e0e545c9"
      },
      "outputs": [
        {
          "output_type": "stream",
          "name": "stdout",
          "text": [
            "Downloading data from https://storage.googleapis.com/tensorflow/keras-applications/resnet/resnet50_weights_tf_dim_ordering_tf_kernels_notop.h5\n",
            "94765736/94765736 [==============================] - 1s 0us/step\n"
          ]
        }
      ],
      "source": [
        "from tensorflow.keras.applications.resnet50 import ResNet50\n",
        "\n",
        "base_model = ResNet50(weights='imagenet', \n",
        "                      include_top=False, \n",
        "                      input_shape=IMAGE_SIZE + [3])"
      ]
    },
    {
      "cell_type": "code",
      "source": [
        "base_model.summary()"
      ],
      "metadata": {
        "colab": {
          "base_uri": "https://localhost:8080/"
        },
        "id": "0lcGLwUqBDod",
        "outputId": "67645609-63f1-4cb1-ccab-e89052d6f6fa"
      },
      "execution_count": 38,
      "outputs": [
        {
          "output_type": "stream",
          "name": "stdout",
          "text": [
            "Model: \"resnet50\"\n",
            "__________________________________________________________________________________________________\n",
            " Layer (type)                   Output Shape         Param #     Connected to                     \n",
            "==================================================================================================\n",
            " input_2 (InputLayer)           [(None, 256, 256, 3  0           []                               \n",
            "                                )]                                                                \n",
            "                                                                                                  \n",
            " conv1_pad (ZeroPadding2D)      (None, 262, 262, 3)  0           ['input_2[0][0]']                \n",
            "                                                                                                  \n",
            " conv1_conv (Conv2D)            (None, 128, 128, 64  9472        ['conv1_pad[0][0]']              \n",
            "                                )                                                                 \n",
            "                                                                                                  \n",
            " conv1_bn (BatchNormalization)  (None, 128, 128, 64  256         ['conv1_conv[0][0]']             \n",
            "                                )                                                                 \n",
            "                                                                                                  \n",
            " conv1_relu (Activation)        (None, 128, 128, 64  0           ['conv1_bn[0][0]']               \n",
            "                                )                                                                 \n",
            "                                                                                                  \n",
            " pool1_pad (ZeroPadding2D)      (None, 130, 130, 64  0           ['conv1_relu[0][0]']             \n",
            "                                )                                                                 \n",
            "                                                                                                  \n",
            " pool1_pool (MaxPooling2D)      (None, 64, 64, 64)   0           ['pool1_pad[0][0]']              \n",
            "                                                                                                  \n",
            " conv2_block1_1_conv (Conv2D)   (None, 64, 64, 64)   4160        ['pool1_pool[0][0]']             \n",
            "                                                                                                  \n",
            " conv2_block1_1_bn (BatchNormal  (None, 64, 64, 64)  256         ['conv2_block1_1_conv[0][0]']    \n",
            " ization)                                                                                         \n",
            "                                                                                                  \n",
            " conv2_block1_1_relu (Activatio  (None, 64, 64, 64)  0           ['conv2_block1_1_bn[0][0]']      \n",
            " n)                                                                                               \n",
            "                                                                                                  \n",
            " conv2_block1_2_conv (Conv2D)   (None, 64, 64, 64)   36928       ['conv2_block1_1_relu[0][0]']    \n",
            "                                                                                                  \n",
            " conv2_block1_2_bn (BatchNormal  (None, 64, 64, 64)  256         ['conv2_block1_2_conv[0][0]']    \n",
            " ization)                                                                                         \n",
            "                                                                                                  \n",
            " conv2_block1_2_relu (Activatio  (None, 64, 64, 64)  0           ['conv2_block1_2_bn[0][0]']      \n",
            " n)                                                                                               \n",
            "                                                                                                  \n",
            " conv2_block1_0_conv (Conv2D)   (None, 64, 64, 256)  16640       ['pool1_pool[0][0]']             \n",
            "                                                                                                  \n",
            " conv2_block1_3_conv (Conv2D)   (None, 64, 64, 256)  16640       ['conv2_block1_2_relu[0][0]']    \n",
            "                                                                                                  \n",
            " conv2_block1_0_bn (BatchNormal  (None, 64, 64, 256)  1024       ['conv2_block1_0_conv[0][0]']    \n",
            " ization)                                                                                         \n",
            "                                                                                                  \n",
            " conv2_block1_3_bn (BatchNormal  (None, 64, 64, 256)  1024       ['conv2_block1_3_conv[0][0]']    \n",
            " ization)                                                                                         \n",
            "                                                                                                  \n",
            " conv2_block1_add (Add)         (None, 64, 64, 256)  0           ['conv2_block1_0_bn[0][0]',      \n",
            "                                                                  'conv2_block1_3_bn[0][0]']      \n",
            "                                                                                                  \n",
            " conv2_block1_out (Activation)  (None, 64, 64, 256)  0           ['conv2_block1_add[0][0]']       \n",
            "                                                                                                  \n",
            " conv2_block2_1_conv (Conv2D)   (None, 64, 64, 64)   16448       ['conv2_block1_out[0][0]']       \n",
            "                                                                                                  \n",
            " conv2_block2_1_bn (BatchNormal  (None, 64, 64, 64)  256         ['conv2_block2_1_conv[0][0]']    \n",
            " ization)                                                                                         \n",
            "                                                                                                  \n",
            " conv2_block2_1_relu (Activatio  (None, 64, 64, 64)  0           ['conv2_block2_1_bn[0][0]']      \n",
            " n)                                                                                               \n",
            "                                                                                                  \n",
            " conv2_block2_2_conv (Conv2D)   (None, 64, 64, 64)   36928       ['conv2_block2_1_relu[0][0]']    \n",
            "                                                                                                  \n",
            " conv2_block2_2_bn (BatchNormal  (None, 64, 64, 64)  256         ['conv2_block2_2_conv[0][0]']    \n",
            " ization)                                                                                         \n",
            "                                                                                                  \n",
            " conv2_block2_2_relu (Activatio  (None, 64, 64, 64)  0           ['conv2_block2_2_bn[0][0]']      \n",
            " n)                                                                                               \n",
            "                                                                                                  \n",
            " conv2_block2_3_conv (Conv2D)   (None, 64, 64, 256)  16640       ['conv2_block2_2_relu[0][0]']    \n",
            "                                                                                                  \n",
            " conv2_block2_3_bn (BatchNormal  (None, 64, 64, 256)  1024       ['conv2_block2_3_conv[0][0]']    \n",
            " ization)                                                                                         \n",
            "                                                                                                  \n",
            " conv2_block2_add (Add)         (None, 64, 64, 256)  0           ['conv2_block1_out[0][0]',       \n",
            "                                                                  'conv2_block2_3_bn[0][0]']      \n",
            "                                                                                                  \n",
            " conv2_block2_out (Activation)  (None, 64, 64, 256)  0           ['conv2_block2_add[0][0]']       \n",
            "                                                                                                  \n",
            " conv2_block3_1_conv (Conv2D)   (None, 64, 64, 64)   16448       ['conv2_block2_out[0][0]']       \n",
            "                                                                                                  \n",
            " conv2_block3_1_bn (BatchNormal  (None, 64, 64, 64)  256         ['conv2_block3_1_conv[0][0]']    \n",
            " ization)                                                                                         \n",
            "                                                                                                  \n",
            " conv2_block3_1_relu (Activatio  (None, 64, 64, 64)  0           ['conv2_block3_1_bn[0][0]']      \n",
            " n)                                                                                               \n",
            "                                                                                                  \n",
            " conv2_block3_2_conv (Conv2D)   (None, 64, 64, 64)   36928       ['conv2_block3_1_relu[0][0]']    \n",
            "                                                                                                  \n",
            " conv2_block3_2_bn (BatchNormal  (None, 64, 64, 64)  256         ['conv2_block3_2_conv[0][0]']    \n",
            " ization)                                                                                         \n",
            "                                                                                                  \n",
            " conv2_block3_2_relu (Activatio  (None, 64, 64, 64)  0           ['conv2_block3_2_bn[0][0]']      \n",
            " n)                                                                                               \n",
            "                                                                                                  \n",
            " conv2_block3_3_conv (Conv2D)   (None, 64, 64, 256)  16640       ['conv2_block3_2_relu[0][0]']    \n",
            "                                                                                                  \n",
            " conv2_block3_3_bn (BatchNormal  (None, 64, 64, 256)  1024       ['conv2_block3_3_conv[0][0]']    \n",
            " ization)                                                                                         \n",
            "                                                                                                  \n",
            " conv2_block3_add (Add)         (None, 64, 64, 256)  0           ['conv2_block2_out[0][0]',       \n",
            "                                                                  'conv2_block3_3_bn[0][0]']      \n",
            "                                                                                                  \n",
            " conv2_block3_out (Activation)  (None, 64, 64, 256)  0           ['conv2_block3_add[0][0]']       \n",
            "                                                                                                  \n",
            " conv3_block1_1_conv (Conv2D)   (None, 32, 32, 128)  32896       ['conv2_block3_out[0][0]']       \n",
            "                                                                                                  \n",
            " conv3_block1_1_bn (BatchNormal  (None, 32, 32, 128)  512        ['conv3_block1_1_conv[0][0]']    \n",
            " ization)                                                                                         \n",
            "                                                                                                  \n",
            " conv3_block1_1_relu (Activatio  (None, 32, 32, 128)  0          ['conv3_block1_1_bn[0][0]']      \n",
            " n)                                                                                               \n",
            "                                                                                                  \n",
            " conv3_block1_2_conv (Conv2D)   (None, 32, 32, 128)  147584      ['conv3_block1_1_relu[0][0]']    \n",
            "                                                                                                  \n",
            " conv3_block1_2_bn (BatchNormal  (None, 32, 32, 128)  512        ['conv3_block1_2_conv[0][0]']    \n",
            " ization)                                                                                         \n",
            "                                                                                                  \n",
            " conv3_block1_2_relu (Activatio  (None, 32, 32, 128)  0          ['conv3_block1_2_bn[0][0]']      \n",
            " n)                                                                                               \n",
            "                                                                                                  \n",
            " conv3_block1_0_conv (Conv2D)   (None, 32, 32, 512)  131584      ['conv2_block3_out[0][0]']       \n",
            "                                                                                                  \n",
            " conv3_block1_3_conv (Conv2D)   (None, 32, 32, 512)  66048       ['conv3_block1_2_relu[0][0]']    \n",
            "                                                                                                  \n",
            " conv3_block1_0_bn (BatchNormal  (None, 32, 32, 512)  2048       ['conv3_block1_0_conv[0][0]']    \n",
            " ization)                                                                                         \n",
            "                                                                                                  \n",
            " conv3_block1_3_bn (BatchNormal  (None, 32, 32, 512)  2048       ['conv3_block1_3_conv[0][0]']    \n",
            " ization)                                                                                         \n",
            "                                                                                                  \n",
            " conv3_block1_add (Add)         (None, 32, 32, 512)  0           ['conv3_block1_0_bn[0][0]',      \n",
            "                                                                  'conv3_block1_3_bn[0][0]']      \n",
            "                                                                                                  \n",
            " conv3_block1_out (Activation)  (None, 32, 32, 512)  0           ['conv3_block1_add[0][0]']       \n",
            "                                                                                                  \n",
            " conv3_block2_1_conv (Conv2D)   (None, 32, 32, 128)  65664       ['conv3_block1_out[0][0]']       \n",
            "                                                                                                  \n",
            " conv3_block2_1_bn (BatchNormal  (None, 32, 32, 128)  512        ['conv3_block2_1_conv[0][0]']    \n",
            " ization)                                                                                         \n",
            "                                                                                                  \n",
            " conv3_block2_1_relu (Activatio  (None, 32, 32, 128)  0          ['conv3_block2_1_bn[0][0]']      \n",
            " n)                                                                                               \n",
            "                                                                                                  \n",
            " conv3_block2_2_conv (Conv2D)   (None, 32, 32, 128)  147584      ['conv3_block2_1_relu[0][0]']    \n",
            "                                                                                                  \n",
            " conv3_block2_2_bn (BatchNormal  (None, 32, 32, 128)  512        ['conv3_block2_2_conv[0][0]']    \n",
            " ization)                                                                                         \n",
            "                                                                                                  \n",
            " conv3_block2_2_relu (Activatio  (None, 32, 32, 128)  0          ['conv3_block2_2_bn[0][0]']      \n",
            " n)                                                                                               \n",
            "                                                                                                  \n",
            " conv3_block2_3_conv (Conv2D)   (None, 32, 32, 512)  66048       ['conv3_block2_2_relu[0][0]']    \n",
            "                                                                                                  \n",
            " conv3_block2_3_bn (BatchNormal  (None, 32, 32, 512)  2048       ['conv3_block2_3_conv[0][0]']    \n",
            " ization)                                                                                         \n",
            "                                                                                                  \n",
            " conv3_block2_add (Add)         (None, 32, 32, 512)  0           ['conv3_block1_out[0][0]',       \n",
            "                                                                  'conv3_block2_3_bn[0][0]']      \n",
            "                                                                                                  \n",
            " conv3_block2_out (Activation)  (None, 32, 32, 512)  0           ['conv3_block2_add[0][0]']       \n",
            "                                                                                                  \n",
            " conv3_block3_1_conv (Conv2D)   (None, 32, 32, 128)  65664       ['conv3_block2_out[0][0]']       \n",
            "                                                                                                  \n",
            " conv3_block3_1_bn (BatchNormal  (None, 32, 32, 128)  512        ['conv3_block3_1_conv[0][0]']    \n",
            " ization)                                                                                         \n",
            "                                                                                                  \n",
            " conv3_block3_1_relu (Activatio  (None, 32, 32, 128)  0          ['conv3_block3_1_bn[0][0]']      \n",
            " n)                                                                                               \n",
            "                                                                                                  \n",
            " conv3_block3_2_conv (Conv2D)   (None, 32, 32, 128)  147584      ['conv3_block3_1_relu[0][0]']    \n",
            "                                                                                                  \n",
            " conv3_block3_2_bn (BatchNormal  (None, 32, 32, 128)  512        ['conv3_block3_2_conv[0][0]']    \n",
            " ization)                                                                                         \n",
            "                                                                                                  \n",
            " conv3_block3_2_relu (Activatio  (None, 32, 32, 128)  0          ['conv3_block3_2_bn[0][0]']      \n",
            " n)                                                                                               \n",
            "                                                                                                  \n",
            " conv3_block3_3_conv (Conv2D)   (None, 32, 32, 512)  66048       ['conv3_block3_2_relu[0][0]']    \n",
            "                                                                                                  \n",
            " conv3_block3_3_bn (BatchNormal  (None, 32, 32, 512)  2048       ['conv3_block3_3_conv[0][0]']    \n",
            " ization)                                                                                         \n",
            "                                                                                                  \n",
            " conv3_block3_add (Add)         (None, 32, 32, 512)  0           ['conv3_block2_out[0][0]',       \n",
            "                                                                  'conv3_block3_3_bn[0][0]']      \n",
            "                                                                                                  \n",
            " conv3_block3_out (Activation)  (None, 32, 32, 512)  0           ['conv3_block3_add[0][0]']       \n",
            "                                                                                                  \n",
            " conv3_block4_1_conv (Conv2D)   (None, 32, 32, 128)  65664       ['conv3_block3_out[0][0]']       \n",
            "                                                                                                  \n",
            " conv3_block4_1_bn (BatchNormal  (None, 32, 32, 128)  512        ['conv3_block4_1_conv[0][0]']    \n",
            " ization)                                                                                         \n",
            "                                                                                                  \n",
            " conv3_block4_1_relu (Activatio  (None, 32, 32, 128)  0          ['conv3_block4_1_bn[0][0]']      \n",
            " n)                                                                                               \n",
            "                                                                                                  \n",
            " conv3_block4_2_conv (Conv2D)   (None, 32, 32, 128)  147584      ['conv3_block4_1_relu[0][0]']    \n",
            "                                                                                                  \n",
            " conv3_block4_2_bn (BatchNormal  (None, 32, 32, 128)  512        ['conv3_block4_2_conv[0][0]']    \n",
            " ization)                                                                                         \n",
            "                                                                                                  \n",
            " conv3_block4_2_relu (Activatio  (None, 32, 32, 128)  0          ['conv3_block4_2_bn[0][0]']      \n",
            " n)                                                                                               \n",
            "                                                                                                  \n",
            " conv3_block4_3_conv (Conv2D)   (None, 32, 32, 512)  66048       ['conv3_block4_2_relu[0][0]']    \n",
            "                                                                                                  \n",
            " conv3_block4_3_bn (BatchNormal  (None, 32, 32, 512)  2048       ['conv3_block4_3_conv[0][0]']    \n",
            " ization)                                                                                         \n",
            "                                                                                                  \n",
            " conv3_block4_add (Add)         (None, 32, 32, 512)  0           ['conv3_block3_out[0][0]',       \n",
            "                                                                  'conv3_block4_3_bn[0][0]']      \n",
            "                                                                                                  \n",
            " conv3_block4_out (Activation)  (None, 32, 32, 512)  0           ['conv3_block4_add[0][0]']       \n",
            "                                                                                                  \n",
            " conv4_block1_1_conv (Conv2D)   (None, 16, 16, 256)  131328      ['conv3_block4_out[0][0]']       \n",
            "                                                                                                  \n",
            " conv4_block1_1_bn (BatchNormal  (None, 16, 16, 256)  1024       ['conv4_block1_1_conv[0][0]']    \n",
            " ization)                                                                                         \n",
            "                                                                                                  \n",
            " conv4_block1_1_relu (Activatio  (None, 16, 16, 256)  0          ['conv4_block1_1_bn[0][0]']      \n",
            " n)                                                                                               \n",
            "                                                                                                  \n",
            " conv4_block1_2_conv (Conv2D)   (None, 16, 16, 256)  590080      ['conv4_block1_1_relu[0][0]']    \n",
            "                                                                                                  \n",
            " conv4_block1_2_bn (BatchNormal  (None, 16, 16, 256)  1024       ['conv4_block1_2_conv[0][0]']    \n",
            " ization)                                                                                         \n",
            "                                                                                                  \n",
            " conv4_block1_2_relu (Activatio  (None, 16, 16, 256)  0          ['conv4_block1_2_bn[0][0]']      \n",
            " n)                                                                                               \n",
            "                                                                                                  \n",
            " conv4_block1_0_conv (Conv2D)   (None, 16, 16, 1024  525312      ['conv3_block4_out[0][0]']       \n",
            "                                )                                                                 \n",
            "                                                                                                  \n",
            " conv4_block1_3_conv (Conv2D)   (None, 16, 16, 1024  263168      ['conv4_block1_2_relu[0][0]']    \n",
            "                                )                                                                 \n",
            "                                                                                                  \n",
            " conv4_block1_0_bn (BatchNormal  (None, 16, 16, 1024  4096       ['conv4_block1_0_conv[0][0]']    \n",
            " ization)                       )                                                                 \n",
            "                                                                                                  \n",
            " conv4_block1_3_bn (BatchNormal  (None, 16, 16, 1024  4096       ['conv4_block1_3_conv[0][0]']    \n",
            " ization)                       )                                                                 \n",
            "                                                                                                  \n",
            " conv4_block1_add (Add)         (None, 16, 16, 1024  0           ['conv4_block1_0_bn[0][0]',      \n",
            "                                )                                 'conv4_block1_3_bn[0][0]']      \n",
            "                                                                                                  \n",
            " conv4_block1_out (Activation)  (None, 16, 16, 1024  0           ['conv4_block1_add[0][0]']       \n",
            "                                )                                                                 \n",
            "                                                                                                  \n",
            " conv4_block2_1_conv (Conv2D)   (None, 16, 16, 256)  262400      ['conv4_block1_out[0][0]']       \n",
            "                                                                                                  \n",
            " conv4_block2_1_bn (BatchNormal  (None, 16, 16, 256)  1024       ['conv4_block2_1_conv[0][0]']    \n",
            " ization)                                                                                         \n",
            "                                                                                                  \n",
            " conv4_block2_1_relu (Activatio  (None, 16, 16, 256)  0          ['conv4_block2_1_bn[0][0]']      \n",
            " n)                                                                                               \n",
            "                                                                                                  \n",
            " conv4_block2_2_conv (Conv2D)   (None, 16, 16, 256)  590080      ['conv4_block2_1_relu[0][0]']    \n",
            "                                                                                                  \n",
            " conv4_block2_2_bn (BatchNormal  (None, 16, 16, 256)  1024       ['conv4_block2_2_conv[0][0]']    \n",
            " ization)                                                                                         \n",
            "                                                                                                  \n",
            " conv4_block2_2_relu (Activatio  (None, 16, 16, 256)  0          ['conv4_block2_2_bn[0][0]']      \n",
            " n)                                                                                               \n",
            "                                                                                                  \n",
            " conv4_block2_3_conv (Conv2D)   (None, 16, 16, 1024  263168      ['conv4_block2_2_relu[0][0]']    \n",
            "                                )                                                                 \n",
            "                                                                                                  \n",
            " conv4_block2_3_bn (BatchNormal  (None, 16, 16, 1024  4096       ['conv4_block2_3_conv[0][0]']    \n",
            " ization)                       )                                                                 \n",
            "                                                                                                  \n",
            " conv4_block2_add (Add)         (None, 16, 16, 1024  0           ['conv4_block1_out[0][0]',       \n",
            "                                )                                 'conv4_block2_3_bn[0][0]']      \n",
            "                                                                                                  \n",
            " conv4_block2_out (Activation)  (None, 16, 16, 1024  0           ['conv4_block2_add[0][0]']       \n",
            "                                )                                                                 \n",
            "                                                                                                  \n",
            " conv4_block3_1_conv (Conv2D)   (None, 16, 16, 256)  262400      ['conv4_block2_out[0][0]']       \n",
            "                                                                                                  \n",
            " conv4_block3_1_bn (BatchNormal  (None, 16, 16, 256)  1024       ['conv4_block3_1_conv[0][0]']    \n",
            " ization)                                                                                         \n",
            "                                                                                                  \n",
            " conv4_block3_1_relu (Activatio  (None, 16, 16, 256)  0          ['conv4_block3_1_bn[0][0]']      \n",
            " n)                                                                                               \n",
            "                                                                                                  \n",
            " conv4_block3_2_conv (Conv2D)   (None, 16, 16, 256)  590080      ['conv4_block3_1_relu[0][0]']    \n",
            "                                                                                                  \n",
            " conv4_block3_2_bn (BatchNormal  (None, 16, 16, 256)  1024       ['conv4_block3_2_conv[0][0]']    \n",
            " ization)                                                                                         \n",
            "                                                                                                  \n",
            " conv4_block3_2_relu (Activatio  (None, 16, 16, 256)  0          ['conv4_block3_2_bn[0][0]']      \n",
            " n)                                                                                               \n",
            "                                                                                                  \n",
            " conv4_block3_3_conv (Conv2D)   (None, 16, 16, 1024  263168      ['conv4_block3_2_relu[0][0]']    \n",
            "                                )                                                                 \n",
            "                                                                                                  \n",
            " conv4_block3_3_bn (BatchNormal  (None, 16, 16, 1024  4096       ['conv4_block3_3_conv[0][0]']    \n",
            " ization)                       )                                                                 \n",
            "                                                                                                  \n",
            " conv4_block3_add (Add)         (None, 16, 16, 1024  0           ['conv4_block2_out[0][0]',       \n",
            "                                )                                 'conv4_block3_3_bn[0][0]']      \n",
            "                                                                                                  \n",
            " conv4_block3_out (Activation)  (None, 16, 16, 1024  0           ['conv4_block3_add[0][0]']       \n",
            "                                )                                                                 \n",
            "                                                                                                  \n",
            " conv4_block4_1_conv (Conv2D)   (None, 16, 16, 256)  262400      ['conv4_block3_out[0][0]']       \n",
            "                                                                                                  \n",
            " conv4_block4_1_bn (BatchNormal  (None, 16, 16, 256)  1024       ['conv4_block4_1_conv[0][0]']    \n",
            " ization)                                                                                         \n",
            "                                                                                                  \n",
            " conv4_block4_1_relu (Activatio  (None, 16, 16, 256)  0          ['conv4_block4_1_bn[0][0]']      \n",
            " n)                                                                                               \n",
            "                                                                                                  \n",
            " conv4_block4_2_conv (Conv2D)   (None, 16, 16, 256)  590080      ['conv4_block4_1_relu[0][0]']    \n",
            "                                                                                                  \n",
            " conv4_block4_2_bn (BatchNormal  (None, 16, 16, 256)  1024       ['conv4_block4_2_conv[0][0]']    \n",
            " ization)                                                                                         \n",
            "                                                                                                  \n",
            " conv4_block4_2_relu (Activatio  (None, 16, 16, 256)  0          ['conv4_block4_2_bn[0][0]']      \n",
            " n)                                                                                               \n",
            "                                                                                                  \n",
            " conv4_block4_3_conv (Conv2D)   (None, 16, 16, 1024  263168      ['conv4_block4_2_relu[0][0]']    \n",
            "                                )                                                                 \n",
            "                                                                                                  \n",
            " conv4_block4_3_bn (BatchNormal  (None, 16, 16, 1024  4096       ['conv4_block4_3_conv[0][0]']    \n",
            " ization)                       )                                                                 \n",
            "                                                                                                  \n",
            " conv4_block4_add (Add)         (None, 16, 16, 1024  0           ['conv4_block3_out[0][0]',       \n",
            "                                )                                 'conv4_block4_3_bn[0][0]']      \n",
            "                                                                                                  \n",
            " conv4_block4_out (Activation)  (None, 16, 16, 1024  0           ['conv4_block4_add[0][0]']       \n",
            "                                )                                                                 \n",
            "                                                                                                  \n",
            " conv4_block5_1_conv (Conv2D)   (None, 16, 16, 256)  262400      ['conv4_block4_out[0][0]']       \n",
            "                                                                                                  \n",
            " conv4_block5_1_bn (BatchNormal  (None, 16, 16, 256)  1024       ['conv4_block5_1_conv[0][0]']    \n",
            " ization)                                                                                         \n",
            "                                                                                                  \n",
            " conv4_block5_1_relu (Activatio  (None, 16, 16, 256)  0          ['conv4_block5_1_bn[0][0]']      \n",
            " n)                                                                                               \n",
            "                                                                                                  \n",
            " conv4_block5_2_conv (Conv2D)   (None, 16, 16, 256)  590080      ['conv4_block5_1_relu[0][0]']    \n",
            "                                                                                                  \n",
            " conv4_block5_2_bn (BatchNormal  (None, 16, 16, 256)  1024       ['conv4_block5_2_conv[0][0]']    \n",
            " ization)                                                                                         \n",
            "                                                                                                  \n",
            " conv4_block5_2_relu (Activatio  (None, 16, 16, 256)  0          ['conv4_block5_2_bn[0][0]']      \n",
            " n)                                                                                               \n",
            "                                                                                                  \n",
            " conv4_block5_3_conv (Conv2D)   (None, 16, 16, 1024  263168      ['conv4_block5_2_relu[0][0]']    \n",
            "                                )                                                                 \n",
            "                                                                                                  \n",
            " conv4_block5_3_bn (BatchNormal  (None, 16, 16, 1024  4096       ['conv4_block5_3_conv[0][0]']    \n",
            " ization)                       )                                                                 \n",
            "                                                                                                  \n",
            " conv4_block5_add (Add)         (None, 16, 16, 1024  0           ['conv4_block4_out[0][0]',       \n",
            "                                )                                 'conv4_block5_3_bn[0][0]']      \n",
            "                                                                                                  \n",
            " conv4_block5_out (Activation)  (None, 16, 16, 1024  0           ['conv4_block5_add[0][0]']       \n",
            "                                )                                                                 \n",
            "                                                                                                  \n",
            " conv4_block6_1_conv (Conv2D)   (None, 16, 16, 256)  262400      ['conv4_block5_out[0][0]']       \n",
            "                                                                                                  \n",
            " conv4_block6_1_bn (BatchNormal  (None, 16, 16, 256)  1024       ['conv4_block6_1_conv[0][0]']    \n",
            " ization)                                                                                         \n",
            "                                                                                                  \n",
            " conv4_block6_1_relu (Activatio  (None, 16, 16, 256)  0          ['conv4_block6_1_bn[0][0]']      \n",
            " n)                                                                                               \n",
            "                                                                                                  \n",
            " conv4_block6_2_conv (Conv2D)   (None, 16, 16, 256)  590080      ['conv4_block6_1_relu[0][0]']    \n",
            "                                                                                                  \n",
            " conv4_block6_2_bn (BatchNormal  (None, 16, 16, 256)  1024       ['conv4_block6_2_conv[0][0]']    \n",
            " ization)                                                                                         \n",
            "                                                                                                  \n",
            " conv4_block6_2_relu (Activatio  (None, 16, 16, 256)  0          ['conv4_block6_2_bn[0][0]']      \n",
            " n)                                                                                               \n",
            "                                                                                                  \n",
            " conv4_block6_3_conv (Conv2D)   (None, 16, 16, 1024  263168      ['conv4_block6_2_relu[0][0]']    \n",
            "                                )                                                                 \n",
            "                                                                                                  \n",
            " conv4_block6_3_bn (BatchNormal  (None, 16, 16, 1024  4096       ['conv4_block6_3_conv[0][0]']    \n",
            " ization)                       )                                                                 \n",
            "                                                                                                  \n",
            " conv4_block6_add (Add)         (None, 16, 16, 1024  0           ['conv4_block5_out[0][0]',       \n",
            "                                )                                 'conv4_block6_3_bn[0][0]']      \n",
            "                                                                                                  \n",
            " conv4_block6_out (Activation)  (None, 16, 16, 1024  0           ['conv4_block6_add[0][0]']       \n",
            "                                )                                                                 \n",
            "                                                                                                  \n",
            " conv5_block1_1_conv (Conv2D)   (None, 8, 8, 512)    524800      ['conv4_block6_out[0][0]']       \n",
            "                                                                                                  \n",
            " conv5_block1_1_bn (BatchNormal  (None, 8, 8, 512)   2048        ['conv5_block1_1_conv[0][0]']    \n",
            " ization)                                                                                         \n",
            "                                                                                                  \n",
            " conv5_block1_1_relu (Activatio  (None, 8, 8, 512)   0           ['conv5_block1_1_bn[0][0]']      \n",
            " n)                                                                                               \n",
            "                                                                                                  \n",
            " conv5_block1_2_conv (Conv2D)   (None, 8, 8, 512)    2359808     ['conv5_block1_1_relu[0][0]']    \n",
            "                                                                                                  \n",
            " conv5_block1_2_bn (BatchNormal  (None, 8, 8, 512)   2048        ['conv5_block1_2_conv[0][0]']    \n",
            " ization)                                                                                         \n",
            "                                                                                                  \n",
            " conv5_block1_2_relu (Activatio  (None, 8, 8, 512)   0           ['conv5_block1_2_bn[0][0]']      \n",
            " n)                                                                                               \n",
            "                                                                                                  \n",
            " conv5_block1_0_conv (Conv2D)   (None, 8, 8, 2048)   2099200     ['conv4_block6_out[0][0]']       \n",
            "                                                                                                  \n",
            " conv5_block1_3_conv (Conv2D)   (None, 8, 8, 2048)   1050624     ['conv5_block1_2_relu[0][0]']    \n",
            "                                                                                                  \n",
            " conv5_block1_0_bn (BatchNormal  (None, 8, 8, 2048)  8192        ['conv5_block1_0_conv[0][0]']    \n",
            " ization)                                                                                         \n",
            "                                                                                                  \n",
            " conv5_block1_3_bn (BatchNormal  (None, 8, 8, 2048)  8192        ['conv5_block1_3_conv[0][0]']    \n",
            " ization)                                                                                         \n",
            "                                                                                                  \n",
            " conv5_block1_add (Add)         (None, 8, 8, 2048)   0           ['conv5_block1_0_bn[0][0]',      \n",
            "                                                                  'conv5_block1_3_bn[0][0]']      \n",
            "                                                                                                  \n",
            " conv5_block1_out (Activation)  (None, 8, 8, 2048)   0           ['conv5_block1_add[0][0]']       \n",
            "                                                                                                  \n",
            " conv5_block2_1_conv (Conv2D)   (None, 8, 8, 512)    1049088     ['conv5_block1_out[0][0]']       \n",
            "                                                                                                  \n",
            " conv5_block2_1_bn (BatchNormal  (None, 8, 8, 512)   2048        ['conv5_block2_1_conv[0][0]']    \n",
            " ization)                                                                                         \n",
            "                                                                                                  \n",
            " conv5_block2_1_relu (Activatio  (None, 8, 8, 512)   0           ['conv5_block2_1_bn[0][0]']      \n",
            " n)                                                                                               \n",
            "                                                                                                  \n",
            " conv5_block2_2_conv (Conv2D)   (None, 8, 8, 512)    2359808     ['conv5_block2_1_relu[0][0]']    \n",
            "                                                                                                  \n",
            " conv5_block2_2_bn (BatchNormal  (None, 8, 8, 512)   2048        ['conv5_block2_2_conv[0][0]']    \n",
            " ization)                                                                                         \n",
            "                                                                                                  \n",
            " conv5_block2_2_relu (Activatio  (None, 8, 8, 512)   0           ['conv5_block2_2_bn[0][0]']      \n",
            " n)                                                                                               \n",
            "                                                                                                  \n",
            " conv5_block2_3_conv (Conv2D)   (None, 8, 8, 2048)   1050624     ['conv5_block2_2_relu[0][0]']    \n",
            "                                                                                                  \n",
            " conv5_block2_3_bn (BatchNormal  (None, 8, 8, 2048)  8192        ['conv5_block2_3_conv[0][0]']    \n",
            " ization)                                                                                         \n",
            "                                                                                                  \n",
            " conv5_block2_add (Add)         (None, 8, 8, 2048)   0           ['conv5_block1_out[0][0]',       \n",
            "                                                                  'conv5_block2_3_bn[0][0]']      \n",
            "                                                                                                  \n",
            " conv5_block2_out (Activation)  (None, 8, 8, 2048)   0           ['conv5_block2_add[0][0]']       \n",
            "                                                                                                  \n",
            " conv5_block3_1_conv (Conv2D)   (None, 8, 8, 512)    1049088     ['conv5_block2_out[0][0]']       \n",
            "                                                                                                  \n",
            " conv5_block3_1_bn (BatchNormal  (None, 8, 8, 512)   2048        ['conv5_block3_1_conv[0][0]']    \n",
            " ization)                                                                                         \n",
            "                                                                                                  \n",
            " conv5_block3_1_relu (Activatio  (None, 8, 8, 512)   0           ['conv5_block3_1_bn[0][0]']      \n",
            " n)                                                                                               \n",
            "                                                                                                  \n",
            " conv5_block3_2_conv (Conv2D)   (None, 8, 8, 512)    2359808     ['conv5_block3_1_relu[0][0]']    \n",
            "                                                                                                  \n",
            " conv5_block3_2_bn (BatchNormal  (None, 8, 8, 512)   2048        ['conv5_block3_2_conv[0][0]']    \n",
            " ization)                                                                                         \n",
            "                                                                                                  \n",
            " conv5_block3_2_relu (Activatio  (None, 8, 8, 512)   0           ['conv5_block3_2_bn[0][0]']      \n",
            " n)                                                                                               \n",
            "                                                                                                  \n",
            " conv5_block3_3_conv (Conv2D)   (None, 8, 8, 2048)   1050624     ['conv5_block3_2_relu[0][0]']    \n",
            "                                                                                                  \n",
            " conv5_block3_3_bn (BatchNormal  (None, 8, 8, 2048)  8192        ['conv5_block3_3_conv[0][0]']    \n",
            " ization)                                                                                         \n",
            "                                                                                                  \n",
            " conv5_block3_add (Add)         (None, 8, 8, 2048)   0           ['conv5_block2_out[0][0]',       \n",
            "                                                                  'conv5_block3_3_bn[0][0]']      \n",
            "                                                                                                  \n",
            " conv5_block3_out (Activation)  (None, 8, 8, 2048)   0           ['conv5_block3_add[0][0]']       \n",
            "                                                                                                  \n",
            "==================================================================================================\n",
            "Total params: 23,587,712\n",
            "Trainable params: 23,534,592\n",
            "Non-trainable params: 53,120\n",
            "__________________________________________________________________________________________________\n"
          ]
        }
      ]
    },
    {
      "cell_type": "code",
      "source": [
        "base_model.trainable = False"
      ],
      "metadata": {
        "id": "08BtUtq5BZFv"
      },
      "execution_count": 39,
      "outputs": []
    },
    {
      "cell_type": "code",
      "source": [
        "import tensorflow as tf\n",
        "from tensorflow.python.keras import Sequential\n",
        "from tensorflow.keras import layers, optimizers\n",
        "from tensorflow.keras.layers import *\n",
        "from tensorflow.keras.models import Model\n",
        "from tensorflow.keras.initializers import glorot_uniform\n",
        "from tensorflow.keras.utils import plot_model\n",
        "from tensorflow.keras.callbacks import ReduceLROnPlateau, EarlyStopping, ModelCheckpoint, LearningRateScheduler\n",
        "import tensorflow.keras.backend as K"
      ],
      "metadata": {
        "id": "B9Fpas0jBsIa"
      },
      "execution_count": 40,
      "outputs": []
    },
    {
      "cell_type": "code",
      "source": [
        "head = base_model.output\n",
        "\n",
        "head = MaxPooling2D(pool_size=(4,4))(head)\n",
        "head = Flatten(name='Flatten')(head)\n",
        "\n",
        "# head = Dense(128, activation='elu')(head)\n",
        "# head = Dropout(0.3)(head)\n",
        "\n",
        "head = Dense(256, activation='elu')(head)\n",
        "head = Dropout(0.3)(head)\n",
        "\n",
        "head = Dense(3, activation='softmax')(head)\n",
        "\n",
        "modelresnet = Model(base_model.input, head)"
      ],
      "metadata": {
        "id": "GXM9pbFuBgLW"
      },
      "execution_count": 41,
      "outputs": []
    },
    {
      "cell_type": "code",
      "source": [
        "modelresnet.summary()"
      ],
      "metadata": {
        "colab": {
          "base_uri": "https://localhost:8080/"
        },
        "id": "lsQhCd0IBh8F",
        "outputId": "0f6fb40b-6724-4d05-9103-24127288d1a9"
      },
      "execution_count": 42,
      "outputs": [
        {
          "output_type": "stream",
          "name": "stdout",
          "text": [
            "Model: \"model_1\"\n",
            "__________________________________________________________________________________________________\n",
            " Layer (type)                   Output Shape         Param #     Connected to                     \n",
            "==================================================================================================\n",
            " input_2 (InputLayer)           [(None, 256, 256, 3  0           []                               \n",
            "                                )]                                                                \n",
            "                                                                                                  \n",
            " conv1_pad (ZeroPadding2D)      (None, 262, 262, 3)  0           ['input_2[0][0]']                \n",
            "                                                                                                  \n",
            " conv1_conv (Conv2D)            (None, 128, 128, 64  9472        ['conv1_pad[0][0]']              \n",
            "                                )                                                                 \n",
            "                                                                                                  \n",
            " conv1_bn (BatchNormalization)  (None, 128, 128, 64  256         ['conv1_conv[0][0]']             \n",
            "                                )                                                                 \n",
            "                                                                                                  \n",
            " conv1_relu (Activation)        (None, 128, 128, 64  0           ['conv1_bn[0][0]']               \n",
            "                                )                                                                 \n",
            "                                                                                                  \n",
            " pool1_pad (ZeroPadding2D)      (None, 130, 130, 64  0           ['conv1_relu[0][0]']             \n",
            "                                )                                                                 \n",
            "                                                                                                  \n",
            " pool1_pool (MaxPooling2D)      (None, 64, 64, 64)   0           ['pool1_pad[0][0]']              \n",
            "                                                                                                  \n",
            " conv2_block1_1_conv (Conv2D)   (None, 64, 64, 64)   4160        ['pool1_pool[0][0]']             \n",
            "                                                                                                  \n",
            " conv2_block1_1_bn (BatchNormal  (None, 64, 64, 64)  256         ['conv2_block1_1_conv[0][0]']    \n",
            " ization)                                                                                         \n",
            "                                                                                                  \n",
            " conv2_block1_1_relu (Activatio  (None, 64, 64, 64)  0           ['conv2_block1_1_bn[0][0]']      \n",
            " n)                                                                                               \n",
            "                                                                                                  \n",
            " conv2_block1_2_conv (Conv2D)   (None, 64, 64, 64)   36928       ['conv2_block1_1_relu[0][0]']    \n",
            "                                                                                                  \n",
            " conv2_block1_2_bn (BatchNormal  (None, 64, 64, 64)  256         ['conv2_block1_2_conv[0][0]']    \n",
            " ization)                                                                                         \n",
            "                                                                                                  \n",
            " conv2_block1_2_relu (Activatio  (None, 64, 64, 64)  0           ['conv2_block1_2_bn[0][0]']      \n",
            " n)                                                                                               \n",
            "                                                                                                  \n",
            " conv2_block1_0_conv (Conv2D)   (None, 64, 64, 256)  16640       ['pool1_pool[0][0]']             \n",
            "                                                                                                  \n",
            " conv2_block1_3_conv (Conv2D)   (None, 64, 64, 256)  16640       ['conv2_block1_2_relu[0][0]']    \n",
            "                                                                                                  \n",
            " conv2_block1_0_bn (BatchNormal  (None, 64, 64, 256)  1024       ['conv2_block1_0_conv[0][0]']    \n",
            " ization)                                                                                         \n",
            "                                                                                                  \n",
            " conv2_block1_3_bn (BatchNormal  (None, 64, 64, 256)  1024       ['conv2_block1_3_conv[0][0]']    \n",
            " ization)                                                                                         \n",
            "                                                                                                  \n",
            " conv2_block1_add (Add)         (None, 64, 64, 256)  0           ['conv2_block1_0_bn[0][0]',      \n",
            "                                                                  'conv2_block1_3_bn[0][0]']      \n",
            "                                                                                                  \n",
            " conv2_block1_out (Activation)  (None, 64, 64, 256)  0           ['conv2_block1_add[0][0]']       \n",
            "                                                                                                  \n",
            " conv2_block2_1_conv (Conv2D)   (None, 64, 64, 64)   16448       ['conv2_block1_out[0][0]']       \n",
            "                                                                                                  \n",
            " conv2_block2_1_bn (BatchNormal  (None, 64, 64, 64)  256         ['conv2_block2_1_conv[0][0]']    \n",
            " ization)                                                                                         \n",
            "                                                                                                  \n",
            " conv2_block2_1_relu (Activatio  (None, 64, 64, 64)  0           ['conv2_block2_1_bn[0][0]']      \n",
            " n)                                                                                               \n",
            "                                                                                                  \n",
            " conv2_block2_2_conv (Conv2D)   (None, 64, 64, 64)   36928       ['conv2_block2_1_relu[0][0]']    \n",
            "                                                                                                  \n",
            " conv2_block2_2_bn (BatchNormal  (None, 64, 64, 64)  256         ['conv2_block2_2_conv[0][0]']    \n",
            " ization)                                                                                         \n",
            "                                                                                                  \n",
            " conv2_block2_2_relu (Activatio  (None, 64, 64, 64)  0           ['conv2_block2_2_bn[0][0]']      \n",
            " n)                                                                                               \n",
            "                                                                                                  \n",
            " conv2_block2_3_conv (Conv2D)   (None, 64, 64, 256)  16640       ['conv2_block2_2_relu[0][0]']    \n",
            "                                                                                                  \n",
            " conv2_block2_3_bn (BatchNormal  (None, 64, 64, 256)  1024       ['conv2_block2_3_conv[0][0]']    \n",
            " ization)                                                                                         \n",
            "                                                                                                  \n",
            " conv2_block2_add (Add)         (None, 64, 64, 256)  0           ['conv2_block1_out[0][0]',       \n",
            "                                                                  'conv2_block2_3_bn[0][0]']      \n",
            "                                                                                                  \n",
            " conv2_block2_out (Activation)  (None, 64, 64, 256)  0           ['conv2_block2_add[0][0]']       \n",
            "                                                                                                  \n",
            " conv2_block3_1_conv (Conv2D)   (None, 64, 64, 64)   16448       ['conv2_block2_out[0][0]']       \n",
            "                                                                                                  \n",
            " conv2_block3_1_bn (BatchNormal  (None, 64, 64, 64)  256         ['conv2_block3_1_conv[0][0]']    \n",
            " ization)                                                                                         \n",
            "                                                                                                  \n",
            " conv2_block3_1_relu (Activatio  (None, 64, 64, 64)  0           ['conv2_block3_1_bn[0][0]']      \n",
            " n)                                                                                               \n",
            "                                                                                                  \n",
            " conv2_block3_2_conv (Conv2D)   (None, 64, 64, 64)   36928       ['conv2_block3_1_relu[0][0]']    \n",
            "                                                                                                  \n",
            " conv2_block3_2_bn (BatchNormal  (None, 64, 64, 64)  256         ['conv2_block3_2_conv[0][0]']    \n",
            " ization)                                                                                         \n",
            "                                                                                                  \n",
            " conv2_block3_2_relu (Activatio  (None, 64, 64, 64)  0           ['conv2_block3_2_bn[0][0]']      \n",
            " n)                                                                                               \n",
            "                                                                                                  \n",
            " conv2_block3_3_conv (Conv2D)   (None, 64, 64, 256)  16640       ['conv2_block3_2_relu[0][0]']    \n",
            "                                                                                                  \n",
            " conv2_block3_3_bn (BatchNormal  (None, 64, 64, 256)  1024       ['conv2_block3_3_conv[0][0]']    \n",
            " ization)                                                                                         \n",
            "                                                                                                  \n",
            " conv2_block3_add (Add)         (None, 64, 64, 256)  0           ['conv2_block2_out[0][0]',       \n",
            "                                                                  'conv2_block3_3_bn[0][0]']      \n",
            "                                                                                                  \n",
            " conv2_block3_out (Activation)  (None, 64, 64, 256)  0           ['conv2_block3_add[0][0]']       \n",
            "                                                                                                  \n",
            " conv3_block1_1_conv (Conv2D)   (None, 32, 32, 128)  32896       ['conv2_block3_out[0][0]']       \n",
            "                                                                                                  \n",
            " conv3_block1_1_bn (BatchNormal  (None, 32, 32, 128)  512        ['conv3_block1_1_conv[0][0]']    \n",
            " ization)                                                                                         \n",
            "                                                                                                  \n",
            " conv3_block1_1_relu (Activatio  (None, 32, 32, 128)  0          ['conv3_block1_1_bn[0][0]']      \n",
            " n)                                                                                               \n",
            "                                                                                                  \n",
            " conv3_block1_2_conv (Conv2D)   (None, 32, 32, 128)  147584      ['conv3_block1_1_relu[0][0]']    \n",
            "                                                                                                  \n",
            " conv3_block1_2_bn (BatchNormal  (None, 32, 32, 128)  512        ['conv3_block1_2_conv[0][0]']    \n",
            " ization)                                                                                         \n",
            "                                                                                                  \n",
            " conv3_block1_2_relu (Activatio  (None, 32, 32, 128)  0          ['conv3_block1_2_bn[0][0]']      \n",
            " n)                                                                                               \n",
            "                                                                                                  \n",
            " conv3_block1_0_conv (Conv2D)   (None, 32, 32, 512)  131584      ['conv2_block3_out[0][0]']       \n",
            "                                                                                                  \n",
            " conv3_block1_3_conv (Conv2D)   (None, 32, 32, 512)  66048       ['conv3_block1_2_relu[0][0]']    \n",
            "                                                                                                  \n",
            " conv3_block1_0_bn (BatchNormal  (None, 32, 32, 512)  2048       ['conv3_block1_0_conv[0][0]']    \n",
            " ization)                                                                                         \n",
            "                                                                                                  \n",
            " conv3_block1_3_bn (BatchNormal  (None, 32, 32, 512)  2048       ['conv3_block1_3_conv[0][0]']    \n",
            " ization)                                                                                         \n",
            "                                                                                                  \n",
            " conv3_block1_add (Add)         (None, 32, 32, 512)  0           ['conv3_block1_0_bn[0][0]',      \n",
            "                                                                  'conv3_block1_3_bn[0][0]']      \n",
            "                                                                                                  \n",
            " conv3_block1_out (Activation)  (None, 32, 32, 512)  0           ['conv3_block1_add[0][0]']       \n",
            "                                                                                                  \n",
            " conv3_block2_1_conv (Conv2D)   (None, 32, 32, 128)  65664       ['conv3_block1_out[0][0]']       \n",
            "                                                                                                  \n",
            " conv3_block2_1_bn (BatchNormal  (None, 32, 32, 128)  512        ['conv3_block2_1_conv[0][0]']    \n",
            " ization)                                                                                         \n",
            "                                                                                                  \n",
            " conv3_block2_1_relu (Activatio  (None, 32, 32, 128)  0          ['conv3_block2_1_bn[0][0]']      \n",
            " n)                                                                                               \n",
            "                                                                                                  \n",
            " conv3_block2_2_conv (Conv2D)   (None, 32, 32, 128)  147584      ['conv3_block2_1_relu[0][0]']    \n",
            "                                                                                                  \n",
            " conv3_block2_2_bn (BatchNormal  (None, 32, 32, 128)  512        ['conv3_block2_2_conv[0][0]']    \n",
            " ization)                                                                                         \n",
            "                                                                                                  \n",
            " conv3_block2_2_relu (Activatio  (None, 32, 32, 128)  0          ['conv3_block2_2_bn[0][0]']      \n",
            " n)                                                                                               \n",
            "                                                                                                  \n",
            " conv3_block2_3_conv (Conv2D)   (None, 32, 32, 512)  66048       ['conv3_block2_2_relu[0][0]']    \n",
            "                                                                                                  \n",
            " conv3_block2_3_bn (BatchNormal  (None, 32, 32, 512)  2048       ['conv3_block2_3_conv[0][0]']    \n",
            " ization)                                                                                         \n",
            "                                                                                                  \n",
            " conv3_block2_add (Add)         (None, 32, 32, 512)  0           ['conv3_block1_out[0][0]',       \n",
            "                                                                  'conv3_block2_3_bn[0][0]']      \n",
            "                                                                                                  \n",
            " conv3_block2_out (Activation)  (None, 32, 32, 512)  0           ['conv3_block2_add[0][0]']       \n",
            "                                                                                                  \n",
            " conv3_block3_1_conv (Conv2D)   (None, 32, 32, 128)  65664       ['conv3_block2_out[0][0]']       \n",
            "                                                                                                  \n",
            " conv3_block3_1_bn (BatchNormal  (None, 32, 32, 128)  512        ['conv3_block3_1_conv[0][0]']    \n",
            " ization)                                                                                         \n",
            "                                                                                                  \n",
            " conv3_block3_1_relu (Activatio  (None, 32, 32, 128)  0          ['conv3_block3_1_bn[0][0]']      \n",
            " n)                                                                                               \n",
            "                                                                                                  \n",
            " conv3_block3_2_conv (Conv2D)   (None, 32, 32, 128)  147584      ['conv3_block3_1_relu[0][0]']    \n",
            "                                                                                                  \n",
            " conv3_block3_2_bn (BatchNormal  (None, 32, 32, 128)  512        ['conv3_block3_2_conv[0][0]']    \n",
            " ization)                                                                                         \n",
            "                                                                                                  \n",
            " conv3_block3_2_relu (Activatio  (None, 32, 32, 128)  0          ['conv3_block3_2_bn[0][0]']      \n",
            " n)                                                                                               \n",
            "                                                                                                  \n",
            " conv3_block3_3_conv (Conv2D)   (None, 32, 32, 512)  66048       ['conv3_block3_2_relu[0][0]']    \n",
            "                                                                                                  \n",
            " conv3_block3_3_bn (BatchNormal  (None, 32, 32, 512)  2048       ['conv3_block3_3_conv[0][0]']    \n",
            " ization)                                                                                         \n",
            "                                                                                                  \n",
            " conv3_block3_add (Add)         (None, 32, 32, 512)  0           ['conv3_block2_out[0][0]',       \n",
            "                                                                  'conv3_block3_3_bn[0][0]']      \n",
            "                                                                                                  \n",
            " conv3_block3_out (Activation)  (None, 32, 32, 512)  0           ['conv3_block3_add[0][0]']       \n",
            "                                                                                                  \n",
            " conv3_block4_1_conv (Conv2D)   (None, 32, 32, 128)  65664       ['conv3_block3_out[0][0]']       \n",
            "                                                                                                  \n",
            " conv3_block4_1_bn (BatchNormal  (None, 32, 32, 128)  512        ['conv3_block4_1_conv[0][0]']    \n",
            " ization)                                                                                         \n",
            "                                                                                                  \n",
            " conv3_block4_1_relu (Activatio  (None, 32, 32, 128)  0          ['conv3_block4_1_bn[0][0]']      \n",
            " n)                                                                                               \n",
            "                                                                                                  \n",
            " conv3_block4_2_conv (Conv2D)   (None, 32, 32, 128)  147584      ['conv3_block4_1_relu[0][0]']    \n",
            "                                                                                                  \n",
            " conv3_block4_2_bn (BatchNormal  (None, 32, 32, 128)  512        ['conv3_block4_2_conv[0][0]']    \n",
            " ization)                                                                                         \n",
            "                                                                                                  \n",
            " conv3_block4_2_relu (Activatio  (None, 32, 32, 128)  0          ['conv3_block4_2_bn[0][0]']      \n",
            " n)                                                                                               \n",
            "                                                                                                  \n",
            " conv3_block4_3_conv (Conv2D)   (None, 32, 32, 512)  66048       ['conv3_block4_2_relu[0][0]']    \n",
            "                                                                                                  \n",
            " conv3_block4_3_bn (BatchNormal  (None, 32, 32, 512)  2048       ['conv3_block4_3_conv[0][0]']    \n",
            " ization)                                                                                         \n",
            "                                                                                                  \n",
            " conv3_block4_add (Add)         (None, 32, 32, 512)  0           ['conv3_block3_out[0][0]',       \n",
            "                                                                  'conv3_block4_3_bn[0][0]']      \n",
            "                                                                                                  \n",
            " conv3_block4_out (Activation)  (None, 32, 32, 512)  0           ['conv3_block4_add[0][0]']       \n",
            "                                                                                                  \n",
            " conv4_block1_1_conv (Conv2D)   (None, 16, 16, 256)  131328      ['conv3_block4_out[0][0]']       \n",
            "                                                                                                  \n",
            " conv4_block1_1_bn (BatchNormal  (None, 16, 16, 256)  1024       ['conv4_block1_1_conv[0][0]']    \n",
            " ization)                                                                                         \n",
            "                                                                                                  \n",
            " conv4_block1_1_relu (Activatio  (None, 16, 16, 256)  0          ['conv4_block1_1_bn[0][0]']      \n",
            " n)                                                                                               \n",
            "                                                                                                  \n",
            " conv4_block1_2_conv (Conv2D)   (None, 16, 16, 256)  590080      ['conv4_block1_1_relu[0][0]']    \n",
            "                                                                                                  \n",
            " conv4_block1_2_bn (BatchNormal  (None, 16, 16, 256)  1024       ['conv4_block1_2_conv[0][0]']    \n",
            " ization)                                                                                         \n",
            "                                                                                                  \n",
            " conv4_block1_2_relu (Activatio  (None, 16, 16, 256)  0          ['conv4_block1_2_bn[0][0]']      \n",
            " n)                                                                                               \n",
            "                                                                                                  \n",
            " conv4_block1_0_conv (Conv2D)   (None, 16, 16, 1024  525312      ['conv3_block4_out[0][0]']       \n",
            "                                )                                                                 \n",
            "                                                                                                  \n",
            " conv4_block1_3_conv (Conv2D)   (None, 16, 16, 1024  263168      ['conv4_block1_2_relu[0][0]']    \n",
            "                                )                                                                 \n",
            "                                                                                                  \n",
            " conv4_block1_0_bn (BatchNormal  (None, 16, 16, 1024  4096       ['conv4_block1_0_conv[0][0]']    \n",
            " ization)                       )                                                                 \n",
            "                                                                                                  \n",
            " conv4_block1_3_bn (BatchNormal  (None, 16, 16, 1024  4096       ['conv4_block1_3_conv[0][0]']    \n",
            " ization)                       )                                                                 \n",
            "                                                                                                  \n",
            " conv4_block1_add (Add)         (None, 16, 16, 1024  0           ['conv4_block1_0_bn[0][0]',      \n",
            "                                )                                 'conv4_block1_3_bn[0][0]']      \n",
            "                                                                                                  \n",
            " conv4_block1_out (Activation)  (None, 16, 16, 1024  0           ['conv4_block1_add[0][0]']       \n",
            "                                )                                                                 \n",
            "                                                                                                  \n",
            " conv4_block2_1_conv (Conv2D)   (None, 16, 16, 256)  262400      ['conv4_block1_out[0][0]']       \n",
            "                                                                                                  \n",
            " conv4_block2_1_bn (BatchNormal  (None, 16, 16, 256)  1024       ['conv4_block2_1_conv[0][0]']    \n",
            " ization)                                                                                         \n",
            "                                                                                                  \n",
            " conv4_block2_1_relu (Activatio  (None, 16, 16, 256)  0          ['conv4_block2_1_bn[0][0]']      \n",
            " n)                                                                                               \n",
            "                                                                                                  \n",
            " conv4_block2_2_conv (Conv2D)   (None, 16, 16, 256)  590080      ['conv4_block2_1_relu[0][0]']    \n",
            "                                                                                                  \n",
            " conv4_block2_2_bn (BatchNormal  (None, 16, 16, 256)  1024       ['conv4_block2_2_conv[0][0]']    \n",
            " ization)                                                                                         \n",
            "                                                                                                  \n",
            " conv4_block2_2_relu (Activatio  (None, 16, 16, 256)  0          ['conv4_block2_2_bn[0][0]']      \n",
            " n)                                                                                               \n",
            "                                                                                                  \n",
            " conv4_block2_3_conv (Conv2D)   (None, 16, 16, 1024  263168      ['conv4_block2_2_relu[0][0]']    \n",
            "                                )                                                                 \n",
            "                                                                                                  \n",
            " conv4_block2_3_bn (BatchNormal  (None, 16, 16, 1024  4096       ['conv4_block2_3_conv[0][0]']    \n",
            " ization)                       )                                                                 \n",
            "                                                                                                  \n",
            " conv4_block2_add (Add)         (None, 16, 16, 1024  0           ['conv4_block1_out[0][0]',       \n",
            "                                )                                 'conv4_block2_3_bn[0][0]']      \n",
            "                                                                                                  \n",
            " conv4_block2_out (Activation)  (None, 16, 16, 1024  0           ['conv4_block2_add[0][0]']       \n",
            "                                )                                                                 \n",
            "                                                                                                  \n",
            " conv4_block3_1_conv (Conv2D)   (None, 16, 16, 256)  262400      ['conv4_block2_out[0][0]']       \n",
            "                                                                                                  \n",
            " conv4_block3_1_bn (BatchNormal  (None, 16, 16, 256)  1024       ['conv4_block3_1_conv[0][0]']    \n",
            " ization)                                                                                         \n",
            "                                                                                                  \n",
            " conv4_block3_1_relu (Activatio  (None, 16, 16, 256)  0          ['conv4_block3_1_bn[0][0]']      \n",
            " n)                                                                                               \n",
            "                                                                                                  \n",
            " conv4_block3_2_conv (Conv2D)   (None, 16, 16, 256)  590080      ['conv4_block3_1_relu[0][0]']    \n",
            "                                                                                                  \n",
            " conv4_block3_2_bn (BatchNormal  (None, 16, 16, 256)  1024       ['conv4_block3_2_conv[0][0]']    \n",
            " ization)                                                                                         \n",
            "                                                                                                  \n",
            " conv4_block3_2_relu (Activatio  (None, 16, 16, 256)  0          ['conv4_block3_2_bn[0][0]']      \n",
            " n)                                                                                               \n",
            "                                                                                                  \n",
            " conv4_block3_3_conv (Conv2D)   (None, 16, 16, 1024  263168      ['conv4_block3_2_relu[0][0]']    \n",
            "                                )                                                                 \n",
            "                                                                                                  \n",
            " conv4_block3_3_bn (BatchNormal  (None, 16, 16, 1024  4096       ['conv4_block3_3_conv[0][0]']    \n",
            " ization)                       )                                                                 \n",
            "                                                                                                  \n",
            " conv4_block3_add (Add)         (None, 16, 16, 1024  0           ['conv4_block2_out[0][0]',       \n",
            "                                )                                 'conv4_block3_3_bn[0][0]']      \n",
            "                                                                                                  \n",
            " conv4_block3_out (Activation)  (None, 16, 16, 1024  0           ['conv4_block3_add[0][0]']       \n",
            "                                )                                                                 \n",
            "                                                                                                  \n",
            " conv4_block4_1_conv (Conv2D)   (None, 16, 16, 256)  262400      ['conv4_block3_out[0][0]']       \n",
            "                                                                                                  \n",
            " conv4_block4_1_bn (BatchNormal  (None, 16, 16, 256)  1024       ['conv4_block4_1_conv[0][0]']    \n",
            " ization)                                                                                         \n",
            "                                                                                                  \n",
            " conv4_block4_1_relu (Activatio  (None, 16, 16, 256)  0          ['conv4_block4_1_bn[0][0]']      \n",
            " n)                                                                                               \n",
            "                                                                                                  \n",
            " conv4_block4_2_conv (Conv2D)   (None, 16, 16, 256)  590080      ['conv4_block4_1_relu[0][0]']    \n",
            "                                                                                                  \n",
            " conv4_block4_2_bn (BatchNormal  (None, 16, 16, 256)  1024       ['conv4_block4_2_conv[0][0]']    \n",
            " ization)                                                                                         \n",
            "                                                                                                  \n",
            " conv4_block4_2_relu (Activatio  (None, 16, 16, 256)  0          ['conv4_block4_2_bn[0][0]']      \n",
            " n)                                                                                               \n",
            "                                                                                                  \n",
            " conv4_block4_3_conv (Conv2D)   (None, 16, 16, 1024  263168      ['conv4_block4_2_relu[0][0]']    \n",
            "                                )                                                                 \n",
            "                                                                                                  \n",
            " conv4_block4_3_bn (BatchNormal  (None, 16, 16, 1024  4096       ['conv4_block4_3_conv[0][0]']    \n",
            " ization)                       )                                                                 \n",
            "                                                                                                  \n",
            " conv4_block4_add (Add)         (None, 16, 16, 1024  0           ['conv4_block3_out[0][0]',       \n",
            "                                )                                 'conv4_block4_3_bn[0][0]']      \n",
            "                                                                                                  \n",
            " conv4_block4_out (Activation)  (None, 16, 16, 1024  0           ['conv4_block4_add[0][0]']       \n",
            "                                )                                                                 \n",
            "                                                                                                  \n",
            " conv4_block5_1_conv (Conv2D)   (None, 16, 16, 256)  262400      ['conv4_block4_out[0][0]']       \n",
            "                                                                                                  \n",
            " conv4_block5_1_bn (BatchNormal  (None, 16, 16, 256)  1024       ['conv4_block5_1_conv[0][0]']    \n",
            " ization)                                                                                         \n",
            "                                                                                                  \n",
            " conv4_block5_1_relu (Activatio  (None, 16, 16, 256)  0          ['conv4_block5_1_bn[0][0]']      \n",
            " n)                                                                                               \n",
            "                                                                                                  \n",
            " conv4_block5_2_conv (Conv2D)   (None, 16, 16, 256)  590080      ['conv4_block5_1_relu[0][0]']    \n",
            "                                                                                                  \n",
            " conv4_block5_2_bn (BatchNormal  (None, 16, 16, 256)  1024       ['conv4_block5_2_conv[0][0]']    \n",
            " ization)                                                                                         \n",
            "                                                                                                  \n",
            " conv4_block5_2_relu (Activatio  (None, 16, 16, 256)  0          ['conv4_block5_2_bn[0][0]']      \n",
            " n)                                                                                               \n",
            "                                                                                                  \n",
            " conv4_block5_3_conv (Conv2D)   (None, 16, 16, 1024  263168      ['conv4_block5_2_relu[0][0]']    \n",
            "                                )                                                                 \n",
            "                                                                                                  \n",
            " conv4_block5_3_bn (BatchNormal  (None, 16, 16, 1024  4096       ['conv4_block5_3_conv[0][0]']    \n",
            " ization)                       )                                                                 \n",
            "                                                                                                  \n",
            " conv4_block5_add (Add)         (None, 16, 16, 1024  0           ['conv4_block4_out[0][0]',       \n",
            "                                )                                 'conv4_block5_3_bn[0][0]']      \n",
            "                                                                                                  \n",
            " conv4_block5_out (Activation)  (None, 16, 16, 1024  0           ['conv4_block5_add[0][0]']       \n",
            "                                )                                                                 \n",
            "                                                                                                  \n",
            " conv4_block6_1_conv (Conv2D)   (None, 16, 16, 256)  262400      ['conv4_block5_out[0][0]']       \n",
            "                                                                                                  \n",
            " conv4_block6_1_bn (BatchNormal  (None, 16, 16, 256)  1024       ['conv4_block6_1_conv[0][0]']    \n",
            " ization)                                                                                         \n",
            "                                                                                                  \n",
            " conv4_block6_1_relu (Activatio  (None, 16, 16, 256)  0          ['conv4_block6_1_bn[0][0]']      \n",
            " n)                                                                                               \n",
            "                                                                                                  \n",
            " conv4_block6_2_conv (Conv2D)   (None, 16, 16, 256)  590080      ['conv4_block6_1_relu[0][0]']    \n",
            "                                                                                                  \n",
            " conv4_block6_2_bn (BatchNormal  (None, 16, 16, 256)  1024       ['conv4_block6_2_conv[0][0]']    \n",
            " ization)                                                                                         \n",
            "                                                                                                  \n",
            " conv4_block6_2_relu (Activatio  (None, 16, 16, 256)  0          ['conv4_block6_2_bn[0][0]']      \n",
            " n)                                                                                               \n",
            "                                                                                                  \n",
            " conv4_block6_3_conv (Conv2D)   (None, 16, 16, 1024  263168      ['conv4_block6_2_relu[0][0]']    \n",
            "                                )                                                                 \n",
            "                                                                                                  \n",
            " conv4_block6_3_bn (BatchNormal  (None, 16, 16, 1024  4096       ['conv4_block6_3_conv[0][0]']    \n",
            " ization)                       )                                                                 \n",
            "                                                                                                  \n",
            " conv4_block6_add (Add)         (None, 16, 16, 1024  0           ['conv4_block5_out[0][0]',       \n",
            "                                )                                 'conv4_block6_3_bn[0][0]']      \n",
            "                                                                                                  \n",
            " conv4_block6_out (Activation)  (None, 16, 16, 1024  0           ['conv4_block6_add[0][0]']       \n",
            "                                )                                                                 \n",
            "                                                                                                  \n",
            " conv5_block1_1_conv (Conv2D)   (None, 8, 8, 512)    524800      ['conv4_block6_out[0][0]']       \n",
            "                                                                                                  \n",
            " conv5_block1_1_bn (BatchNormal  (None, 8, 8, 512)   2048        ['conv5_block1_1_conv[0][0]']    \n",
            " ization)                                                                                         \n",
            "                                                                                                  \n",
            " conv5_block1_1_relu (Activatio  (None, 8, 8, 512)   0           ['conv5_block1_1_bn[0][0]']      \n",
            " n)                                                                                               \n",
            "                                                                                                  \n",
            " conv5_block1_2_conv (Conv2D)   (None, 8, 8, 512)    2359808     ['conv5_block1_1_relu[0][0]']    \n",
            "                                                                                                  \n",
            " conv5_block1_2_bn (BatchNormal  (None, 8, 8, 512)   2048        ['conv5_block1_2_conv[0][0]']    \n",
            " ization)                                                                                         \n",
            "                                                                                                  \n",
            " conv5_block1_2_relu (Activatio  (None, 8, 8, 512)   0           ['conv5_block1_2_bn[0][0]']      \n",
            " n)                                                                                               \n",
            "                                                                                                  \n",
            " conv5_block1_0_conv (Conv2D)   (None, 8, 8, 2048)   2099200     ['conv4_block6_out[0][0]']       \n",
            "                                                                                                  \n",
            " conv5_block1_3_conv (Conv2D)   (None, 8, 8, 2048)   1050624     ['conv5_block1_2_relu[0][0]']    \n",
            "                                                                                                  \n",
            " conv5_block1_0_bn (BatchNormal  (None, 8, 8, 2048)  8192        ['conv5_block1_0_conv[0][0]']    \n",
            " ization)                                                                                         \n",
            "                                                                                                  \n",
            " conv5_block1_3_bn (BatchNormal  (None, 8, 8, 2048)  8192        ['conv5_block1_3_conv[0][0]']    \n",
            " ization)                                                                                         \n",
            "                                                                                                  \n",
            " conv5_block1_add (Add)         (None, 8, 8, 2048)   0           ['conv5_block1_0_bn[0][0]',      \n",
            "                                                                  'conv5_block1_3_bn[0][0]']      \n",
            "                                                                                                  \n",
            " conv5_block1_out (Activation)  (None, 8, 8, 2048)   0           ['conv5_block1_add[0][0]']       \n",
            "                                                                                                  \n",
            " conv5_block2_1_conv (Conv2D)   (None, 8, 8, 512)    1049088     ['conv5_block1_out[0][0]']       \n",
            "                                                                                                  \n",
            " conv5_block2_1_bn (BatchNormal  (None, 8, 8, 512)   2048        ['conv5_block2_1_conv[0][0]']    \n",
            " ization)                                                                                         \n",
            "                                                                                                  \n",
            " conv5_block2_1_relu (Activatio  (None, 8, 8, 512)   0           ['conv5_block2_1_bn[0][0]']      \n",
            " n)                                                                                               \n",
            "                                                                                                  \n",
            " conv5_block2_2_conv (Conv2D)   (None, 8, 8, 512)    2359808     ['conv5_block2_1_relu[0][0]']    \n",
            "                                                                                                  \n",
            " conv5_block2_2_bn (BatchNormal  (None, 8, 8, 512)   2048        ['conv5_block2_2_conv[0][0]']    \n",
            " ization)                                                                                         \n",
            "                                                                                                  \n",
            " conv5_block2_2_relu (Activatio  (None, 8, 8, 512)   0           ['conv5_block2_2_bn[0][0]']      \n",
            " n)                                                                                               \n",
            "                                                                                                  \n",
            " conv5_block2_3_conv (Conv2D)   (None, 8, 8, 2048)   1050624     ['conv5_block2_2_relu[0][0]']    \n",
            "                                                                                                  \n",
            " conv5_block2_3_bn (BatchNormal  (None, 8, 8, 2048)  8192        ['conv5_block2_3_conv[0][0]']    \n",
            " ization)                                                                                         \n",
            "                                                                                                  \n",
            " conv5_block2_add (Add)         (None, 8, 8, 2048)   0           ['conv5_block1_out[0][0]',       \n",
            "                                                                  'conv5_block2_3_bn[0][0]']      \n",
            "                                                                                                  \n",
            " conv5_block2_out (Activation)  (None, 8, 8, 2048)   0           ['conv5_block2_add[0][0]']       \n",
            "                                                                                                  \n",
            " conv5_block3_1_conv (Conv2D)   (None, 8, 8, 512)    1049088     ['conv5_block2_out[0][0]']       \n",
            "                                                                                                  \n",
            " conv5_block3_1_bn (BatchNormal  (None, 8, 8, 512)   2048        ['conv5_block3_1_conv[0][0]']    \n",
            " ization)                                                                                         \n",
            "                                                                                                  \n",
            " conv5_block3_1_relu (Activatio  (None, 8, 8, 512)   0           ['conv5_block3_1_bn[0][0]']      \n",
            " n)                                                                                               \n",
            "                                                                                                  \n",
            " conv5_block3_2_conv (Conv2D)   (None, 8, 8, 512)    2359808     ['conv5_block3_1_relu[0][0]']    \n",
            "                                                                                                  \n",
            " conv5_block3_2_bn (BatchNormal  (None, 8, 8, 512)   2048        ['conv5_block3_2_conv[0][0]']    \n",
            " ization)                                                                                         \n",
            "                                                                                                  \n",
            " conv5_block3_2_relu (Activatio  (None, 8, 8, 512)   0           ['conv5_block3_2_bn[0][0]']      \n",
            " n)                                                                                               \n",
            "                                                                                                  \n",
            " conv5_block3_3_conv (Conv2D)   (None, 8, 8, 2048)   1050624     ['conv5_block3_2_relu[0][0]']    \n",
            "                                                                                                  \n",
            " conv5_block3_3_bn (BatchNormal  (None, 8, 8, 2048)  8192        ['conv5_block3_3_conv[0][0]']    \n",
            " ization)                                                                                         \n",
            "                                                                                                  \n",
            " conv5_block3_add (Add)         (None, 8, 8, 2048)   0           ['conv5_block2_out[0][0]',       \n",
            "                                                                  'conv5_block3_3_bn[0][0]']      \n",
            "                                                                                                  \n",
            " conv5_block3_out (Activation)  (None, 8, 8, 2048)   0           ['conv5_block3_add[0][0]']       \n",
            "                                                                                                  \n",
            " max_pooling2d (MaxPooling2D)   (None, 2, 2, 2048)   0           ['conv5_block3_out[0][0]']       \n",
            "                                                                                                  \n",
            " Flatten (Flatten)              (None, 8192)         0           ['max_pooling2d[0][0]']          \n",
            "                                                                                                  \n",
            " dense_1 (Dense)                (None, 256)          2097408     ['Flatten[0][0]']                \n",
            "                                                                                                  \n",
            " dropout (Dropout)              (None, 256)          0           ['dense_1[0][0]']                \n",
            "                                                                                                  \n",
            " dense_2 (Dense)                (None, 3)            771         ['dropout[0][0]']                \n",
            "                                                                                                  \n",
            "==================================================================================================\n",
            "Total params: 25,685,891\n",
            "Trainable params: 2,098,179\n",
            "Non-trainable params: 23,587,712\n",
            "__________________________________________________________________________________________________\n"
          ]
        }
      ]
    },
    {
      "cell_type": "code",
      "source": [
        "# tell the model what cost and optimization method to use\n",
        "modelresnet.compile(\n",
        "  loss='sparse_categorical_crossentropy',\n",
        "  optimizer=\"adam\",\n",
        "  metrics=['accuracy']\n",
        ")"
      ],
      "metadata": {
        "id": "bYaNqF17BuEx"
      },
      "execution_count": 43,
      "outputs": []
    },
    {
      "cell_type": "code",
      "source": [
        "# fit the model\n",
        "historyresnet = modelresnet.fit(\n",
        "  train_x,\n",
        "  train_y,\n",
        "  validation_data=(val_x,val_y),\n",
        "  epochs=25,\n",
        "  #callbacks=[early_stop],\n",
        "  batch_size=16,shuffle=True)"
      ],
      "metadata": {
        "colab": {
          "base_uri": "https://localhost:8080/"
        },
        "id": "BGf6j0jEB19w",
        "outputId": "6c6cb09f-5e66-4c93-f96c-fc7bd3952bea"
      },
      "execution_count": 44,
      "outputs": [
        {
          "output_type": "stream",
          "name": "stdout",
          "text": [
            "Epoch 1/25\n",
            "20/20 [==============================] - 11s 247ms/step - loss: 5.4461 - accuracy: 0.3625 - val_loss: 1.1637 - val_accuracy: 0.3833\n",
            "Epoch 2/25\n",
            "20/20 [==============================] - 2s 82ms/step - loss: 1.8025 - accuracy: 0.3463 - val_loss: 1.2164 - val_accuracy: 0.3500\n",
            "Epoch 3/25\n",
            "20/20 [==============================] - 2s 91ms/step - loss: 1.5298 - accuracy: 0.3398 - val_loss: 1.1360 - val_accuracy: 0.3333\n",
            "Epoch 4/25\n",
            "20/20 [==============================] - 2s 89ms/step - loss: 1.4409 - accuracy: 0.3430 - val_loss: 1.0925 - val_accuracy: 0.5333\n",
            "Epoch 5/25\n",
            "20/20 [==============================] - 2s 87ms/step - loss: 1.4002 - accuracy: 0.3592 - val_loss: 1.1192 - val_accuracy: 0.4500\n",
            "Epoch 6/25\n",
            "20/20 [==============================] - 2s 82ms/step - loss: 1.2974 - accuracy: 0.3172 - val_loss: 1.1001 - val_accuracy: 0.5667\n",
            "Epoch 7/25\n",
            "20/20 [==============================] - 2s 83ms/step - loss: 1.3333 - accuracy: 0.3074 - val_loss: 1.0663 - val_accuracy: 0.4333\n",
            "Epoch 8/25\n",
            "20/20 [==============================] - 2s 85ms/step - loss: 1.4338 - accuracy: 0.2913 - val_loss: 1.1492 - val_accuracy: 0.3333\n",
            "Epoch 9/25\n",
            "20/20 [==============================] - 2s 87ms/step - loss: 1.4009 - accuracy: 0.3042 - val_loss: 1.0864 - val_accuracy: 0.3833\n",
            "Epoch 10/25\n",
            "20/20 [==============================] - 2s 81ms/step - loss: 1.3246 - accuracy: 0.3010 - val_loss: 1.0904 - val_accuracy: 0.4833\n",
            "Epoch 11/25\n",
            "20/20 [==============================] - 2s 81ms/step - loss: 1.1855 - accuracy: 0.4207 - val_loss: 1.0870 - val_accuracy: 0.5667\n",
            "Epoch 12/25\n",
            "20/20 [==============================] - 2s 81ms/step - loss: 1.3484 - accuracy: 0.2977 - val_loss: 1.0751 - val_accuracy: 0.4167\n",
            "Epoch 13/25\n",
            "20/20 [==============================] - 2s 88ms/step - loss: 1.2801 - accuracy: 0.3269 - val_loss: 1.1109 - val_accuracy: 0.3333\n",
            "Epoch 14/25\n",
            "20/20 [==============================] - 2s 82ms/step - loss: 1.3310 - accuracy: 0.3463 - val_loss: 1.0790 - val_accuracy: 0.4000\n",
            "Epoch 15/25\n",
            "20/20 [==============================] - 2s 83ms/step - loss: 1.2432 - accuracy: 0.3786 - val_loss: 1.0719 - val_accuracy: 0.3333\n",
            "Epoch 16/25\n",
            "20/20 [==============================] - 2s 83ms/step - loss: 1.2754 - accuracy: 0.3463 - val_loss: 1.2151 - val_accuracy: 0.3333\n",
            "Epoch 17/25\n",
            "20/20 [==============================] - 2s 87ms/step - loss: 1.3738 - accuracy: 0.2977 - val_loss: 1.1012 - val_accuracy: 0.3333\n",
            "Epoch 18/25\n",
            "20/20 [==============================] - 2s 85ms/step - loss: 1.2238 - accuracy: 0.4013 - val_loss: 1.0783 - val_accuracy: 0.6000\n",
            "Epoch 19/25\n",
            "20/20 [==============================] - 2s 85ms/step - loss: 1.2842 - accuracy: 0.3398 - val_loss: 1.1119 - val_accuracy: 0.3833\n",
            "Epoch 20/25\n",
            "20/20 [==============================] - 2s 86ms/step - loss: 1.3375 - accuracy: 0.3430 - val_loss: 1.0735 - val_accuracy: 0.4833\n",
            "Epoch 21/25\n",
            "20/20 [==============================] - 2s 82ms/step - loss: 1.2500 - accuracy: 0.3366 - val_loss: 1.0655 - val_accuracy: 0.3333\n",
            "Epoch 22/25\n",
            "20/20 [==============================] - 2s 81ms/step - loss: 1.3286 - accuracy: 0.3204 - val_loss: 1.0762 - val_accuracy: 0.5833\n",
            "Epoch 23/25\n",
            "20/20 [==============================] - 2s 84ms/step - loss: 1.2747 - accuracy: 0.3398 - val_loss: 1.0582 - val_accuracy: 0.4833\n",
            "Epoch 24/25\n",
            "20/20 [==============================] - 2s 86ms/step - loss: 1.1646 - accuracy: 0.4110 - val_loss: 1.0652 - val_accuracy: 0.5500\n",
            "Epoch 25/25\n",
            "20/20 [==============================] - 2s 81ms/step - loss: 1.2972 - accuracy: 0.3139 - val_loss: 1.1191 - val_accuracy: 0.3333\n"
          ]
        }
      ]
    },
    {
      "cell_type": "code",
      "source": [
        "# loss\n",
        "plt.plot(historyresnet.history['loss'], label='train loss')\n",
        "plt.plot(historyresnet.history['val_loss'], label='val loss')\n",
        "plt.legend()\n",
        "\n",
        "plt.show()"
      ],
      "metadata": {
        "colab": {
          "base_uri": "https://localhost:8080/",
          "height": 265
        },
        "id": "Tw2pXrddB5Nx",
        "outputId": "1d5e34fe-c6b2-4555-ca53-df50e3a7031d"
      },
      "execution_count": 47,
      "outputs": [
        {
          "output_type": "display_data",
          "data": {
            "text/plain": [
              "<Figure size 432x288 with 1 Axes>"
            ],
            "image/png": "[encoded data removed]"
          },
          "metadata": {
            "needs_background": "light"
          }
        }
      ]
    },
    {
      "cell_type": "code",
      "source": [
        "# accuracies\n",
        "plt.plot(historyresnet.history['accuracy'], label='train acc')\n",
        "plt.plot(historyresnet.history['val_accuracy'], label='val acc')\n",
        "plt.legend()\n",
        "\n",
        "plt.show()"
      ],
      "metadata": {
        "colab": {
          "base_uri": "https://localhost:8080/",
          "height": 265
        },
        "id": "jQ6OJElrB9pP",
        "outputId": "5001f1b5-94f3-4772-84e9-76a439e32611"
      },
      "execution_count": 48,
      "outputs": [
        {
          "output_type": "display_data",
          "data": {
            "text/plain": [
              "<Figure size 432x288 with 1 Axes>"
            ],
            "image/png": "[encoded data removed]"
          },
          "metadata": {
            "needs_background": "light"
          }
        }
      ]
    },
    {
      "cell_type": "code",
      "source": [
        "modelresnet.evaluate(test_x,test_y,batch_size=32)"
      ],
      "metadata": {
        "colab": {
          "base_uri": "https://localhost:8080/"
        },
        "id": "vkx71naCCBjS",
        "outputId": "0891f358-2712-4b25-e635-0d8b90cab16e"
      },
      "execution_count": 49,
      "outputs": [
        {
          "output_type": "stream",
          "name": "stdout",
          "text": [
            "2/2 [==============================] - 2s 887ms/step - loss: 1.1191 - accuracy: 0.3333\n"
          ]
        },
        {
          "output_type": "execute_result",
          "data": {
            "text/plain": [
              "[1.1190953254699707, 0.3333333432674408]"
            ]
          },
          "metadata": {},
          "execution_count": 49
        }
      ]
    },
    {
      "cell_type": "code",
      "source": [
        "y_predresnet=modelresnet.predict(test_x)\n",
        "y_predresnet=np.argmax(y_predresnet,axis=1)"
      ],
      "metadata": {
        "colab": {
          "base_uri": "https://localhost:8080/"
        },
        "id": "9omMT8PoCETQ",
        "outputId": "5d39e085-90a5-4a89-d83f-e0310feded78"
      },
      "execution_count": 50,
      "outputs": [
        {
          "output_type": "stream",
          "name": "stdout",
          "text": [
            "2/2 [==============================] - 1s 118ms/step\n"
          ]
        }
      ]
    },
    {
      "cell_type": "code",
      "source": [
        "accuracy_score(y_predresnet,test_y)"
      ],
      "metadata": {
        "colab": {
          "base_uri": "https://localhost:8080/"
        },
        "id": "StMESw6iCH2b",
        "outputId": "a5ffa82f-9bf2-459e-8d9a-6c50d3c4a337"
      },
      "execution_count": 51,
      "outputs": [
        {
          "output_type": "execute_result",
          "data": {
            "text/plain": [
              "0.3333333333333333"
            ]
          },
          "metadata": {},
          "execution_count": 51
        }
      ]
    },
    {
      "cell_type": "code",
      "source": [
        "print(classification_report(y_predresnet,test_y))"
      ],
      "metadata": {
        "colab": {
          "base_uri": "https://localhost:8080/"
        },
        "id": "PA3TicWuCLNv",
        "outputId": "d45792f2-047f-43db-a4ed-0c095aa4ccb8"
      },
      "execution_count": 52,
      "outputs": [
        {
          "output_type": "stream",
          "name": "stdout",
          "text": [
            "              precision    recall  f1-score   support\n",
            "\n",
            "           0       0.05      1.00      0.10         1\n",
            "           1       0.00      0.00      0.00         3\n",
            "           2       0.95      0.34      0.50        56\n",
            "\n",
            "    accuracy                           0.33        60\n",
            "   macro avg       0.33      0.45      0.20        60\n",
            "weighted avg       0.89      0.33      0.47        60\n",
            "\n"
          ]
        }
      ]
    },
    {
      "cell_type": "code",
      "source": [
        "confusion_matrix(y_predresnet,test_y)"
      ],
      "metadata": {
        "colab": {
          "base_uri": "https://localhost:8080/"
        },
        "id": "BY3DXtsoCOQA",
        "outputId": "16b35a12-300f-4f29-d743-5180f0aef5c7"
      },
      "execution_count": 53,
      "outputs": [
        {
          "output_type": "execute_result",
          "data": {
            "text/plain": [
              "array([[ 1,  0,  0],\n",
              "       [ 2,  0,  1],\n",
              "       [17, 20, 19]])"
            ]
          },
          "metadata": {},
          "execution_count": 53
        }
      ]
    },
    {
      "cell_type": "markdown",
      "source": [
        "#cnn 13"
      ],
      "metadata": {
        "id": "LM-2vyVFCZUs"
      }
    },
    {
      "cell_type": "code",
      "source": [
        "from tensorflow import keras\n",
        "from tensorflow.keras import layers, models\n",
        "from tensorflow.keras.models import Sequential\n",
        "from keras.layers import Conv2D, Dense, Flatten, MaxPool2D, Dropout, BatchNormalization\n",
        "\n",
        "model13 = keras.Sequential()\n",
        "\n",
        "model13.add(layers.Conv2D(filters=16, kernel_size=(3, 3), padding='same', activation = 'relu', input_shape = (256, 256, 3), kernel_initializer=\"he_normal\"))\n",
        "model13.add(layers.MaxPooling2D())\n",
        "model13.add(layers.Conv2D(filters=32, kernel_size=(3, 3), padding='same'))\n",
        "model13.add(layers.MaxPooling2D())\n",
        "model13.add(layers.Conv2D(filters=32, kernel_size=(3, 3), padding='same'))\n",
        "model13.add(layers.MaxPooling2D())\n",
        "\n",
        "model13.add(layers.Flatten())\n",
        "model13.add(BatchNormalization())\n",
        "model13.add(layers.Dense(units = 64, activation = 'relu'))\n",
        "model13.add(layers.Dropout(0.3))\n",
        "model13.add(layers.Dense(units = 64, activation = 'relu'))\n",
        "model13.add(layers.Dense(units = 3, activation = 'softmax'))\n",
        "\n",
        "model13.compile(optimizer='adam', loss='categorical_crossentropy', metrics = ['accuracy'])\n",
        "\n",
        "model13.summary()"
      ],
      "metadata": {
        "colab": {
          "base_uri": "https://localhost:8080/"
        },
        "id": "iHFTnuSfCQn5",
        "outputId": "840990b9-22d1-413f-8f86-d67430c9fe83"
      },
      "execution_count": 54,
      "outputs": [
        {
          "output_type": "stream",
          "name": "stdout",
          "text": [
            "Model: \"sequential\"\n",
            "_________________________________________________________________\n",
            " Layer (type)                Output Shape              Param #   \n",
            "=================================================================\n",
            " conv2d (Conv2D)             (None, 256, 256, 16)      448       \n",
            "                                                                 \n",
            " max_pooling2d_1 (MaxPooling  (None, 128, 128, 16)     0         \n",
            " 2D)                                                             \n",
            "                                                                 \n",
            " conv2d_1 (Conv2D)           (None, 128, 128, 32)      4640      \n",
            "                                                                 \n",
            " max_pooling2d_2 (MaxPooling  (None, 64, 64, 32)       0         \n",
            " 2D)                                                             \n",
            "                                                                 \n",
            " conv2d_2 (Conv2D)           (None, 64, 64, 32)        9248      \n",
            "                                                                 \n",
            " max_pooling2d_3 (MaxPooling  (None, 32, 32, 32)       0         \n",
            " 2D)                                                             \n",
            "                                                                 \n",
            " flatten_1 (Flatten)         (None, 32768)             0         \n",
            "                                                                 \n",
            " batch_normalization (BatchN  (None, 32768)            131072    \n",
            " ormalization)                                                   \n",
            "                                                                 \n",
            " dense_3 (Dense)             (None, 64)                2097216   \n",
            "                                                                 \n",
            " dropout_1 (Dropout)         (None, 64)                0         \n",
            "                                                                 \n",
            " dense_4 (Dense)             (None, 64)                4160      \n",
            "                                                                 \n",
            " dense_5 (Dense)             (None, 3)                 195       \n",
            "                                                                 \n",
            "=================================================================\n",
            "Total params: 2,246,979\n",
            "Trainable params: 2,181,443\n",
            "Non-trainable params: 65,536\n",
            "_________________________________________________________________\n"
          ]
        }
      ]
    },
    {
      "cell_type": "code",
      "source": [
        "# tell the model what cost and optimization method to use\n",
        "model13.compile(\n",
        "  loss='sparse_categorical_crossentropy',\n",
        "  optimizer=\"adam\",\n",
        "  metrics=['accuracy']\n",
        ")"
      ],
      "metadata": {
        "id": "uc5qg4vGCdjO"
      },
      "execution_count": 55,
      "outputs": []
    },
    {
      "cell_type": "code",
      "source": [
        "# fit the model\n",
        "history13 = model13.fit(\n",
        "  train_x,\n",
        "  train_y,\n",
        "  validation_data=(val_x,val_y),\n",
        "  epochs=25,\n",
        "  #callbacks=[early_stop],\n",
        "  batch_size=16,shuffle=True)"
      ],
      "metadata": {
        "colab": {
          "base_uri": "https://localhost:8080/"
        },
        "id": "948-0kjFCmHR",
        "outputId": "e88146c0-3376-496f-d5f1-3f1545250ae1"
      },
      "execution_count": 56,
      "outputs": [
        {
          "output_type": "stream",
          "name": "stdout",
          "text": [
            "Epoch 1/25\n",
            "20/20 [==============================] - 3s 49ms/step - loss: 1.9855 - accuracy: 0.4757 - val_loss: 1.1331 - val_accuracy: 0.3667\n",
            "Epoch 2/25\n",
            "20/20 [==============================] - 0s 23ms/step - loss: 0.8417 - accuracy: 0.7152 - val_loss: 0.9568 - val_accuracy: 0.5000\n",
            "Epoch 3/25\n",
            "20/20 [==============================] - 0s 23ms/step - loss: 0.8254 - accuracy: 0.7799 - val_loss: 0.8890 - val_accuracy: 0.5500\n",
            "Epoch 4/25\n",
            "20/20 [==============================] - 0s 23ms/step - loss: 0.8362 - accuracy: 0.7443 - val_loss: 0.9592 - val_accuracy: 0.6500\n",
            "Epoch 5/25\n",
            "20/20 [==============================] - 0s 23ms/step - loss: 0.5084 - accuracy: 0.8511 - val_loss: 0.7120 - val_accuracy: 0.6833\n",
            "Epoch 6/25\n",
            "20/20 [==============================] - 0s 23ms/step - loss: 0.3970 - accuracy: 0.8479 - val_loss: 0.6327 - val_accuracy: 0.8000\n",
            "Epoch 7/25\n",
            "20/20 [==============================] - 0s 24ms/step - loss: 0.4668 - accuracy: 0.8738 - val_loss: 0.6092 - val_accuracy: 0.9167\n",
            "Epoch 8/25\n",
            "20/20 [==============================] - 0s 24ms/step - loss: 0.2540 - accuracy: 0.9029 - val_loss: 0.6930 - val_accuracy: 0.8167\n",
            "Epoch 9/25\n",
            "20/20 [==============================] - 0s 23ms/step - loss: 0.2526 - accuracy: 0.9126 - val_loss: 0.8089 - val_accuracy: 0.6833\n",
            "Epoch 10/25\n",
            "20/20 [==============================] - 0s 24ms/step - loss: 0.2220 - accuracy: 0.9417 - val_loss: 0.4996 - val_accuracy: 0.9833\n",
            "Epoch 11/25\n",
            "20/20 [==============================] - 0s 23ms/step - loss: 0.1795 - accuracy: 0.9288 - val_loss: 0.5674 - val_accuracy: 0.8500\n",
            "Epoch 12/25\n",
            "20/20 [==============================] - 0s 23ms/step - loss: 0.0828 - accuracy: 0.9644 - val_loss: 0.5257 - val_accuracy: 0.8167\n",
            "Epoch 13/25\n",
            "20/20 [==============================] - 0s 24ms/step - loss: 0.0907 - accuracy: 0.9676 - val_loss: 0.2042 - val_accuracy: 1.0000\n",
            "Epoch 14/25\n",
            "20/20 [==============================] - 0s 23ms/step - loss: 0.0848 - accuracy: 0.9644 - val_loss: 0.1816 - val_accuracy: 1.0000\n",
            "Epoch 15/25\n",
            "20/20 [==============================] - 0s 24ms/step - loss: 0.0395 - accuracy: 0.9838 - val_loss: 0.0984 - val_accuracy: 1.0000\n",
            "Epoch 16/25\n",
            "20/20 [==============================] - 0s 23ms/step - loss: 0.0737 - accuracy: 0.9806 - val_loss: 0.0859 - val_accuracy: 1.0000\n",
            "Epoch 17/25\n",
            "20/20 [==============================] - 0s 24ms/step - loss: 0.0522 - accuracy: 0.9709 - val_loss: 0.0774 - val_accuracy: 1.0000\n",
            "Epoch 18/25\n",
            "20/20 [==============================] - 0s 23ms/step - loss: 0.0493 - accuracy: 0.9806 - val_loss: 0.0818 - val_accuracy: 0.9833\n",
            "Epoch 19/25\n",
            "20/20 [==============================] - 0s 24ms/step - loss: 0.0223 - accuracy: 0.9903 - val_loss: 0.0561 - val_accuracy: 0.9833\n",
            "Epoch 20/25\n",
            "20/20 [==============================] - 0s 23ms/step - loss: 0.0499 - accuracy: 0.9903 - val_loss: 0.0922 - val_accuracy: 0.9833\n",
            "Epoch 21/25\n",
            "20/20 [==============================] - 0s 23ms/step - loss: 0.0917 - accuracy: 0.9741 - val_loss: 0.0400 - val_accuracy: 0.9833\n",
            "Epoch 22/25\n",
            "20/20 [==============================] - 0s 23ms/step - loss: 0.0781 - accuracy: 0.9741 - val_loss: 0.1015 - val_accuracy: 0.9667\n",
            "Epoch 23/25\n",
            "20/20 [==============================] - 0s 24ms/step - loss: 0.0844 - accuracy: 0.9676 - val_loss: 0.0262 - val_accuracy: 1.0000\n",
            "Epoch 24/25\n",
            "20/20 [==============================] - 0s 22ms/step - loss: 0.1043 - accuracy: 0.9741 - val_loss: 0.0067 - val_accuracy: 1.0000\n",
            "Epoch 25/25\n",
            "20/20 [==============================] - 0s 23ms/step - loss: 0.0549 - accuracy: 0.9806 - val_loss: 0.0207 - val_accuracy: 1.0000\n"
          ]
        }
      ]
    },
    {
      "cell_type": "code",
      "source": [
        "# loss\n",
        "plt.plot(history13.history['loss'], label='train loss')\n",
        "plt.plot(history13.history['val_loss'], label='val loss')\n",
        "plt.legend()\n",
        "\n",
        "plt.show()\n",
        "\n",
        "# accuracies\n",
        "plt.plot(history13.history['accuracy'], label='train acc')\n",
        "plt.plot(history13.history['val_accuracy'], label='val acc')\n",
        "plt.legend()\n",
        "\n",
        "plt.show()\n",
        "\n"
      ],
      "metadata": {
        "colab": {
          "base_uri": "https://localhost:8080/",
          "height": 513
        },
        "id": "xkFhfGhpCpVn",
        "outputId": "fc98470f-5558-4001-b7a6-c093a7464fea"
      },
      "execution_count": 57,
      "outputs": [
        {
          "output_type": "display_data",
          "data": {
            "text/plain": [
              "<Figure size 432x288 with 1 Axes>"
            ],
            "image/png": "[encoded data removed]"
          },
          "metadata": {
            "needs_background": "light"
          }
        },
        {
          "output_type": "display_data",
          "data": {
            "text/plain": [
              "<Figure size 432x288 with 1 Axes>"
            ],
            "image/png": "[encoded data removed]"
          },
          "metadata": {
            "needs_background": "light"
          }
        }
      ]
    },
    {
      "cell_type": "code",
      "source": [
        "model13.evaluate(test_x,test_y,batch_size=32)"
      ],
      "metadata": {
        "colab": {
          "base_uri": "https://localhost:8080/"
        },
        "id": "XlyrY2ZfC0gl",
        "outputId": "d89eeaf8-ad4b-4952-d43f-c65400a4e1fb"
      },
      "execution_count": 58,
      "outputs": [
        {
          "output_type": "stream",
          "name": "stdout",
          "text": [
            "2/2 [==============================] - 0s 178ms/step - loss: 0.0207 - accuracy: 1.0000\n"
          ]
        },
        {
          "output_type": "execute_result",
          "data": {
            "text/plain": [
              "[0.020668383687734604, 1.0]"
            ]
          },
          "metadata": {},
          "execution_count": 58
        }
      ]
    },
    {
      "cell_type": "code",
      "source": [
        "y_pred13=model13.predict(test_x)\n",
        "y_pred13=np.argmax(y_pred13,axis=1)"
      ],
      "metadata": {
        "colab": {
          "base_uri": "https://localhost:8080/"
        },
        "id": "sfpJFEI2DNP-",
        "outputId": "db03c9b5-c0c6-45f8-b56a-78c271d792c4"
      },
      "execution_count": 59,
      "outputs": [
        {
          "output_type": "stream",
          "name": "stdout",
          "text": [
            "2/2 [==============================] - 0s 14ms/step\n"
          ]
        }
      ]
    },
    {
      "cell_type": "code",
      "source": [
        "accuracy_score(y_pred13,test_y)"
      ],
      "metadata": {
        "colab": {
          "base_uri": "https://localhost:8080/"
        },
        "id": "BM3vfGOFDO17",
        "outputId": "2410a7b9-9968-4dda-8dc3-77900d073633"
      },
      "execution_count": 60,
      "outputs": [
        {
          "output_type": "execute_result",
          "data": {
            "text/plain": [
              "1.0"
            ]
          },
          "metadata": {},
          "execution_count": 60
        }
      ]
    },
    {
      "cell_type": "code",
      "source": [
        "print(classification_report(y_pred13,test_y))"
      ],
      "metadata": {
        "colab": {
          "base_uri": "https://localhost:8080/"
        },
        "id": "ywCMeZhiDQa2",
        "outputId": "ac9022d9-89ea-4f3f-8883-7a1dcdaa04c3"
      },
      "execution_count": 61,
      "outputs": [
        {
          "output_type": "stream",
          "name": "stdout",
          "text": [
            "              precision    recall  f1-score   support\n",
            "\n",
            "           0       1.00      1.00      1.00        20\n",
            "           1       1.00      1.00      1.00        20\n",
            "           2       1.00      1.00      1.00        20\n",
            "\n",
            "    accuracy                           1.00        60\n",
            "   macro avg       1.00      1.00      1.00        60\n",
            "weighted avg       1.00      1.00      1.00        60\n",
            "\n"
          ]
        }
      ]
    },
    {
      "cell_type": "code",
      "source": [
        "confusion_matrix(y_pred13,test_y)"
      ],
      "metadata": {
        "colab": {
          "base_uri": "https://localhost:8080/"
        },
        "id": "EH8WNJoiDR2L",
        "outputId": "39213bb5-7c35-4fa2-9119-200c31730141"
      },
      "execution_count": 62,
      "outputs": [
        {
          "output_type": "execute_result",
          "data": {
            "text/plain": [
              "array([[20,  0,  0],\n",
              "       [ 0, 20,  0],\n",
              "       [ 0,  0, 20]])"
            ]
          },
          "metadata": {},
          "execution_count": 62
        }
      ]
    },
    {
      "cell_type": "markdown",
      "source": [
        "# cnn 20"
      ],
      "metadata": {
        "id": "6J1pk5ArDU7t"
      }
    },
    {
      "cell_type": "code",
      "source": [
        "def build_model20():\n",
        "    \n",
        "    '''Sequential Model creation'''\n",
        "    model = Sequential()\n",
        "    \n",
        "    model.add(Conv2D(16,(3,3),padding='same',input_shape = (256,256,3),activation='relu'))\n",
        "    model.add(Conv2D(32,(3,3),padding='same',activation='relu'))\n",
        "    model.add(MaxPooling2D(pool_size=(2,2),strides=2,padding = 'same'))\n",
        "    \n",
        "    model.add(Conv2D(32,(3,3),padding='same',activation='relu'))    \n",
        "    model.add(Conv2D(64,(3,3),padding='same',activation='relu'))\n",
        "    model.add(MaxPooling2D(pool_size=(2,2),strides=2,padding = 'same'))\n",
        "    \n",
        "    model.add(Conv2D(64,(3,3),padding='same',activation='relu'))\n",
        "    model.add(Conv2D(128,(3,3),padding='same',activation='relu'))\n",
        "    model.add(MaxPooling2D(pool_size=(2,2),strides=2,padding = 'same'))\n",
        "    \n",
        "    model.add(Conv2D(128,(3,3),padding='same',activation='relu'))\n",
        "    model.add(Conv2D(128,(3,3),padding='same',activation='relu'))\n",
        "    model.add(MaxPooling2D(pool_size=(2,2),strides=2,padding = 'same'))\n",
        "    \n",
        "    model.add(Flatten())\n",
        "    model.add(Dense(32))\n",
        "    model.add(Dropout(0.25))\n",
        "    model.add(Dense(32))\n",
        "    model.add(Dropout(0.25))\n",
        "    model.add(Dense(32))\n",
        "    model.add(Dense(units = 3, activation = 'softmax'))\n",
        "    \n",
        "    return model\n",
        "\n",
        "model20 = build_model20()\n",
        "model20.summary()"
      ],
      "metadata": {
        "colab": {
          "base_uri": "https://localhost:8080/"
        },
        "id": "QwjuCeK3DUAG",
        "outputId": "56c5af9e-6fb2-41c1-f0d6-1f72ff31a13d"
      },
      "execution_count": 63,
      "outputs": [
        {
          "output_type": "stream",
          "name": "stdout",
          "text": [
            "Model: \"sequential_1\"\n",
            "_________________________________________________________________\n",
            " Layer (type)                Output Shape              Param #   \n",
            "=================================================================\n",
            " conv2d_3 (Conv2D)           (None, 256, 256, 16)      448       \n",
            "                                                                 \n",
            " conv2d_4 (Conv2D)           (None, 256, 256, 32)      4640      \n",
            "                                                                 \n",
            " max_pooling2d_4 (MaxPooling  (None, 128, 128, 32)     0         \n",
            " 2D)                                                             \n",
            "                                                                 \n",
            " conv2d_5 (Conv2D)           (None, 128, 128, 32)      9248      \n",
            "                                                                 \n",
            " conv2d_6 (Conv2D)           (None, 128, 128, 64)      18496     \n",
            "                                                                 \n",
            " max_pooling2d_5 (MaxPooling  (None, 64, 64, 64)       0         \n",
            " 2D)                                                             \n",
            "                                                                 \n",
            " conv2d_7 (Conv2D)           (None, 64, 64, 64)        36928     \n",
            "                                                                 \n",
            " conv2d_8 (Conv2D)           (None, 64, 64, 128)       73856     \n",
            "                                                                 \n",
            " max_pooling2d_6 (MaxPooling  (None, 32, 32, 128)      0         \n",
            " 2D)                                                             \n",
            "                                                                 \n",
            " conv2d_9 (Conv2D)           (None, 32, 32, 128)       147584    \n",
            "                                                                 \n",
            " conv2d_10 (Conv2D)          (None, 32, 32, 128)       147584    \n",
            "                                                                 \n",
            " max_pooling2d_7 (MaxPooling  (None, 16, 16, 128)      0         \n",
            " 2D)                                                             \n",
            "                                                                 \n",
            " flatten_2 (Flatten)         (None, 32768)             0         \n",
            "                                                                 \n",
            " dense_6 (Dense)             (None, 32)                1048608   \n",
            "                                                                 \n",
            " dropout_2 (Dropout)         (None, 32)                0         \n",
            "                                                                 \n",
            " dense_7 (Dense)             (None, 32)                1056      \n",
            "                                                                 \n",
            " dropout_3 (Dropout)         (None, 32)                0         \n",
            "                                                                 \n",
            " dense_8 (Dense)             (None, 32)                1056      \n",
            "                                                                 \n",
            " dense_9 (Dense)             (None, 3)                 99        \n",
            "                                                                 \n",
            "=================================================================\n",
            "Total params: 1,489,603\n",
            "Trainable params: 1,489,603\n",
            "Non-trainable params: 0\n",
            "_________________________________________________________________\n"
          ]
        }
      ]
    },
    {
      "cell_type": "code",
      "source": [
        "# tell the model what cost and optimization method to use\n",
        "model20.compile(\n",
        "  loss='sparse_categorical_crossentropy',\n",
        "  optimizer=\"adam\",\n",
        "  metrics=['accuracy']\n",
        ")"
      ],
      "metadata": {
        "id": "u49L95zOD1Li"
      },
      "execution_count": 64,
      "outputs": []
    },
    {
      "cell_type": "code",
      "source": [
        "# fit the model\n",
        "history20 = model20.fit(\n",
        "  train_x,\n",
        "  train_y,\n",
        "  validation_data=(val_x,val_y),\n",
        "  epochs=25,\n",
        "  #callbacks=[early_stop],\n",
        "  batch_size=16,shuffle=True)"
      ],
      "metadata": {
        "colab": {
          "base_uri": "https://localhost:8080/"
        },
        "id": "oGUh0JhED6x_",
        "outputId": "e5153a12-4202-46b9-bd58-42097c86f71a"
      },
      "execution_count": 65,
      "outputs": [
        {
          "output_type": "stream",
          "name": "stdout",
          "text": [
            "Epoch 1/25\n",
            "20/20 [==============================] - 6s 178ms/step - loss: 1.1061 - accuracy: 0.3528 - val_loss: 1.0999 - val_accuracy: 0.3333\n",
            "Epoch 2/25\n",
            "20/20 [==============================] - 1s 72ms/step - loss: 1.0995 - accuracy: 0.3463 - val_loss: 1.0996 - val_accuracy: 0.3333\n",
            "Epoch 3/25\n",
            "20/20 [==============================] - 1s 69ms/step - loss: 1.1008 - accuracy: 0.3528 - val_loss: 1.0989 - val_accuracy: 0.3333\n",
            "Epoch 4/25\n",
            "20/20 [==============================] - 1s 70ms/step - loss: 1.1010 - accuracy: 0.3495 - val_loss: 1.1007 - val_accuracy: 0.3333\n",
            "Epoch 5/25\n",
            "20/20 [==============================] - 1s 69ms/step - loss: 1.0989 - accuracy: 0.3495 - val_loss: 1.0994 - val_accuracy: 0.3333\n",
            "Epoch 6/25\n",
            "20/20 [==============================] - 1s 69ms/step - loss: 1.0985 - accuracy: 0.3495 - val_loss: 1.0993 - val_accuracy: 0.3333\n",
            "Epoch 7/25\n",
            "20/20 [==============================] - 1s 69ms/step - loss: 1.0981 - accuracy: 0.3528 - val_loss: 1.0990 - val_accuracy: 0.3333\n",
            "Epoch 8/25\n",
            "20/20 [==============================] - 1s 69ms/step - loss: 1.0982 - accuracy: 0.3528 - val_loss: 1.0989 - val_accuracy: 0.3333\n",
            "Epoch 9/25\n",
            "20/20 [==============================] - 1s 69ms/step - loss: 1.0980 - accuracy: 0.3592 - val_loss: 1.0990 - val_accuracy: 0.3333\n",
            "Epoch 10/25\n",
            "20/20 [==============================] - 1s 69ms/step - loss: 1.0995 - accuracy: 0.3301 - val_loss: 1.0986 - val_accuracy: 0.3333\n",
            "Epoch 11/25\n",
            "20/20 [==============================] - 1s 69ms/step - loss: 1.1000 - accuracy: 0.3463 - val_loss: 1.0994 - val_accuracy: 0.3333\n",
            "Epoch 12/25\n",
            "20/20 [==============================] - 1s 69ms/step - loss: 1.0992 - accuracy: 0.3463 - val_loss: 1.0989 - val_accuracy: 0.3333\n",
            "Epoch 13/25\n",
            "20/20 [==============================] - 1s 69ms/step - loss: 1.0976 - accuracy: 0.3528 - val_loss: 1.0998 - val_accuracy: 0.3333\n",
            "Epoch 14/25\n",
            "20/20 [==============================] - 1s 70ms/step - loss: 1.1003 - accuracy: 0.3463 - val_loss: 1.0991 - val_accuracy: 0.3333\n",
            "Epoch 15/25\n",
            "20/20 [==============================] - 1s 70ms/step - loss: 1.0994 - accuracy: 0.3107 - val_loss: 1.0988 - val_accuracy: 0.3333\n",
            "Epoch 16/25\n",
            "20/20 [==============================] - 1s 72ms/step - loss: 1.0992 - accuracy: 0.3398 - val_loss: 1.0989 - val_accuracy: 0.3333\n",
            "Epoch 17/25\n",
            "20/20 [==============================] - 1s 70ms/step - loss: 1.0982 - accuracy: 0.3495 - val_loss: 1.0993 - val_accuracy: 0.3333\n",
            "Epoch 18/25\n",
            "20/20 [==============================] - 1s 70ms/step - loss: 1.0996 - accuracy: 0.3528 - val_loss: 1.0991 - val_accuracy: 0.3333\n",
            "Epoch 19/25\n",
            "20/20 [==============================] - 1s 69ms/step - loss: 1.0982 - accuracy: 0.3560 - val_loss: 1.0988 - val_accuracy: 0.3333\n",
            "Epoch 20/25\n",
            "20/20 [==============================] - 1s 71ms/step - loss: 1.1002 - accuracy: 0.3430 - val_loss: 1.0989 - val_accuracy: 0.3333\n",
            "Epoch 21/25\n",
            "20/20 [==============================] - 1s 68ms/step - loss: 1.0982 - accuracy: 0.3495 - val_loss: 1.0993 - val_accuracy: 0.3333\n",
            "Epoch 22/25\n",
            "20/20 [==============================] - 1s 68ms/step - loss: 1.0979 - accuracy: 0.3430 - val_loss: 1.0991 - val_accuracy: 0.3333\n",
            "Epoch 23/25\n",
            "20/20 [==============================] - 1s 69ms/step - loss: 1.0993 - accuracy: 0.3495 - val_loss: 1.0997 - val_accuracy: 0.3333\n",
            "Epoch 24/25\n",
            "20/20 [==============================] - 1s 68ms/step - loss: 1.0995 - accuracy: 0.3495 - val_loss: 1.0997 - val_accuracy: 0.3333\n",
            "Epoch 25/25\n",
            "20/20 [==============================] - 1s 68ms/step - loss: 1.0987 - accuracy: 0.3463 - val_loss: 1.0995 - val_accuracy: 0.3333\n"
          ]
        }
      ]
    },
    {
      "cell_type": "code",
      "source": [
        "# loss\n",
        "plt.plot(history20.history['loss'], label='train loss')\n",
        "plt.plot(history20.history['val_loss'], label='val loss')\n",
        "plt.legend()\n",
        "\n",
        "plt.show()\n",
        "\n",
        "# accuracies\n",
        "plt.plot(history20.history['accuracy'], label='train acc')\n",
        "plt.plot(history20.history['val_accuracy'], label='val acc')\n",
        "plt.legend()\n",
        "\n",
        "plt.show()"
      ],
      "metadata": {
        "colab": {
          "base_uri": "https://localhost:8080/",
          "height": 513
        },
        "id": "MUdBbIwuD9Df",
        "outputId": "9067cd61-02e7-4616-ee5a-22b17002d4c2"
      },
      "execution_count": 66,
      "outputs": [
        {
          "output_type": "display_data",
          "data": {
            "text/plain": [
              "<Figure size 432x288 with 1 Axes>"
            ],
            "image/png": "[encoded data removed]"
          },
          "metadata": {
            "needs_background": "light"
          }
        },
        {
          "output_type": "display_data",
          "data": {
            "text/plain": [
              "<Figure size 432x288 with 1 Axes>"
            ],
            "image/png": "[encoded data removed]"
          },
          "metadata": {
            "needs_background": "light"
          }
        }
      ]
    },
    {
      "cell_type": "code",
      "source": [
        "model20.evaluate(test_x,test_y,batch_size=32)"
      ],
      "metadata": {
        "colab": {
          "base_uri": "https://localhost:8080/"
        },
        "id": "AWv_Uo53EAfk",
        "outputId": "43915ef1-457b-4c57-97dd-fa4491d00392"
      },
      "execution_count": 67,
      "outputs": [
        {
          "output_type": "stream",
          "name": "stdout",
          "text": [
            "2/2 [==============================] - 1s 589ms/step - loss: 1.0995 - accuracy: 0.3333\n"
          ]
        },
        {
          "output_type": "execute_result",
          "data": {
            "text/plain": [
              "[1.099468469619751, 0.3333333432674408]"
            ]
          },
          "metadata": {},
          "execution_count": 67
        }
      ]
    },
    {
      "cell_type": "code",
      "source": [
        "y_pred20=model20.predict(test_x)\n",
        "y_pred20=np.argmax(y_pred20,axis=1)"
      ],
      "metadata": {
        "colab": {
          "base_uri": "https://localhost:8080/"
        },
        "id": "fPPfE14xEFad",
        "outputId": "d9c844ed-a8e4-4fcd-95ce-caef790fad96"
      },
      "execution_count": 68,
      "outputs": [
        {
          "output_type": "stream",
          "name": "stdout",
          "text": [
            "2/2 [==============================] - 0s 39ms/step\n"
          ]
        }
      ]
    },
    {
      "cell_type": "code",
      "source": [
        "accuracy_score(y_pred20,test_y)"
      ],
      "metadata": {
        "colab": {
          "base_uri": "https://localhost:8080/"
        },
        "id": "J1nhQ_1DEGxb",
        "outputId": "78e006ee-9b04-48a5-b369-f1d6eb2456af"
      },
      "execution_count": 69,
      "outputs": [
        {
          "output_type": "execute_result",
          "data": {
            "text/plain": [
              "0.3333333333333333"
            ]
          },
          "metadata": {},
          "execution_count": 69
        }
      ]
    },
    {
      "cell_type": "code",
      "source": [
        "print(classification_report(y_pred20,test_y))"
      ],
      "metadata": {
        "colab": {
          "base_uri": "https://localhost:8080/"
        },
        "id": "PoGZJKjjEIPA",
        "outputId": "9d9c0dfd-9861-43bb-ec02-1007d7fbd4fa"
      },
      "execution_count": 70,
      "outputs": [
        {
          "output_type": "stream",
          "name": "stdout",
          "text": [
            "              precision    recall  f1-score   support\n",
            "\n",
            "           0       1.00      0.33      0.50        60\n",
            "           1       0.00      0.00      0.00         0\n",
            "           2       0.00      0.00      0.00         0\n",
            "\n",
            "    accuracy                           0.33        60\n",
            "   macro avg       0.33      0.11      0.17        60\n",
            "weighted avg       1.00      0.33      0.50        60\n",
            "\n"
          ]
        },
        {
          "output_type": "stream",
          "name": "stderr",
          "text": [
            "/usr/local/lib/python3.8/dist-packages/sklearn/metrics/_classification.py:1318: UndefinedMetricWarning: Recall and F-score are ill-defined and being set to 0.0 in labels with no true samples. Use `zero_division` parameter to control this behavior.\n",
            "  _warn_prf(average, modifier, msg_start, len(result))\n",
            "/usr/local/lib/python3.8/dist-packages/sklearn/metrics/_classification.py:1318: UndefinedMetricWarning: Recall and F-score are ill-defined and being set to 0.0 in labels with no true samples. Use `zero_division` parameter to control this behavior.\n",
            "  _warn_prf(average, modifier, msg_start, len(result))\n",
            "/usr/local/lib/python3.8/dist-packages/sklearn/metrics/_classification.py:1318: UndefinedMetricWarning: Recall and F-score are ill-defined and being set to 0.0 in labels with no true samples. Use `zero_division` parameter to control this behavior.\n",
            "  _warn_prf(average, modifier, msg_start, len(result))\n"
          ]
        }
      ]
    },
    {
      "cell_type": "code",
      "source": [
        "confusion_matrix(y_pred20,test_y)"
      ],
      "metadata": {
        "colab": {
          "base_uri": "https://localhost:8080/"
        },
        "id": "aCALbG0PEJnn",
        "outputId": "a2b4e25b-40f3-465b-8245-9c86b71ae88d"
      },
      "execution_count": 71,
      "outputs": [
        {
          "output_type": "execute_result",
          "data": {
            "text/plain": [
              "array([[20, 20, 20],\n",
              "       [ 0,  0,  0],\n",
              "       [ 0,  0,  0]])"
            ]
          },
          "metadata": {},
          "execution_count": 71
        }
      ]
    },
    {
      "cell_type": "code",
      "source": [],
      "metadata": {
        "id": "StUFkAQrELQK"
      },
      "execution_count": 71,
      "outputs": []
    }
  ],
  "metadata": {
    "kernelspec": {
      "display_name": "Python 3",
      "language": "python",
      "name": "python3"
    },
    "language_info": {
      "codemirror_mode": {
        "name": "ipython",
        "version": 3
      },
      "file_extension": ".py",
      "mimetype": "text/x-python",
      "name": "python",
      "nbconvert_exporter": "python",
      "pygments_lexer": "ipython3",
      "version": "3.5.4"
    },
    "colab": {
      "provenance": [],
      "toc_visible": true,
      "include_colab_link": true
    },
    "gpuClass": "standard",
    "accelerator": "GPU"
  },
  "nbformat": 4,
  "nbformat_minor": 0
}