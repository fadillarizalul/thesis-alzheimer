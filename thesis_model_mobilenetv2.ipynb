{
  "nbformat": 4,
  "nbformat_minor": 0,
  "metadata": {
    "colab": {
      "provenance": [],
      "collapsed_sections": [],
      "include_colab_link": true
    },
    "kernelspec": {
      "name": "python3",
      "display_name": "Python 3"
    },
    "language_info": {
      "name": "python"
    }
  },
  "cells": [
    {
      "cell_type": "markdown",
      "metadata": {
        "id": "view-in-github",
        "colab_type": "text"
      },
      "source": [
        "<a href=\"https://colab.research.google.com/github/fadillarizalul/thesis-alzheimer/blob/main/thesis_model_mobilenetv2.ipynb\" target=\"_parent\"><img src=\"https://colab.research.google.com/assets/colab-badge.svg\" alt=\"Open In Colab\"/></a>"
      ]
    },
    {
      "cell_type": "markdown",
      "source": [
        "# set up dan init"
      ],
      "metadata": {
        "id": "SptVS2iG6sGF"
      }
    },
    {
      "cell_type": "code",
      "source": [
        "import os\n",
        "import numpy as np\n",
        "import pandas as pd\n",
        "import matplotlib.pyplot as plt\n",
        "import seaborn as sns\n",
        "import zipfile\n",
        "import cv2\n",
        "from skimage import io"
      ],
      "metadata": {
        "id": "bHtFRXg_-ld1"
      },
      "execution_count": 1,
      "outputs": []
    },
    {
      "cell_type": "code",
      "source": [
        "import tensorflow as tf\n",
        "from tensorflow.python.keras import Sequential\n",
        "from tensorflow.keras import layers, optimizers\n",
        "from tensorflow.keras.layers import *\n",
        "from tensorflow.keras.models import Model\n",
        "from tensorflow.keras.initializers import glorot_uniform\n",
        "from tensorflow.keras.utils import plot_model\n",
        "from tensorflow.keras.callbacks import ReduceLROnPlateau, EarlyStopping, ModelCheckpoint, LearningRateScheduler\n",
        "import tensorflow.keras.backend as K"
      ],
      "metadata": {
        "id": "6H1B0JDL-lnG"
      },
      "execution_count": 2,
      "outputs": []
    },
    {
      "cell_type": "code",
      "source": [
        "import random\n",
        "import glob\n",
        "from sklearn.preprocessing import StandardScaler, normalize\n",
        "from IPython.display import display"
      ],
      "metadata": {
        "id": "0Lm01W2e-lwF"
      },
      "execution_count": 3,
      "outputs": []
    },
    {
      "cell_type": "code",
      "execution_count": 4,
      "metadata": {
        "colab": {
          "base_uri": "https://localhost:8080/"
        },
        "id": "1ACrdbwJ3YyR",
        "outputId": "d6d48c83-ae74-4317-d8fb-1051f6c33b13"
      },
      "outputs": [
        {
          "output_type": "stream",
          "name": "stdout",
          "text": [
            "Mounted at /content/drive\n"
          ]
        }
      ],
      "source": [
        "import numpy as np\n",
        "import matplotlib.pyplot as plt\n",
        "import pandas as pd\n",
        "%matplotlib inline\n",
        "import seaborn as sns\n",
        "\n",
        "#import data dari drive\n",
        "from google.colab import drive\n",
        "drive.mount('/content/drive')"
      ]
    },
    {
      "cell_type": "code",
      "source": [
        "!wget --no-check-certificate \\\n",
        "https://github.com/fadillarizalul/thesis-alzheimer/blob/main/dataset/3-classes-alzheimer-20-patients.zip?raw=true \\\n",
        "  -O 3-classes-alzheimer.zip"
      ],
      "metadata": {
        "colab": {
          "base_uri": "https://localhost:8080/"
        },
        "id": "VMINoiIO8q9r",
        "outputId": "02e85a8d-5a41-4b92-8b1a-cf5fb5a01a7c"
      },
      "execution_count": 5,
      "outputs": [
        {
          "output_type": "stream",
          "name": "stdout",
          "text": [
            "--2022-09-17 15:49:11--  https://github.com/fadillarizalul/thesis-alzheimer/blob/main/dataset/3-classes-alzheimer-20-patients.zip?raw=true\n",
            "Resolving github.com (github.com)... 192.30.255.112\n",
            "Connecting to github.com (github.com)|192.30.255.112|:443... connected.\n",
            "HTTP request sent, awaiting response... 302 Found\n",
            "Location: https://github.com/fadillarizalul/thesis-alzheimer/raw/main/dataset/3-classes-alzheimer-20-patients.zip [following]\n",
            "--2022-09-17 15:49:11--  https://github.com/fadillarizalul/thesis-alzheimer/raw/main/dataset/3-classes-alzheimer-20-patients.zip\n",
            "Reusing existing connection to github.com:443.\n",
            "HTTP request sent, awaiting response... 302 Found\n",
            "Location: https://raw.githubusercontent.com/fadillarizalul/thesis-alzheimer/main/dataset/3-classes-alzheimer-20-patients.zip [following]\n",
            "--2022-09-17 15:49:12--  https://raw.githubusercontent.com/fadillarizalul/thesis-alzheimer/main/dataset/3-classes-alzheimer-20-patients.zip\n",
            "Resolving raw.githubusercontent.com (raw.githubusercontent.com)... 185.199.108.133, 185.199.109.133, 185.199.110.133, ...\n",
            "Connecting to raw.githubusercontent.com (raw.githubusercontent.com)|185.199.108.133|:443... connected.\n",
            "HTTP request sent, awaiting response... 200 OK\n",
            "Length: 9859577 (9.4M) [application/zip]\n",
            "Saving to: ‘3-classes-alzheimer.zip’\n",
            "\n",
            "3-classes-alzheimer 100%[===================>]   9.40M  --.-KB/s    in 0.08s   \n",
            "\n",
            "2022-09-17 15:49:12 (123 MB/s) - ‘3-classes-alzheimer.zip’ saved [9859577/9859577]\n",
            "\n"
          ]
        }
      ]
    },
    {
      "cell_type": "code",
      "source": [
        "!unzip /content/3-classes-alzheimer.zip"
      ],
      "metadata": {
        "colab": {
          "base_uri": "https://localhost:8080/"
        },
        "id": "Yl7-H0rf9NFS",
        "outputId": "590bf007-f1cf-4889-afd8-ff61e287ba96"
      },
      "execution_count": 6,
      "outputs": [
        {
          "output_type": "stream",
          "name": "stdout",
          "text": [
            "Archive:  /content/3-classes-alzheimer.zip\n",
            "   creating: 3-classes-alzheimer-20-patients/\n",
            "   creating: 3-classes-alzheimer-20-patients/AD/\n",
            "  inflating: 3-classes-alzheimer-20-patients/AD/img-00001-00001.jpg  \n",
            "  inflating: 3-classes-alzheimer-20-patients/AD/img-00001-00002.jpg  \n",
            "  inflating: 3-classes-alzheimer-20-patients/AD/img-00001-00003.jpg  \n",
            "  inflating: 3-classes-alzheimer-20-patients/AD/img-00001-00004.jpg  \n",
            "  inflating: 3-classes-alzheimer-20-patients/AD/img-00001-00005.jpg  \n",
            "  inflating: 3-classes-alzheimer-20-patients/AD/img-00002-00001.jpg  \n",
            "  inflating: 3-classes-alzheimer-20-patients/AD/img-00002-00002.jpg  \n",
            "  inflating: 3-classes-alzheimer-20-patients/AD/img-00002-00003.jpg  \n",
            "  inflating: 3-classes-alzheimer-20-patients/AD/img-00002-00004.jpg  \n",
            "  inflating: 3-classes-alzheimer-20-patients/AD/img-00002-00005.jpg  \n",
            "  inflating: 3-classes-alzheimer-20-patients/AD/img-00003-00001.jpg  \n",
            "  inflating: 3-classes-alzheimer-20-patients/AD/img-00003-00002.jpg  \n",
            "  inflating: 3-classes-alzheimer-20-patients/AD/img-00003-00003.jpg  \n",
            "  inflating: 3-classes-alzheimer-20-patients/AD/img-00003-00004.jpg  \n",
            "  inflating: 3-classes-alzheimer-20-patients/AD/img-00003-00005.jpg  \n",
            "  inflating: 3-classes-alzheimer-20-patients/AD/img-00004-00001.jpg  \n",
            "  inflating: 3-classes-alzheimer-20-patients/AD/img-00004-00002.jpg  \n",
            "  inflating: 3-classes-alzheimer-20-patients/AD/img-00004-00003.jpg  \n",
            "  inflating: 3-classes-alzheimer-20-patients/AD/img-00004-00004.jpg  \n",
            "  inflating: 3-classes-alzheimer-20-patients/AD/img-00004-00005.jpg  \n",
            "  inflating: 3-classes-alzheimer-20-patients/AD/img-00004-00006.jpg  \n",
            "  inflating: 3-classes-alzheimer-20-patients/AD/img-00004-00007.jpg  \n",
            "  inflating: 3-classes-alzheimer-20-patients/AD/img-00004-00008.jpg  \n",
            "  inflating: 3-classes-alzheimer-20-patients/AD/img-00004-00009.jpg  \n",
            "  inflating: 3-classes-alzheimer-20-patients/AD/img-00005-00001.jpg  \n",
            "  inflating: 3-classes-alzheimer-20-patients/AD/img-00005-00002.jpg  \n",
            "  inflating: 3-classes-alzheimer-20-patients/AD/img-00005-00003.jpg  \n",
            "  inflating: 3-classes-alzheimer-20-patients/AD/img-00005-00004.jpg  \n",
            "  inflating: 3-classes-alzheimer-20-patients/AD/img-00005-00005.jpg  \n",
            "  inflating: 3-classes-alzheimer-20-patients/AD/img-00005-00006.jpg  \n",
            "  inflating: 3-classes-alzheimer-20-patients/AD/img-00005-00007.jpg  \n",
            "  inflating: 3-classes-alzheimer-20-patients/AD/img-00005-00008.jpg  \n",
            "  inflating: 3-classes-alzheimer-20-patients/AD/img-00005-00009.jpg  \n",
            "  inflating: 3-classes-alzheimer-20-patients/AD/img-00006-00001.jpg  \n",
            "  inflating: 3-classes-alzheimer-20-patients/AD/img-00006-00002.jpg  \n",
            "  inflating: 3-classes-alzheimer-20-patients/AD/img-00006-00003.jpg  \n",
            "  inflating: 3-classes-alzheimer-20-patients/AD/img-00006-00004.jpg  \n",
            "  inflating: 3-classes-alzheimer-20-patients/AD/img-00006-00005.jpg  \n",
            "  inflating: 3-classes-alzheimer-20-patients/AD/img-00007-00001.jpg  \n",
            "  inflating: 3-classes-alzheimer-20-patients/AD/img-00007-00002.jpg  \n",
            "  inflating: 3-classes-alzheimer-20-patients/AD/img-00007-00003.jpg  \n",
            "  inflating: 3-classes-alzheimer-20-patients/AD/img-00007-00004.jpg  \n",
            "  inflating: 3-classes-alzheimer-20-patients/AD/img-00007-00005.jpg  \n",
            "  inflating: 3-classes-alzheimer-20-patients/AD/img-00008-00001.jpg  \n",
            "  inflating: 3-classes-alzheimer-20-patients/AD/img-00008-00002.jpg  \n",
            "  inflating: 3-classes-alzheimer-20-patients/AD/img-00008-00003.jpg  \n",
            "  inflating: 3-classes-alzheimer-20-patients/AD/img-00008-00004.jpg  \n",
            "  inflating: 3-classes-alzheimer-20-patients/AD/img-00008-00005.jpg  \n",
            "  inflating: 3-classes-alzheimer-20-patients/AD/img-00009-00001.jpg  \n",
            "  inflating: 3-classes-alzheimer-20-patients/AD/img-00009-00002.jpg  \n",
            "  inflating: 3-classes-alzheimer-20-patients/AD/img-00009-00003.jpg  \n",
            "  inflating: 3-classes-alzheimer-20-patients/AD/img-00009-00004.jpg  \n",
            "  inflating: 3-classes-alzheimer-20-patients/AD/img-00009-00005.jpg  \n",
            "  inflating: 3-classes-alzheimer-20-patients/AD/img-00010-00001.jpg  \n",
            "  inflating: 3-classes-alzheimer-20-patients/AD/img-00010-00002.jpg  \n",
            "  inflating: 3-classes-alzheimer-20-patients/AD/img-00010-00003.jpg  \n",
            "  inflating: 3-classes-alzheimer-20-patients/AD/img-00010-00004.jpg  \n",
            "  inflating: 3-classes-alzheimer-20-patients/AD/img-00010-00005.jpg  \n",
            "  inflating: 3-classes-alzheimer-20-patients/AD/img-00011-00001.jpg  \n",
            "  inflating: 3-classes-alzheimer-20-patients/AD/img-00011-00002.jpg  \n",
            "  inflating: 3-classes-alzheimer-20-patients/AD/img-00011-00003.jpg  \n",
            "  inflating: 3-classes-alzheimer-20-patients/AD/img-00011-00004.jpg  \n",
            "  inflating: 3-classes-alzheimer-20-patients/AD/img-00011-00005.jpg  \n",
            "  inflating: 3-classes-alzheimer-20-patients/AD/img-00012-00001.jpg  \n",
            "  inflating: 3-classes-alzheimer-20-patients/AD/img-00012-00002.jpg  \n",
            "  inflating: 3-classes-alzheimer-20-patients/AD/img-00012-00003.jpg  \n",
            "  inflating: 3-classes-alzheimer-20-patients/AD/img-00012-00004.jpg  \n",
            "  inflating: 3-classes-alzheimer-20-patients/AD/img-00012-00005.jpg  \n",
            "  inflating: 3-classes-alzheimer-20-patients/AD/img-00013-00001.jpg  \n",
            "  inflating: 3-classes-alzheimer-20-patients/AD/img-00013-00002.jpg  \n",
            "  inflating: 3-classes-alzheimer-20-patients/AD/img-00013-00003.jpg  \n",
            "  inflating: 3-classes-alzheimer-20-patients/AD/img-00013-00004.jpg  \n",
            "  inflating: 3-classes-alzheimer-20-patients/AD/img-00013-00005.jpg  \n",
            "  inflating: 3-classes-alzheimer-20-patients/AD/img-00014-00001.jpg  \n",
            "  inflating: 3-classes-alzheimer-20-patients/AD/img-00014-00002.jpg  \n",
            "  inflating: 3-classes-alzheimer-20-patients/AD/img-00014-00003.jpg  \n",
            "  inflating: 3-classes-alzheimer-20-patients/AD/img-00014-00004.jpg  \n",
            "  inflating: 3-classes-alzheimer-20-patients/AD/img-00014-00005.jpg  \n",
            "  inflating: 3-classes-alzheimer-20-patients/AD/img-00015-00001.jpg  \n",
            "  inflating: 3-classes-alzheimer-20-patients/AD/img-00015-00002.jpg  \n",
            "  inflating: 3-classes-alzheimer-20-patients/AD/img-00015-00003.jpg  \n",
            "  inflating: 3-classes-alzheimer-20-patients/AD/img-00015-00004.jpg  \n",
            "  inflating: 3-classes-alzheimer-20-patients/AD/img-00015-00005.jpg  \n",
            "  inflating: 3-classes-alzheimer-20-patients/AD/img-00016-00001.jpg  \n",
            "  inflating: 3-classes-alzheimer-20-patients/AD/img-00016-00002.jpg  \n",
            "  inflating: 3-classes-alzheimer-20-patients/AD/img-00016-00003.jpg  \n",
            "  inflating: 3-classes-alzheimer-20-patients/AD/img-00016-00004.jpg  \n",
            "  inflating: 3-classes-alzheimer-20-patients/AD/img-00016-00005.jpg  \n",
            "  inflating: 3-classes-alzheimer-20-patients/AD/img-00017-00001.jpg  \n",
            "  inflating: 3-classes-alzheimer-20-patients/AD/img-00017-00002.jpg  \n",
            "  inflating: 3-classes-alzheimer-20-patients/AD/img-00017-00003.jpg  \n",
            "  inflating: 3-classes-alzheimer-20-patients/AD/img-00017-00004.jpg  \n",
            "  inflating: 3-classes-alzheimer-20-patients/AD/img-00017-00005.jpg  \n",
            "  inflating: 3-classes-alzheimer-20-patients/AD/img-00018-00001.jpg  \n",
            "  inflating: 3-classes-alzheimer-20-patients/AD/img-00018-00002.jpg  \n",
            "  inflating: 3-classes-alzheimer-20-patients/AD/img-00018-00003.jpg  \n",
            "  inflating: 3-classes-alzheimer-20-patients/AD/img-00018-00004.jpg  \n",
            "  inflating: 3-classes-alzheimer-20-patients/AD/img-00018-00005.jpg  \n",
            "  inflating: 3-classes-alzheimer-20-patients/AD/img-00019-00001.jpg  \n",
            "  inflating: 3-classes-alzheimer-20-patients/AD/img-00019-00002.jpg  \n",
            "  inflating: 3-classes-alzheimer-20-patients/AD/img-00019-00003.jpg  \n",
            "  inflating: 3-classes-alzheimer-20-patients/AD/img-00019-00004.jpg  \n",
            "  inflating: 3-classes-alzheimer-20-patients/AD/img-00019-00005.jpg  \n",
            "  inflating: 3-classes-alzheimer-20-patients/AD/img-00020-00001.jpg  \n",
            "  inflating: 3-classes-alzheimer-20-patients/AD/img-00020-00002.jpg  \n",
            "  inflating: 3-classes-alzheimer-20-patients/AD/img-00020-00003.jpg  \n",
            "  inflating: 3-classes-alzheimer-20-patients/AD/img-00020-00004.jpg  \n",
            "  inflating: 3-classes-alzheimer-20-patients/AD/img-00020-00005.jpg  \n",
            "   creating: 3-classes-alzheimer-20-patients/CN/\n",
            "  inflating: 3-classes-alzheimer-20-patients/CN/img-00001-00001.jpg  \n",
            "  inflating: 3-classes-alzheimer-20-patients/CN/img-00001-00002.jpg  \n",
            "  inflating: 3-classes-alzheimer-20-patients/CN/img-00001-00003.jpg  \n",
            "  inflating: 3-classes-alzheimer-20-patients/CN/img-00001-00004.jpg  \n",
            "  inflating: 3-classes-alzheimer-20-patients/CN/img-00001-00005.jpg  \n",
            "  inflating: 3-classes-alzheimer-20-patients/CN/img-00002-00001.jpg  \n",
            "  inflating: 3-classes-alzheimer-20-patients/CN/img-00002-00002.jpg  \n",
            "  inflating: 3-classes-alzheimer-20-patients/CN/img-00002-00003.jpg  \n",
            "  inflating: 3-classes-alzheimer-20-patients/CN/img-00002-00004.jpg  \n",
            "  inflating: 3-classes-alzheimer-20-patients/CN/img-00002-00005.jpg  \n",
            "  inflating: 3-classes-alzheimer-20-patients/CN/img-00003-00001.jpg  \n",
            "  inflating: 3-classes-alzheimer-20-patients/CN/img-00003-00002.jpg  \n",
            "  inflating: 3-classes-alzheimer-20-patients/CN/img-00003-00003.jpg  \n",
            "  inflating: 3-classes-alzheimer-20-patients/CN/img-00003-00004.jpg  \n",
            "  inflating: 3-classes-alzheimer-20-patients/CN/img-00003-00005.jpg  \n",
            "  inflating: 3-classes-alzheimer-20-patients/CN/img-00004-00001.jpg  \n",
            "  inflating: 3-classes-alzheimer-20-patients/CN/img-00004-00002.jpg  \n",
            "  inflating: 3-classes-alzheimer-20-patients/CN/img-00004-00003.jpg  \n",
            "  inflating: 3-classes-alzheimer-20-patients/CN/img-00004-00004.jpg  \n",
            "  inflating: 3-classes-alzheimer-20-patients/CN/img-00004-00005.jpg  \n",
            "  inflating: 3-classes-alzheimer-20-patients/CN/img-00004-00006.jpg  \n",
            "  inflating: 3-classes-alzheimer-20-patients/CN/img-00005-00001.jpg  \n",
            "  inflating: 3-classes-alzheimer-20-patients/CN/img-00005-00002.jpg  \n",
            "  inflating: 3-classes-alzheimer-20-patients/CN/img-00005-00003.jpg  \n",
            "  inflating: 3-classes-alzheimer-20-patients/CN/img-00005-00004.jpg  \n",
            "  inflating: 3-classes-alzheimer-20-patients/CN/img-00005-00005.jpg  \n",
            "  inflating: 3-classes-alzheimer-20-patients/CN/img-00006-00001.jpg  \n",
            "  inflating: 3-classes-alzheimer-20-patients/CN/img-00006-00002.jpg  \n",
            "  inflating: 3-classes-alzheimer-20-patients/CN/img-00006-00003.jpg  \n",
            "  inflating: 3-classes-alzheimer-20-patients/CN/img-00006-00004.jpg  \n",
            "  inflating: 3-classes-alzheimer-20-patients/CN/img-00006-00005.jpg  \n",
            "  inflating: 3-classes-alzheimer-20-patients/CN/img-00007-00001.jpg  \n",
            "  inflating: 3-classes-alzheimer-20-patients/CN/img-00007-00002.jpg  \n",
            "  inflating: 3-classes-alzheimer-20-patients/CN/img-00007-00003.jpg  \n",
            "  inflating: 3-classes-alzheimer-20-patients/CN/img-00007-00004.jpg  \n",
            "  inflating: 3-classes-alzheimer-20-patients/CN/img-00007-00005.jpg  \n",
            "  inflating: 3-classes-alzheimer-20-patients/CN/img-00008-00001.jpg  \n",
            "  inflating: 3-classes-alzheimer-20-patients/CN/img-00008-00002.jpg  \n",
            "  inflating: 3-classes-alzheimer-20-patients/CN/img-00008-00003.jpg  \n",
            "  inflating: 3-classes-alzheimer-20-patients/CN/img-00008-00004.jpg  \n",
            "  inflating: 3-classes-alzheimer-20-patients/CN/img-00008-00005.jpg  \n",
            "  inflating: 3-classes-alzheimer-20-patients/CN/img-00009-00001.jpg  \n",
            "  inflating: 3-classes-alzheimer-20-patients/CN/img-00009-00002.jpg  \n",
            "  inflating: 3-classes-alzheimer-20-patients/CN/img-00009-00003.jpg  \n",
            "  inflating: 3-classes-alzheimer-20-patients/CN/img-00009-00004.jpg  \n",
            "  inflating: 3-classes-alzheimer-20-patients/CN/img-00009-00005.jpg  \n",
            "  inflating: 3-classes-alzheimer-20-patients/CN/img-00010-00001.jpg  \n",
            "  inflating: 3-classes-alzheimer-20-patients/CN/img-00010-00002.jpg  \n",
            "  inflating: 3-classes-alzheimer-20-patients/CN/img-00010-00003.jpg  \n",
            "  inflating: 3-classes-alzheimer-20-patients/CN/img-00010-00004.jpg  \n",
            "  inflating: 3-classes-alzheimer-20-patients/CN/img-00010-00005.jpg  \n",
            "  inflating: 3-classes-alzheimer-20-patients/CN/img-00011-00001.jpg  \n",
            "  inflating: 3-classes-alzheimer-20-patients/CN/img-00011-00002.jpg  \n",
            "  inflating: 3-classes-alzheimer-20-patients/CN/img-00011-00003.jpg  \n",
            "  inflating: 3-classes-alzheimer-20-patients/CN/img-00011-00004.jpg  \n",
            "  inflating: 3-classes-alzheimer-20-patients/CN/img-00011-00005.jpg  \n",
            "  inflating: 3-classes-alzheimer-20-patients/CN/img-00012-00001.jpg  \n",
            "  inflating: 3-classes-alzheimer-20-patients/CN/img-00012-00002.jpg  \n",
            "  inflating: 3-classes-alzheimer-20-patients/CN/img-00012-00003.jpg  \n",
            "  inflating: 3-classes-alzheimer-20-patients/CN/img-00012-00004.jpg  \n",
            "  inflating: 3-classes-alzheimer-20-patients/CN/img-00012-00005.jpg  \n",
            "  inflating: 3-classes-alzheimer-20-patients/CN/img-00013-00001.jpg  \n",
            "  inflating: 3-classes-alzheimer-20-patients/CN/img-00013-00002.jpg  \n",
            "  inflating: 3-classes-alzheimer-20-patients/CN/img-00013-00003.jpg  \n",
            "  inflating: 3-classes-alzheimer-20-patients/CN/img-00013-00004.jpg  \n",
            "  inflating: 3-classes-alzheimer-20-patients/CN/img-00013-00005.jpg  \n",
            "  inflating: 3-classes-alzheimer-20-patients/CN/img-00014-00001.jpg  \n",
            "  inflating: 3-classes-alzheimer-20-patients/CN/img-00014-00002.jpg  \n",
            "  inflating: 3-classes-alzheimer-20-patients/CN/img-00014-00003.jpg  \n",
            "  inflating: 3-classes-alzheimer-20-patients/CN/img-00014-00004.jpg  \n",
            "  inflating: 3-classes-alzheimer-20-patients/CN/img-00014-00005.jpg  \n",
            "  inflating: 3-classes-alzheimer-20-patients/CN/img-00015-00001.jpg  \n",
            "  inflating: 3-classes-alzheimer-20-patients/CN/img-00015-00002.jpg  \n",
            "  inflating: 3-classes-alzheimer-20-patients/CN/img-00015-00003.jpg  \n",
            "  inflating: 3-classes-alzheimer-20-patients/CN/img-00015-00004.jpg  \n",
            "  inflating: 3-classes-alzheimer-20-patients/CN/img-00015-00005.jpg  \n",
            "  inflating: 3-classes-alzheimer-20-patients/CN/img-00016-00001.jpg  \n",
            "  inflating: 3-classes-alzheimer-20-patients/CN/img-00016-00002.jpg  \n",
            "  inflating: 3-classes-alzheimer-20-patients/CN/img-00016-00003.jpg  \n",
            "  inflating: 3-classes-alzheimer-20-patients/CN/img-00016-00004.jpg  \n",
            "  inflating: 3-classes-alzheimer-20-patients/CN/img-00016-00005.jpg  \n",
            "  inflating: 3-classes-alzheimer-20-patients/CN/img-00017-00001.jpg  \n",
            "  inflating: 3-classes-alzheimer-20-patients/CN/img-00017-00002.jpg  \n",
            "  inflating: 3-classes-alzheimer-20-patients/CN/img-00017-00003.jpg  \n",
            "  inflating: 3-classes-alzheimer-20-patients/CN/img-00017-00004.jpg  \n",
            "  inflating: 3-classes-alzheimer-20-patients/CN/img-00017-00005.jpg  \n",
            "  inflating: 3-classes-alzheimer-20-patients/CN/img-00018-00001.jpg  \n",
            "  inflating: 3-classes-alzheimer-20-patients/CN/img-00018-00002.jpg  \n",
            "  inflating: 3-classes-alzheimer-20-patients/CN/img-00018-00003.jpg  \n",
            "  inflating: 3-classes-alzheimer-20-patients/CN/img-00018-00004.jpg  \n",
            "  inflating: 3-classes-alzheimer-20-patients/CN/img-00018-00005.jpg  \n",
            "  inflating: 3-classes-alzheimer-20-patients/CN/img-00019-00001.jpg  \n",
            "  inflating: 3-classes-alzheimer-20-patients/CN/img-00019-00002.jpg  \n",
            "  inflating: 3-classes-alzheimer-20-patients/CN/img-00019-00003.jpg  \n",
            "  inflating: 3-classes-alzheimer-20-patients/CN/img-00019-00004.jpg  \n",
            "  inflating: 3-classes-alzheimer-20-patients/CN/img-00019-00005.jpg  \n",
            "  inflating: 3-classes-alzheimer-20-patients/CN/img-00020-00001.jpg  \n",
            "  inflating: 3-classes-alzheimer-20-patients/CN/img-00020-00002.jpg  \n",
            "  inflating: 3-classes-alzheimer-20-patients/CN/img-00020-00003.jpg  \n",
            "  inflating: 3-classes-alzheimer-20-patients/CN/img-00020-00004.jpg  \n",
            "  inflating: 3-classes-alzheimer-20-patients/CN/img-00020-00005.jpg  \n",
            "   creating: 3-classes-alzheimer-20-patients/MCI/\n",
            "  inflating: 3-classes-alzheimer-20-patients/MCI/img-00001-00001.jpg  \n",
            "  inflating: 3-classes-alzheimer-20-patients/MCI/img-00001-00002.jpg  \n",
            "  inflating: 3-classes-alzheimer-20-patients/MCI/img-00001-00003.jpg  \n",
            "  inflating: 3-classes-alzheimer-20-patients/MCI/img-00001-00004.jpg  \n",
            "  inflating: 3-classes-alzheimer-20-patients/MCI/img-00001-00005.jpg  \n",
            "  inflating: 3-classes-alzheimer-20-patients/MCI/img-00002-00001.jpg  \n",
            "  inflating: 3-classes-alzheimer-20-patients/MCI/img-00002-00002.jpg  \n",
            "  inflating: 3-classes-alzheimer-20-patients/MCI/img-00002-00003.jpg  \n",
            "  inflating: 3-classes-alzheimer-20-patients/MCI/img-00002-00004.jpg  \n",
            "  inflating: 3-classes-alzheimer-20-patients/MCI/img-00002-00005.jpg  \n",
            "  inflating: 3-classes-alzheimer-20-patients/MCI/img-00003-00001.jpg  \n",
            "  inflating: 3-classes-alzheimer-20-patients/MCI/img-00003-00002.jpg  \n",
            "  inflating: 3-classes-alzheimer-20-patients/MCI/img-00003-00003.jpg  \n",
            "  inflating: 3-classes-alzheimer-20-patients/MCI/img-00003-00004.jpg  \n",
            "  inflating: 3-classes-alzheimer-20-patients/MCI/img-00003-00005.jpg  \n",
            "  inflating: 3-classes-alzheimer-20-patients/MCI/img-00004-00001.jpg  \n",
            "  inflating: 3-classes-alzheimer-20-patients/MCI/img-00004-00002.jpg  \n",
            "  inflating: 3-classes-alzheimer-20-patients/MCI/img-00004-00003.jpg  \n",
            "  inflating: 3-classes-alzheimer-20-patients/MCI/img-00004-00004.jpg  \n",
            "  inflating: 3-classes-alzheimer-20-patients/MCI/img-00004-00005.jpg  \n",
            "  inflating: 3-classes-alzheimer-20-patients/MCI/img-00005-00001.jpg  \n",
            "  inflating: 3-classes-alzheimer-20-patients/MCI/img-00005-00002.jpg  \n",
            "  inflating: 3-classes-alzheimer-20-patients/MCI/img-00005-00003.jpg  \n",
            "  inflating: 3-classes-alzheimer-20-patients/MCI/img-00005-00004.jpg  \n",
            "  inflating: 3-classes-alzheimer-20-patients/MCI/img-00005-00005.jpg  \n",
            "  inflating: 3-classes-alzheimer-20-patients/MCI/img-00006-00001.jpg  \n",
            "  inflating: 3-classes-alzheimer-20-patients/MCI/img-00006-00002.jpg  \n",
            "  inflating: 3-classes-alzheimer-20-patients/MCI/img-00006-00003.jpg  \n",
            "  inflating: 3-classes-alzheimer-20-patients/MCI/img-00006-00004.jpg  \n",
            "  inflating: 3-classes-alzheimer-20-patients/MCI/img-00006-00005.jpg  \n",
            "  inflating: 3-classes-alzheimer-20-patients/MCI/img-00007-00001.jpg  \n",
            "  inflating: 3-classes-alzheimer-20-patients/MCI/img-00007-00002.jpg  \n",
            "  inflating: 3-classes-alzheimer-20-patients/MCI/img-00007-00003.jpg  \n",
            "  inflating: 3-classes-alzheimer-20-patients/MCI/img-00007-00004.jpg  \n",
            "  inflating: 3-classes-alzheimer-20-patients/MCI/img-00007-00005.jpg  \n",
            "  inflating: 3-classes-alzheimer-20-patients/MCI/img-00008-00001.jpg  \n",
            "  inflating: 3-classes-alzheimer-20-patients/MCI/img-00008-00002.jpg  \n",
            "  inflating: 3-classes-alzheimer-20-patients/MCI/img-00008-00003.jpg  \n",
            "  inflating: 3-classes-alzheimer-20-patients/MCI/img-00008-00004.jpg  \n",
            "  inflating: 3-classes-alzheimer-20-patients/MCI/img-00008-00005.jpg  \n",
            "  inflating: 3-classes-alzheimer-20-patients/MCI/img-00009-00001.jpg  \n",
            "  inflating: 3-classes-alzheimer-20-patients/MCI/img-00009-00002.jpg  \n",
            "  inflating: 3-classes-alzheimer-20-patients/MCI/img-00009-00003.jpg  \n",
            "  inflating: 3-classes-alzheimer-20-patients/MCI/img-00009-00004.jpg  \n",
            "  inflating: 3-classes-alzheimer-20-patients/MCI/img-00009-00005.jpg  \n",
            "  inflating: 3-classes-alzheimer-20-patients/MCI/img-00010-00001.jpg  \n",
            "  inflating: 3-classes-alzheimer-20-patients/MCI/img-00010-00002.jpg  \n",
            "  inflating: 3-classes-alzheimer-20-patients/MCI/img-00010-00003.jpg  \n",
            "  inflating: 3-classes-alzheimer-20-patients/MCI/img-00010-00004.jpg  \n",
            "  inflating: 3-classes-alzheimer-20-patients/MCI/img-00010-00005.jpg  \n",
            "  inflating: 3-classes-alzheimer-20-patients/MCI/img-00011-00001.jpg  \n",
            "  inflating: 3-classes-alzheimer-20-patients/MCI/img-00011-00002.jpg  \n",
            "  inflating: 3-classes-alzheimer-20-patients/MCI/img-00011-00003.jpg  \n",
            "  inflating: 3-classes-alzheimer-20-patients/MCI/img-00011-00004.jpg  \n",
            "  inflating: 3-classes-alzheimer-20-patients/MCI/img-00011-00005.jpg  \n",
            "  inflating: 3-classes-alzheimer-20-patients/MCI/img-00012-00001.jpg  \n",
            "  inflating: 3-classes-alzheimer-20-patients/MCI/img-00012-00002.jpg  \n",
            "  inflating: 3-classes-alzheimer-20-patients/MCI/img-00012-00003.jpg  \n",
            "  inflating: 3-classes-alzheimer-20-patients/MCI/img-00012-00004.jpg  \n",
            "  inflating: 3-classes-alzheimer-20-patients/MCI/img-00012-00005.jpg  \n",
            "  inflating: 3-classes-alzheimer-20-patients/MCI/img-00013-00001.jpg  \n",
            "  inflating: 3-classes-alzheimer-20-patients/MCI/img-00013-00002.jpg  \n",
            "  inflating: 3-classes-alzheimer-20-patients/MCI/img-00013-00003.jpg  \n",
            "  inflating: 3-classes-alzheimer-20-patients/MCI/img-00013-00004.jpg  \n",
            "  inflating: 3-classes-alzheimer-20-patients/MCI/img-00013-00005.jpg  \n",
            "  inflating: 3-classes-alzheimer-20-patients/MCI/img-00014-00001.jpg  \n",
            "  inflating: 3-classes-alzheimer-20-patients/MCI/img-00014-00002.jpg  \n",
            "  inflating: 3-classes-alzheimer-20-patients/MCI/img-00014-00003.jpg  \n",
            "  inflating: 3-classes-alzheimer-20-patients/MCI/img-00014-00004.jpg  \n",
            "  inflating: 3-classes-alzheimer-20-patients/MCI/img-00014-00005.jpg  \n",
            "  inflating: 3-classes-alzheimer-20-patients/MCI/img-00015-00001.jpg  \n",
            "  inflating: 3-classes-alzheimer-20-patients/MCI/img-00015-00002.jpg  \n",
            "  inflating: 3-classes-alzheimer-20-patients/MCI/img-00015-00003.jpg  \n",
            "  inflating: 3-classes-alzheimer-20-patients/MCI/img-00015-00004.jpg  \n",
            "  inflating: 3-classes-alzheimer-20-patients/MCI/img-00015-00005.jpg  \n",
            "  inflating: 3-classes-alzheimer-20-patients/MCI/img-00016-00001.jpg  \n",
            "  inflating: 3-classes-alzheimer-20-patients/MCI/img-00016-00002.jpg  \n",
            "  inflating: 3-classes-alzheimer-20-patients/MCI/img-00016-00003.jpg  \n",
            "  inflating: 3-classes-alzheimer-20-patients/MCI/img-00016-00004.jpg  \n",
            "  inflating: 3-classes-alzheimer-20-patients/MCI/img-00016-00005.jpg  \n",
            "  inflating: 3-classes-alzheimer-20-patients/MCI/img-00017-00001.jpg  \n",
            "  inflating: 3-classes-alzheimer-20-patients/MCI/img-00017-00002.jpg  \n",
            "  inflating: 3-classes-alzheimer-20-patients/MCI/img-00017-00003.jpg  \n",
            "  inflating: 3-classes-alzheimer-20-patients/MCI/img-00017-00004.jpg  \n",
            "  inflating: 3-classes-alzheimer-20-patients/MCI/img-00017-00005.jpg  \n",
            "  inflating: 3-classes-alzheimer-20-patients/MCI/img-00018-00001.jpg  \n",
            "  inflating: 3-classes-alzheimer-20-patients/MCI/img-00018-00002.jpg  \n",
            "  inflating: 3-classes-alzheimer-20-patients/MCI/img-00018-00003.jpg  \n",
            "  inflating: 3-classes-alzheimer-20-patients/MCI/img-00018-00004.jpg  \n",
            "  inflating: 3-classes-alzheimer-20-patients/MCI/img-00018-00005.jpg  \n",
            "  inflating: 3-classes-alzheimer-20-patients/MCI/img-00019-00001.jpg  \n",
            "  inflating: 3-classes-alzheimer-20-patients/MCI/img-00019-00002.jpg  \n",
            "  inflating: 3-classes-alzheimer-20-patients/MCI/img-00019-00003.jpg  \n",
            "  inflating: 3-classes-alzheimer-20-patients/MCI/img-00019-00004.jpg  \n",
            "  inflating: 3-classes-alzheimer-20-patients/MCI/img-00019-00005.jpg  \n",
            "  inflating: 3-classes-alzheimer-20-patients/MCI/img-00020-00001.jpg  \n",
            "  inflating: 3-classes-alzheimer-20-patients/MCI/img-00020-00002.jpg  \n",
            "  inflating: 3-classes-alzheimer-20-patients/MCI/img-00020-00003.jpg  \n",
            "  inflating: 3-classes-alzheimer-20-patients/MCI/img-00020-00004.jpg  \n",
            "  inflating: 3-classes-alzheimer-20-patients/MCI/img-00020-00005.jpg  \n"
          ]
        }
      ]
    },
    {
      "cell_type": "code",
      "source": [
        "import os\n",
        " #lokasi direktori dasar\n",
        "dir_base ='/content/3-classes-alzheimer-20-patients'\n",
        "os.listdir(dir_base)\n",
        "print(os.listdir(dir_base))\n",
        "\n",
        "#hitung jumlah file per direktori\n",
        "data_cn = len(os.listdir('/content/3-classes-alzheimer-20-patients/CN'))\n",
        "data_mci = len(os.listdir('/content/3-classes-alzheimer-20-patients/MCI')) \n",
        "data_ad = len(os.listdir('/content/3-classes-alzheimer-20-patients/AD')) \n",
        "\n",
        "print(\"Amount of CN class images:\", data_cn)\n",
        "print(\"Amount of MCI class images:\", data_mci)\n",
        "print(\"Amount of AD class images:\", data_ad)"
      ],
      "metadata": {
        "colab": {
          "base_uri": "https://localhost:8080/"
        },
        "id": "Lynqr5NO9P2V",
        "outputId": "a68dde05-8015-4b24-adf1-0a9ab227ffde"
      },
      "execution_count": 7,
      "outputs": [
        {
          "output_type": "stream",
          "name": "stdout",
          "text": [
            "['MCI', 'AD', 'CN']\n",
            "Amount of CN class images: 101\n",
            "Amount of MCI class images: 100\n",
            "Amount of AD class images: 108\n"
          ]
        }
      ]
    },
    {
      "cell_type": "code",
      "source": [
        "BATCH_SIZE = 32\n",
        "IMG_SHAPE = 256"
      ],
      "metadata": {
        "id": "2ud0YsRg9mqM"
      },
      "execution_count": 8,
      "outputs": []
    },
    {
      "cell_type": "markdown",
      "source": [
        "## Split into train, test, and validation sets"
      ],
      "metadata": {
        "id": "luG777wx9rQp"
      }
    },
    {
      "cell_type": "code",
      "source": [
        "# from sklearn.model_selection import train_test_split\n",
        "# from keras_preprocessing.image import ImageDataGenerator\n",
        "\n",
        "# # First split into train and test sets at 80:20 ratio\n",
        "# # Second split into train validation at 75:25 ratio\n",
        "# # - results in 60:20:20 ratio (train, val, test)\n",
        "# train, test = train_test_split(dir_base, test_size=0.2, random_state=1)\n",
        "# train, val = train_test_split(train, test_size=0.25, random_state=1)"
      ],
      "metadata": {
        "id": "3bFnjlrS9TgA"
      },
      "execution_count": 9,
      "outputs": []
    },
    {
      "cell_type": "markdown",
      "source": [
        "# Data Generation and Augmentation"
      ],
      "metadata": {
        "id": "Kvo8SqDf-N1b"
      }
    },
    {
      "cell_type": "code",
      "source": [
        "from tensorflow.keras.preprocessing.image import ImageDataGenerator"
      ],
      "metadata": {
        "id": "T6LPDcEMKJ-X"
      },
      "execution_count": 11,
      "outputs": []
    },
    {
      "cell_type": "code",
      "source": [
        "train_datagen = ImageDataGenerator(rescale = 1./255,\n",
        "                                  # rotation_range=30,\n",
        "                                  # zoom_range=0.2,\n",
        "                                  # horizontal_flip=True,\n",
        "                                  # vertical_flip=True,\n",
        "                                   validation_split = 0.2\n",
        "                                   )\n",
        "\n",
        "valid_datagen = ImageDataGenerator(rescale = 1./255\n",
        "#                                    validation_split = 0.2\n",
        "                                  )\n",
        "\n",
        "# test_datagen  = ImageDataGenerator(rescale = 1./255)"
      ],
      "metadata": {
        "id": "2UezJlZOAr1O"
      },
      "execution_count": 12,
      "outputs": []
    },
    {
      "cell_type": "code",
      "source": [
        "train_generator = train_datagen.flow_from_directory(\n",
        "    directory = dir_base,\n",
        "    target_size = (IMG_SHAPE,IMG_SHAPE),\n",
        "    batch_size = BATCH_SIZE,\n",
        "    class_mode = 'categorical',\n",
        "    subset='training'\n",
        ")\n",
        " \n",
        "val_generator = train_datagen.flow_from_directory(\n",
        "    directory = dir_base,\n",
        "    target_size = (IMG_SHAPE,IMG_SHAPE),\n",
        "    batch_size = BATCH_SIZE,\n",
        "    class_mode = 'categorical',\n",
        "    subset='validation'\n",
        ")"
      ],
      "metadata": {
        "colab": {
          "base_uri": "https://localhost:8080/"
        },
        "id": "SBYdf_aiAwID",
        "outputId": "8e59625b-5e9d-4640-f2f7-822c8393fb8a"
      },
      "execution_count": 13,
      "outputs": [
        {
          "output_type": "stream",
          "name": "stdout",
          "text": [
            "Found 248 images belonging to 3 classes.\n",
            "Found 61 images belonging to 3 classes.\n"
          ]
        }
      ]
    },
    {
      "cell_type": "code",
      "source": [
        "# # TRAIN\n",
        "# image_gen_train = ImageDataGenerator(rescale=1./255., \n",
        "#                                      horizontal_flip=True, \n",
        "#                                      rotation_range=20, \n",
        "#                                      zoom_range=0.2)\n",
        "\n",
        "# train_generator = image_gen_train.flow_from_directory(\n",
        "#     train,\n",
        "#     directory = dir_base,\n",
        "#     target_size = (IMG_SHAPE,IMG_SHAPE),\n",
        "#     batch_size = BATCH_SIZE,\n",
        "#     class_mode = 'categorical'\n",
        "# )"
      ],
      "metadata": {
        "id": "c_i30C1W9ui_"
      },
      "execution_count": 14,
      "outputs": []
    },
    {
      "cell_type": "code",
      "source": [
        "# # VALID\n",
        "# image_gen_val = ImageDataGenerator(rescale=1./255.)\n",
        "\n",
        "# val_generator = image_gen_val.flow_from_directory(\n",
        "#     val,\n",
        "#     directory = dir_base,\n",
        "#     target_size = (IMG_SHAPE,IMG_SHAPE),\n",
        "#     batch_size = BATCH_SIZE,\n",
        "#     class_mode = 'categorical'\n",
        "# )"
      ],
      "metadata": {
        "id": "7Pm2Z80i-slL"
      },
      "execution_count": 15,
      "outputs": []
    },
    {
      "cell_type": "code",
      "source": [
        "# # TEST\n",
        "# image_gen_test = ImageDataGenerator(rescale=1./255.)\n",
        "\n",
        "# test_generator = image_gen_val.flow_from_directory(\n",
        "#     test,\n",
        "#     directory = dir_base,\n",
        "#     target_size = (IMG_SHAPE,IMG_SHAPE),\n",
        "#     batch_size = BATCH_SIZE,\n",
        "#     class_mode = 'categorical'\n",
        "# )"
      ],
      "metadata": {
        "id": "4gmdIJKg_54q"
      },
      "execution_count": 16,
      "outputs": []
    },
    {
      "cell_type": "markdown",
      "source": [
        "# Create CNN model"
      ],
      "metadata": {
        "id": "qEIQMrzcAWkn"
      }
    },
    {
      "cell_type": "code",
      "source": [
        "from tensorflow.keras.applications import MobileNetV2\n",
        "# get base models\n",
        "base_model = MobileNetV2(\n",
        "    input_shape=(IMG_SHAPE,IMG_SHAPE,3),\n",
        "    include_top=False,\n",
        "    weights='imagenet',\n",
        "    classes=3,\n",
        ")\n",
        "\n",
        "from tensorflow.keras import layers,Sequential\n",
        "from tensorflow.keras.models import Model\n",
        "\n",
        "num_class = 3\n",
        "\n",
        "#Adding custom layers\n",
        "x = base_model.output\n",
        "x = layers.GlobalAveragePooling2D()(x)\n",
        "x = layers.Dropout(0.2)(x)\n",
        "x = layers.Dense(1024, activation=\"relu\")(x)\n",
        "predictions = layers.Dense(num_class, activation=\"softmax\")(x)\n",
        "model = Model(inputs=base_model.input, outputs=predictions)"
      ],
      "metadata": {
        "colab": {
          "base_uri": "https://localhost:8080/"
        },
        "id": "aHjMKzMP_n53",
        "outputId": "37de087c-c9ec-4db5-ed15-b7c59d6dbadd"
      },
      "execution_count": 17,
      "outputs": [
        {
          "output_type": "stream",
          "name": "stderr",
          "text": [
            "WARNING:tensorflow:`input_shape` is undefined or non-square, or `rows` is not in [96, 128, 160, 192, 224]. Weights for input shape (224, 224) will be loaded as the default.\n"
          ]
        },
        {
          "output_type": "stream",
          "name": "stdout",
          "text": [
            "Downloading data from https://storage.googleapis.com/tensorflow/keras-applications/mobilenet_v2/mobilenet_v2_weights_tf_dim_ordering_tf_kernels_1.0_224_no_top.h5\n",
            "9412608/9406464 [==============================] - 0s 0us/step\n",
            "9420800/9406464 [==============================] - 0s 0us/step\n"
          ]
        }
      ]
    },
    {
      "cell_type": "code",
      "source": [
        "from tensorflow.keras.layers import Input\n",
        "from tensorflow.keras.applications import ResNet50\n",
        "from tensorflow.keras.applications import ResNet152V2\n",
        "\n",
        "classes = 3\n",
        "\n",
        "model = tf.keras.models.Sequential([\n",
        "    MobileNetV2(include_top=False, weights='imagenet', classes=classes, input_tensor=Input(shape=(150, 150, 3))),\n",
        "    tf.keras.layers.GlobalAveragePooling2D(),\n",
        "    tf.keras.layers.Dropout(0.5),\n",
        "    tf.keras.layers.Dense(1024, activation='relu'),\n",
        "    tf.keras.layers.Dense(512, activation='relu'),\n",
        "    tf.keras.layers.Dense(3, activation='softmax')\n",
        "])\n",
        "model.layers[0].trainable = False\n",
        "model.summary()"
      ],
      "metadata": {
        "colab": {
          "base_uri": "https://localhost:8080/"
        },
        "id": "kl8mnzmeAbSI",
        "outputId": "7585bb99-7f99-494b-f325-7c5cd32bf8f5"
      },
      "execution_count": 20,
      "outputs": [
        {
          "output_type": "stream",
          "name": "stderr",
          "text": [
            "WARNING:tensorflow:`input_shape` is undefined or non-square, or `rows` is not in [96, 128, 160, 192, 224]. Weights for input shape (224, 224) will be loaded as the default.\n"
          ]
        },
        {
          "output_type": "stream",
          "name": "stdout",
          "text": [
            "Model: \"sequential_2\"\n",
            "_________________________________________________________________\n",
            " Layer (type)                Output Shape              Param #   \n",
            "=================================================================\n",
            " mobilenetv2_1.00_224 (Funct  (None, 5, 5, 1280)       2257984   \n",
            " ional)                                                          \n",
            "                                                                 \n",
            " global_average_pooling2d_3   (None, 1280)             0         \n",
            " (GlobalAveragePooling2D)                                        \n",
            "                                                                 \n",
            " dropout_3 (Dropout)         (None, 1280)              0         \n",
            "                                                                 \n",
            " dense_8 (Dense)             (None, 1024)              1311744   \n",
            "                                                                 \n",
            " dense_9 (Dense)             (None, 512)               524800    \n",
            "                                                                 \n",
            " dense_10 (Dense)            (None, 3)                 1539      \n",
            "                                                                 \n",
            "=================================================================\n",
            "Total params: 4,096,067\n",
            "Trainable params: 1,838,083\n",
            "Non-trainable params: 2,257,984\n",
            "_________________________________________________________________\n"
          ]
        }
      ]
    },
    {
      "cell_type": "markdown",
      "source": [
        "# Compile the Model"
      ],
      "metadata": {
        "id": "DH80h3KVBDVz"
      }
    },
    {
      "cell_type": "code",
      "source": [
        "from tensorflow.keras.optimizers import RMSprop\n",
        "# compile model dengan 'adam' optimizer loss function 'categorical_crossentropy' \n",
        "model.compile(loss='categorical_crossentropy',\n",
        "              optimizer=tf.optimizers.Adam(),\n",
        "              metrics=['accuracy'])"
      ],
      "metadata": {
        "id": "-_P2GzYpA-Iv"
      },
      "execution_count": 21,
      "outputs": []
    },
    {
      "cell_type": "markdown",
      "source": [
        "early stopping"
      ],
      "metadata": {
        "id": "kO04UOZrBJER"
      }
    },
    {
      "cell_type": "code",
      "source": [
        "#callback\n",
        "class myCallback(tf.keras.callbacks.Callback):\n",
        "  def on_epoch_end(self, epoch, logs={}):\n",
        "    if(logs.get('accuracy')>0.95 and logs.get('val_accuracy')>0.95):\n",
        "      print(\"\\n akurasi telah mencapai >95%!\")\n",
        "      self.model.stop_training = True\n",
        "callbacks = myCallback()"
      ],
      "metadata": {
        "id": "UyyTFDsZBFtH"
      },
      "execution_count": 22,
      "outputs": []
    },
    {
      "cell_type": "code",
      "source": [
        "# latih model dengan model.fit \n",
        "history = model.fit(\n",
        "      train_generator,\n",
        "      #steps_per_epoch=12,  # berapa batch yang akan dieksekusi pada setiap epoch\n",
        "      epochs= 30, # tambahkan eposchs jika akurasi model belum optimal\n",
        "      validation_data=val_generator, # menampilkan akurasi pengujian data validasi\n",
        "      #validation_steps=5,  # berapa batch yang akan dieksekusi pada setiap epoch\n",
        "      verbose=2,\n",
        "      callbacks=[callbacks]\n",
        "      )"
      ],
      "metadata": {
        "colab": {
          "base_uri": "https://localhost:8080/"
        },
        "id": "eu48IHgeBKqa",
        "outputId": "04f5be15-c36d-4d1b-d9f9-9bfe275956f3"
      },
      "execution_count": 25,
      "outputs": [
        {
          "output_type": "stream",
          "name": "stdout",
          "text": [
            "Epoch 1/30\n",
            "8/8 - 11s - loss: 1.0841 - accuracy: 0.5323 - val_loss: 1.2286 - val_accuracy: 0.3607 - 11s/epoch - 1s/step\n",
            "Epoch 2/30\n",
            "8/8 - 11s - loss: 1.0137 - accuracy: 0.4516 - val_loss: 1.1752 - val_accuracy: 0.3279 - 11s/epoch - 1s/step\n",
            "Epoch 3/30\n",
            "8/8 - 11s - loss: 0.8919 - accuracy: 0.5323 - val_loss: 1.5200 - val_accuracy: 0.3279 - 11s/epoch - 1s/step\n",
            "Epoch 4/30\n",
            "8/8 - 11s - loss: 0.8927 - accuracy: 0.5363 - val_loss: 1.3002 - val_accuracy: 0.2951 - 11s/epoch - 1s/step\n",
            "Epoch 5/30\n",
            "8/8 - 11s - loss: 0.8013 - accuracy: 0.6613 - val_loss: 1.3320 - val_accuracy: 0.3115 - 11s/epoch - 1s/step\n",
            "Epoch 6/30\n",
            "8/8 - 11s - loss: 0.7093 - accuracy: 0.6815 - val_loss: 1.4910 - val_accuracy: 0.2623 - 11s/epoch - 1s/step\n",
            "Epoch 7/30\n",
            "8/8 - 10s - loss: 0.6104 - accuracy: 0.7419 - val_loss: 1.7244 - val_accuracy: 0.2623 - 10s/epoch - 1s/step\n",
            "Epoch 8/30\n",
            "8/8 - 11s - loss: 0.6827 - accuracy: 0.6935 - val_loss: 2.0867 - val_accuracy: 0.3115 - 11s/epoch - 1s/step\n",
            "Epoch 9/30\n",
            "8/8 - 11s - loss: 0.6269 - accuracy: 0.7218 - val_loss: 2.1195 - val_accuracy: 0.3115 - 11s/epoch - 1s/step\n",
            "Epoch 10/30\n",
            "8/8 - 11s - loss: 0.5214 - accuracy: 0.7621 - val_loss: 1.7468 - val_accuracy: 0.2459 - 11s/epoch - 1s/step\n",
            "Epoch 11/30\n",
            "8/8 - 11s - loss: 0.5338 - accuracy: 0.7661 - val_loss: 1.8739 - val_accuracy: 0.2623 - 11s/epoch - 1s/step\n",
            "Epoch 12/30\n",
            "8/8 - 11s - loss: 0.4892 - accuracy: 0.7863 - val_loss: 1.9042 - val_accuracy: 0.2459 - 11s/epoch - 1s/step\n",
            "Epoch 13/30\n",
            "8/8 - 11s - loss: 0.4209 - accuracy: 0.7984 - val_loss: 2.2265 - val_accuracy: 0.3607 - 11s/epoch - 1s/step\n",
            "Epoch 14/30\n",
            "8/8 - 11s - loss: 0.4421 - accuracy: 0.8226 - val_loss: 2.2908 - val_accuracy: 0.3115 - 11s/epoch - 1s/step\n",
            "Epoch 15/30\n",
            "8/8 - 11s - loss: 0.3821 - accuracy: 0.8669 - val_loss: 2.4519 - val_accuracy: 0.2787 - 11s/epoch - 1s/step\n",
            "Epoch 16/30\n",
            "8/8 - 10s - loss: 0.4162 - accuracy: 0.8226 - val_loss: 2.3655 - val_accuracy: 0.3115 - 10s/epoch - 1s/step\n",
            "Epoch 17/30\n",
            "8/8 - 11s - loss: 0.4337 - accuracy: 0.8145 - val_loss: 2.3150 - val_accuracy: 0.2951 - 11s/epoch - 1s/step\n",
            "Epoch 18/30\n",
            "8/8 - 11s - loss: 0.3726 - accuracy: 0.8306 - val_loss: 2.6468 - val_accuracy: 0.3443 - 11s/epoch - 1s/step\n",
            "Epoch 19/30\n",
            "8/8 - 11s - loss: 0.3592 - accuracy: 0.8589 - val_loss: 2.2039 - val_accuracy: 0.3770 - 11s/epoch - 1s/step\n",
            "Epoch 20/30\n",
            "8/8 - 11s - loss: 0.3083 - accuracy: 0.8669 - val_loss: 2.1541 - val_accuracy: 0.3115 - 11s/epoch - 1s/step\n",
            "Epoch 21/30\n",
            "8/8 - 11s - loss: 0.3450 - accuracy: 0.8750 - val_loss: 2.2903 - val_accuracy: 0.3443 - 11s/epoch - 1s/step\n",
            "Epoch 22/30\n",
            "8/8 - 11s - loss: 0.3654 - accuracy: 0.8589 - val_loss: 2.4008 - val_accuracy: 0.2951 - 11s/epoch - 1s/step\n",
            "Epoch 23/30\n",
            "8/8 - 10s - loss: 0.2638 - accuracy: 0.9032 - val_loss: 2.5542 - val_accuracy: 0.2787 - 10s/epoch - 1s/step\n",
            "Epoch 24/30\n",
            "8/8 - 11s - loss: 0.2946 - accuracy: 0.8952 - val_loss: 2.5639 - val_accuracy: 0.2787 - 11s/epoch - 1s/step\n",
            "Epoch 25/30\n",
            "8/8 - 11s - loss: 0.3060 - accuracy: 0.8710 - val_loss: 2.6739 - val_accuracy: 0.3279 - 11s/epoch - 1s/step\n",
            "Epoch 26/30\n",
            "8/8 - 11s - loss: 0.3384 - accuracy: 0.8669 - val_loss: 2.7236 - val_accuracy: 0.3770 - 11s/epoch - 1s/step\n",
            "Epoch 27/30\n",
            "8/8 - 11s - loss: 0.4528 - accuracy: 0.8185 - val_loss: 2.5641 - val_accuracy: 0.2623 - 11s/epoch - 1s/step\n",
            "Epoch 28/30\n",
            "8/8 - 11s - loss: 0.3511 - accuracy: 0.8427 - val_loss: 2.4103 - val_accuracy: 0.3279 - 11s/epoch - 1s/step\n",
            "Epoch 29/30\n",
            "8/8 - 11s - loss: 0.3546 - accuracy: 0.8468 - val_loss: 2.2421 - val_accuracy: 0.3443 - 11s/epoch - 1s/step\n",
            "Epoch 30/30\n",
            "8/8 - 11s - loss: 0.3799 - accuracy: 0.8427 - val_loss: 2.2331 - val_accuracy: 0.2623 - 11s/epoch - 1s/step\n"
          ]
        }
      ]
    },
    {
      "cell_type": "code",
      "source": [
        "# Summarize history for loss\n",
        "\n",
        "plt.plot(history.history['loss'])\n",
        "plt.plot(history.history['val_loss'])\n",
        "plt.title('Model Loss')\n",
        "plt.ylabel('Loss')\n",
        "plt.xlabel('Epoch')\n",
        "plt.legend(['Train', 'Validation'], loc='upper left', bbox_to_anchor=(1,1))\n",
        "plt.show()"
      ],
      "metadata": {
        "colab": {
          "base_uri": "https://localhost:8080/",
          "height": 295
        },
        "id": "4AdeNuZKFaUp",
        "outputId": "b92eb9a0-ae49-456e-a193-57e2b0725587"
      },
      "execution_count": 26,
      "outputs": [
        {
          "output_type": "display_data",
          "data": {
            "text/plain": [
              "<Figure size 432x288 with 1 Axes>"
            ],
            "image/png": "[encoded data removed]"
          },
          "metadata": {
            "needs_background": "light"
          }
        }
      ]
    },
    {
      "cell_type": "code",
      "source": [
        "# Summarize history for loss\n",
        "\n",
        "plt.plot(history.history['accuracy'])\n",
        "plt.plot(history.history['val_accuracy'])\n",
        "plt.title('Model Accuracy')\n",
        "plt.ylabel('Accuracy')\n",
        "plt.xlabel('Epoch')\n",
        "plt.legend(['Train', 'Validation'], loc='upper left', bbox_to_anchor=(1,1))\n",
        "plt.show()"
      ],
      "metadata": {
        "colab": {
          "base_uri": "https://localhost:8080/",
          "height": 295
        },
        "id": "ygQgsK_yBdRW",
        "outputId": "efbd3397-323b-48e6-8991-58431db6dbeb"
      },
      "execution_count": 27,
      "outputs": [
        {
          "output_type": "display_data",
          "data": {
            "text/plain": [
              "<Figure size 432x288 with 1 Axes>"
            ],
            "image/png": "[encoded data removed]"
          },
          "metadata": {
            "needs_background": "light"
          }
        }
      ]
    },
    {
      "cell_type": "code",
      "source": [],
      "metadata": {
        "id": "g-vCopHEFij_"
      },
      "execution_count": null,
      "outputs": []
    }
  ]
}