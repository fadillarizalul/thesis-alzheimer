{
  "nbformat": 4,
  "nbformat_minor": 0,
  "metadata": {
    "colab": {
      "name": "alzheimer image classification",
      "provenance": [],
      "authorship_tag": "ABX9TyMjNpmfhzry5VFUy3+fbyJR",
      "include_colab_link": true
    },
    "kernelspec": {
      "name": "python3",
      "display_name": "Python 3"
    },
    "language_info": {
      "name": "python"
    }
  },
  "cells": [
    {
      "cell_type": "markdown",
      "metadata": {
        "id": "view-in-github",
        "colab_type": "text"
      },
      "source": [
        "<a href=\"https://colab.research.google.com/github/fadillarizalul/thesis-alzheimer/blob/main/alzheimer_image_classification.ipynb\" target=\"_parent\"><img src=\"https://colab.research.google.com/assets/colab-badge.svg\" alt=\"Open In Colab\"/></a>"
      ]
    },
    {
      "cell_type": "markdown",
      "source": [
        "# set up dan inisialisasi"
      ],
      "metadata": {
        "id": "8dVYnyo1hObz"
      }
    },
    {
      "cell_type": "code",
      "execution_count": 1,
      "metadata": {
        "colab": {
          "base_uri": "https://localhost:8080/"
        },
        "id": "9BuCcYouVFc0",
        "outputId": "a6af2a95-c8c4-4aa0-f9c5-37262749124e"
      },
      "outputs": [
        {
          "output_type": "stream",
          "name": "stdout",
          "text": [
            "Downloading alzheimers-dataset-4-class-of-images.zip to /content\n",
            " 73% 25.0M/34.1M [00:00<00:00, 48.2MB/s]\n",
            "100% 34.1M/34.1M [00:00<00:00, 52.1MB/s]\n"
          ]
        }
      ],
      "source": [
        "import os\n",
        "os.environ['KAGGLE_USERNAME'] = \"fadillarizalul\" # username from the json file\n",
        "os.environ['KAGGLE_KEY'] = \"5421cf5f298fedfa046e9db30f9f8ec3\" # key from the json file\n",
        "!kaggle datasets download -d tourist55/alzheimers-dataset-4-class-of-images # api copied from kaggle"
      ]
    },
    {
      "cell_type": "code",
      "source": [
        "# !mkdir tourist55/alzheimers-dataset-4-class-of-images\n",
        "# !unzip -qq alzheimers-dataset-4-class-of-images.zip -d alzheimers-dataset-4-class-of-images\n",
        "# !ls alzheimers-dataset-4-class-of-images"
      ],
      "metadata": {
        "id": "Jvso5lHEYymU"
      },
      "execution_count": 3,
      "outputs": []
    },
    {
      "cell_type": "code",
      "source": [
        "# creating train and test path of dataset\n",
        "\n",
        "train_dir = \"/content/alzheimers-dataset-4-class-of-images/Alzheimer_s Dataset/train\"\n",
        "test_dir = \"/content/alzheimers-dataset-4-class-of-images/Alzheimer_s Dataset/test\""
      ],
      "metadata": {
        "id": "6VRsqxQvZMEj"
      },
      "execution_count": 4,
      "outputs": []
    },
    {
      "cell_type": "markdown",
      "source": [
        "# augmentasi dan split data"
      ],
      "metadata": {
        "id": "MPnipObYhSo1"
      }
    },
    {
      "cell_type": "code",
      "source": [
        "import tensorflow as tf\n",
        "import keras_preprocessing\n",
        "from keras_preprocessing import image\n",
        "from keras_preprocessing.image import ImageDataGenerator"
      ],
      "metadata": {
        "id": "E0ybKmB2aKfu"
      },
      "execution_count": 5,
      "outputs": []
    },
    {
      "cell_type": "code",
      "source": [
        "train_datagen = ImageDataGenerator(\n",
        "    rescale = 1./255,\n",
        "    rotation_range = 20,\n",
        "    horizontal_flip = True,\n",
        "    shear_range = 0.2,\n",
        "    zoom_range = 0.2,\n",
        "    fill_mode = 'nearest', \n",
        "    validation_split=0.2\n",
        ")"
      ],
      "metadata": {
        "id": "vKw4qtqvhVZ-"
      },
      "execution_count": 6,
      "outputs": []
    },
    {
      "cell_type": "code",
      "source": [
        "test_datagen = ImageDataGenerator(\n",
        "    rescale = 1./225, \n",
        "    validation_split=0.2\n",
        ")"
      ],
      "metadata": {
        "id": "O9n4I4wZhb8-"
      },
      "execution_count": 7,
      "outputs": []
    },
    {
      "cell_type": "code",
      "source": [
        "seed = 1\n",
        "\n",
        "train_generator = train_datagen.flow_from_directory(\n",
        "    train_dir,\n",
        "    target_size = (150,150),\n",
        "    batch_size = 32,\n",
        "    class_mode = 'categorical',\n",
        "    seed=seed,\n",
        "    subset='training'\n",
        ")\n",
        " \n",
        "val_generator = test_datagen.flow_from_directory(\n",
        "    train_dir,\n",
        "    target_size = (150,150),\n",
        "    batch_size = 32,\n",
        "    class_mode = 'categorical',\n",
        "    seed=seed,\n",
        "    subset='validation'\n",
        ")"
      ],
      "metadata": {
        "colab": {
          "base_uri": "https://localhost:8080/"
        },
        "id": "w7MqWW2Uhdal",
        "outputId": "9f1da43d-a109-40a1-d702-81369cf0ce59"
      },
      "execution_count": 8,
      "outputs": [
        {
          "output_type": "stream",
          "name": "stdout",
          "text": [
            "Found 4098 images belonging to 4 classes.\n",
            "Found 1023 images belonging to 4 classes.\n"
          ]
        }
      ]
    },
    {
      "cell_type": "markdown",
      "source": [
        "# create model architecture"
      ],
      "metadata": {
        "id": "GRETyJMHirX4"
      }
    },
    {
      "cell_type": "code",
      "source": [
        "import numpy as np\n",
        "import pandas as pd\n",
        "import matplotlib.pyplot as plt\n",
        "import tensorflow as tf\n",
        "import keras_preprocessing\n",
        "from keras_preprocessing import image\n",
        "from keras_preprocessing.image import ImageDataGenerator\n",
        "from tensorflow.keras.models import Sequential\n",
        "from keras.layers import Conv2D, Dense, Flatten, MaxPool2D, Dropout\n",
        "\n",
        "model = Sequential()\n",
        "\n",
        "# Layer CNN pertama\n",
        "model.add(Conv2D(filters=32, kernel_size=3, activation='relu', input_shape=(150,150,3)))\n",
        "model.add(MaxPool2D(pool_size=(2, 2)))\n",
        "model.add(Dropout(rate=0.25))\n",
        "\n",
        "# Layer CNN kedua\n",
        "model.add(Conv2D(filters=64, kernel_size=3, activation='relu'))\n",
        "model.add(MaxPool2D(pool_size=(2, 2)))\n",
        "model.add(Dropout(rate=0.25))\n",
        "\n",
        "# Layer CNN ketiga\n",
        "model.add(Conv2D(filters=64, kernel_size=3, activation='relu'))\n",
        "\n",
        "model.summary()"
      ],
      "metadata": {
        "colab": {
          "base_uri": "https://localhost:8080/"
        },
        "id": "1k1tFggfhiUs",
        "outputId": "5fa99bba-acbf-4013-bc59-52ca2869e2b0"
      },
      "execution_count": 9,
      "outputs": [
        {
          "output_type": "stream",
          "name": "stdout",
          "text": [
            "Model: \"sequential\"\n",
            "_________________________________________________________________\n",
            " Layer (type)                Output Shape              Param #   \n",
            "=================================================================\n",
            " conv2d (Conv2D)             (None, 148, 148, 32)      896       \n",
            "                                                                 \n",
            " max_pooling2d (MaxPooling2D  (None, 74, 74, 32)       0         \n",
            " )                                                               \n",
            "                                                                 \n",
            " dropout (Dropout)           (None, 74, 74, 32)        0         \n",
            "                                                                 \n",
            " conv2d_1 (Conv2D)           (None, 72, 72, 64)        18496     \n",
            "                                                                 \n",
            " max_pooling2d_1 (MaxPooling  (None, 36, 36, 64)       0         \n",
            " 2D)                                                             \n",
            "                                                                 \n",
            " dropout_1 (Dropout)         (None, 36, 36, 64)        0         \n",
            "                                                                 \n",
            " conv2d_2 (Conv2D)           (None, 34, 34, 64)        36928     \n",
            "                                                                 \n",
            "=================================================================\n",
            "Total params: 56,320\n",
            "Trainable params: 56,320\n",
            "Non-trainable params: 0\n",
            "_________________________________________________________________\n"
          ]
        }
      ]
    },
    {
      "cell_type": "code",
      "source": [
        ""
      ],
      "metadata": {
        "id": "vKbfclRii0z5"
      },
      "execution_count": null,
      "outputs": []
    }
  ]
}