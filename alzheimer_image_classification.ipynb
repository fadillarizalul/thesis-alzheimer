{
  "nbformat": 4,
  "nbformat_minor": 0,
  "metadata": {
    "colab": {
      "name": "alzheimer image classification",
      "provenance": [],
      "toc_visible": true,
      "authorship_tag": "ABX9TyN0rQqO8jQx+30mANDELRYg",
      "include_colab_link": true
    },
    "kernelspec": {
      "name": "python3",
      "display_name": "Python 3"
    },
    "language_info": {
      "name": "python"
    },
    "accelerator": "GPU",
    "gpuClass": "standard"
  },
  "cells": [
    {
      "cell_type": "markdown",
      "metadata": {
        "id": "view-in-github",
        "colab_type": "text"
      },
      "source": [
        "<a href=\"https://colab.research.google.com/github/fadillarizalul/thesis-alzheimer/blob/main/alzheimer_image_classification.ipynb\" target=\"_parent\"><img src=\"https://colab.research.google.com/assets/colab-badge.svg\" alt=\"Open In Colab\"/></a>"
      ]
    },
    {
      "cell_type": "markdown",
      "source": [
        "# set up dan inisialisasi"
      ],
      "metadata": {
        "id": "8dVYnyo1hObz"
      }
    },
    {
      "cell_type": "code",
      "execution_count": 1,
      "metadata": {
        "colab": {
          "base_uri": "https://localhost:8080/"
        },
        "id": "9BuCcYouVFc0",
        "outputId": "80c68bca-6a1f-495e-d512-2527f83ae6b3"
      },
      "outputs": [
        {
          "output_type": "stream",
          "name": "stdout",
          "text": [
            "Mounted at /content/drive\n"
          ]
        }
      ],
      "source": [
        "import numpy as np\n",
        "import matplotlib.pyplot as plt\n",
        "import pandas as pd\n",
        "%matplotlib inline\n",
        "import seaborn as sns\n",
        "\n",
        "#import data dari drive\n",
        "from google.colab import drive\n",
        "drive.mount('/content/drive')"
      ]
    },
    {
      "cell_type": "code",
      "source": [
        "!wget --no-check-certificate \\\n",
        "https://github.com/fadillarizalul/thesis-alzheimer/raw/main/dataset/3%20classes%20alzheimer.zip \\\n",
        "  -O 3-classes-alzheimer.zip"
      ],
      "metadata": {
        "id": "Jvso5lHEYymU",
        "outputId": "7f75a762-2644-413c-feb0-a829f3750e5a",
        "colab": {
          "base_uri": "https://localhost:8080/"
        }
      },
      "execution_count": 2,
      "outputs": [
        {
          "output_type": "stream",
          "name": "stdout",
          "text": [
            "--2022-08-31 09:04:13--  https://github.com/fadillarizalul/thesis-alzheimer/raw/main/dataset/3%20classes%20alzheimer.zip\n",
            "Resolving github.com (github.com)... 192.30.255.112\n",
            "Connecting to github.com (github.com)|192.30.255.112|:443... connected.\n",
            "HTTP request sent, awaiting response... 302 Found\n",
            "Location: https://raw.githubusercontent.com/fadillarizalul/thesis-alzheimer/main/dataset/3%20classes%20alzheimer.zip [following]\n",
            "--2022-08-31 09:04:13--  https://raw.githubusercontent.com/fadillarizalul/thesis-alzheimer/main/dataset/3%20classes%20alzheimer.zip\n",
            "Resolving raw.githubusercontent.com (raw.githubusercontent.com)... 185.199.108.133, 185.199.111.133, 185.199.109.133, ...\n",
            "Connecting to raw.githubusercontent.com (raw.githubusercontent.com)|185.199.108.133|:443... connected.\n",
            "HTTP request sent, awaiting response... 200 OK\n",
            "Length: 14145599 (13M) [application/zip]\n",
            "Saving to: ‘3-classes-alzheimer.zip’\n",
            "\n",
            "3-classes-alzheimer 100%[===================>]  13.49M  --.-KB/s    in 0.06s   \n",
            "\n",
            "2022-08-31 09:04:14 (215 MB/s) - ‘3-classes-alzheimer.zip’ saved [14145599/14145599]\n",
            "\n"
          ]
        }
      ]
    },
    {
      "cell_type": "markdown",
      "source": [
        "Extracting ZIP files"
      ],
      "metadata": {
        "id": "ji6N-io5JTYS"
      }
    },
    {
      "cell_type": "code",
      "source": [
        "!unzip /content/3-classes-alzheimer.zip"
      ],
      "metadata": {
        "id": "W-WJ4DSAJV0A",
        "outputId": "61f35006-dd28-472d-d175-0b11e28d6898",
        "colab": {
          "base_uri": "https://localhost:8080/"
        }
      },
      "execution_count": 3,
      "outputs": [
        {
          "output_type": "stream",
          "name": "stdout",
          "text": [
            "Archive:  /content/3-classes-alzheimer.zip\n",
            "   creating: 3 classes alzheimer/\n",
            "   creating: 3 classes alzheimer/AD 20 patients/\n",
            "  inflating: 3 classes alzheimer/AD 20 patients/img-00001-00001.jpg  \n",
            "  inflating: 3 classes alzheimer/AD 20 patients/img-00001-00002.jpg  \n",
            "  inflating: 3 classes alzheimer/AD 20 patients/img-00001-00003.jpg  \n",
            "  inflating: 3 classes alzheimer/AD 20 patients/img-00001-00004.jpg  \n",
            "  inflating: 3 classes alzheimer/AD 20 patients/img-00001-00005.jpg  \n",
            "  inflating: 3 classes alzheimer/AD 20 patients/img-00002-00001.jpg  \n",
            "  inflating: 3 classes alzheimer/AD 20 patients/img-00002-00002.jpg  \n",
            "  inflating: 3 classes alzheimer/AD 20 patients/img-00002-00003.jpg  \n",
            "  inflating: 3 classes alzheimer/AD 20 patients/img-00002-00004.jpg  \n",
            "  inflating: 3 classes alzheimer/AD 20 patients/img-00002-00005.jpg  \n",
            "  inflating: 3 classes alzheimer/AD 20 patients/img-00003-00001.jpg  \n",
            "  inflating: 3 classes alzheimer/AD 20 patients/img-00003-00002.jpg  \n",
            "  inflating: 3 classes alzheimer/AD 20 patients/img-00003-00003.jpg  \n",
            "  inflating: 3 classes alzheimer/AD 20 patients/img-00003-00004.jpg  \n",
            "  inflating: 3 classes alzheimer/AD 20 patients/img-00003-00005.jpg  \n",
            "  inflating: 3 classes alzheimer/AD 20 patients/img-00004-00001.jpg  \n",
            "  inflating: 3 classes alzheimer/AD 20 patients/img-00004-00002.jpg  \n",
            "  inflating: 3 classes alzheimer/AD 20 patients/img-00004-00003.jpg  \n",
            "  inflating: 3 classes alzheimer/AD 20 patients/img-00004-00004.jpg  \n",
            "  inflating: 3 classes alzheimer/AD 20 patients/img-00004-00005.jpg  \n",
            "  inflating: 3 classes alzheimer/AD 20 patients/img-00004-00006.jpg  \n",
            "  inflating: 3 classes alzheimer/AD 20 patients/img-00004-00007.jpg  \n",
            "  inflating: 3 classes alzheimer/AD 20 patients/img-00004-00008.jpg  \n",
            "  inflating: 3 classes alzheimer/AD 20 patients/img-00004-00009.jpg  \n",
            "  inflating: 3 classes alzheimer/AD 20 patients/img-00005-00001.jpg  \n",
            "  inflating: 3 classes alzheimer/AD 20 patients/img-00005-00002.jpg  \n",
            "  inflating: 3 classes alzheimer/AD 20 patients/img-00005-00003.jpg  \n",
            "  inflating: 3 classes alzheimer/AD 20 patients/img-00005-00004.jpg  \n",
            "  inflating: 3 classes alzheimer/AD 20 patients/img-00005-00005.jpg  \n",
            "  inflating: 3 classes alzheimer/AD 20 patients/img-00005-00006.jpg  \n",
            "  inflating: 3 classes alzheimer/AD 20 patients/img-00005-00007.jpg  \n",
            "  inflating: 3 classes alzheimer/AD 20 patients/img-00005-00008.jpg  \n",
            "  inflating: 3 classes alzheimer/AD 20 patients/img-00005-00009.jpg  \n",
            "  inflating: 3 classes alzheimer/AD 20 patients/img-00006-00001.jpg  \n",
            "  inflating: 3 classes alzheimer/AD 20 patients/img-00006-00002.jpg  \n",
            "  inflating: 3 classes alzheimer/AD 20 patients/img-00006-00003.jpg  \n",
            "  inflating: 3 classes alzheimer/AD 20 patients/img-00006-00004.jpg  \n",
            "  inflating: 3 classes alzheimer/AD 20 patients/img-00006-00005.jpg  \n",
            "  inflating: 3 classes alzheimer/AD 20 patients/img-00007-00001.jpg  \n",
            "  inflating: 3 classes alzheimer/AD 20 patients/img-00007-00002.jpg  \n",
            "  inflating: 3 classes alzheimer/AD 20 patients/img-00007-00003.jpg  \n",
            "  inflating: 3 classes alzheimer/AD 20 patients/img-00007-00004.jpg  \n",
            "  inflating: 3 classes alzheimer/AD 20 patients/img-00007-00005.jpg  \n",
            "  inflating: 3 classes alzheimer/AD 20 patients/img-00008-00001.jpg  \n",
            "  inflating: 3 classes alzheimer/AD 20 patients/img-00008-00002.jpg  \n",
            "  inflating: 3 classes alzheimer/AD 20 patients/img-00008-00003.jpg  \n",
            "  inflating: 3 classes alzheimer/AD 20 patients/img-00008-00004.jpg  \n",
            "  inflating: 3 classes alzheimer/AD 20 patients/img-00008-00005.jpg  \n",
            "  inflating: 3 classes alzheimer/AD 20 patients/img-00009-00001.jpg  \n",
            "  inflating: 3 classes alzheimer/AD 20 patients/img-00009-00002.jpg  \n",
            "  inflating: 3 classes alzheimer/AD 20 patients/img-00009-00003.jpg  \n",
            "  inflating: 3 classes alzheimer/AD 20 patients/img-00009-00004.jpg  \n",
            "  inflating: 3 classes alzheimer/AD 20 patients/img-00009-00005.jpg  \n",
            "  inflating: 3 classes alzheimer/AD 20 patients/img-00010-00001.jpg  \n",
            "  inflating: 3 classes alzheimer/AD 20 patients/img-00010-00002.jpg  \n",
            "  inflating: 3 classes alzheimer/AD 20 patients/img-00010-00003.jpg  \n",
            "  inflating: 3 classes alzheimer/AD 20 patients/img-00010-00004.jpg  \n",
            "  inflating: 3 classes alzheimer/AD 20 patients/img-00010-00005.jpg  \n",
            "  inflating: 3 classes alzheimer/AD 20 patients/img-00011-00001.jpg  \n",
            "  inflating: 3 classes alzheimer/AD 20 patients/img-00011-00002.jpg  \n",
            "  inflating: 3 classes alzheimer/AD 20 patients/img-00011-00003.jpg  \n",
            "  inflating: 3 classes alzheimer/AD 20 patients/img-00011-00004.jpg  \n",
            "  inflating: 3 classes alzheimer/AD 20 patients/img-00011-00005.jpg  \n",
            "  inflating: 3 classes alzheimer/AD 20 patients/img-00012-00001.jpg  \n",
            "  inflating: 3 classes alzheimer/AD 20 patients/img-00012-00002.jpg  \n",
            "  inflating: 3 classes alzheimer/AD 20 patients/img-00012-00003.jpg  \n",
            "  inflating: 3 classes alzheimer/AD 20 patients/img-00012-00004.jpg  \n",
            "  inflating: 3 classes alzheimer/AD 20 patients/img-00012-00005.jpg  \n",
            "  inflating: 3 classes alzheimer/AD 20 patients/img-00013-00001.jpg  \n",
            "  inflating: 3 classes alzheimer/AD 20 patients/img-00013-00002.jpg  \n",
            "  inflating: 3 classes alzheimer/AD 20 patients/img-00013-00003.jpg  \n",
            "  inflating: 3 classes alzheimer/AD 20 patients/img-00013-00004.jpg  \n",
            "  inflating: 3 classes alzheimer/AD 20 patients/img-00013-00005.jpg  \n",
            "  inflating: 3 classes alzheimer/AD 20 patients/img-00014-00001.jpg  \n",
            "  inflating: 3 classes alzheimer/AD 20 patients/img-00014-00002.jpg  \n",
            "  inflating: 3 classes alzheimer/AD 20 patients/img-00014-00003.jpg  \n",
            "  inflating: 3 classes alzheimer/AD 20 patients/img-00014-00004.jpg  \n",
            "  inflating: 3 classes alzheimer/AD 20 patients/img-00014-00005.jpg  \n",
            "  inflating: 3 classes alzheimer/AD 20 patients/img-00015-00001.jpg  \n",
            "  inflating: 3 classes alzheimer/AD 20 patients/img-00015-00002.jpg  \n",
            "  inflating: 3 classes alzheimer/AD 20 patients/img-00015-00003.jpg  \n",
            "  inflating: 3 classes alzheimer/AD 20 patients/img-00015-00004.jpg  \n",
            "  inflating: 3 classes alzheimer/AD 20 patients/img-00015-00005.jpg  \n",
            "  inflating: 3 classes alzheimer/AD 20 patients/img-00016-00001.jpg  \n",
            "  inflating: 3 classes alzheimer/AD 20 patients/img-00016-00002.jpg  \n",
            "  inflating: 3 classes alzheimer/AD 20 patients/img-00016-00003.jpg  \n",
            "  inflating: 3 classes alzheimer/AD 20 patients/img-00016-00004.jpg  \n",
            "  inflating: 3 classes alzheimer/AD 20 patients/img-00016-00005.jpg  \n",
            "  inflating: 3 classes alzheimer/AD 20 patients/img-00017-00001.jpg  \n",
            "  inflating: 3 classes alzheimer/AD 20 patients/img-00017-00002.jpg  \n",
            "  inflating: 3 classes alzheimer/AD 20 patients/img-00017-00003.jpg  \n",
            "  inflating: 3 classes alzheimer/AD 20 patients/img-00017-00004.jpg  \n",
            "  inflating: 3 classes alzheimer/AD 20 patients/img-00017-00005.jpg  \n",
            "  inflating: 3 classes alzheimer/AD 20 patients/img-00018-00001.jpg  \n",
            "  inflating: 3 classes alzheimer/AD 20 patients/img-00018-00002.jpg  \n",
            "  inflating: 3 classes alzheimer/AD 20 patients/img-00018-00003.jpg  \n",
            "  inflating: 3 classes alzheimer/AD 20 patients/img-00018-00004.jpg  \n",
            "  inflating: 3 classes alzheimer/AD 20 patients/img-00018-00005.jpg  \n",
            "  inflating: 3 classes alzheimer/AD 20 patients/img-00019-00001.jpg  \n",
            "  inflating: 3 classes alzheimer/AD 20 patients/img-00019-00002.jpg  \n",
            "  inflating: 3 classes alzheimer/AD 20 patients/img-00019-00003.jpg  \n",
            "  inflating: 3 classes alzheimer/AD 20 patients/img-00019-00004.jpg  \n",
            "  inflating: 3 classes alzheimer/AD 20 patients/img-00019-00005.jpg  \n",
            "  inflating: 3 classes alzheimer/AD 20 patients/img-00020-00001.jpg  \n",
            "  inflating: 3 classes alzheimer/AD 20 patients/img-00020-00002.jpg  \n",
            "  inflating: 3 classes alzheimer/AD 20 patients/img-00020-00003.jpg  \n",
            "  inflating: 3 classes alzheimer/AD 20 patients/img-00020-00004.jpg  \n",
            "  inflating: 3 classes alzheimer/AD 20 patients/img-00020-00005.jpg  \n",
            "   creating: 3 classes alzheimer/CN 20 patients/\n",
            "  inflating: 3 classes alzheimer/CN 20 patients/img-00001-00001.jpg  \n",
            "  inflating: 3 classes alzheimer/CN 20 patients/img-00001-00002.jpg  \n",
            "  inflating: 3 classes alzheimer/CN 20 patients/img-00001-00003.jpg  \n",
            "  inflating: 3 classes alzheimer/CN 20 patients/img-00001-00004.jpg  \n",
            "  inflating: 3 classes alzheimer/CN 20 patients/img-00001-00005.jpg  \n",
            "  inflating: 3 classes alzheimer/CN 20 patients/img-00002-00001.jpg  \n",
            "  inflating: 3 classes alzheimer/CN 20 patients/img-00002-00002.jpg  \n",
            "  inflating: 3 classes alzheimer/CN 20 patients/img-00002-00003.jpg  \n",
            "  inflating: 3 classes alzheimer/CN 20 patients/img-00002-00004.jpg  \n",
            "  inflating: 3 classes alzheimer/CN 20 patients/img-00002-00005.jpg  \n",
            "  inflating: 3 classes alzheimer/CN 20 patients/img-00003-00001.jpg  \n",
            "  inflating: 3 classes alzheimer/CN 20 patients/img-00003-00002.jpg  \n",
            "  inflating: 3 classes alzheimer/CN 20 patients/img-00003-00003.jpg  \n",
            "  inflating: 3 classes alzheimer/CN 20 patients/img-00003-00004.jpg  \n",
            "  inflating: 3 classes alzheimer/CN 20 patients/img-00003-00005.jpg  \n",
            "  inflating: 3 classes alzheimer/CN 20 patients/img-00004-00001.jpg  \n",
            "  inflating: 3 classes alzheimer/CN 20 patients/img-00004-00002.jpg  \n",
            "  inflating: 3 classes alzheimer/CN 20 patients/img-00004-00003.jpg  \n",
            "  inflating: 3 classes alzheimer/CN 20 patients/img-00004-00004.jpg  \n",
            "  inflating: 3 classes alzheimer/CN 20 patients/img-00004-00005.jpg  \n",
            "  inflating: 3 classes alzheimer/CN 20 patients/img-00004-00006.jpg  \n",
            "  inflating: 3 classes alzheimer/CN 20 patients/img-00005-00001.jpg  \n",
            "  inflating: 3 classes alzheimer/CN 20 patients/img-00005-00002.jpg  \n",
            "  inflating: 3 classes alzheimer/CN 20 patients/img-00005-00003.jpg  \n",
            "  inflating: 3 classes alzheimer/CN 20 patients/img-00005-00004.jpg  \n",
            "  inflating: 3 classes alzheimer/CN 20 patients/img-00005-00005.jpg  \n",
            "  inflating: 3 classes alzheimer/CN 20 patients/img-00006-00001.jpg  \n",
            "  inflating: 3 classes alzheimer/CN 20 patients/img-00006-00002.jpg  \n",
            "  inflating: 3 classes alzheimer/CN 20 patients/img-00006-00003.jpg  \n",
            "  inflating: 3 classes alzheimer/CN 20 patients/img-00006-00004.jpg  \n",
            "  inflating: 3 classes alzheimer/CN 20 patients/img-00006-00005.jpg  \n",
            "  inflating: 3 classes alzheimer/CN 20 patients/img-00007-00001.jpg  \n",
            "  inflating: 3 classes alzheimer/CN 20 patients/img-00007-00002.jpg  \n",
            "  inflating: 3 classes alzheimer/CN 20 patients/img-00007-00003.jpg  \n",
            "  inflating: 3 classes alzheimer/CN 20 patients/img-00007-00004.jpg  \n",
            "  inflating: 3 classes alzheimer/CN 20 patients/img-00007-00005.jpg  \n",
            "  inflating: 3 classes alzheimer/CN 20 patients/img-00008-00001.jpg  \n",
            "  inflating: 3 classes alzheimer/CN 20 patients/img-00008-00002.jpg  \n",
            "  inflating: 3 classes alzheimer/CN 20 patients/img-00008-00003.jpg  \n",
            "  inflating: 3 classes alzheimer/CN 20 patients/img-00008-00004.jpg  \n",
            "  inflating: 3 classes alzheimer/CN 20 patients/img-00008-00005.jpg  \n",
            "  inflating: 3 classes alzheimer/CN 20 patients/img-00009-00001.jpg  \n",
            "  inflating: 3 classes alzheimer/CN 20 patients/img-00009-00002.jpg  \n",
            "  inflating: 3 classes alzheimer/CN 20 patients/img-00009-00003.jpg  \n",
            "  inflating: 3 classes alzheimer/CN 20 patients/img-00009-00004.jpg  \n",
            "  inflating: 3 classes alzheimer/CN 20 patients/img-00009-00005.jpg  \n",
            "  inflating: 3 classes alzheimer/CN 20 patients/img-00010-00001.jpg  \n",
            "  inflating: 3 classes alzheimer/CN 20 patients/img-00010-00002.jpg  \n",
            "  inflating: 3 classes alzheimer/CN 20 patients/img-00010-00003.jpg  \n",
            "  inflating: 3 classes alzheimer/CN 20 patients/img-00010-00004.jpg  \n",
            "  inflating: 3 classes alzheimer/CN 20 patients/img-00010-00005.jpg  \n",
            "  inflating: 3 classes alzheimer/CN 20 patients/img-00011-00001.jpg  \n",
            "  inflating: 3 classes alzheimer/CN 20 patients/img-00011-00002.jpg  \n",
            "  inflating: 3 classes alzheimer/CN 20 patients/img-00011-00003.jpg  \n",
            "  inflating: 3 classes alzheimer/CN 20 patients/img-00011-00004.jpg  \n",
            "  inflating: 3 classes alzheimer/CN 20 patients/img-00011-00005.jpg  \n",
            "  inflating: 3 classes alzheimer/CN 20 patients/img-00012-00001.jpg  \n",
            "  inflating: 3 classes alzheimer/CN 20 patients/img-00012-00002.jpg  \n",
            "  inflating: 3 classes alzheimer/CN 20 patients/img-00012-00003.jpg  \n",
            "  inflating: 3 classes alzheimer/CN 20 patients/img-00012-00004.jpg  \n",
            "  inflating: 3 classes alzheimer/CN 20 patients/img-00012-00005.jpg  \n",
            "  inflating: 3 classes alzheimer/CN 20 patients/img-00013-00001.jpg  \n",
            "  inflating: 3 classes alzheimer/CN 20 patients/img-00013-00002.jpg  \n",
            "  inflating: 3 classes alzheimer/CN 20 patients/img-00013-00003.jpg  \n",
            "  inflating: 3 classes alzheimer/CN 20 patients/img-00013-00004.jpg  \n",
            "  inflating: 3 classes alzheimer/CN 20 patients/img-00013-00005.jpg  \n",
            "  inflating: 3 classes alzheimer/CN 20 patients/img-00014-00001.jpg  \n",
            "  inflating: 3 classes alzheimer/CN 20 patients/img-00014-00002.jpg  \n",
            "  inflating: 3 classes alzheimer/CN 20 patients/img-00014-00003.jpg  \n",
            "  inflating: 3 classes alzheimer/CN 20 patients/img-00014-00004.jpg  \n",
            "  inflating: 3 classes alzheimer/CN 20 patients/img-00014-00005.jpg  \n",
            "  inflating: 3 classes alzheimer/CN 20 patients/img-00015-00001.jpg  \n",
            "  inflating: 3 classes alzheimer/CN 20 patients/img-00015-00002.jpg  \n",
            "  inflating: 3 classes alzheimer/CN 20 patients/img-00015-00003.jpg  \n",
            "  inflating: 3 classes alzheimer/CN 20 patients/img-00015-00004.jpg  \n",
            "  inflating: 3 classes alzheimer/CN 20 patients/img-00015-00005.jpg  \n",
            "  inflating: 3 classes alzheimer/CN 20 patients/img-00016-00001.jpg  \n",
            "  inflating: 3 classes alzheimer/CN 20 patients/img-00016-00002.jpg  \n",
            "  inflating: 3 classes alzheimer/CN 20 patients/img-00016-00003.jpg  \n",
            "  inflating: 3 classes alzheimer/CN 20 patients/img-00016-00004.jpg  \n",
            "  inflating: 3 classes alzheimer/CN 20 patients/img-00016-00005.jpg  \n",
            "  inflating: 3 classes alzheimer/CN 20 patients/img-00017-00001.jpg  \n",
            "  inflating: 3 classes alzheimer/CN 20 patients/img-00017-00002.jpg  \n",
            "  inflating: 3 classes alzheimer/CN 20 patients/img-00017-00003.jpg  \n",
            "  inflating: 3 classes alzheimer/CN 20 patients/img-00017-00004.jpg  \n",
            "  inflating: 3 classes alzheimer/CN 20 patients/img-00017-00005.jpg  \n",
            "  inflating: 3 classes alzheimer/CN 20 patients/img-00018-00001.jpg  \n",
            "  inflating: 3 classes alzheimer/CN 20 patients/img-00018-00002.jpg  \n",
            "  inflating: 3 classes alzheimer/CN 20 patients/img-00018-00003.jpg  \n",
            "  inflating: 3 classes alzheimer/CN 20 patients/img-00018-00004.jpg  \n",
            "  inflating: 3 classes alzheimer/CN 20 patients/img-00018-00005.jpg  \n",
            "  inflating: 3 classes alzheimer/CN 20 patients/img-00019-00001.jpg  \n",
            "  inflating: 3 classes alzheimer/CN 20 patients/img-00019-00002.jpg  \n",
            "  inflating: 3 classes alzheimer/CN 20 patients/img-00019-00003.jpg  \n",
            "  inflating: 3 classes alzheimer/CN 20 patients/img-00019-00004.jpg  \n",
            "  inflating: 3 classes alzheimer/CN 20 patients/img-00019-00005.jpg  \n",
            "  inflating: 3 classes alzheimer/CN 20 patients/img-00020-00001.jpg  \n",
            "  inflating: 3 classes alzheimer/CN 20 patients/img-00020-00002.jpg  \n",
            "  inflating: 3 classes alzheimer/CN 20 patients/img-00020-00003.jpg  \n",
            "  inflating: 3 classes alzheimer/CN 20 patients/img-00020-00004.jpg  \n",
            "  inflating: 3 classes alzheimer/CN 20 patients/img-00020-00005.jpg  \n",
            "   creating: 3 classes alzheimer/MCI 20 patients/\n",
            "  inflating: 3 classes alzheimer/MCI 20 patients/img-00001-00001.jpg  \n",
            "  inflating: 3 classes alzheimer/MCI 20 patients/img-00001-00002.jpg  \n",
            "  inflating: 3 classes alzheimer/MCI 20 patients/img-00001-00003.jpg  \n",
            "  inflating: 3 classes alzheimer/MCI 20 patients/img-00001-00004.jpg  \n",
            "  inflating: 3 classes alzheimer/MCI 20 patients/img-00001-00005.jpg  \n",
            "  inflating: 3 classes alzheimer/MCI 20 patients/img-00002-00001.jpg  \n",
            "  inflating: 3 classes alzheimer/MCI 20 patients/img-00002-00002.jpg  \n",
            "  inflating: 3 classes alzheimer/MCI 20 patients/img-00002-00003.jpg  \n",
            "  inflating: 3 classes alzheimer/MCI 20 patients/img-00002-00004.jpg  \n",
            "  inflating: 3 classes alzheimer/MCI 20 patients/img-00002-00005.jpg  \n",
            "  inflating: 3 classes alzheimer/MCI 20 patients/img-00003-00001.jpg  \n",
            "  inflating: 3 classes alzheimer/MCI 20 patients/img-00003-00002.jpg  \n",
            "  inflating: 3 classes alzheimer/MCI 20 patients/img-00003-00003.jpg  \n",
            "  inflating: 3 classes alzheimer/MCI 20 patients/img-00003-00004.jpg  \n",
            "  inflating: 3 classes alzheimer/MCI 20 patients/img-00003-00005.jpg  \n",
            "  inflating: 3 classes alzheimer/MCI 20 patients/img-00004-00001.jpg  \n",
            "  inflating: 3 classes alzheimer/MCI 20 patients/img-00004-00002.jpg  \n",
            "  inflating: 3 classes alzheimer/MCI 20 patients/img-00004-00003.jpg  \n",
            "  inflating: 3 classes alzheimer/MCI 20 patients/img-00004-00004.jpg  \n",
            "  inflating: 3 classes alzheimer/MCI 20 patients/img-00004-00005.jpg  \n",
            "  inflating: 3 classes alzheimer/MCI 20 patients/img-00005-00001.jpg  \n",
            "  inflating: 3 classes alzheimer/MCI 20 patients/img-00005-00002.jpg  \n",
            "  inflating: 3 classes alzheimer/MCI 20 patients/img-00005-00003.jpg  \n",
            "  inflating: 3 classes alzheimer/MCI 20 patients/img-00005-00004.jpg  \n",
            "  inflating: 3 classes alzheimer/MCI 20 patients/img-00005-00005.jpg  \n",
            "  inflating: 3 classes alzheimer/MCI 20 patients/img-00006-00001.jpg  \n",
            "  inflating: 3 classes alzheimer/MCI 20 patients/img-00006-00002.jpg  \n",
            "  inflating: 3 classes alzheimer/MCI 20 patients/img-00006-00003.jpg  \n",
            "  inflating: 3 classes alzheimer/MCI 20 patients/img-00006-00004.jpg  \n",
            "  inflating: 3 classes alzheimer/MCI 20 patients/img-00006-00005.jpg  \n",
            "  inflating: 3 classes alzheimer/MCI 20 patients/img-00007-00001.jpg  \n",
            "  inflating: 3 classes alzheimer/MCI 20 patients/img-00007-00002.jpg  \n",
            "  inflating: 3 classes alzheimer/MCI 20 patients/img-00007-00003.jpg  \n",
            "  inflating: 3 classes alzheimer/MCI 20 patients/img-00007-00004.jpg  \n",
            "  inflating: 3 classes alzheimer/MCI 20 patients/img-00007-00005.jpg  \n",
            "  inflating: 3 classes alzheimer/MCI 20 patients/img-00008-00001.jpg  \n",
            "  inflating: 3 classes alzheimer/MCI 20 patients/img-00008-00002.jpg  \n",
            "  inflating: 3 classes alzheimer/MCI 20 patients/img-00008-00003.jpg  \n",
            "  inflating: 3 classes alzheimer/MCI 20 patients/img-00008-00004.jpg  \n",
            "  inflating: 3 classes alzheimer/MCI 20 patients/img-00008-00005.jpg  \n",
            "  inflating: 3 classes alzheimer/MCI 20 patients/img-00009-00001.jpg  \n",
            "  inflating: 3 classes alzheimer/MCI 20 patients/img-00009-00002.jpg  \n",
            "  inflating: 3 classes alzheimer/MCI 20 patients/img-00009-00003.jpg  \n",
            "  inflating: 3 classes alzheimer/MCI 20 patients/img-00009-00004.jpg  \n",
            "  inflating: 3 classes alzheimer/MCI 20 patients/img-00009-00005.jpg  \n",
            "  inflating: 3 classes alzheimer/MCI 20 patients/img-00010-00001.jpg  \n",
            "  inflating: 3 classes alzheimer/MCI 20 patients/img-00010-00002.jpg  \n",
            "  inflating: 3 classes alzheimer/MCI 20 patients/img-00010-00003.jpg  \n",
            "  inflating: 3 classes alzheimer/MCI 20 patients/img-00010-00004.jpg  \n",
            "  inflating: 3 classes alzheimer/MCI 20 patients/img-00010-00005.jpg  \n",
            "  inflating: 3 classes alzheimer/MCI 20 patients/img-00011-00001.jpg  \n",
            "  inflating: 3 classes alzheimer/MCI 20 patients/img-00011-00002.jpg  \n",
            "  inflating: 3 classes alzheimer/MCI 20 patients/img-00011-00003.jpg  \n",
            "  inflating: 3 classes alzheimer/MCI 20 patients/img-00011-00004.jpg  \n",
            "  inflating: 3 classes alzheimer/MCI 20 patients/img-00011-00005.jpg  \n",
            "  inflating: 3 classes alzheimer/MCI 20 patients/img-00012-00001.jpg  \n",
            "  inflating: 3 classes alzheimer/MCI 20 patients/img-00012-00002.jpg  \n",
            "  inflating: 3 classes alzheimer/MCI 20 patients/img-00012-00003.jpg  \n",
            "  inflating: 3 classes alzheimer/MCI 20 patients/img-00012-00004.jpg  \n",
            "  inflating: 3 classes alzheimer/MCI 20 patients/img-00012-00005.jpg  \n",
            "  inflating: 3 classes alzheimer/MCI 20 patients/img-00013-00001.jpg  \n",
            "  inflating: 3 classes alzheimer/MCI 20 patients/img-00013-00002.jpg  \n",
            "  inflating: 3 classes alzheimer/MCI 20 patients/img-00013-00003.jpg  \n",
            "  inflating: 3 classes alzheimer/MCI 20 patients/img-00013-00004.jpg  \n",
            "  inflating: 3 classes alzheimer/MCI 20 patients/img-00013-00005.jpg  \n",
            "  inflating: 3 classes alzheimer/MCI 20 patients/img-00014-00001.jpg  \n",
            "  inflating: 3 classes alzheimer/MCI 20 patients/img-00014-00002.jpg  \n",
            "  inflating: 3 classes alzheimer/MCI 20 patients/img-00014-00003.jpg  \n",
            "  inflating: 3 classes alzheimer/MCI 20 patients/img-00014-00004.jpg  \n",
            "  inflating: 3 classes alzheimer/MCI 20 patients/img-00014-00005.jpg  \n",
            "  inflating: 3 classes alzheimer/MCI 20 patients/img-00015-00001.jpg  \n",
            "  inflating: 3 classes alzheimer/MCI 20 patients/img-00015-00002.jpg  \n",
            "  inflating: 3 classes alzheimer/MCI 20 patients/img-00015-00003.jpg  \n",
            "  inflating: 3 classes alzheimer/MCI 20 patients/img-00015-00004.jpg  \n",
            "  inflating: 3 classes alzheimer/MCI 20 patients/img-00015-00005.jpg  \n",
            "  inflating: 3 classes alzheimer/MCI 20 patients/img-00016-00001.jpg  \n",
            "  inflating: 3 classes alzheimer/MCI 20 patients/img-00016-00002.jpg  \n",
            "  inflating: 3 classes alzheimer/MCI 20 patients/img-00016-00003.jpg  \n",
            "  inflating: 3 classes alzheimer/MCI 20 patients/img-00016-00004.jpg  \n",
            "  inflating: 3 classes alzheimer/MCI 20 patients/img-00016-00005.jpg  \n",
            "  inflating: 3 classes alzheimer/MCI 20 patients/img-00017-00001.jpg  \n",
            "  inflating: 3 classes alzheimer/MCI 20 patients/img-00017-00002.jpg  \n",
            "  inflating: 3 classes alzheimer/MCI 20 patients/img-00017-00003.jpg  \n",
            "  inflating: 3 classes alzheimer/MCI 20 patients/img-00017-00004.jpg  \n",
            "  inflating: 3 classes alzheimer/MCI 20 patients/img-00017-00005.jpg  \n",
            "  inflating: 3 classes alzheimer/MCI 20 patients/img-00018-00001.jpg  \n",
            "  inflating: 3 classes alzheimer/MCI 20 patients/img-00018-00002.jpg  \n",
            "  inflating: 3 classes alzheimer/MCI 20 patients/img-00018-00003.jpg  \n",
            "  inflating: 3 classes alzheimer/MCI 20 patients/img-00018-00004.jpg  \n",
            "  inflating: 3 classes alzheimer/MCI 20 patients/img-00018-00005.jpg  \n",
            "  inflating: 3 classes alzheimer/MCI 20 patients/img-00019-00001.jpg  \n",
            "  inflating: 3 classes alzheimer/MCI 20 patients/img-00019-00002.jpg  \n",
            "  inflating: 3 classes alzheimer/MCI 20 patients/img-00019-00003.jpg  \n",
            "  inflating: 3 classes alzheimer/MCI 20 patients/img-00019-00004.jpg  \n",
            "  inflating: 3 classes alzheimer/MCI 20 patients/img-00019-00005.jpg  \n",
            "  inflating: 3 classes alzheimer/MCI 20 patients/img-00020-00001.jpg  \n",
            "  inflating: 3 classes alzheimer/MCI 20 patients/img-00020-00002.jpg  \n",
            "  inflating: 3 classes alzheimer/MCI 20 patients/img-00020-00003.jpg  \n",
            "  inflating: 3 classes alzheimer/MCI 20 patients/img-00020-00004.jpg  \n",
            "  inflating: 3 classes alzheimer/MCI 20 patients/img-00020-00005.jpg  \n"
          ]
        }
      ]
    },
    {
      "cell_type": "markdown",
      "source": [
        "Create base directory for each classes"
      ],
      "metadata": {
        "id": "KUx68G8HJgpG"
      }
    },
    {
      "cell_type": "code",
      "source": [
        "import os\n",
        " #lokasi direktori dasar\n",
        "dir_base ='/content/3 classes alzheimer'\n",
        "os.listdir(dir_base)\n",
        "print(os.listdir(dir_base))\n",
        "\n",
        "#hitung jumlah file per direktori\n",
        "data_cn = len(os.listdir('/content/3 classes alzheimer/CN 20 patients'))\n",
        "data_mci = len(os.listdir('/content/3 classes alzheimer/MCI 20 patients')) \n",
        "data_ad = len(os.listdir('/content/3 classes alzheimer/AD 20 patients')) \n",
        "\n",
        "print(\"Amount of CN class images:\", data_cn)\n",
        "print(\"Amount of MCI class images:\", data_mci)\n",
        "print(\"Amount of AD class images:\", data_ad)"
      ],
      "metadata": {
        "id": "gOiuaqGVJljF",
        "outputId": "4f086b84-ceae-4d14-a2fd-9e173b551720",
        "colab": {
          "base_uri": "https://localhost:8080/"
        }
      },
      "execution_count": 4,
      "outputs": [
        {
          "output_type": "stream",
          "name": "stdout",
          "text": [
            "['MCI 20 patients', 'AD 20 patients', 'CN 20 patients']\n",
            "Amount of CN class images: 101\n",
            "Amount of MCI class images: 100\n",
            "Amount of AD class images: 108\n"
          ]
        }
      ]
    },
    {
      "cell_type": "markdown",
      "source": [
        "# augmentasi dan split data"
      ],
      "metadata": {
        "id": "MPnipObYhSo1"
      }
    },
    {
      "cell_type": "markdown",
      "source": [
        "image data generator dan split data dengan 80 20"
      ],
      "metadata": {
        "id": "CqC2LdmmKI_v"
      }
    },
    {
      "cell_type": "code",
      "source": [
        "import tensorflow as tf\n",
        "import keras_preprocessing\n",
        "from keras_preprocessing import image\n",
        "from keras_preprocessing.image import ImageDataGenerator"
      ],
      "metadata": {
        "id": "E0ybKmB2aKfu"
      },
      "execution_count": 6,
      "outputs": []
    },
    {
      "cell_type": "code",
      "source": [
        "train_datagen = ImageDataGenerator(rescale = 1./255,\n",
        "                                   rotation_range=30,\n",
        "                                   zoom_range=0.2,\n",
        "                                   horizontal_flip=True,\n",
        "                                   vertical_flip=True,\n",
        "                                   validation_split = 0.2)\n",
        "\n",
        "# valid_datagen = ImageDataGenerator(rescale = 1./255,\n",
        "#                                    validation_split = 0.2)\n",
        "\n",
        "# test_datagen  = ImageDataGenerator(rescale = 1./255)"
      ],
      "metadata": {
        "id": "UvJGSRQfRT3d"
      },
      "execution_count": 7,
      "outputs": []
    },
    {
      "cell_type": "code",
      "source": [
        "train_generator = train_datagen.flow_from_directory(\n",
        "    directory = dir_base,\n",
        "    target_size = (256,256),\n",
        "    batch_size = 16,\n",
        "    class_mode = 'categorical',\n",
        "    subset='training'\n",
        ")\n",
        " \n",
        "val_generator = train_datagen.flow_from_directory(\n",
        "    directory = dir_base,\n",
        "    target_size = (256,256),\n",
        "    batch_size = 16,\n",
        "    class_mode = 'categorical',\n",
        "    subset='validation'\n",
        ")"
      ],
      "metadata": {
        "colab": {
          "base_uri": "https://localhost:8080/"
        },
        "id": "w7MqWW2Uhdal",
        "outputId": "7d9bb0bb-c3fa-4a01-e4f8-fd995a851297"
      },
      "execution_count": 8,
      "outputs": [
        {
          "output_type": "stream",
          "name": "stdout",
          "text": [
            "Found 248 images belonging to 3 classes.\n",
            "Found 61 images belonging to 3 classes.\n"
          ]
        }
      ]
    },
    {
      "cell_type": "markdown",
      "source": [
        "# create model architecture"
      ],
      "metadata": {
        "id": "GRETyJMHirX4"
      }
    },
    {
      "cell_type": "code",
      "source": [
        "import numpy as np\n",
        "import pandas as pd\n",
        "import matplotlib.pyplot as plt\n",
        "import tensorflow as tf\n",
        "import keras_preprocessing\n",
        "from keras_preprocessing import image\n",
        "from keras_preprocessing.image import ImageDataGenerator\n",
        "from tensorflow.keras.models import Sequential\n",
        "from keras.layers import Conv2D, Dense, Flatten, MaxPool2D, Dropout\n",
        "\n",
        "# model = Sequential()\n",
        "\n",
        "# # Layer CNN pertama\n",
        "# model.add(Conv2D(filters=32, kernel_size=3, activation='relu', input_shape=(150,150,3)))\n",
        "# model.add(MaxPool2D(pool_size=(2, 2)))\n",
        "# model.add(Dropout(rate=0.25))\n",
        "\n",
        "# # Layer CNN kedua\n",
        "# model.add(Conv2D(filters=64, kernel_size=3, activation='relu'))\n",
        "# model.add(MaxPool2D(pool_size=(2, 2)))\n",
        "# model.add(Dropout(rate=0.25))\n",
        "\n",
        "# # Layer CNN ketiga\n",
        "# model.add(Conv2D(filters=64, kernel_size=3, activation='relu'))\n",
        "\n",
        "# model.summary()"
      ],
      "metadata": {
        "id": "1k1tFggfhiUs"
      },
      "execution_count": null,
      "outputs": []
    },
    {
      "cell_type": "code",
      "source": [
        "# model = tf.keras.models.Sequential([\n",
        "#     tf.keras.layers.Conv2D(32, (3,3), activation='relu', input_shape=(256, 256, 3)),\n",
        "#     tf.keras.layers.MaxPooling2D(2,2),\n",
        "#     tf.keras.layers.Flatten(),\n",
        "#     tf.keras.layers.Dense(128, activation='relu'),\n",
        "#     tf.keras.layers.Dropout(0.2),\n",
        "#     tf.keras.layers.Dense(3, activation='softmax')\n",
        "# ])\n",
        "\n",
        "# model.compile(optimizer='adam',\n",
        "#               loss='categorical_crossentropy',\n",
        "#               metrics=['accuracy'])\n",
        "\n",
        "# model.summary()"
      ],
      "metadata": {
        "id": "vKbfclRii0z5",
        "colab": {
          "base_uri": "https://localhost:8080/"
        },
        "outputId": "769842bf-d49e-483e-db41-90d43b290b9c"
      },
      "execution_count": 26,
      "outputs": [
        {
          "output_type": "stream",
          "name": "stdout",
          "text": [
            "Model: \"sequential_3\"\n",
            "_________________________________________________________________\n",
            " Layer (type)                Output Shape              Param #   \n",
            "=================================================================\n",
            " conv2d_7 (Conv2D)           (None, 254, 254, 32)      896       \n",
            "                                                                 \n",
            " max_pooling2d_7 (MaxPooling  (None, 127, 127, 32)     0         \n",
            " 2D)                                                             \n",
            "                                                                 \n",
            " flatten_3 (Flatten)         (None, 516128)            0         \n",
            "                                                                 \n",
            " dense_6 (Dense)             (None, 128)               66064512  \n",
            "                                                                 \n",
            " dropout_10 (Dropout)        (None, 128)               0         \n",
            "                                                                 \n",
            " dense_7 (Dense)             (None, 3)                 387       \n",
            "                                                                 \n",
            "=================================================================\n",
            "Total params: 66,065,795\n",
            "Trainable params: 66,065,795\n",
            "Non-trainable params: 0\n",
            "_________________________________________________________________\n"
          ]
        }
      ]
    },
    {
      "cell_type": "code",
      "source": [
        "from tensorflow import keras\n",
        "from tensorflow.keras import layers, models\n",
        "from tensorflow.keras.models import Sequential\n",
        "from keras.layers import Conv2D, Dense, Flatten, MaxPool2D, Dropout\n",
        "\n",
        "model = keras.Sequential()\n",
        "model.add(layers.Conv2D(filters=16, kernel_size=(3, 3), padding='same', activation = 'relu', input_shape = (256, 256, 3), kernel_initializer=\"he_normal\"))\n",
        "model.add(layers.MaxPooling2D())\n",
        "model.add(layers.Conv2D(filters=32, kernel_size=(3, 3), padding='same', activation = 'relu', input_shape = (256, 256, 3), kernel_initializer=\"he_normal\"))\n",
        "model.add(layers.MaxPooling2D())\n",
        "\n",
        "model.add(Dropout(0.25))\n",
        "model.add(layers.Flatten())\n",
        "model.add(layers.Dense(units = 128, activation = 'relu', kernel_initializer=\"he_normal\"))\n",
        "model.add(layers.Dense(units = 64, activation = 'relu'))\n",
        "model.add(layers.Dense(units = 3, activation = 'softmax'))\n",
        "\n",
        "model.compile(optimizer='adam', loss='categorical_crossentropy', metrics = ['accuracy'])\n",
        "\n",
        "model.summary()"
      ],
      "metadata": {
        "id": "VViy9RIdRSQ9",
        "outputId": "c440270d-61c1-4fb5-e553-4ccc6d48a7fb",
        "colab": {
          "base_uri": "https://localhost:8080/"
        }
      },
      "execution_count": 36,
      "outputs": [
        {
          "output_type": "stream",
          "name": "stdout",
          "text": [
            "Model: \"sequential_8\"\n",
            "_________________________________________________________________\n",
            " Layer (type)                Output Shape              Param #   \n",
            "=================================================================\n",
            " conv2d_14 (Conv2D)          (None, 256, 256, 16)      448       \n",
            "                                                                 \n",
            " max_pooling2d_14 (MaxPoolin  (None, 128, 128, 16)     0         \n",
            " g2D)                                                            \n",
            "                                                                 \n",
            " conv2d_15 (Conv2D)          (None, 128, 128, 32)      4640      \n",
            "                                                                 \n",
            " max_pooling2d_15 (MaxPoolin  (None, 64, 64, 32)       0         \n",
            " g2D)                                                            \n",
            "                                                                 \n",
            " dropout_13 (Dropout)        (None, 64, 64, 32)        0         \n",
            "                                                                 \n",
            " flatten_6 (Flatten)         (None, 131072)            0         \n",
            "                                                                 \n",
            " dense_14 (Dense)            (None, 128)               16777344  \n",
            "                                                                 \n",
            " dense_15 (Dense)            (None, 64)                8256      \n",
            "                                                                 \n",
            " dense_16 (Dense)            (None, 3)                 195       \n",
            "                                                                 \n",
            "=================================================================\n",
            "Total params: 16,790,883\n",
            "Trainable params: 16,790,883\n",
            "Non-trainable params: 0\n",
            "_________________________________________________________________\n"
          ]
        }
      ]
    },
    {
      "cell_type": "markdown",
      "source": [
        "# modelling"
      ],
      "metadata": {
        "id": "Sq_GNC6LrEie"
      }
    },
    {
      "cell_type": "code",
      "source": [
        "# train_len = 0\n",
        "# for foldername in os.listdir('/content/alzheimer-mri-dataset/Alzheimers-ADNI/train'):\n",
        "#     train_len = train_len + len(os.listdir(os.path.join('/content/alzheimer-mri-dataset/Alzheimers-ADNI/train',foldername)))\n",
        "    \n",
        "# val_len = 0\n",
        "# for foldername in os.listdir('/content/alzheimer-mri-dataset/Alzheimers-ADNI/test'):\n",
        "#     val_len = val_len + len(os.listdir(os.path.join('/content/alzheimer-mri-dataset/Alzheimers-ADNI/test',foldername)))\n",
        "\n",
        "# print(train_len)\n",
        "# print(val_len)"
      ],
      "metadata": {
        "id": "Ub28diD3rKv8"
      },
      "execution_count": 19,
      "outputs": []
    },
    {
      "cell_type": "code",
      "source": [
        "model_history = model.fit(train_generator,\n",
        "                        validation_data=val_generator,\n",
        "                        epochs = 30,\n",
        "                        verbose = 1)"
      ],
      "metadata": {
        "id": "3uAsHW-5rDZ8",
        "colab": {
          "base_uri": "https://localhost:8080/"
        },
        "outputId": "13117173-c899-4bc6-ca4c-caf1a406f900"
      },
      "execution_count": 37,
      "outputs": [
        {
          "output_type": "stream",
          "name": "stdout",
          "text": [
            "Epoch 1/30\n",
            "16/16 [==============================] - 6s 305ms/step - loss: 5.2607 - accuracy: 0.3468 - val_loss: 1.4026 - val_accuracy: 0.2295\n",
            "Epoch 2/30\n",
            "16/16 [==============================] - 4s 283ms/step - loss: 1.2082 - accuracy: 0.3669 - val_loss: 1.1979 - val_accuracy: 0.3115\n",
            "Epoch 3/30\n",
            "16/16 [==============================] - 4s 281ms/step - loss: 1.1000 - accuracy: 0.3992 - val_loss: 1.1403 - val_accuracy: 0.3443\n",
            "Epoch 4/30\n",
            "16/16 [==============================] - 4s 281ms/step - loss: 1.0728 - accuracy: 0.4315 - val_loss: 1.1950 - val_accuracy: 0.2459\n",
            "Epoch 5/30\n",
            "16/16 [==============================] - 5s 332ms/step - loss: 1.0905 - accuracy: 0.3750 - val_loss: 1.2188 - val_accuracy: 0.2459\n",
            "Epoch 6/30\n",
            "16/16 [==============================] - 4s 282ms/step - loss: 1.0451 - accuracy: 0.4435 - val_loss: 1.2590 - val_accuracy: 0.2951\n",
            "Epoch 7/30\n",
            "16/16 [==============================] - 4s 283ms/step - loss: 1.0114 - accuracy: 0.5081 - val_loss: 1.3598 - val_accuracy: 0.2951\n",
            "Epoch 8/30\n",
            "16/16 [==============================] - 4s 282ms/step - loss: 1.0088 - accuracy: 0.4758 - val_loss: 1.3906 - val_accuracy: 0.2459\n",
            "Epoch 9/30\n",
            "16/16 [==============================] - 4s 280ms/step - loss: 0.9944 - accuracy: 0.5161 - val_loss: 1.6166 - val_accuracy: 0.2787\n",
            "Epoch 10/30\n",
            "16/16 [==============================] - 4s 283ms/step - loss: 0.9598 - accuracy: 0.5202 - val_loss: 1.4344 - val_accuracy: 0.2131\n",
            "Epoch 11/30\n",
            "16/16 [==============================] - 4s 281ms/step - loss: 0.9714 - accuracy: 0.5282 - val_loss: 1.3995 - val_accuracy: 0.1803\n",
            "Epoch 12/30\n",
            "16/16 [==============================] - 6s 381ms/step - loss: 0.9189 - accuracy: 0.5484 - val_loss: 1.6998 - val_accuracy: 0.1311\n",
            "Epoch 13/30\n",
            "16/16 [==============================] - 4s 283ms/step - loss: 0.9599 - accuracy: 0.5202 - val_loss: 1.8304 - val_accuracy: 0.2951\n",
            "Epoch 14/30\n",
            "16/16 [==============================] - 5s 285ms/step - loss: 0.9478 - accuracy: 0.5323 - val_loss: 1.4751 - val_accuracy: 0.2131\n",
            "Epoch 15/30\n",
            "16/16 [==============================] - 4s 280ms/step - loss: 0.9185 - accuracy: 0.5847 - val_loss: 1.5881 - val_accuracy: 0.2131\n",
            "Epoch 16/30\n",
            "16/16 [==============================] - 4s 279ms/step - loss: 0.9428 - accuracy: 0.5645 - val_loss: 1.6157 - val_accuracy: 0.2787\n",
            "Epoch 17/30\n",
            "16/16 [==============================] - 5s 284ms/step - loss: 0.8905 - accuracy: 0.5726 - val_loss: 1.7521 - val_accuracy: 0.2295\n",
            "Epoch 18/30\n",
            "16/16 [==============================] - 4s 282ms/step - loss: 0.9212 - accuracy: 0.5645 - val_loss: 1.8515 - val_accuracy: 0.3115\n",
            "Epoch 19/30\n",
            "16/16 [==============================] - 4s 283ms/step - loss: 0.8449 - accuracy: 0.6089 - val_loss: 1.5475 - val_accuracy: 0.2623\n",
            "Epoch 20/30\n",
            "16/16 [==============================] - 5s 283ms/step - loss: 0.8990 - accuracy: 0.5605 - val_loss: 1.7323 - val_accuracy: 0.2459\n",
            "Epoch 21/30\n",
            "16/16 [==============================] - 5s 284ms/step - loss: 0.8975 - accuracy: 0.5766 - val_loss: 1.4771 - val_accuracy: 0.2131\n",
            "Epoch 22/30\n",
            "16/16 [==============================] - 5s 283ms/step - loss: 0.8954 - accuracy: 0.5282 - val_loss: 1.4636 - val_accuracy: 0.2623\n",
            "Epoch 23/30\n",
            "16/16 [==============================] - 5s 283ms/step - loss: 0.8593 - accuracy: 0.5887 - val_loss: 1.9779 - val_accuracy: 0.2459\n",
            "Epoch 24/30\n",
            "16/16 [==============================] - 5s 313ms/step - loss: 0.8443 - accuracy: 0.6089 - val_loss: 1.8279 - val_accuracy: 0.1803\n",
            "Epoch 25/30\n",
            "16/16 [==============================] - 5s 285ms/step - loss: 0.8811 - accuracy: 0.5927 - val_loss: 1.6204 - val_accuracy: 0.1967\n",
            "Epoch 26/30\n",
            "16/16 [==============================] - 4s 281ms/step - loss: 0.8739 - accuracy: 0.5887 - val_loss: 1.5285 - val_accuracy: 0.2623\n",
            "Epoch 27/30\n",
            "16/16 [==============================] - 4s 282ms/step - loss: 0.8607 - accuracy: 0.5887 - val_loss: 1.6954 - val_accuracy: 0.2295\n",
            "Epoch 28/30\n",
            "16/16 [==============================] - 5s 286ms/step - loss: 0.8337 - accuracy: 0.5847 - val_loss: 1.5665 - val_accuracy: 0.2459\n",
            "Epoch 29/30\n",
            "16/16 [==============================] - 5s 283ms/step - loss: 0.8300 - accuracy: 0.6250 - val_loss: 2.0719 - val_accuracy: 0.3443\n",
            "Epoch 30/30\n",
            "16/16 [==============================] - 5s 284ms/step - loss: 0.8172 - accuracy: 0.5968 - val_loss: 1.6854 - val_accuracy: 0.2131\n"
          ]
        }
      ]
    },
    {
      "cell_type": "code",
      "source": [
        "# Summarize history for loss\n",
        "\n",
        "plt.plot(model_history.history['loss'])\n",
        "plt.plot(model_history.history['val_loss'])\n",
        "plt.title('Model Loss')\n",
        "plt.ylabel('Loss')\n",
        "plt.xlabel('Epoch')\n",
        "plt.legend(['Train', 'Validation'], loc='upper left', bbox_to_anchor=(1,1))\n",
        "plt.show()"
      ],
      "metadata": {
        "colab": {
          "base_uri": "https://localhost:8080/",
          "height": 295
        },
        "id": "XS0yGh1gL-SR",
        "outputId": "fc9199a7-930f-417f-ea78-69adb73a7162"
      },
      "execution_count": 38,
      "outputs": [
        {
          "output_type": "display_data",
          "data": {
            "text/plain": [
              "<Figure size 432x288 with 1 Axes>"
            ],
            "image/png": "[encoded data removed]"
          },
          "metadata": {
            "needs_background": "light"
          }
        }
      ]
    },
    {
      "cell_type": "code",
      "source": [
        "# Summarize history for loss\n",
        "\n",
        "plt.plot(model_history.history['accuracy'])\n",
        "plt.plot(model_history.history['val_accuracy'])\n",
        "plt.title('Model Accuracy')\n",
        "plt.ylabel('Accuracy')\n",
        "plt.xlabel('Epoch')\n",
        "plt.legend(['Train', 'Validation'], loc='upper left', bbox_to_anchor=(1,1))\n",
        "plt.show()"
      ],
      "metadata": {
        "colab": {
          "base_uri": "https://localhost:8080/",
          "height": 295
        },
        "id": "0Z2kzTsxY--e",
        "outputId": "24401b38-57f5-4477-c3a0-5850b4f09e27"
      },
      "execution_count": 39,
      "outputs": [
        {
          "output_type": "display_data",
          "data": {
            "text/plain": [
              "<Figure size 432x288 with 1 Axes>"
            ],
            "image/png": "[encoded data removed]"
          },
          "metadata": {
            "needs_background": "light"
          }
        }
      ]
    },
    {
      "cell_type": "code",
      "source": [
        "prediction= model.predict(val_generator, steps=np.ceil(val_generator.samples/val_generator.batch_size), verbose=2)\n",
        "prediction= (prediction > 0.5)\n",
        "val_labels=val_generator.classes"
      ],
      "metadata": {
        "colab": {
          "base_uri": "https://localhost:8080/"
        },
        "id": "je52vjzCZRYY",
        "outputId": "d3243a39-61e5-4590-ad96-5daccb7abe93"
      },
      "execution_count": 16,
      "outputs": [
        {
          "output_type": "stream",
          "name": "stdout",
          "text": [
            "4/4 - 1s - 958ms/epoch - 239ms/step\n"
          ]
        }
      ]
    },
    {
      "cell_type": "code",
      "source": [
        "from sklearn import metrics\n",
        "from sklearn.metrics import confusion_matrix, accuracy_score, classification_report\n",
        "from mlxtend.plotting import plot_confusion_matrix\n",
        "\n",
        "print(classification_report(val_generator.classes, prediction))"
      ],
      "metadata": {
        "colab": {
          "base_uri": "https://localhost:8080/",
          "height": 345
        },
        "id": "K3PVlF3VZ-Pk",
        "outputId": "5a8417d3-1d0e-4e73-e79d-d7b4f6b8029e"
      },
      "execution_count": 17,
      "outputs": [
        {
          "output_type": "error",
          "ename": "ValueError",
          "evalue": "ignored",
          "traceback": [
            "\u001b[0;31m---------------------------------------------------------------------------\u001b[0m",
            "\u001b[0;31mValueError\u001b[0m                                Traceback (most recent call last)",
            "\u001b[0;32m<ipython-input-17-7e5551e9f6e6>\u001b[0m in \u001b[0;36m<module>\u001b[0;34m\u001b[0m\n\u001b[1;32m      3\u001b[0m \u001b[0;32mfrom\u001b[0m \u001b[0mmlxtend\u001b[0m\u001b[0;34m.\u001b[0m\u001b[0mplotting\u001b[0m \u001b[0;32mimport\u001b[0m \u001b[0mplot_confusion_matrix\u001b[0m\u001b[0;34m\u001b[0m\u001b[0;34m\u001b[0m\u001b[0m\n\u001b[1;32m      4\u001b[0m \u001b[0;34m\u001b[0m\u001b[0m\n\u001b[0;32m----> 5\u001b[0;31m \u001b[0mprint\u001b[0m\u001b[0;34m(\u001b[0m\u001b[0mclassification_report\u001b[0m\u001b[0;34m(\u001b[0m\u001b[0mval_generator\u001b[0m\u001b[0;34m.\u001b[0m\u001b[0mclasses\u001b[0m\u001b[0;34m,\u001b[0m \u001b[0mprediction\u001b[0m\u001b[0;34m)\u001b[0m\u001b[0;34m)\u001b[0m\u001b[0;34m\u001b[0m\u001b[0;34m\u001b[0m\u001b[0m\n\u001b[0m",
            "\u001b[0;32m/usr/local/lib/python3.7/dist-packages/sklearn/metrics/_classification.py\u001b[0m in \u001b[0;36mclassification_report\u001b[0;34m(y_true, y_pred, labels, target_names, sample_weight, digits, output_dict, zero_division)\u001b[0m\n\u001b[1;32m   2108\u001b[0m     \"\"\"\n\u001b[1;32m   2109\u001b[0m \u001b[0;34m\u001b[0m\u001b[0m\n\u001b[0;32m-> 2110\u001b[0;31m     \u001b[0my_type\u001b[0m\u001b[0;34m,\u001b[0m \u001b[0my_true\u001b[0m\u001b[0;34m,\u001b[0m \u001b[0my_pred\u001b[0m \u001b[0;34m=\u001b[0m \u001b[0m_check_targets\u001b[0m\u001b[0;34m(\u001b[0m\u001b[0my_true\u001b[0m\u001b[0;34m,\u001b[0m \u001b[0my_pred\u001b[0m\u001b[0;34m)\u001b[0m\u001b[0;34m\u001b[0m\u001b[0;34m\u001b[0m\u001b[0m\n\u001b[0m\u001b[1;32m   2111\u001b[0m \u001b[0;34m\u001b[0m\u001b[0m\n\u001b[1;32m   2112\u001b[0m     \u001b[0;32mif\u001b[0m \u001b[0mlabels\u001b[0m \u001b[0;32mis\u001b[0m \u001b[0;32mNone\u001b[0m\u001b[0;34m:\u001b[0m\u001b[0;34m\u001b[0m\u001b[0;34m\u001b[0m\u001b[0m\n",
            "\u001b[0;32m/usr/local/lib/python3.7/dist-packages/sklearn/metrics/_classification.py\u001b[0m in \u001b[0;36m_check_targets\u001b[0;34m(y_true, y_pred)\u001b[0m\n\u001b[1;32m     93\u001b[0m         raise ValueError(\n\u001b[1;32m     94\u001b[0m             \"Classification metrics can't handle a mix of {0} and {1} targets\".format(\n\u001b[0;32m---> 95\u001b[0;31m                 \u001b[0mtype_true\u001b[0m\u001b[0;34m,\u001b[0m \u001b[0mtype_pred\u001b[0m\u001b[0;34m\u001b[0m\u001b[0;34m\u001b[0m\u001b[0m\n\u001b[0m\u001b[1;32m     96\u001b[0m             )\n\u001b[1;32m     97\u001b[0m         )\n",
            "\u001b[0;31mValueError\u001b[0m: Classification metrics can't handle a mix of multiclass and multilabel-indicator targets"
          ]
        }
      ]
    },
    {
      "cell_type": "code",
      "source": [],
      "metadata": {
        "id": "VOEIdpD7aBMB"
      },
      "execution_count": null,
      "outputs": []
    }
  ]
}