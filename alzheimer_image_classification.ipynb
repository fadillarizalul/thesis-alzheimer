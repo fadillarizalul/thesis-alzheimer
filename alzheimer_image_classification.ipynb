{
  "nbformat": 4,
  "nbformat_minor": 0,
  "metadata": {
    "colab": {
      "name": "alzheimer image classification",
      "provenance": [],
      "authorship_tag": "ABX9TyPW6PfsWxgKWoR4NmKR03bH",
      "include_colab_link": true
    },
    "kernelspec": {
      "name": "python3",
      "display_name": "Python 3"
    },
    "language_info": {
      "name": "python"
    },
    "gpuClass": "standard"
  },
  "cells": [
    {
      "cell_type": "markdown",
      "metadata": {
        "id": "view-in-github",
        "colab_type": "text"
      },
      "source": [
        "<a href=\"https://colab.research.google.com/github/fadillarizalul/thesis-alzheimer/blob/main/alzheimer_image_classification.ipynb\" target=\"_parent\"><img src=\"https://colab.research.google.com/assets/colab-badge.svg\" alt=\"Open In Colab\"/></a>"
      ]
    },
    {
      "cell_type": "markdown",
      "source": [
        "# set up dan inisialisasi"
      ],
      "metadata": {
        "id": "8dVYnyo1hObz"
      }
    },
    {
      "cell_type": "code",
      "execution_count": 1,
      "metadata": {
        "colab": {
          "base_uri": "https://localhost:8080/"
        },
        "id": "9BuCcYouVFc0",
        "outputId": "f97bbb32-6cbc-4faa-c705-e4fabd238a6f"
      },
      "outputs": [
        {
          "output_type": "stream",
          "name": "stdout",
          "text": [
            "Mounted at /content/drive\n"
          ]
        }
      ],
      "source": [
        "import numpy as np\n",
        "import matplotlib.pyplot as plt\n",
        "import pandas as pd\n",
        "%matplotlib inline\n",
        "import seaborn as sns\n",
        "\n",
        "#import data dari drive\n",
        "from google.colab import drive\n",
        "drive.mount('/content/drive')"
      ]
    },
    {
      "cell_type": "code",
      "source": [
        "!wget --no-check-certificate \\\n",
        "https://github.com/fadillarizalul/thesis-alzheimer/blob/main/dataset/3-classes-alzheimer-20-patients.zip?raw=true \\\n",
        "  -O 3-classes-alzheimer.zip"
      ],
      "metadata": {
        "id": "Jvso5lHEYymU",
        "outputId": "ae10ce71-ed94-41da-9446-ca2ed243098b",
        "colab": {
          "base_uri": "https://localhost:8080/"
        }
      },
      "execution_count": 2,
      "outputs": [
        {
          "output_type": "stream",
          "name": "stdout",
          "text": [
            "--2022-09-11 12:58:10--  https://github.com/fadillarizalul/thesis-alzheimer/blob/main/dataset/3-classes-alzheimer-20-patients.zip?raw=true\n",
            "Resolving github.com (github.com)... 20.205.243.166\n",
            "Connecting to github.com (github.com)|20.205.243.166|:443... connected.\n",
            "HTTP request sent, awaiting response... 302 Found\n",
            "Location: https://github.com/fadillarizalul/thesis-alzheimer/raw/main/dataset/3-classes-alzheimer-20-patients.zip [following]\n",
            "--2022-09-11 12:58:10--  https://github.com/fadillarizalul/thesis-alzheimer/raw/main/dataset/3-classes-alzheimer-20-patients.zip\n",
            "Reusing existing connection to github.com:443.\n",
            "HTTP request sent, awaiting response... 302 Found\n",
            "Location: https://raw.githubusercontent.com/fadillarizalul/thesis-alzheimer/main/dataset/3-classes-alzheimer-20-patients.zip [following]\n",
            "--2022-09-11 12:58:11--  https://raw.githubusercontent.com/fadillarizalul/thesis-alzheimer/main/dataset/3-classes-alzheimer-20-patients.zip\n",
            "Resolving raw.githubusercontent.com (raw.githubusercontent.com)... 185.199.108.133, 185.199.109.133, 185.199.110.133, ...\n",
            "Connecting to raw.githubusercontent.com (raw.githubusercontent.com)|185.199.108.133|:443... connected.\n",
            "HTTP request sent, awaiting response... 200 OK\n",
            "Length: 9859577 (9.4M) [application/zip]\n",
            "Saving to: ‘3-classes-alzheimer.zip’\n",
            "\n",
            "3-classes-alzheimer 100%[===================>]   9.40M  --.-KB/s    in 0.03s   \n",
            "\n",
            "2022-09-11 12:58:13 (284 MB/s) - ‘3-classes-alzheimer.zip’ saved [9859577/9859577]\n",
            "\n"
          ]
        }
      ]
    },
    {
      "cell_type": "markdown",
      "source": [
        "Extracting ZIP files"
      ],
      "metadata": {
        "id": "ji6N-io5JTYS"
      }
    },
    {
      "cell_type": "code",
      "source": [
        "!unzip /content/3-classes-alzheimer.zip"
      ],
      "metadata": {
        "id": "W-WJ4DSAJV0A",
        "outputId": "9db404b8-7ef0-4d0c-a2e7-44e48775e089",
        "colab": {
          "base_uri": "https://localhost:8080/"
        }
      },
      "execution_count": 3,
      "outputs": [
        {
          "output_type": "stream",
          "name": "stdout",
          "text": [
            "Archive:  /content/3-classes-alzheimer.zip\n",
            "   creating: 3-classes-alzheimer-20-patients/\n",
            "   creating: 3-classes-alzheimer-20-patients/AD/\n",
            "  inflating: 3-classes-alzheimer-20-patients/AD/img-00001-00001.jpg  \n",
            "  inflating: 3-classes-alzheimer-20-patients/AD/img-00001-00002.jpg  \n",
            "  inflating: 3-classes-alzheimer-20-patients/AD/img-00001-00003.jpg  \n",
            "  inflating: 3-classes-alzheimer-20-patients/AD/img-00001-00004.jpg  \n",
            "  inflating: 3-classes-alzheimer-20-patients/AD/img-00001-00005.jpg  \n",
            "  inflating: 3-classes-alzheimer-20-patients/AD/img-00002-00001.jpg  \n",
            "  inflating: 3-classes-alzheimer-20-patients/AD/img-00002-00002.jpg  \n",
            "  inflating: 3-classes-alzheimer-20-patients/AD/img-00002-00003.jpg  \n",
            "  inflating: 3-classes-alzheimer-20-patients/AD/img-00002-00004.jpg  \n",
            "  inflating: 3-classes-alzheimer-20-patients/AD/img-00002-00005.jpg  \n",
            "  inflating: 3-classes-alzheimer-20-patients/AD/img-00003-00001.jpg  \n",
            "  inflating: 3-classes-alzheimer-20-patients/AD/img-00003-00002.jpg  \n",
            "  inflating: 3-classes-alzheimer-20-patients/AD/img-00003-00003.jpg  \n",
            "  inflating: 3-classes-alzheimer-20-patients/AD/img-00003-00004.jpg  \n",
            "  inflating: 3-classes-alzheimer-20-patients/AD/img-00003-00005.jpg  \n",
            "  inflating: 3-classes-alzheimer-20-patients/AD/img-00004-00001.jpg  \n",
            "  inflating: 3-classes-alzheimer-20-patients/AD/img-00004-00002.jpg  \n",
            "  inflating: 3-classes-alzheimer-20-patients/AD/img-00004-00003.jpg  \n",
            "  inflating: 3-classes-alzheimer-20-patients/AD/img-00004-00004.jpg  \n",
            "  inflating: 3-classes-alzheimer-20-patients/AD/img-00004-00005.jpg  \n",
            "  inflating: 3-classes-alzheimer-20-patients/AD/img-00004-00006.jpg  \n",
            "  inflating: 3-classes-alzheimer-20-patients/AD/img-00004-00007.jpg  \n",
            "  inflating: 3-classes-alzheimer-20-patients/AD/img-00004-00008.jpg  \n",
            "  inflating: 3-classes-alzheimer-20-patients/AD/img-00004-00009.jpg  \n",
            "  inflating: 3-classes-alzheimer-20-patients/AD/img-00005-00001.jpg  \n",
            "  inflating: 3-classes-alzheimer-20-patients/AD/img-00005-00002.jpg  \n",
            "  inflating: 3-classes-alzheimer-20-patients/AD/img-00005-00003.jpg  \n",
            "  inflating: 3-classes-alzheimer-20-patients/AD/img-00005-00004.jpg  \n",
            "  inflating: 3-classes-alzheimer-20-patients/AD/img-00005-00005.jpg  \n",
            "  inflating: 3-classes-alzheimer-20-patients/AD/img-00005-00006.jpg  \n",
            "  inflating: 3-classes-alzheimer-20-patients/AD/img-00005-00007.jpg  \n",
            "  inflating: 3-classes-alzheimer-20-patients/AD/img-00005-00008.jpg  \n",
            "  inflating: 3-classes-alzheimer-20-patients/AD/img-00005-00009.jpg  \n",
            "  inflating: 3-classes-alzheimer-20-patients/AD/img-00006-00001.jpg  \n",
            "  inflating: 3-classes-alzheimer-20-patients/AD/img-00006-00002.jpg  \n",
            "  inflating: 3-classes-alzheimer-20-patients/AD/img-00006-00003.jpg  \n",
            "  inflating: 3-classes-alzheimer-20-patients/AD/img-00006-00004.jpg  \n",
            "  inflating: 3-classes-alzheimer-20-patients/AD/img-00006-00005.jpg  \n",
            "  inflating: 3-classes-alzheimer-20-patients/AD/img-00007-00001.jpg  \n",
            "  inflating: 3-classes-alzheimer-20-patients/AD/img-00007-00002.jpg  \n",
            "  inflating: 3-classes-alzheimer-20-patients/AD/img-00007-00003.jpg  \n",
            "  inflating: 3-classes-alzheimer-20-patients/AD/img-00007-00004.jpg  \n",
            "  inflating: 3-classes-alzheimer-20-patients/AD/img-00007-00005.jpg  \n",
            "  inflating: 3-classes-alzheimer-20-patients/AD/img-00008-00001.jpg  \n",
            "  inflating: 3-classes-alzheimer-20-patients/AD/img-00008-00002.jpg  \n",
            "  inflating: 3-classes-alzheimer-20-patients/AD/img-00008-00003.jpg  \n",
            "  inflating: 3-classes-alzheimer-20-patients/AD/img-00008-00004.jpg  \n",
            "  inflating: 3-classes-alzheimer-20-patients/AD/img-00008-00005.jpg  \n",
            "  inflating: 3-classes-alzheimer-20-patients/AD/img-00009-00001.jpg  \n",
            "  inflating: 3-classes-alzheimer-20-patients/AD/img-00009-00002.jpg  \n",
            "  inflating: 3-classes-alzheimer-20-patients/AD/img-00009-00003.jpg  \n",
            "  inflating: 3-classes-alzheimer-20-patients/AD/img-00009-00004.jpg  \n",
            "  inflating: 3-classes-alzheimer-20-patients/AD/img-00009-00005.jpg  \n",
            "  inflating: 3-classes-alzheimer-20-patients/AD/img-00010-00001.jpg  \n",
            "  inflating: 3-classes-alzheimer-20-patients/AD/img-00010-00002.jpg  \n",
            "  inflating: 3-classes-alzheimer-20-patients/AD/img-00010-00003.jpg  \n",
            "  inflating: 3-classes-alzheimer-20-patients/AD/img-00010-00004.jpg  \n",
            "  inflating: 3-classes-alzheimer-20-patients/AD/img-00010-00005.jpg  \n",
            "  inflating: 3-classes-alzheimer-20-patients/AD/img-00011-00001.jpg  \n",
            "  inflating: 3-classes-alzheimer-20-patients/AD/img-00011-00002.jpg  \n",
            "  inflating: 3-classes-alzheimer-20-patients/AD/img-00011-00003.jpg  \n",
            "  inflating: 3-classes-alzheimer-20-patients/AD/img-00011-00004.jpg  \n",
            "  inflating: 3-classes-alzheimer-20-patients/AD/img-00011-00005.jpg  \n",
            "  inflating: 3-classes-alzheimer-20-patients/AD/img-00012-00001.jpg  \n",
            "  inflating: 3-classes-alzheimer-20-patients/AD/img-00012-00002.jpg  \n",
            "  inflating: 3-classes-alzheimer-20-patients/AD/img-00012-00003.jpg  \n",
            "  inflating: 3-classes-alzheimer-20-patients/AD/img-00012-00004.jpg  \n",
            "  inflating: 3-classes-alzheimer-20-patients/AD/img-00012-00005.jpg  \n",
            "  inflating: 3-classes-alzheimer-20-patients/AD/img-00013-00001.jpg  \n",
            "  inflating: 3-classes-alzheimer-20-patients/AD/img-00013-00002.jpg  \n",
            "  inflating: 3-classes-alzheimer-20-patients/AD/img-00013-00003.jpg  \n",
            "  inflating: 3-classes-alzheimer-20-patients/AD/img-00013-00004.jpg  \n",
            "  inflating: 3-classes-alzheimer-20-patients/AD/img-00013-00005.jpg  \n",
            "  inflating: 3-classes-alzheimer-20-patients/AD/img-00014-00001.jpg  \n",
            "  inflating: 3-classes-alzheimer-20-patients/AD/img-00014-00002.jpg  \n",
            "  inflating: 3-classes-alzheimer-20-patients/AD/img-00014-00003.jpg  \n",
            "  inflating: 3-classes-alzheimer-20-patients/AD/img-00014-00004.jpg  \n",
            "  inflating: 3-classes-alzheimer-20-patients/AD/img-00014-00005.jpg  \n",
            "  inflating: 3-classes-alzheimer-20-patients/AD/img-00015-00001.jpg  \n",
            "  inflating: 3-classes-alzheimer-20-patients/AD/img-00015-00002.jpg  \n",
            "  inflating: 3-classes-alzheimer-20-patients/AD/img-00015-00003.jpg  \n",
            "  inflating: 3-classes-alzheimer-20-patients/AD/img-00015-00004.jpg  \n",
            "  inflating: 3-classes-alzheimer-20-patients/AD/img-00015-00005.jpg  \n",
            "  inflating: 3-classes-alzheimer-20-patients/AD/img-00016-00001.jpg  \n",
            "  inflating: 3-classes-alzheimer-20-patients/AD/img-00016-00002.jpg  \n",
            "  inflating: 3-classes-alzheimer-20-patients/AD/img-00016-00003.jpg  \n",
            "  inflating: 3-classes-alzheimer-20-patients/AD/img-00016-00004.jpg  \n",
            "  inflating: 3-classes-alzheimer-20-patients/AD/img-00016-00005.jpg  \n",
            "  inflating: 3-classes-alzheimer-20-patients/AD/img-00017-00001.jpg  \n",
            "  inflating: 3-classes-alzheimer-20-patients/AD/img-00017-00002.jpg  \n",
            "  inflating: 3-classes-alzheimer-20-patients/AD/img-00017-00003.jpg  \n",
            "  inflating: 3-classes-alzheimer-20-patients/AD/img-00017-00004.jpg  \n",
            "  inflating: 3-classes-alzheimer-20-patients/AD/img-00017-00005.jpg  \n",
            "  inflating: 3-classes-alzheimer-20-patients/AD/img-00018-00001.jpg  \n",
            "  inflating: 3-classes-alzheimer-20-patients/AD/img-00018-00002.jpg  \n",
            "  inflating: 3-classes-alzheimer-20-patients/AD/img-00018-00003.jpg  \n",
            "  inflating: 3-classes-alzheimer-20-patients/AD/img-00018-00004.jpg  \n",
            "  inflating: 3-classes-alzheimer-20-patients/AD/img-00018-00005.jpg  \n",
            "  inflating: 3-classes-alzheimer-20-patients/AD/img-00019-00001.jpg  \n",
            "  inflating: 3-classes-alzheimer-20-patients/AD/img-00019-00002.jpg  \n",
            "  inflating: 3-classes-alzheimer-20-patients/AD/img-00019-00003.jpg  \n",
            "  inflating: 3-classes-alzheimer-20-patients/AD/img-00019-00004.jpg  \n",
            "  inflating: 3-classes-alzheimer-20-patients/AD/img-00019-00005.jpg  \n",
            "  inflating: 3-classes-alzheimer-20-patients/AD/img-00020-00001.jpg  \n",
            "  inflating: 3-classes-alzheimer-20-patients/AD/img-00020-00002.jpg  \n",
            "  inflating: 3-classes-alzheimer-20-patients/AD/img-00020-00003.jpg  \n",
            "  inflating: 3-classes-alzheimer-20-patients/AD/img-00020-00004.jpg  \n",
            "  inflating: 3-classes-alzheimer-20-patients/AD/img-00020-00005.jpg  \n",
            "   creating: 3-classes-alzheimer-20-patients/CN/\n",
            "  inflating: 3-classes-alzheimer-20-patients/CN/img-00001-00001.jpg  \n",
            "  inflating: 3-classes-alzheimer-20-patients/CN/img-00001-00002.jpg  \n",
            "  inflating: 3-classes-alzheimer-20-patients/CN/img-00001-00003.jpg  \n",
            "  inflating: 3-classes-alzheimer-20-patients/CN/img-00001-00004.jpg  \n",
            "  inflating: 3-classes-alzheimer-20-patients/CN/img-00001-00005.jpg  \n",
            "  inflating: 3-classes-alzheimer-20-patients/CN/img-00002-00001.jpg  \n",
            "  inflating: 3-classes-alzheimer-20-patients/CN/img-00002-00002.jpg  \n",
            "  inflating: 3-classes-alzheimer-20-patients/CN/img-00002-00003.jpg  \n",
            "  inflating: 3-classes-alzheimer-20-patients/CN/img-00002-00004.jpg  \n",
            "  inflating: 3-classes-alzheimer-20-patients/CN/img-00002-00005.jpg  \n",
            "  inflating: 3-classes-alzheimer-20-patients/CN/img-00003-00001.jpg  \n",
            "  inflating: 3-classes-alzheimer-20-patients/CN/img-00003-00002.jpg  \n",
            "  inflating: 3-classes-alzheimer-20-patients/CN/img-00003-00003.jpg  \n",
            "  inflating: 3-classes-alzheimer-20-patients/CN/img-00003-00004.jpg  \n",
            "  inflating: 3-classes-alzheimer-20-patients/CN/img-00003-00005.jpg  \n",
            "  inflating: 3-classes-alzheimer-20-patients/CN/img-00004-00001.jpg  \n",
            "  inflating: 3-classes-alzheimer-20-patients/CN/img-00004-00002.jpg  \n",
            "  inflating: 3-classes-alzheimer-20-patients/CN/img-00004-00003.jpg  \n",
            "  inflating: 3-classes-alzheimer-20-patients/CN/img-00004-00004.jpg  \n",
            "  inflating: 3-classes-alzheimer-20-patients/CN/img-00004-00005.jpg  \n",
            "  inflating: 3-classes-alzheimer-20-patients/CN/img-00004-00006.jpg  \n",
            "  inflating: 3-classes-alzheimer-20-patients/CN/img-00005-00001.jpg  \n",
            "  inflating: 3-classes-alzheimer-20-patients/CN/img-00005-00002.jpg  \n",
            "  inflating: 3-classes-alzheimer-20-patients/CN/img-00005-00003.jpg  \n",
            "  inflating: 3-classes-alzheimer-20-patients/CN/img-00005-00004.jpg  \n",
            "  inflating: 3-classes-alzheimer-20-patients/CN/img-00005-00005.jpg  \n",
            "  inflating: 3-classes-alzheimer-20-patients/CN/img-00006-00001.jpg  \n",
            "  inflating: 3-classes-alzheimer-20-patients/CN/img-00006-00002.jpg  \n",
            "  inflating: 3-classes-alzheimer-20-patients/CN/img-00006-00003.jpg  \n",
            "  inflating: 3-classes-alzheimer-20-patients/CN/img-00006-00004.jpg  \n",
            "  inflating: 3-classes-alzheimer-20-patients/CN/img-00006-00005.jpg  \n",
            "  inflating: 3-classes-alzheimer-20-patients/CN/img-00007-00001.jpg  \n",
            "  inflating: 3-classes-alzheimer-20-patients/CN/img-00007-00002.jpg  \n",
            "  inflating: 3-classes-alzheimer-20-patients/CN/img-00007-00003.jpg  \n",
            "  inflating: 3-classes-alzheimer-20-patients/CN/img-00007-00004.jpg  \n",
            "  inflating: 3-classes-alzheimer-20-patients/CN/img-00007-00005.jpg  \n",
            "  inflating: 3-classes-alzheimer-20-patients/CN/img-00008-00001.jpg  \n",
            "  inflating: 3-classes-alzheimer-20-patients/CN/img-00008-00002.jpg  \n",
            "  inflating: 3-classes-alzheimer-20-patients/CN/img-00008-00003.jpg  \n",
            "  inflating: 3-classes-alzheimer-20-patients/CN/img-00008-00004.jpg  \n",
            "  inflating: 3-classes-alzheimer-20-patients/CN/img-00008-00005.jpg  \n",
            "  inflating: 3-classes-alzheimer-20-patients/CN/img-00009-00001.jpg  \n",
            "  inflating: 3-classes-alzheimer-20-patients/CN/img-00009-00002.jpg  \n",
            "  inflating: 3-classes-alzheimer-20-patients/CN/img-00009-00003.jpg  \n",
            "  inflating: 3-classes-alzheimer-20-patients/CN/img-00009-00004.jpg  \n",
            "  inflating: 3-classes-alzheimer-20-patients/CN/img-00009-00005.jpg  \n",
            "  inflating: 3-classes-alzheimer-20-patients/CN/img-00010-00001.jpg  \n",
            "  inflating: 3-classes-alzheimer-20-patients/CN/img-00010-00002.jpg  \n",
            "  inflating: 3-classes-alzheimer-20-patients/CN/img-00010-00003.jpg  \n",
            "  inflating: 3-classes-alzheimer-20-patients/CN/img-00010-00004.jpg  \n",
            "  inflating: 3-classes-alzheimer-20-patients/CN/img-00010-00005.jpg  \n",
            "  inflating: 3-classes-alzheimer-20-patients/CN/img-00011-00001.jpg  \n",
            "  inflating: 3-classes-alzheimer-20-patients/CN/img-00011-00002.jpg  \n",
            "  inflating: 3-classes-alzheimer-20-patients/CN/img-00011-00003.jpg  \n",
            "  inflating: 3-classes-alzheimer-20-patients/CN/img-00011-00004.jpg  \n",
            "  inflating: 3-classes-alzheimer-20-patients/CN/img-00011-00005.jpg  \n",
            "  inflating: 3-classes-alzheimer-20-patients/CN/img-00012-00001.jpg  \n",
            "  inflating: 3-classes-alzheimer-20-patients/CN/img-00012-00002.jpg  \n",
            "  inflating: 3-classes-alzheimer-20-patients/CN/img-00012-00003.jpg  \n",
            "  inflating: 3-classes-alzheimer-20-patients/CN/img-00012-00004.jpg  \n",
            "  inflating: 3-classes-alzheimer-20-patients/CN/img-00012-00005.jpg  \n",
            "  inflating: 3-classes-alzheimer-20-patients/CN/img-00013-00001.jpg  \n",
            "  inflating: 3-classes-alzheimer-20-patients/CN/img-00013-00002.jpg  \n",
            "  inflating: 3-classes-alzheimer-20-patients/CN/img-00013-00003.jpg  \n",
            "  inflating: 3-classes-alzheimer-20-patients/CN/img-00013-00004.jpg  \n",
            "  inflating: 3-classes-alzheimer-20-patients/CN/img-00013-00005.jpg  \n",
            "  inflating: 3-classes-alzheimer-20-patients/CN/img-00014-00001.jpg  \n",
            "  inflating: 3-classes-alzheimer-20-patients/CN/img-00014-00002.jpg  \n",
            "  inflating: 3-classes-alzheimer-20-patients/CN/img-00014-00003.jpg  \n",
            "  inflating: 3-classes-alzheimer-20-patients/CN/img-00014-00004.jpg  \n",
            "  inflating: 3-classes-alzheimer-20-patients/CN/img-00014-00005.jpg  \n",
            "  inflating: 3-classes-alzheimer-20-patients/CN/img-00015-00001.jpg  \n",
            "  inflating: 3-classes-alzheimer-20-patients/CN/img-00015-00002.jpg  \n",
            "  inflating: 3-classes-alzheimer-20-patients/CN/img-00015-00003.jpg  \n",
            "  inflating: 3-classes-alzheimer-20-patients/CN/img-00015-00004.jpg  \n",
            "  inflating: 3-classes-alzheimer-20-patients/CN/img-00015-00005.jpg  \n",
            "  inflating: 3-classes-alzheimer-20-patients/CN/img-00016-00001.jpg  \n",
            "  inflating: 3-classes-alzheimer-20-patients/CN/img-00016-00002.jpg  \n",
            "  inflating: 3-classes-alzheimer-20-patients/CN/img-00016-00003.jpg  \n",
            "  inflating: 3-classes-alzheimer-20-patients/CN/img-00016-00004.jpg  \n",
            "  inflating: 3-classes-alzheimer-20-patients/CN/img-00016-00005.jpg  \n",
            "  inflating: 3-classes-alzheimer-20-patients/CN/img-00017-00001.jpg  \n",
            "  inflating: 3-classes-alzheimer-20-patients/CN/img-00017-00002.jpg  \n",
            "  inflating: 3-classes-alzheimer-20-patients/CN/img-00017-00003.jpg  \n",
            "  inflating: 3-classes-alzheimer-20-patients/CN/img-00017-00004.jpg  \n",
            "  inflating: 3-classes-alzheimer-20-patients/CN/img-00017-00005.jpg  \n",
            "  inflating: 3-classes-alzheimer-20-patients/CN/img-00018-00001.jpg  \n",
            "  inflating: 3-classes-alzheimer-20-patients/CN/img-00018-00002.jpg  \n",
            "  inflating: 3-classes-alzheimer-20-patients/CN/img-00018-00003.jpg  \n",
            "  inflating: 3-classes-alzheimer-20-patients/CN/img-00018-00004.jpg  \n",
            "  inflating: 3-classes-alzheimer-20-patients/CN/img-00018-00005.jpg  \n",
            "  inflating: 3-classes-alzheimer-20-patients/CN/img-00019-00001.jpg  \n",
            "  inflating: 3-classes-alzheimer-20-patients/CN/img-00019-00002.jpg  \n",
            "  inflating: 3-classes-alzheimer-20-patients/CN/img-00019-00003.jpg  \n",
            "  inflating: 3-classes-alzheimer-20-patients/CN/img-00019-00004.jpg  \n",
            "  inflating: 3-classes-alzheimer-20-patients/CN/img-00019-00005.jpg  \n",
            "  inflating: 3-classes-alzheimer-20-patients/CN/img-00020-00001.jpg  \n",
            "  inflating: 3-classes-alzheimer-20-patients/CN/img-00020-00002.jpg  \n",
            "  inflating: 3-classes-alzheimer-20-patients/CN/img-00020-00003.jpg  \n",
            "  inflating: 3-classes-alzheimer-20-patients/CN/img-00020-00004.jpg  \n",
            "  inflating: 3-classes-alzheimer-20-patients/CN/img-00020-00005.jpg  \n",
            "   creating: 3-classes-alzheimer-20-patients/MCI/\n",
            "  inflating: 3-classes-alzheimer-20-patients/MCI/img-00001-00001.jpg  \n",
            "  inflating: 3-classes-alzheimer-20-patients/MCI/img-00001-00002.jpg  \n",
            "  inflating: 3-classes-alzheimer-20-patients/MCI/img-00001-00003.jpg  \n",
            "  inflating: 3-classes-alzheimer-20-patients/MCI/img-00001-00004.jpg  \n",
            "  inflating: 3-classes-alzheimer-20-patients/MCI/img-00001-00005.jpg  \n",
            "  inflating: 3-classes-alzheimer-20-patients/MCI/img-00002-00001.jpg  \n",
            "  inflating: 3-classes-alzheimer-20-patients/MCI/img-00002-00002.jpg  \n",
            "  inflating: 3-classes-alzheimer-20-patients/MCI/img-00002-00003.jpg  \n",
            "  inflating: 3-classes-alzheimer-20-patients/MCI/img-00002-00004.jpg  \n",
            "  inflating: 3-classes-alzheimer-20-patients/MCI/img-00002-00005.jpg  \n",
            "  inflating: 3-classes-alzheimer-20-patients/MCI/img-00003-00001.jpg  \n",
            "  inflating: 3-classes-alzheimer-20-patients/MCI/img-00003-00002.jpg  \n",
            "  inflating: 3-classes-alzheimer-20-patients/MCI/img-00003-00003.jpg  \n",
            "  inflating: 3-classes-alzheimer-20-patients/MCI/img-00003-00004.jpg  \n",
            "  inflating: 3-classes-alzheimer-20-patients/MCI/img-00003-00005.jpg  \n",
            "  inflating: 3-classes-alzheimer-20-patients/MCI/img-00004-00001.jpg  \n",
            "  inflating: 3-classes-alzheimer-20-patients/MCI/img-00004-00002.jpg  \n",
            "  inflating: 3-classes-alzheimer-20-patients/MCI/img-00004-00003.jpg  \n",
            "  inflating: 3-classes-alzheimer-20-patients/MCI/img-00004-00004.jpg  \n",
            "  inflating: 3-classes-alzheimer-20-patients/MCI/img-00004-00005.jpg  \n",
            "  inflating: 3-classes-alzheimer-20-patients/MCI/img-00005-00001.jpg  \n",
            "  inflating: 3-classes-alzheimer-20-patients/MCI/img-00005-00002.jpg  \n",
            "  inflating: 3-classes-alzheimer-20-patients/MCI/img-00005-00003.jpg  \n",
            "  inflating: 3-classes-alzheimer-20-patients/MCI/img-00005-00004.jpg  \n",
            "  inflating: 3-classes-alzheimer-20-patients/MCI/img-00005-00005.jpg  \n",
            "  inflating: 3-classes-alzheimer-20-patients/MCI/img-00006-00001.jpg  \n",
            "  inflating: 3-classes-alzheimer-20-patients/MCI/img-00006-00002.jpg  \n",
            "  inflating: 3-classes-alzheimer-20-patients/MCI/img-00006-00003.jpg  \n",
            "  inflating: 3-classes-alzheimer-20-patients/MCI/img-00006-00004.jpg  \n",
            "  inflating: 3-classes-alzheimer-20-patients/MCI/img-00006-00005.jpg  \n",
            "  inflating: 3-classes-alzheimer-20-patients/MCI/img-00007-00001.jpg  \n",
            "  inflating: 3-classes-alzheimer-20-patients/MCI/img-00007-00002.jpg  \n",
            "  inflating: 3-classes-alzheimer-20-patients/MCI/img-00007-00003.jpg  \n",
            "  inflating: 3-classes-alzheimer-20-patients/MCI/img-00007-00004.jpg  \n",
            "  inflating: 3-classes-alzheimer-20-patients/MCI/img-00007-00005.jpg  \n",
            "  inflating: 3-classes-alzheimer-20-patients/MCI/img-00008-00001.jpg  \n",
            "  inflating: 3-classes-alzheimer-20-patients/MCI/img-00008-00002.jpg  \n",
            "  inflating: 3-classes-alzheimer-20-patients/MCI/img-00008-00003.jpg  \n",
            "  inflating: 3-classes-alzheimer-20-patients/MCI/img-00008-00004.jpg  \n",
            "  inflating: 3-classes-alzheimer-20-patients/MCI/img-00008-00005.jpg  \n",
            "  inflating: 3-classes-alzheimer-20-patients/MCI/img-00009-00001.jpg  \n",
            "  inflating: 3-classes-alzheimer-20-patients/MCI/img-00009-00002.jpg  \n",
            "  inflating: 3-classes-alzheimer-20-patients/MCI/img-00009-00003.jpg  \n",
            "  inflating: 3-classes-alzheimer-20-patients/MCI/img-00009-00004.jpg  \n",
            "  inflating: 3-classes-alzheimer-20-patients/MCI/img-00009-00005.jpg  \n",
            "  inflating: 3-classes-alzheimer-20-patients/MCI/img-00010-00001.jpg  \n",
            "  inflating: 3-classes-alzheimer-20-patients/MCI/img-00010-00002.jpg  \n",
            "  inflating: 3-classes-alzheimer-20-patients/MCI/img-00010-00003.jpg  \n",
            "  inflating: 3-classes-alzheimer-20-patients/MCI/img-00010-00004.jpg  \n",
            "  inflating: 3-classes-alzheimer-20-patients/MCI/img-00010-00005.jpg  \n",
            "  inflating: 3-classes-alzheimer-20-patients/MCI/img-00011-00001.jpg  \n",
            "  inflating: 3-classes-alzheimer-20-patients/MCI/img-00011-00002.jpg  \n",
            "  inflating: 3-classes-alzheimer-20-patients/MCI/img-00011-00003.jpg  \n",
            "  inflating: 3-classes-alzheimer-20-patients/MCI/img-00011-00004.jpg  \n",
            "  inflating: 3-classes-alzheimer-20-patients/MCI/img-00011-00005.jpg  \n",
            "  inflating: 3-classes-alzheimer-20-patients/MCI/img-00012-00001.jpg  \n",
            "  inflating: 3-classes-alzheimer-20-patients/MCI/img-00012-00002.jpg  \n",
            "  inflating: 3-classes-alzheimer-20-patients/MCI/img-00012-00003.jpg  \n",
            "  inflating: 3-classes-alzheimer-20-patients/MCI/img-00012-00004.jpg  \n",
            "  inflating: 3-classes-alzheimer-20-patients/MCI/img-00012-00005.jpg  \n",
            "  inflating: 3-classes-alzheimer-20-patients/MCI/img-00013-00001.jpg  \n",
            "  inflating: 3-classes-alzheimer-20-patients/MCI/img-00013-00002.jpg  \n",
            "  inflating: 3-classes-alzheimer-20-patients/MCI/img-00013-00003.jpg  \n",
            "  inflating: 3-classes-alzheimer-20-patients/MCI/img-00013-00004.jpg  \n",
            "  inflating: 3-classes-alzheimer-20-patients/MCI/img-00013-00005.jpg  \n",
            "  inflating: 3-classes-alzheimer-20-patients/MCI/img-00014-00001.jpg  \n",
            "  inflating: 3-classes-alzheimer-20-patients/MCI/img-00014-00002.jpg  \n",
            "  inflating: 3-classes-alzheimer-20-patients/MCI/img-00014-00003.jpg  \n",
            "  inflating: 3-classes-alzheimer-20-patients/MCI/img-00014-00004.jpg  \n",
            "  inflating: 3-classes-alzheimer-20-patients/MCI/img-00014-00005.jpg  \n",
            "  inflating: 3-classes-alzheimer-20-patients/MCI/img-00015-00001.jpg  \n",
            "  inflating: 3-classes-alzheimer-20-patients/MCI/img-00015-00002.jpg  \n",
            "  inflating: 3-classes-alzheimer-20-patients/MCI/img-00015-00003.jpg  \n",
            "  inflating: 3-classes-alzheimer-20-patients/MCI/img-00015-00004.jpg  \n",
            "  inflating: 3-classes-alzheimer-20-patients/MCI/img-00015-00005.jpg  \n",
            "  inflating: 3-classes-alzheimer-20-patients/MCI/img-00016-00001.jpg  \n",
            "  inflating: 3-classes-alzheimer-20-patients/MCI/img-00016-00002.jpg  \n",
            "  inflating: 3-classes-alzheimer-20-patients/MCI/img-00016-00003.jpg  \n",
            "  inflating: 3-classes-alzheimer-20-patients/MCI/img-00016-00004.jpg  \n",
            "  inflating: 3-classes-alzheimer-20-patients/MCI/img-00016-00005.jpg  \n",
            "  inflating: 3-classes-alzheimer-20-patients/MCI/img-00017-00001.jpg  \n",
            "  inflating: 3-classes-alzheimer-20-patients/MCI/img-00017-00002.jpg  \n",
            "  inflating: 3-classes-alzheimer-20-patients/MCI/img-00017-00003.jpg  \n",
            "  inflating: 3-classes-alzheimer-20-patients/MCI/img-00017-00004.jpg  \n",
            "  inflating: 3-classes-alzheimer-20-patients/MCI/img-00017-00005.jpg  \n",
            "  inflating: 3-classes-alzheimer-20-patients/MCI/img-00018-00001.jpg  \n",
            "  inflating: 3-classes-alzheimer-20-patients/MCI/img-00018-00002.jpg  \n",
            "  inflating: 3-classes-alzheimer-20-patients/MCI/img-00018-00003.jpg  \n",
            "  inflating: 3-classes-alzheimer-20-patients/MCI/img-00018-00004.jpg  \n",
            "  inflating: 3-classes-alzheimer-20-patients/MCI/img-00018-00005.jpg  \n",
            "  inflating: 3-classes-alzheimer-20-patients/MCI/img-00019-00001.jpg  \n",
            "  inflating: 3-classes-alzheimer-20-patients/MCI/img-00019-00002.jpg  \n",
            "  inflating: 3-classes-alzheimer-20-patients/MCI/img-00019-00003.jpg  \n",
            "  inflating: 3-classes-alzheimer-20-patients/MCI/img-00019-00004.jpg  \n",
            "  inflating: 3-classes-alzheimer-20-patients/MCI/img-00019-00005.jpg  \n",
            "  inflating: 3-classes-alzheimer-20-patients/MCI/img-00020-00001.jpg  \n",
            "  inflating: 3-classes-alzheimer-20-patients/MCI/img-00020-00002.jpg  \n",
            "  inflating: 3-classes-alzheimer-20-patients/MCI/img-00020-00003.jpg  \n",
            "  inflating: 3-classes-alzheimer-20-patients/MCI/img-00020-00004.jpg  \n",
            "  inflating: 3-classes-alzheimer-20-patients/MCI/img-00020-00005.jpg  \n"
          ]
        }
      ]
    },
    {
      "cell_type": "markdown",
      "source": [
        "Create base directory for each classes"
      ],
      "metadata": {
        "id": "KUx68G8HJgpG"
      }
    },
    {
      "cell_type": "code",
      "source": [
        "import os\n",
        " #lokasi direktori dasar\n",
        "dir_base ='/content/3-classes-alzheimer-20-patients'\n",
        "os.listdir(dir_base)\n",
        "print(os.listdir(dir_base))\n",
        "\n",
        "#hitung jumlah file per direktori\n",
        "data_cn = len(os.listdir('/content/3-classes-alzheimer-20-patients/CN'))\n",
        "data_mci = len(os.listdir('/content/3-classes-alzheimer-20-patients/MCI')) \n",
        "data_ad = len(os.listdir('/content/3-classes-alzheimer-20-patients/AD')) \n",
        "\n",
        "print(\"Amount of CN class images:\", data_cn)\n",
        "print(\"Amount of MCI class images:\", data_mci)\n",
        "print(\"Amount of AD class images:\", data_ad)"
      ],
      "metadata": {
        "id": "gOiuaqGVJljF",
        "outputId": "f78db25d-08c9-46b3-f669-c22dd75b6eb9",
        "colab": {
          "base_uri": "https://localhost:8080/"
        }
      },
      "execution_count": 4,
      "outputs": [
        {
          "output_type": "stream",
          "name": "stdout",
          "text": [
            "['CN', 'AD', 'MCI']\n",
            "Amount of CN class images: 101\n",
            "Amount of MCI class images: 100\n",
            "Amount of AD class images: 108\n"
          ]
        }
      ]
    },
    {
      "cell_type": "markdown",
      "source": [
        "# augmentasi dan split data"
      ],
      "metadata": {
        "id": "MPnipObYhSo1"
      }
    },
    {
      "cell_type": "markdown",
      "source": [
        "image data generator dan split data dengan 80 20"
      ],
      "metadata": {
        "id": "CqC2LdmmKI_v"
      }
    },
    {
      "cell_type": "code",
      "source": [
        "import tensorflow as tf\n",
        "import keras_preprocessing\n",
        "from keras_preprocessing import image\n",
        "from keras_preprocessing.image import ImageDataGenerator"
      ],
      "metadata": {
        "id": "E0ybKmB2aKfu"
      },
      "execution_count": 5,
      "outputs": []
    },
    {
      "cell_type": "code",
      "source": [
        "train_datagen = ImageDataGenerator(rescale = 1./255,\n",
        "                                  # rotation_range=30,\n",
        "                                  # zoom_range=0.2,\n",
        "                                  # horizontal_flip=True,\n",
        "                                  # vertical_flip=True,\n",
        "                                   validation_split = 0.2\n",
        "                                   )\n",
        "\n",
        "# valid_datagen = ImageDataGenerator(rescale = 1./255,\n",
        "#                                    validation_split = 0.2)\n",
        "\n",
        "# test_datagen  = ImageDataGenerator(rescale = 1./255)"
      ],
      "metadata": {
        "id": "UvJGSRQfRT3d"
      },
      "execution_count": 7,
      "outputs": []
    },
    {
      "cell_type": "code",
      "source": [
        "train_generator = train_datagen.flow_from_directory(\n",
        "    directory = dir_base,\n",
        "    target_size = (256,256),\n",
        "    batch_size = 16,\n",
        "    class_mode = 'categorical',\n",
        "    subset='training'\n",
        ")\n",
        " \n",
        "val_generator = train_datagen.flow_from_directory(\n",
        "    directory = dir_base,\n",
        "    target_size = (256,256),\n",
        "    batch_size = 16,\n",
        "    class_mode = 'categorical',\n",
        "    subset='validation'\n",
        ")"
      ],
      "metadata": {
        "colab": {
          "base_uri": "https://localhost:8080/"
        },
        "id": "w7MqWW2Uhdal",
        "outputId": "03672768-2a45-43bf-e5ab-2bd79791fed7"
      },
      "execution_count": 8,
      "outputs": [
        {
          "output_type": "stream",
          "name": "stdout",
          "text": [
            "Found 248 images belonging to 3 classes.\n",
            "Found 61 images belonging to 3 classes.\n"
          ]
        }
      ]
    },
    {
      "cell_type": "markdown",
      "source": [
        "Showing augmented data"
      ],
      "metadata": {
        "id": "ucX1BQ99wEKb"
      }
    },
    {
      "cell_type": "code",
      "source": [
        "# from keras.preprocessing.image import ImageDataGenerator, array_to_img, img_to_array, load_img\n",
        "\n",
        "# datagen = ImageDataGenerator(\n",
        "#                             # rotation_range=90\n",
        "#                               # width_shift_range=0.3\n",
        "#                               #height_shift_range=0.3\n",
        "#                              # brightness_range=(0.5, 1.5)\n",
        "#                               # shear_range=0.2\n",
        "#                             # zoom_range=0.2\n",
        "#                             # horizontal_flip=True\n",
        "#                               # vertical_flip=True\n",
        "#                              )\n",
        "\n",
        "# img = load_img('/content/3-classes-alzheimer-20-patients/AD/img-00005-00008.jpg')  # this is a PIL image\n",
        "# x = img_to_array(img)  # this is a Numpy array with shape (3, 150, 150)\n",
        "# x = x.reshape((1,) + x.shape)  # this is a Numpy array with shape (1, 3, 150, 150)\n",
        "\n",
        "# # the .flow() command below generates batches of randomly transformed images\n",
        "# # and saves the results to the `preview/` directory\n",
        "# path_aug = '/content/aug_img'\n",
        "# i = 0\n",
        "# for batch in datagen.flow(x, batch_size=1,\n",
        "#                           save_to_dir=path_aug, save_prefix='vertikal', save_format='jpeg'):\n",
        "#     i += 1\n",
        "#     if i > 1:\n",
        "#         break  # otherwise the generator would loop indefinitely"
      ],
      "metadata": {
        "id": "03fYOhUuwKLS"
      },
      "execution_count": 9,
      "outputs": []
    },
    {
      "cell_type": "markdown",
      "source": [
        "# create model architecture"
      ],
      "metadata": {
        "id": "GRETyJMHirX4"
      }
    },
    {
      "cell_type": "code",
      "source": [
        "import numpy as np\n",
        "import pandas as pd\n",
        "import matplotlib.pyplot as plt\n",
        "import tensorflow as tf\n",
        "import keras_preprocessing\n",
        "from keras_preprocessing import image\n",
        "from keras_preprocessing.image import ImageDataGenerator\n",
        "from tensorflow.keras.models import Sequential\n",
        "from keras.layers import Conv2D, Dense, Flatten, MaxPooling2D, Dropout\n",
        "from tensorflow.keras import activations\n",
        "\n",
        "# model = Sequential()\n",
        "\n",
        "# # Layer CNN pertama\n",
        "# model.add(Conv2D(filters=32, kernel_size=3, activation='relu', input_shape=(150,150,3)))\n",
        "# model.add(MaxPool2D(pool_size=(2, 2)))\n",
        "# model.add(Dropout(rate=0.25))\n",
        "\n",
        "# # Layer CNN kedua\n",
        "# model.add(Conv2D(filters=64, kernel_size=3, activation='relu'))\n",
        "# model.add(MaxPool2D(pool_size=(2, 2)))\n",
        "# model.add(Dropout(rate=0.25))\n",
        "\n",
        "# # Layer CNN ketiga\n",
        "# model.add(Conv2D(filters=64, kernel_size=3, activation='relu'))\n",
        "\n",
        "# model.summary()"
      ],
      "metadata": {
        "id": "1k1tFggfhiUs"
      },
      "execution_count": 10,
      "outputs": []
    },
    {
      "cell_type": "code",
      "source": [
        "# model = tf.keras.models.Sequential([\n",
        "#     tf.keras.layers.Conv2D(32, (3,3), activation='relu', input_shape=(256, 256, 3)),\n",
        "#     tf.keras.layers.MaxPooling2D(2,2),\n",
        "#     tf.keras.layers.Flatten(),\n",
        "#     tf.keras.layers.Dense(128, activation='relu'),\n",
        "#     tf.keras.layers.Dropout(0.2),\n",
        "#     tf.keras.layers.Dense(3, activation='softmax')\n",
        "# ])\n",
        "\n",
        "# model.compile(optimizer='adam',\n",
        "#               loss='categorical_crossentropy',\n",
        "#               metrics=['accuracy'])\n",
        "\n",
        "# model.summary()"
      ],
      "metadata": {
        "id": "vKbfclRii0z5"
      },
      "execution_count": 11,
      "outputs": []
    },
    {
      "cell_type": "code",
      "source": [
        "# from tensorflow import keras\n",
        "# from tensorflow.keras import layers, models\n",
        "# from tensorflow.keras.models import Sequential\n",
        "# from keras.layers import Conv2D, Dense, Flatten, MaxPool2D, Dropout, BatchNormalization\n",
        "\n",
        "# model = keras.Sequential()\n",
        "# model.add(layers.Conv2D(filters=16, kernel_size=(3, 3), padding='same', activation = 'relu', input_shape = (256, 256, 3), kernel_initializer=\"he_normal\"))\n",
        "# model.add(layers.MaxPooling2D())\n",
        "# model.add(layers.Conv2D(filters=32, kernel_size=(3, 3), padding='same', activation = 'relu', input_shape = (256, 256, 3), kernel_initializer=\"he_normal\"))\n",
        "# model.add(layers.MaxPooling2D())\n",
        "\n",
        "# model.add(Dropout(0.25))\n",
        "# model.add(layers.Flatten())\n",
        "# model.add(BatchNormalization())\n",
        "# model.add(layers.Dense(units = 128, activation = 'relu', kernel_initializer=\"he_normal\"))\n",
        "# model.add(BatchNormalization())\n",
        "# model.add(layers.Dense(units = 64, activation = 'relu'))\n",
        "# model.add(layers.Dense(units = 3, activation = 'softmax'))\n",
        "\n",
        "# model.compile(optimizer='adam', loss='categorical_crossentropy', metrics = ['accuracy'])\n",
        "\n",
        "# model.summary()"
      ],
      "metadata": {
        "id": "VViy9RIdRSQ9"
      },
      "execution_count": 12,
      "outputs": []
    },
    {
      "cell_type": "code",
      "source": [
        "def build_model():\n",
        "    \n",
        "    '''Sequential Model creation'''\n",
        "    model = Sequential()\n",
        "    \n",
        "    model.add(Conv2D(16,(3,3),padding='same',input_shape = (256,256,3),activation='relu'))\n",
        "    \n",
        "    model.add(Conv2D(32,(3,3),padding='same',activation='relu'))\n",
        "    model.add(MaxPooling2D(pool_size=(2,2),strides=2,padding = 'same'))\n",
        "    \n",
        "    model.add(Conv2D(32,(3,3),padding='same',activation='relu'))\n",
        "    \n",
        "    \n",
        "    model.add(Conv2D(64,(3,3),padding='same',activation='relu'))\n",
        "    model.add(MaxPooling2D(pool_size=(2,2),strides=2,padding = 'same'))\n",
        "    \n",
        "    model.add(Conv2D(64,(3,3),padding='same',activation='relu'))\n",
        "    \n",
        "    model.add(Conv2D(128,(3,3),padding='same',activation='relu'))\n",
        "    model.add(MaxPooling2D(pool_size=(2,2),strides=2,padding = 'same'))\n",
        "    \n",
        "    model.add(Conv2D(128,(3,3),padding='same',activation='relu'))\n",
        "    \n",
        "    model.add(Conv2D(128,(3,3),padding='same',activation='relu'))\n",
        "    model.add(MaxPooling2D(pool_size=(2,2),strides=2,padding = 'same'))\n",
        "    \n",
        "    \n",
        "    model.add(Flatten())\n",
        "    model.add(Dense(32))\n",
        "    model.add(Dense(32))\n",
        "    model.add(Dense(32))\n",
        "    model.add(Dense(32))\n",
        "    model.add(Dense(units = 3, activation = 'softmax'))\n",
        "    \n",
        "    return model\n",
        "\n",
        "model = build_model()\n",
        "model.summary()"
      ],
      "metadata": {
        "id": "LBo0yzua310I",
        "outputId": "986b7b53-b0b7-4d54-de65-a29628657884",
        "colab": {
          "base_uri": "https://localhost:8080/"
        }
      },
      "execution_count": 13,
      "outputs": [
        {
          "output_type": "stream",
          "name": "stdout",
          "text": [
            "Model: \"sequential\"\n",
            "_________________________________________________________________\n",
            " Layer (type)                Output Shape              Param #   \n",
            "=================================================================\n",
            " conv2d (Conv2D)             (None, 256, 256, 16)      448       \n",
            "                                                                 \n",
            " conv2d_1 (Conv2D)           (None, 256, 256, 32)      4640      \n",
            "                                                                 \n",
            " max_pooling2d (MaxPooling2D  (None, 128, 128, 32)     0         \n",
            " )                                                               \n",
            "                                                                 \n",
            " conv2d_2 (Conv2D)           (None, 128, 128, 32)      9248      \n",
            "                                                                 \n",
            " conv2d_3 (Conv2D)           (None, 128, 128, 64)      18496     \n",
            "                                                                 \n",
            " max_pooling2d_1 (MaxPooling  (None, 64, 64, 64)       0         \n",
            " 2D)                                                             \n",
            "                                                                 \n",
            " conv2d_4 (Conv2D)           (None, 64, 64, 64)        36928     \n",
            "                                                                 \n",
            " conv2d_5 (Conv2D)           (None, 64, 64, 128)       73856     \n",
            "                                                                 \n",
            " max_pooling2d_2 (MaxPooling  (None, 32, 32, 128)      0         \n",
            " 2D)                                                             \n",
            "                                                                 \n",
            " conv2d_6 (Conv2D)           (None, 32, 32, 128)       147584    \n",
            "                                                                 \n",
            " conv2d_7 (Conv2D)           (None, 32, 32, 128)       147584    \n",
            "                                                                 \n",
            " max_pooling2d_3 (MaxPooling  (None, 16, 16, 128)      0         \n",
            " 2D)                                                             \n",
            "                                                                 \n",
            " flatten (Flatten)           (None, 32768)             0         \n",
            "                                                                 \n",
            " dense (Dense)               (None, 32)                1048608   \n",
            "                                                                 \n",
            " dense_1 (Dense)             (None, 32)                1056      \n",
            "                                                                 \n",
            " dense_2 (Dense)             (None, 32)                1056      \n",
            "                                                                 \n",
            " dense_3 (Dense)             (None, 32)                1056      \n",
            "                                                                 \n",
            " dense_4 (Dense)             (None, 3)                 99        \n",
            "                                                                 \n",
            "=================================================================\n",
            "Total params: 1,490,659\n",
            "Trainable params: 1,490,659\n",
            "Non-trainable params: 0\n",
            "_________________________________________________________________\n"
          ]
        }
      ]
    },
    {
      "cell_type": "markdown",
      "source": [
        "# modelling"
      ],
      "metadata": {
        "id": "Sq_GNC6LrEie"
      }
    },
    {
      "cell_type": "code",
      "source": [
        "# train_len = 0\n",
        "# for foldername in os.listdir('/content/alzheimer-mri-dataset/Alzheimers-ADNI/train'):\n",
        "#     train_len = train_len + len(os.listdir(os.path.join('/content/alzheimer-mri-dataset/Alzheimers-ADNI/train',foldername)))\n",
        "    \n",
        "# val_len = 0\n",
        "# for foldername in os.listdir('/content/alzheimer-mri-dataset/Alzheimers-ADNI/test'):\n",
        "#     val_len = val_len + len(os.listdir(os.path.join('/content/alzheimer-mri-dataset/Alzheimers-ADNI/test',foldername)))\n",
        "\n",
        "# print(train_len)\n",
        "# print(val_len)"
      ],
      "metadata": {
        "id": "Ub28diD3rKv8"
      },
      "execution_count": 14,
      "outputs": []
    },
    {
      "cell_type": "code",
      "source": [
        "from keras.wrappers.scikit_learn import KerasClassifier\n",
        "import keras.backend as K"
      ],
      "metadata": {
        "id": "BVz3SZ8dnCpo"
      },
      "execution_count": 15,
      "outputs": []
    },
    {
      "cell_type": "code",
      "source": [
        "def f1_score(y_true, y_pred): #taken from old keras source code\n",
        "    true_positives = K.sum(K.round(K.clip(y_true * y_pred, 0, 1)))\n",
        "    possible_positives = K.sum(K.round(K.clip(y_true, 0, 1)))\n",
        "    predicted_positives = K.sum(K.round(K.clip(y_pred, 0, 1)))\n",
        "    precision = true_positives / (predicted_positives + K.epsilon())\n",
        "    recall = true_positives / (possible_positives + K.epsilon())\n",
        "    f1_val = 2*(precision*recall)/(precision+recall+K.epsilon())\n",
        "    return f1_val"
      ],
      "metadata": {
        "id": "fdwmMU3i3u45"
      },
      "execution_count": 16,
      "outputs": []
    },
    {
      "cell_type": "code",
      "source": [
        "METRICS = [\n",
        "      tf.keras.metrics.BinaryAccuracy(name='accuracy'),\n",
        "      tf.keras.metrics.Precision(name='precision'),\n",
        "      tf.keras.metrics.Recall(name='recall'),  \n",
        "      tf.keras.metrics.AUC(name='auc'),\n",
        "        f1_score,\n",
        "]"
      ],
      "metadata": {
        "id": "yRwHEivD4CF6"
      },
      "execution_count": 17,
      "outputs": []
    },
    {
      "cell_type": "code",
      "source": [
        "model.compile(optimizer='adam', loss='categorical_crossentropy', metrics = METRICS)"
      ],
      "metadata": {
        "id": "hBC6fKzSmodM"
      },
      "execution_count": 18,
      "outputs": []
    },
    {
      "cell_type": "code",
      "source": [
        "model_history = model.fit(train_generator,\n",
        "                        validation_data=val_generator,\n",
        "                        epochs = 30,\n",
        "                        verbose = 1)"
      ],
      "metadata": {
        "id": "3uAsHW-5rDZ8",
        "colab": {
          "base_uri": "https://localhost:8080/"
        },
        "outputId": "99d9a0d1-3f51-4c2e-9c33-0d0af1fdae67"
      },
      "execution_count": null,
      "outputs": [
        {
          "output_type": "stream",
          "name": "stdout",
          "text": [
            "Epoch 1/30\n",
            "16/16 [==============================] - 85s 5s/step - loss: 1.2157 - accuracy: 0.6586 - precision: 0.3125 - recall: 0.0202 - auc: 0.5164 - f1_score: 0.0195 - val_loss: 1.1236 - val_accuracy: 0.6667 - val_precision: 0.0000e+00 - val_recall: 0.0000e+00 - val_auc: 0.3988 - val_f1_score: 0.0000e+00\n",
            "Epoch 2/30\n",
            "16/16 [==============================] - 72s 5s/step - loss: 1.0002 - accuracy: 0.6962 - precision: 0.6897 - recall: 0.1613 - auc: 0.6899 - f1_score: 0.2086 - val_loss: 1.9381 - val_accuracy: 0.5628 - val_precision: 0.2889 - val_recall: 0.2131 - val_auc: 0.3802 - val_f1_score: 0.2333\n",
            "Epoch 3/30\n",
            "16/16 [==============================] - 72s 4s/step - loss: 0.8751 - accuracy: 0.7406 - precision: 0.6687 - recall: 0.4395 - auc: 0.7829 - f1_score: 0.5140 - val_loss: 3.1560 - val_accuracy: 0.5027 - val_precision: 0.1739 - val_recall: 0.1311 - val_auc: 0.4024 - val_f1_score: 0.1464\n",
            "Epoch 4/30\n",
            "16/16 [==============================] - 72s 5s/step - loss: 0.7855 - accuracy: 0.7621 - precision: 0.7101 - recall: 0.4839 - auc: 0.8250 - f1_score: 0.5707 - val_loss: 5.3948 - val_accuracy: 0.4699 - val_precision: 0.1897 - val_recall: 0.1803 - val_auc: 0.3835 - val_f1_score: 0.1875\n",
            "Epoch 5/30\n",
            "16/16 [==============================] - 72s 5s/step - loss: 0.7433 - accuracy: 0.7769 - precision: 0.7356 - recall: 0.5161 - auc: 0.8602 - f1_score: 0.5744 - val_loss: 1.3105 - val_accuracy: 0.6448 - val_precision: 0.3750 - val_recall: 0.0984 - val_auc: 0.3518 - val_f1_score: 0.1412\n",
            "Epoch 6/30\n",
            "16/16 [==============================] - 75s 5s/step - loss: 0.7645 - accuracy: 0.8078 - precision: 0.8107 - recall: 0.5524 - auc: 0.8797 - f1_score: 0.6173 - val_loss: 1.4860 - val_accuracy: 0.5574 - val_precision: 0.1875 - val_recall: 0.0984 - val_auc: 0.3749 - val_f1_score: 0.1271\n",
            "Epoch 7/30\n",
            "14/16 [=========================>....] - ETA: 8s - loss: 0.6725 - accuracy: 0.8363 - precision: 0.8314 - recall: 0.6384 - auc: 0.8981 - f1_score: 0.7156 "
          ]
        }
      ]
    },
    {
      "cell_type": "code",
      "source": [
        "# Summarize history for loss\n",
        "\n",
        "plt.plot(model_history.history['loss'])\n",
        "plt.plot(model_history.history['val_loss'])\n",
        "plt.title('Model Loss')\n",
        "plt.ylabel('Loss')\n",
        "plt.xlabel('Epoch')\n",
        "plt.legend(['Train', 'Validation'], loc='upper left', bbox_to_anchor=(1,1))\n",
        "plt.show()"
      ],
      "metadata": {
        "colab": {
          "base_uri": "https://localhost:8080/",
          "height": 295
        },
        "id": "XS0yGh1gL-SR",
        "outputId": "2d242f88-fff5-4808-c3e2-686a200da1e9"
      },
      "execution_count": 20,
      "outputs": [
        {
          "output_type": "display_data",
          "data": {
            "text/plain": [
              "<Figure size 432x288 with 1 Axes>"
            ],
            "image/png": "[encoded data removed]"
          },
          "metadata": {
            "needs_background": "light"
          }
        }
      ]
    },
    {
      "cell_type": "code",
      "source": [
        "# Summarize history for loss\n",
        "\n",
        "plt.plot(model_history.history['accuracy'])\n",
        "plt.plot(model_history.history['val_accuracy'])\n",
        "plt.title('Model Accuracy')\n",
        "plt.ylabel('Accuracy')\n",
        "plt.xlabel('Epoch')\n",
        "plt.legend(['Train', 'Validation'], loc='upper left', bbox_to_anchor=(1,1))\n",
        "plt.show()"
      ],
      "metadata": {
        "colab": {
          "base_uri": "https://localhost:8080/",
          "height": 295
        },
        "id": "0Z2kzTsxY--e",
        "outputId": "2cc90301-5daf-4b64-d280-36eaf7aa1143"
      },
      "execution_count": 21,
      "outputs": [
        {
          "output_type": "display_data",
          "data": {
            "text/plain": [
              "<Figure size 432x288 with 1 Axes>"
            ],
            "image/png": "[encoded data removed]"
          },
          "metadata": {
            "needs_background": "light"
          }
        }
      ]
    },
    {
      "cell_type": "code",
      "source": [
        "#%% PLOTTING RESULTS (Train vs Validation FOLDER 1)\n",
        "\n",
        "def Train_Val_Plot(acc,val_acc,loss,val_loss,auc,val_auc,precision,val_precision,f1,val_f1):\n",
        "    \n",
        "    fig, (ax1, ax2,ax3,ax4,ax5) = plt.subplots(1,5, figsize= (20,5))\n",
        "    fig.suptitle(\" MODEL'S METRICS VISUALIZATION \")\n",
        "\n",
        "    ax1.plot(range(1, len(acc) + 1), acc)\n",
        "    ax1.plot(range(1, len(val_acc) + 1), val_acc)\n",
        "    ax1.set_title('History of Accuracy')\n",
        "    ax1.set_xlabel('Epochs')\n",
        "    ax1.set_ylabel('Accuracy')\n",
        "    ax1.legend(['training', 'validation'])\n",
        "\n",
        "\n",
        "    ax2.plot(range(1, len(loss) + 1), loss)\n",
        "    ax2.plot(range(1, len(val_loss) + 1), val_loss)\n",
        "    ax2.set_title('History of Loss')\n",
        "    ax2.set_xlabel('Epochs')\n",
        "    ax2.set_ylabel('Loss')\n",
        "    ax2.legend(['training', 'validation'])\n",
        "    \n",
        "    ax3.plot(range(1, len(auc) + 1), auc)\n",
        "    ax3.plot(range(1, len(val_auc) + 1), val_auc)\n",
        "    ax3.set_title('History of AUC')\n",
        "    ax3.set_xlabel('Epochs')\n",
        "    ax3.set_ylabel('AUC')\n",
        "    ax3.legend(['training', 'validation'])\n",
        "    \n",
        "    ax4.plot(range(1, len(precision) + 1), precision)\n",
        "    ax4.plot(range(1, len(val_precision) + 1), val_precision)\n",
        "    ax4.set_title('History of Precision')\n",
        "    ax4.set_xlabel('Epochs')\n",
        "    ax4.set_ylabel('Precision')\n",
        "    ax4.legend(['training', 'validation'])\n",
        "    \n",
        "    ax5.plot(range(1, len(f1) + 1), f1)\n",
        "    ax5.plot(range(1, len(val_f1) + 1), val_f1)\n",
        "    ax5.set_title('History of F1-score')\n",
        "    ax5.set_xlabel('Epochs')\n",
        "    ax5.set_ylabel('F1 score')\n",
        "    ax5.legend(['training', 'validation'])\n",
        "\n",
        "\n",
        "    plt.show()\n",
        "    \n",
        "\n",
        "Train_Val_Plot(model_history.history['accuracy'],model_history.history['val_accuracy'],\n",
        "               model_history.history['loss'],model_history.history['val_loss'],\n",
        "               model_history.history['auc'],model_history.history['val_auc'],\n",
        "               model_history.history['precision'],model_history.history['val_precision'],\n",
        "               model_history.history['f1_score'],model_history.history['val_f1_score']\n",
        "              )"
      ],
      "metadata": {
        "id": "JPbHyoCN3JSk",
        "outputId": "4709c403-41b2-45fe-dbd5-5f1f1c53e49d",
        "colab": {
          "base_uri": "https://localhost:8080/",
          "height": 348
        }
      },
      "execution_count": 22,
      "outputs": [
        {
          "output_type": "display_data",
          "data": {
            "text/plain": [
              "<Figure size 1440x360 with 5 Axes>"
            ],
            "image/png": "[encoded data removed]"
          },
          "metadata": {
            "needs_background": "light"
          }
        }
      ]
    },
    {
      "cell_type": "code",
      "source": [
        "prediction= model.predict(val_generator, steps=np.ceil(val_generator.samples/val_generator.batch_size), verbose=2)\n",
        "prediction= (prediction > 0.5)\n",
        "val_labels=val_generator.classes"
      ],
      "metadata": {
        "colab": {
          "base_uri": "https://localhost:8080/"
        },
        "id": "je52vjzCZRYY",
        "outputId": "383e6193-1f38-4207-d335-e461a34cadaa"
      },
      "execution_count": null,
      "outputs": [
        {
          "output_type": "stream",
          "name": "stdout",
          "text": [
            "4/4 - 1s - 971ms/epoch - 243ms/step\n"
          ]
        }
      ]
    },
    {
      "cell_type": "code",
      "source": [
        "from sklearn import metrics\n",
        "from sklearn.metrics import confusion_matrix, accuracy_score, classification_report\n",
        "from mlxtend.plotting import plot_confusion_matrix\n",
        "\n",
        "print(classification_report(val_generator.classes, prediction))"
      ],
      "metadata": {
        "colab": {
          "base_uri": "https://localhost:8080/",
          "height": 345
        },
        "id": "K3PVlF3VZ-Pk",
        "outputId": "a50a02bb-8138-409f-a8cd-e295cbf89d4a"
      },
      "execution_count": null,
      "outputs": [
        {
          "output_type": "error",
          "ename": "ValueError",
          "evalue": "ignored",
          "traceback": [
            "\u001b[0;31m---------------------------------------------------------------------------\u001b[0m",
            "\u001b[0;31mValueError\u001b[0m                                Traceback (most recent call last)",
            "\u001b[0;32m<ipython-input-18-7e5551e9f6e6>\u001b[0m in \u001b[0;36m<module>\u001b[0;34m\u001b[0m\n\u001b[1;32m      3\u001b[0m \u001b[0;32mfrom\u001b[0m \u001b[0mmlxtend\u001b[0m\u001b[0;34m.\u001b[0m\u001b[0mplotting\u001b[0m \u001b[0;32mimport\u001b[0m \u001b[0mplot_confusion_matrix\u001b[0m\u001b[0;34m\u001b[0m\u001b[0;34m\u001b[0m\u001b[0m\n\u001b[1;32m      4\u001b[0m \u001b[0;34m\u001b[0m\u001b[0m\n\u001b[0;32m----> 5\u001b[0;31m \u001b[0mprint\u001b[0m\u001b[0;34m(\u001b[0m\u001b[0mclassification_report\u001b[0m\u001b[0;34m(\u001b[0m\u001b[0mval_generator\u001b[0m\u001b[0;34m.\u001b[0m\u001b[0mclasses\u001b[0m\u001b[0;34m,\u001b[0m \u001b[0mprediction\u001b[0m\u001b[0;34m)\u001b[0m\u001b[0;34m)\u001b[0m\u001b[0;34m\u001b[0m\u001b[0;34m\u001b[0m\u001b[0m\n\u001b[0m",
            "\u001b[0;32m/usr/local/lib/python3.7/dist-packages/sklearn/metrics/_classification.py\u001b[0m in \u001b[0;36mclassification_report\u001b[0;34m(y_true, y_pred, labels, target_names, sample_weight, digits, output_dict, zero_division)\u001b[0m\n\u001b[1;32m   2108\u001b[0m     \"\"\"\n\u001b[1;32m   2109\u001b[0m \u001b[0;34m\u001b[0m\u001b[0m\n\u001b[0;32m-> 2110\u001b[0;31m     \u001b[0my_type\u001b[0m\u001b[0;34m,\u001b[0m \u001b[0my_true\u001b[0m\u001b[0;34m,\u001b[0m \u001b[0my_pred\u001b[0m \u001b[0;34m=\u001b[0m \u001b[0m_check_targets\u001b[0m\u001b[0;34m(\u001b[0m\u001b[0my_true\u001b[0m\u001b[0;34m,\u001b[0m \u001b[0my_pred\u001b[0m\u001b[0;34m)\u001b[0m\u001b[0;34m\u001b[0m\u001b[0;34m\u001b[0m\u001b[0m\n\u001b[0m\u001b[1;32m   2111\u001b[0m \u001b[0;34m\u001b[0m\u001b[0m\n\u001b[1;32m   2112\u001b[0m     \u001b[0;32mif\u001b[0m \u001b[0mlabels\u001b[0m \u001b[0;32mis\u001b[0m \u001b[0;32mNone\u001b[0m\u001b[0;34m:\u001b[0m\u001b[0;34m\u001b[0m\u001b[0;34m\u001b[0m\u001b[0m\n",
            "\u001b[0;32m/usr/local/lib/python3.7/dist-packages/sklearn/metrics/_classification.py\u001b[0m in \u001b[0;36m_check_targets\u001b[0;34m(y_true, y_pred)\u001b[0m\n\u001b[1;32m     93\u001b[0m         raise ValueError(\n\u001b[1;32m     94\u001b[0m             \"Classification metrics can't handle a mix of {0} and {1} targets\".format(\n\u001b[0;32m---> 95\u001b[0;31m                 \u001b[0mtype_true\u001b[0m\u001b[0;34m,\u001b[0m \u001b[0mtype_pred\u001b[0m\u001b[0;34m\u001b[0m\u001b[0;34m\u001b[0m\u001b[0m\n\u001b[0m\u001b[1;32m     96\u001b[0m             )\n\u001b[1;32m     97\u001b[0m         )\n",
            "\u001b[0;31mValueError\u001b[0m: Classification metrics can't handle a mix of multiclass and multilabel-indicator targets"
          ]
        }
      ]
    },
    {
      "cell_type": "code",
      "source": [],
      "metadata": {
        "id": "VOEIdpD7aBMB"
      },
      "execution_count": null,
      "outputs": []
    }
  ]
}