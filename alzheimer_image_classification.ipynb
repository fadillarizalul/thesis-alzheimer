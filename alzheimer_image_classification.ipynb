{
  "nbformat": 4,
  "nbformat_minor": 0,
  "metadata": {
    "colab": {
      "name": "alzheimer image classification",
      "provenance": [],
      "authorship_tag": "ABX9TyNF3jc2139UNs7zI9/6Gywu",
      "include_colab_link": true
    },
    "kernelspec": {
      "name": "python3",
      "display_name": "Python 3"
    },
    "language_info": {
      "name": "python"
    },
    "accelerator": "GPU",
    "gpuClass": "standard"
  },
  "cells": [
    {
      "cell_type": "markdown",
      "metadata": {
        "id": "view-in-github",
        "colab_type": "text"
      },
      "source": [
        "<a href=\"https://colab.research.google.com/github/fadillarizalul/thesis-alzheimer/blob/main/alzheimer_image_classification.ipynb\" target=\"_parent\"><img src=\"https://colab.research.google.com/assets/colab-badge.svg\" alt=\"Open In Colab\"/></a>"
      ]
    },
    {
      "cell_type": "markdown",
      "source": [
        "# set up dan inisialisasi"
      ],
      "metadata": {
        "id": "8dVYnyo1hObz"
      }
    },
    {
      "cell_type": "code",
      "execution_count": 1,
      "metadata": {
        "colab": {
          "base_uri": "https://localhost:8080/"
        },
        "id": "9BuCcYouVFc0",
        "outputId": "a24af94f-9636-4b4c-dded-a5b9ad7f0622"
      },
      "outputs": [
        {
          "output_type": "stream",
          "name": "stdout",
          "text": [
            "Downloading alzheimersdisease5classdatasetadni.zip to /content\n",
            " 53% 9.00M/16.9M [00:00<00:00, 12.4MB/s]\n",
            "100% 16.9M/16.9M [00:00<00:00, 22.4MB/s]\n"
          ]
        }
      ],
      "source": [
        "import os\n",
        "os.environ['KAGGLE_USERNAME'] = \"fadillarizalul\" # username from the json file\n",
        "os.environ['KAGGLE_KEY'] = \"5421cf5f298fedfa046e9db30f9f8ec3\" # key from the json file\n",
        "!kaggle datasets download -d madhucharan/alzheimersdisease5classdatasetadni # api copied from kaggle"
      ]
    },
    {
      "cell_type": "code",
      "source": [
        "!mkdir alzheimersdisease5classdatasetadni\n",
        "!unzip -qq alzheimersdisease5classdatasetadni.zip -d alzheimer-mri-dataset\n",
        "!ls alzheimersdisease5classdatasetadni"
      ],
      "metadata": {
        "id": "Jvso5lHEYymU"
      },
      "execution_count": 2,
      "outputs": []
    },
    {
      "cell_type": "code",
      "source": [
        "# creating train and test path of dataset\n",
        "\n",
        "train_dir = \"/content/alzheimer-mri-dataset/Alzheimers-ADNI/train\"\n",
        "test_dir = \"/content/alzheimer-mri-dataset/Alzheimers-ADNI/test\""
      ],
      "metadata": {
        "id": "6VRsqxQvZMEj"
      },
      "execution_count": 3,
      "outputs": []
    },
    {
      "cell_type": "markdown",
      "source": [
        "# augmentasi dan split data"
      ],
      "metadata": {
        "id": "MPnipObYhSo1"
      }
    },
    {
      "cell_type": "code",
      "source": [
        "import tensorflow as tf\n",
        "import keras_preprocessing\n",
        "from keras_preprocessing import image\n",
        "from keras_preprocessing.image import ImageDataGenerator"
      ],
      "metadata": {
        "id": "E0ybKmB2aKfu"
      },
      "execution_count": 4,
      "outputs": []
    },
    {
      "cell_type": "code",
      "source": [
        "train_datagen = ImageDataGenerator(rescale = 1./255,\n",
        "                                   rotation_range=30,\n",
        "                                   zoom_range=0.2,\n",
        "                                   horizontal_flip=True,\n",
        "                                   vertical_flip=True,\n",
        "                                   validation_split = 0.2)\n",
        "\n",
        "valid_datagen = ImageDataGenerator(rescale = 1./255,\n",
        "                                   validation_split = 0.2)\n",
        "\n",
        "test_datagen  = ImageDataGenerator(rescale = 1./255)"
      ],
      "metadata": {
        "id": "UvJGSRQfRT3d"
      },
      "execution_count": 5,
      "outputs": []
    },
    {
      "cell_type": "code",
      "source": [
        "train_generator = train_datagen.flow_from_directory(\n",
        "    directory=train_dir,\n",
        "    target_size = (256,256),\n",
        "    batch_size = 64,\n",
        "    class_mode = 'categorical',\n",
        "    subset='training'\n",
        ")\n",
        " \n",
        "val_generator = valid_datagen.flow_from_directory(\n",
        "    directory=train_dir,\n",
        "    target_size = (256,256),\n",
        "    batch_size = 64,\n",
        "    class_mode = 'categorical',\n",
        "    subset='validation'\n",
        ")"
      ],
      "metadata": {
        "colab": {
          "base_uri": "https://localhost:8080/"
        },
        "id": "w7MqWW2Uhdal",
        "outputId": "86f17ecc-9a23-457f-f8e6-5172692798eb"
      },
      "execution_count": 6,
      "outputs": [
        {
          "output_type": "stream",
          "name": "stdout",
          "text": [
            "Found 883 images belonging to 5 classes.\n",
            "Found 218 images belonging to 5 classes.\n"
          ]
        }
      ]
    },
    {
      "cell_type": "markdown",
      "source": [
        "# create model architecture"
      ],
      "metadata": {
        "id": "GRETyJMHirX4"
      }
    },
    {
      "cell_type": "code",
      "source": [
        "import numpy as np\n",
        "import pandas as pd\n",
        "import matplotlib.pyplot as plt\n",
        "import tensorflow as tf\n",
        "import keras_preprocessing\n",
        "from keras_preprocessing import image\n",
        "from keras_preprocessing.image import ImageDataGenerator\n",
        "from tensorflow.keras.models import Sequential\n",
        "from keras.layers import Conv2D, Dense, Flatten, MaxPool2D, Dropout\n",
        "\n",
        "# model = Sequential()\n",
        "\n",
        "# # Layer CNN pertama\n",
        "# model.add(Conv2D(filters=32, kernel_size=3, activation='relu', input_shape=(150,150,3)))\n",
        "# model.add(MaxPool2D(pool_size=(2, 2)))\n",
        "# model.add(Dropout(rate=0.25))\n",
        "\n",
        "# # Layer CNN kedua\n",
        "# model.add(Conv2D(filters=64, kernel_size=3, activation='relu'))\n",
        "# model.add(MaxPool2D(pool_size=(2, 2)))\n",
        "# model.add(Dropout(rate=0.25))\n",
        "\n",
        "# # Layer CNN ketiga\n",
        "# model.add(Conv2D(filters=64, kernel_size=3, activation='relu'))\n",
        "\n",
        "# model.summary()"
      ],
      "metadata": {
        "id": "1k1tFggfhiUs"
      },
      "execution_count": 7,
      "outputs": []
    },
    {
      "cell_type": "code",
      "source": [
        "model = tf.keras.models.Sequential([\n",
        "    tf.keras.layers.Conv2D(32, (3,3), activation='relu', input_shape=(256, 256, 3)),\n",
        "    tf.keras.layers.MaxPooling2D(2,2),\n",
        "    tf.keras.layers.Dropout(0.2),\n",
        "    tf.keras.layers.Conv2D(64, (3,3), activation='relu'),\n",
        "    tf.keras.layers.MaxPooling2D(2,2),\n",
        "    tf.keras.layers.Dropout(0.2),\n",
        "    tf.keras.layers.Conv2D(128, (3,3), activation='relu'),\n",
        "    tf.keras.layers.MaxPooling2D(2,2),\n",
        "    tf.keras.layers.Dropout(0.2),\n",
        "    tf.keras.layers.Flatten(),\n",
        "    tf.keras.layers.Dense(64, activation='relu'),\n",
        "    tf.keras.layers.Dropout(0.2),\n",
        "    tf.keras.layers.Dense(5, activation='softmax')\n",
        "])\n",
        "\n",
        "model.compile(optimizer='adam',\n",
        "              loss='categorical_crossentropy',\n",
        "              metrics=['accuracy'])\n",
        "\n",
        "model.summary()"
      ],
      "metadata": {
        "id": "vKbfclRii0z5",
        "colab": {
          "base_uri": "https://localhost:8080/"
        },
        "outputId": "cfaf3207-09e9-4cc0-a64e-99cbd1601f2e"
      },
      "execution_count": 23,
      "outputs": [
        {
          "output_type": "stream",
          "name": "stdout",
          "text": [
            "Model: \"sequential_2\"\n",
            "_________________________________________________________________\n",
            " Layer (type)                Output Shape              Param #   \n",
            "=================================================================\n",
            " conv2d_6 (Conv2D)           (None, 254, 254, 32)      896       \n",
            "                                                                 \n",
            " max_pooling2d_6 (MaxPooling  (None, 127, 127, 32)     0         \n",
            " 2D)                                                             \n",
            "                                                                 \n",
            " dropout_3 (Dropout)         (None, 127, 127, 32)      0         \n",
            "                                                                 \n",
            " conv2d_7 (Conv2D)           (None, 125, 125, 64)      18496     \n",
            "                                                                 \n",
            " max_pooling2d_7 (MaxPooling  (None, 62, 62, 64)       0         \n",
            " 2D)                                                             \n",
            "                                                                 \n",
            " dropout_4 (Dropout)         (None, 62, 62, 64)        0         \n",
            "                                                                 \n",
            " conv2d_8 (Conv2D)           (None, 60, 60, 128)       73856     \n",
            "                                                                 \n",
            " max_pooling2d_8 (MaxPooling  (None, 30, 30, 128)      0         \n",
            " 2D)                                                             \n",
            "                                                                 \n",
            " dropout_5 (Dropout)         (None, 30, 30, 128)       0         \n",
            "                                                                 \n",
            " flatten_2 (Flatten)         (None, 115200)            0         \n",
            "                                                                 \n",
            " dense_4 (Dense)             (None, 64)                7372864   \n",
            "                                                                 \n",
            " dropout_6 (Dropout)         (None, 64)                0         \n",
            "                                                                 \n",
            " dense_5 (Dense)             (None, 5)                 325       \n",
            "                                                                 \n",
            "=================================================================\n",
            "Total params: 7,466,437\n",
            "Trainable params: 7,466,437\n",
            "Non-trainable params: 0\n",
            "_________________________________________________________________\n"
          ]
        }
      ]
    },
    {
      "cell_type": "markdown",
      "source": [
        "## modelling"
      ],
      "metadata": {
        "id": "Sq_GNC6LrEie"
      }
    },
    {
      "cell_type": "code",
      "source": [
        "train_len = 0\n",
        "for foldername in os.listdir('/content/alzheimer-mri-dataset/Alzheimers-ADNI/train'):\n",
        "    train_len = train_len + len(os.listdir(os.path.join('/content/alzheimer-mri-dataset/Alzheimers-ADNI/train',foldername)))\n",
        "    \n",
        "val_len = 0\n",
        "for foldername in os.listdir('/content/alzheimer-mri-dataset/Alzheimers-ADNI/test'):\n",
        "    val_len = val_len + len(os.listdir(os.path.join('/content/alzheimer-mri-dataset/Alzheimers-ADNI/test',foldername)))\n",
        "\n",
        "print(train_len)\n",
        "print(val_len)"
      ],
      "metadata": {
        "id": "Ub28diD3rKv8",
        "colab": {
          "base_uri": "https://localhost:8080/"
        },
        "outputId": "b007490c-4c63-49e6-aec7-f04a787c28e4"
      },
      "execution_count": 24,
      "outputs": [
        {
          "output_type": "stream",
          "name": "stdout",
          "text": [
            "1101\n",
            "195\n"
          ]
        }
      ]
    },
    {
      "cell_type": "code",
      "source": [
        "model_history = model.fit(train_generator,\n",
        "                        validation_data=val_generator,\n",
        "                        epochs = 10,\n",
        "                        verbose = 1)"
      ],
      "metadata": {
        "id": "3uAsHW-5rDZ8",
        "colab": {
          "base_uri": "https://localhost:8080/"
        },
        "outputId": "aac03a0a-e25c-4644-e3d5-fe75cd95ce64"
      },
      "execution_count": 25,
      "outputs": [
        {
          "output_type": "stream",
          "name": "stdout",
          "text": [
            "Epoch 1/10\n",
            "14/14 [==============================] - 26s 2s/step - loss: 2.0974 - accuracy: 0.3692 - val_loss: 1.4293 - val_accuracy: 0.4495\n",
            "Epoch 2/10\n",
            "14/14 [==============================] - 12s 895ms/step - loss: 1.4492 - accuracy: 0.4485 - val_loss: 1.4250 - val_accuracy: 0.4495\n",
            "Epoch 3/10\n",
            "14/14 [==============================] - 12s 883ms/step - loss: 1.4256 - accuracy: 0.4473 - val_loss: 1.4140 - val_accuracy: 0.4495\n",
            "Epoch 4/10\n",
            "14/14 [==============================] - 13s 898ms/step - loss: 1.4254 - accuracy: 0.4473 - val_loss: 1.4136 - val_accuracy: 0.4495\n",
            "Epoch 5/10\n",
            "14/14 [==============================] - 13s 914ms/step - loss: 1.4323 - accuracy: 0.4462 - val_loss: 1.4609 - val_accuracy: 0.4495\n",
            "Epoch 6/10\n",
            "14/14 [==============================] - 13s 896ms/step - loss: 1.4240 - accuracy: 0.4462 - val_loss: 1.4296 - val_accuracy: 0.4495\n",
            "Epoch 7/10\n",
            "14/14 [==============================] - 13s 900ms/step - loss: 1.4207 - accuracy: 0.4485 - val_loss: 1.4020 - val_accuracy: 0.4495\n",
            "Epoch 8/10\n",
            "14/14 [==============================] - 13s 912ms/step - loss: 1.4246 - accuracy: 0.4473 - val_loss: 1.4167 - val_accuracy: 0.4495\n",
            "Epoch 9/10\n",
            "14/14 [==============================] - 13s 958ms/step - loss: 1.4240 - accuracy: 0.4473 - val_loss: 1.4129 - val_accuracy: 0.4495\n",
            "Epoch 10/10\n",
            "14/14 [==============================] - 13s 887ms/step - loss: 1.4149 - accuracy: 0.4485 - val_loss: 1.4194 - val_accuracy: 0.4495\n"
          ]
        }
      ]
    },
    {
      "cell_type": "code",
      "source": [
        "# Summarize history for loss\n",
        "\n",
        "plt.plot(model_history.history['loss'])\n",
        "plt.plot(model_history.history['val_loss'])\n",
        "plt.title('Model Loss')\n",
        "plt.ylabel('Loss')\n",
        "plt.xlabel('Epoch')\n",
        "plt.legend(['Train', 'Validation'], loc='upper left', bbox_to_anchor=(1,1))\n",
        "plt.show()"
      ],
      "metadata": {
        "colab": {
          "base_uri": "https://localhost:8080/",
          "height": 295
        },
        "id": "XS0yGh1gL-SR",
        "outputId": "96c99868-b02d-4732-b21c-55243ba41115"
      },
      "execution_count": 26,
      "outputs": [
        {
          "output_type": "display_data",
          "data": {
            "text/plain": [
              "<Figure size 432x288 with 1 Axes>"
            ],
            "image/png": "[encoded data removed]"
          },
          "metadata": {
            "needs_background": "light"
          }
        }
      ]
    },
    {
      "cell_type": "code",
      "source": [
        "# Summarize history for loss\n",
        "\n",
        "plt.plot(model_history.history['accuracy'])\n",
        "plt.plot(model_history.history['val_accuracy'])\n",
        "plt.title('Model Accuracy')\n",
        "plt.ylabel('Accuracy')\n",
        "plt.xlabel('Epoch')\n",
        "plt.legend(['Train', 'Validation'], loc='upper left', bbox_to_anchor=(1,1))\n",
        "plt.show()"
      ],
      "metadata": {
        "colab": {
          "base_uri": "https://localhost:8080/",
          "height": 295
        },
        "id": "0Z2kzTsxY--e",
        "outputId": "0480317d-b2bc-488d-e01e-d399c274f175"
      },
      "execution_count": 27,
      "outputs": [
        {
          "output_type": "display_data",
          "data": {
            "text/plain": [
              "<Figure size 432x288 with 1 Axes>"
            ],
            "image/png": "[encoded data removed]"
          },
          "metadata": {
            "needs_background": "light"
          }
        }
      ]
    },
    {
      "cell_type": "code",
      "source": [
        "prediction= model.predict(val_generator, steps=np.ceil(val_generator.samples/val_generator.batch_size), verbose=2)\n",
        "prediction= (prediction > 0.5)\n",
        "val_labels=val_generator.classes"
      ],
      "metadata": {
        "colab": {
          "base_uri": "https://localhost:8080/"
        },
        "id": "je52vjzCZRYY",
        "outputId": "253462d9-6986-4779-f86c-dbd920bb171e"
      },
      "execution_count": 20,
      "outputs": [
        {
          "output_type": "stream",
          "name": "stdout",
          "text": [
            "4/4 - 1s - 613ms/epoch - 153ms/step\n"
          ]
        }
      ]
    },
    {
      "cell_type": "code",
      "source": [
        "from sklearn import metrics\n",
        "from sklearn.metrics import confusion_matrix, accuracy_score, classification_report\n",
        "from mlxtend.plotting import plot_confusion_matrix\n",
        "\n",
        "print(classification_report(val_generator.classes, prediction))"
      ],
      "metadata": {
        "colab": {
          "base_uri": "https://localhost:8080/",
          "height": 345
        },
        "id": "K3PVlF3VZ-Pk",
        "outputId": "c017f071-1281-4d7b-eb04-9b3451d3cdc9"
      },
      "execution_count": 28,
      "outputs": [
        {
          "output_type": "error",
          "ename": "ValueError",
          "evalue": "ignored",
          "traceback": [
            "\u001b[0;31m---------------------------------------------------------------------------\u001b[0m",
            "\u001b[0;31mValueError\u001b[0m                                Traceback (most recent call last)",
            "\u001b[0;32m<ipython-input-28-7e5551e9f6e6>\u001b[0m in \u001b[0;36m<module>\u001b[0;34m\u001b[0m\n\u001b[1;32m      3\u001b[0m \u001b[0;32mfrom\u001b[0m \u001b[0mmlxtend\u001b[0m\u001b[0;34m.\u001b[0m\u001b[0mplotting\u001b[0m \u001b[0;32mimport\u001b[0m \u001b[0mplot_confusion_matrix\u001b[0m\u001b[0;34m\u001b[0m\u001b[0;34m\u001b[0m\u001b[0m\n\u001b[1;32m      4\u001b[0m \u001b[0;34m\u001b[0m\u001b[0m\n\u001b[0;32m----> 5\u001b[0;31m \u001b[0mprint\u001b[0m\u001b[0;34m(\u001b[0m\u001b[0mclassification_report\u001b[0m\u001b[0;34m(\u001b[0m\u001b[0mval_generator\u001b[0m\u001b[0;34m.\u001b[0m\u001b[0mclasses\u001b[0m\u001b[0;34m,\u001b[0m \u001b[0mprediction\u001b[0m\u001b[0;34m)\u001b[0m\u001b[0;34m)\u001b[0m\u001b[0;34m\u001b[0m\u001b[0;34m\u001b[0m\u001b[0m\n\u001b[0m",
            "\u001b[0;32m/usr/local/lib/python3.7/dist-packages/sklearn/metrics/_classification.py\u001b[0m in \u001b[0;36mclassification_report\u001b[0;34m(y_true, y_pred, labels, target_names, sample_weight, digits, output_dict, zero_division)\u001b[0m\n\u001b[1;32m   2108\u001b[0m     \"\"\"\n\u001b[1;32m   2109\u001b[0m \u001b[0;34m\u001b[0m\u001b[0m\n\u001b[0;32m-> 2110\u001b[0;31m     \u001b[0my_type\u001b[0m\u001b[0;34m,\u001b[0m \u001b[0my_true\u001b[0m\u001b[0;34m,\u001b[0m \u001b[0my_pred\u001b[0m \u001b[0;34m=\u001b[0m \u001b[0m_check_targets\u001b[0m\u001b[0;34m(\u001b[0m\u001b[0my_true\u001b[0m\u001b[0;34m,\u001b[0m \u001b[0my_pred\u001b[0m\u001b[0;34m)\u001b[0m\u001b[0;34m\u001b[0m\u001b[0;34m\u001b[0m\u001b[0m\n\u001b[0m\u001b[1;32m   2111\u001b[0m \u001b[0;34m\u001b[0m\u001b[0m\n\u001b[1;32m   2112\u001b[0m     \u001b[0;32mif\u001b[0m \u001b[0mlabels\u001b[0m \u001b[0;32mis\u001b[0m \u001b[0;32mNone\u001b[0m\u001b[0;34m:\u001b[0m\u001b[0;34m\u001b[0m\u001b[0;34m\u001b[0m\u001b[0m\n",
            "\u001b[0;32m/usr/local/lib/python3.7/dist-packages/sklearn/metrics/_classification.py\u001b[0m in \u001b[0;36m_check_targets\u001b[0;34m(y_true, y_pred)\u001b[0m\n\u001b[1;32m     93\u001b[0m         raise ValueError(\n\u001b[1;32m     94\u001b[0m             \"Classification metrics can't handle a mix of {0} and {1} targets\".format(\n\u001b[0;32m---> 95\u001b[0;31m                 \u001b[0mtype_true\u001b[0m\u001b[0;34m,\u001b[0m \u001b[0mtype_pred\u001b[0m\u001b[0;34m\u001b[0m\u001b[0;34m\u001b[0m\u001b[0m\n\u001b[0m\u001b[1;32m     96\u001b[0m             )\n\u001b[1;32m     97\u001b[0m         )\n",
            "\u001b[0;31mValueError\u001b[0m: Classification metrics can't handle a mix of multiclass and multilabel-indicator targets"
          ]
        }
      ]
    },
    {
      "cell_type": "code",
      "source": [],
      "metadata": {
        "id": "VOEIdpD7aBMB"
      },
      "execution_count": null,
      "outputs": []
    }
  ]
}