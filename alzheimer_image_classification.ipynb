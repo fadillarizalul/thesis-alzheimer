{
  "nbformat": 4,
  "nbformat_minor": 0,
  "metadata": {
    "colab": {
      "name": "alzheimer image classification",
      "provenance": [],
      "authorship_tag": "ABX9TyNHX5HWW8LKfRRbkn6JSXDm",
      "include_colab_link": true
    },
    "kernelspec": {
      "name": "python3",
      "display_name": "Python 3"
    },
    "language_info": {
      "name": "python"
    }
  },
  "cells": [
    {
      "cell_type": "markdown",
      "metadata": {
        "id": "view-in-github",
        "colab_type": "text"
      },
      "source": [
        "<a href=\"https://colab.research.google.com/github/fadillarizalul/thesis-alzheimer/blob/main/alzheimer_image_classification.ipynb\" target=\"_parent\"><img src=\"https://colab.research.google.com/assets/colab-badge.svg\" alt=\"Open In Colab\"/></a>"
      ]
    },
    {
      "cell_type": "markdown",
      "source": [
        "# set up dan inisialisasi"
      ],
      "metadata": {
        "id": "8dVYnyo1hObz"
      }
    },
    {
      "cell_type": "code",
      "execution_count": 10,
      "metadata": {
        "colab": {
          "base_uri": "https://localhost:8080/"
        },
        "id": "9BuCcYouVFc0",
        "outputId": "fa06027b-c686-4766-f202-456c06f339c3"
      },
      "outputs": [
        {
          "output_type": "stream",
          "name": "stdout",
          "text": [
            "alzheimers-dataset-4-class-of-images.zip: Skipping, found more recently modified local copy (use --force to force download)\n"
          ]
        }
      ],
      "source": [
        "import os\n",
        "os.environ['KAGGLE_USERNAME'] = \"fadillarizalul\" # username from the json file\n",
        "os.environ['KAGGLE_KEY'] = \"5421cf5f298fedfa046e9db30f9f8ec3\" # key from the json file\n",
        "!kaggle datasets download -d tourist55/alzheimers-dataset-4-class-of-images # api copied from kaggle"
      ]
    },
    {
      "cell_type": "code",
      "source": [
        "!mkdir tourist55/alzheimers-dataset-4-class-of-images\n",
        "!unzip -qq alzheimers-dataset-4-class-of-images.zip -d alzheimers-dataset-4-class-of-images\n",
        "!ls alzheimers-dataset-4-class-of-images"
      ],
      "metadata": {
        "id": "Jvso5lHEYymU",
        "colab": {
          "base_uri": "https://localhost:8080/"
        },
        "outputId": "482528b3-9258-4063-d77c-44434acff813"
      },
      "execution_count": 11,
      "outputs": [
        {
          "output_type": "stream",
          "name": "stdout",
          "text": [
            "mkdir: cannot create directory ‘tourist55/alzheimers-dataset-4-class-of-images’: No such file or directory\n",
            "'Alzheimer_s Dataset'\n"
          ]
        }
      ]
    },
    {
      "cell_type": "code",
      "source": [
        "# creating train and test path of dataset\n",
        "\n",
        "train_dir = \"/content/alzheimers-dataset-4-class-of-images/Alzheimer_s Dataset/train\"\n",
        "test_dir = \"/content/alzheimers-dataset-4-class-of-images/Alzheimer_s Dataset/test\""
      ],
      "metadata": {
        "id": "6VRsqxQvZMEj"
      },
      "execution_count": 12,
      "outputs": []
    },
    {
      "cell_type": "markdown",
      "source": [
        "# augmentasi dan split data"
      ],
      "metadata": {
        "id": "MPnipObYhSo1"
      }
    },
    {
      "cell_type": "code",
      "source": [
        "import tensorflow as tf\n",
        "import keras_preprocessing\n",
        "from keras_preprocessing import image\n",
        "from keras_preprocessing.image import ImageDataGenerator"
      ],
      "metadata": {
        "id": "E0ybKmB2aKfu"
      },
      "execution_count": 13,
      "outputs": []
    },
    {
      "cell_type": "code",
      "source": [
        "train_datagen = ImageDataGenerator(\n",
        "    rescale = 1./255,\n",
        "    rotation_range = 20,\n",
        "    horizontal_flip = True,\n",
        "    shear_range = 0.2,\n",
        "    zoom_range = 0.2,\n",
        "    fill_mode = 'nearest', \n",
        "    validation_split=0.2\n",
        ")"
      ],
      "metadata": {
        "id": "vKw4qtqvhVZ-"
      },
      "execution_count": 14,
      "outputs": []
    },
    {
      "cell_type": "code",
      "source": [
        "test_datagen = ImageDataGenerator(\n",
        "    rescale = 1./225, \n",
        "    validation_split=0.2\n",
        ")"
      ],
      "metadata": {
        "id": "O9n4I4wZhb8-"
      },
      "execution_count": 15,
      "outputs": []
    },
    {
      "cell_type": "code",
      "source": [
        "seed = 1\n",
        "\n",
        "train_generator = train_datagen.flow_from_directory(\n",
        "    train_dir,\n",
        "    target_size = (150,150),\n",
        "    batch_size = 32,\n",
        "    class_mode = 'categorical',\n",
        "    seed=seed\n",
        "    # subset='training'\n",
        ")\n",
        " \n",
        "val_generator = test_datagen.flow_from_directory(\n",
        "    train_dir,\n",
        "    target_size = (150,150),\n",
        "    batch_size = 32,\n",
        "    class_mode = 'categorical',\n",
        "    seed=seed\n",
        "    # subset='validation'\n",
        ")"
      ],
      "metadata": {
        "colab": {
          "base_uri": "https://localhost:8080/"
        },
        "id": "w7MqWW2Uhdal",
        "outputId": "9a978f4b-4069-430b-e4f5-d91dd4869ac3"
      },
      "execution_count": 16,
      "outputs": [
        {
          "output_type": "stream",
          "name": "stdout",
          "text": [
            "Found 5121 images belonging to 4 classes.\n",
            "Found 5121 images belonging to 4 classes.\n"
          ]
        }
      ]
    },
    {
      "cell_type": "markdown",
      "source": [
        "# create model architecture"
      ],
      "metadata": {
        "id": "GRETyJMHirX4"
      }
    },
    {
      "cell_type": "code",
      "source": [
        "import numpy as np\n",
        "import pandas as pd\n",
        "import matplotlib.pyplot as plt\n",
        "import tensorflow as tf\n",
        "import keras_preprocessing\n",
        "from keras_preprocessing import image\n",
        "from keras_preprocessing.image import ImageDataGenerator\n",
        "from tensorflow.keras.models import Sequential\n",
        "from keras.layers import Conv2D, Dense, Flatten, MaxPool2D, Dropout\n",
        "\n",
        "# model = Sequential()\n",
        "\n",
        "# # Layer CNN pertama\n",
        "# model.add(Conv2D(filters=32, kernel_size=3, activation='relu', input_shape=(150,150,3)))\n",
        "# model.add(MaxPool2D(pool_size=(2, 2)))\n",
        "# model.add(Dropout(rate=0.25))\n",
        "\n",
        "# # Layer CNN kedua\n",
        "# model.add(Conv2D(filters=64, kernel_size=3, activation='relu'))\n",
        "# model.add(MaxPool2D(pool_size=(2, 2)))\n",
        "# model.add(Dropout(rate=0.25))\n",
        "\n",
        "# # Layer CNN ketiga\n",
        "# model.add(Conv2D(filters=64, kernel_size=3, activation='relu'))\n",
        "\n",
        "# model.summary()"
      ],
      "metadata": {
        "id": "1k1tFggfhiUs"
      },
      "execution_count": 17,
      "outputs": []
    },
    {
      "cell_type": "code",
      "source": [
        "model = tf.keras.models.Sequential([\n",
        "    tf.keras.layers.Conv2D(32, (3,3), activation='relu', input_shape=(150, 150, 3)),\n",
        "    tf.keras.layers.MaxPooling2D(2,2),\n",
        "    # tf.keras.layers.Dropout(0.2),\n",
        "    tf.keras.layers.Conv2D(64, (3,3), activation='relu'),\n",
        "    tf.keras.layers.MaxPooling2D(2,2),\n",
        "    # tf.keras.layers.Dropout(0.2),\n",
        "    tf.keras.layers.Conv2D(128, (3,3), activation='relu'),\n",
        "    tf.keras.layers.MaxPooling2D(2,2),\n",
        "    # tf.keras.layers.Dropout(0.2),\n",
        "    tf.keras.layers.Flatten(),\n",
        "    tf.keras.layers.Dense(512, activation='relu'),\n",
        "    # tf.keras.layers.Dropout(0.2),\n",
        "    tf.keras.layers.Dense(6, activation='softmax')\n",
        "])\n",
        "\n",
        "model.compile(optimizer='adam',\n",
        "              loss='categorical_crossentropy',\n",
        "              metrics=['accuracy'])\n",
        "\n",
        "model.summary()"
      ],
      "metadata": {
        "id": "vKbfclRii0z5",
        "colab": {
          "base_uri": "https://localhost:8080/"
        },
        "outputId": "046f5e7b-af56-4bcb-c189-446a7cd1f1f8"
      },
      "execution_count": 18,
      "outputs": [
        {
          "output_type": "stream",
          "name": "stdout",
          "text": [
            "Model: \"sequential\"\n",
            "_________________________________________________________________\n",
            " Layer (type)                Output Shape              Param #   \n",
            "=================================================================\n",
            " conv2d (Conv2D)             (None, 148, 148, 32)      896       \n",
            "                                                                 \n",
            " max_pooling2d (MaxPooling2D  (None, 74, 74, 32)       0         \n",
            " )                                                               \n",
            "                                                                 \n",
            " conv2d_1 (Conv2D)           (None, 72, 72, 64)        18496     \n",
            "                                                                 \n",
            " max_pooling2d_1 (MaxPooling  (None, 36, 36, 64)       0         \n",
            " 2D)                                                             \n",
            "                                                                 \n",
            " conv2d_2 (Conv2D)           (None, 34, 34, 128)       73856     \n",
            "                                                                 \n",
            " max_pooling2d_2 (MaxPooling  (None, 17, 17, 128)      0         \n",
            " 2D)                                                             \n",
            "                                                                 \n",
            " flatten (Flatten)           (None, 36992)             0         \n",
            "                                                                 \n",
            " dense (Dense)               (None, 512)               18940416  \n",
            "                                                                 \n",
            " dense_1 (Dense)             (None, 6)                 3078      \n",
            "                                                                 \n",
            "=================================================================\n",
            "Total params: 19,036,742\n",
            "Trainable params: 19,036,742\n",
            "Non-trainable params: 0\n",
            "_________________________________________________________________\n"
          ]
        }
      ]
    },
    {
      "cell_type": "markdown",
      "source": [
        "## modelling"
      ],
      "metadata": {
        "id": "Sq_GNC6LrEie"
      }
    },
    {
      "cell_type": "code",
      "source": [
        "train_len = 0\n",
        "for foldername in os.listdir('/tmp/fruit-dataset/train'):\n",
        "    train_len = train_len + len(os.listdir(os.path.join('/tmp/fruit-dataset/train',foldername)))\n",
        "    \n",
        "val_len = 0\n",
        "for foldername in os.listdir('/tmp/fruit-dataset/val'):\n",
        "    val_len = val_len + len(os.listdir(os.path.join('/tmp/fruit-dataset/val',foldername)))\n",
        "\n",
        "print(train_len)\n",
        "print(val_len)"
      ],
      "metadata": {
        "id": "Ub28diD3rKv8"
      },
      "execution_count": null,
      "outputs": []
    },
    {
      "cell_type": "code",
      "source": [
        "history = model.fit(\n",
        "    train_generator,\n",
        "    steps_per_epoch=(train_len/32),\n",
        "    epochs=3,\n",
        "    verbose=1,\n",
        "    callbacks=[callbacks],\n",
        "    validation_data=validation_generator,\n",
        "    validation_steps=(val_len/32)\n",
        ")"
      ],
      "metadata": {
        "id": "3uAsHW-5rDZ8"
      },
      "execution_count": null,
      "outputs": []
    }
  ]
}